{
 "cells": [
  {
   "cell_type": "code",
   "execution_count": 1,
   "metadata": {},
   "outputs": [],
   "source": [
    "from os import listdir\n",
    "from os.path import isfile, join\n",
    "import numpy as np\n",
    "import matplotlib.pyplot as plt\n",
    "import pandas as pd\n",
    "mypath = 'Datos_Total' #path with files to analyze\n",
    "from matplotlib.ticker import AutoMinorLocator\n",
    "files = [f for f in listdir(mypath) if isfile(join(mypath, f))] #get all file names of that path\n",
    "from scipy.optimize import curve_fit"
   ]
  },
  {
   "cell_type": "code",
   "execution_count": 2,
   "metadata": {},
   "outputs": [],
   "source": [
    "def get_Error(file_name):\n",
    "    #error analysis, where file_name is the name of the file to analyze\n",
    "    #i dont include mypath as an arg bc it's a global variable\n",
    "    file_dir = mypath + '/' + str(file_name)\n",
    "    data = pd.read_csv(file_dir,sep=\",\",quotechar='\"',parse_dates=[\"fecha\"],na_values=[''])\n",
    "    df = pd.DataFrame(data)\n",
    "    df.sort_values(by=[\"fecha\"])\n",
    "    #dates formatting\n",
    "    first_day = min(df[\"fecha\"])\n",
    "    last_day = max(df[\"fecha\"])\n",
    "    df[\"fecha\"] -= first_day\n",
    "    df.fecha = df.fecha.dt.days\n",
    "    df = df.groupby([\"fecha\"], as_index=False).mean()\n",
    "    df = df.to_numpy() #to numpy array (date,rho7d,inc14days,riskper10)\n",
    "    #data analysis per se\n",
    "    last = df.shape[0]\n",
    "    df = np.hstack((df,np.zeros((last,1))))\n",
    "    i = 19\n",
    "    while i < last:\n",
    "        df[i,4] = df[i-7,3]\n",
    "        i = i+1\n",
    "    error = abs(df[19:,4]-df[19:,2])\n",
    "    return error,df[19:,1]"
   ]
  },
  {
   "cell_type": "code",
   "execution_count": 3,
   "metadata": {},
   "outputs": [],
   "source": [
    "#apparently theres like no function to make this thing i want\n",
    "def make_hist(file_name,error,r_seven,bs,loc=2,save=False):\n",
    "    error = error[:-10]\n",
    "    r_seven = r_seven[:-10]\n",
    "    error = abs(error)\n",
    "    max_v = round(max(r_seven),1) \n",
    "    min_v = round(min(r_seven),1)\n",
    "    r_bins = np.arange(min_v,max_v+bs,bs) #bin range\n",
    "    rr_bins = np.arange(min_v,max_v+bs,bs*loc) #the loc factor comes into pay here\n",
    "    n_size = r_bins.shape[0]-1 #amount of bins\n",
    "    c_bins = np.zeros(n_size) #center of bins\n",
    "    e_bins = np.zeros(n_size) #errors with same size\n",
    "    std_bins = np.zeros(n_size) #std of bins \n",
    "    o_bins = np.zeros(n_size) #amount of observations for that bin\n",
    "    i = 0 #this is just a counter\n",
    "    #now we count for each bin based on error\n",
    "    cuenta = 0\n",
    "    while i < n_size:\n",
    "        indices1 = ((i*bs)+min_v<=r_seven)\n",
    "        indices2 = (r_seven < min_v + (i+1)*bs)\n",
    "        indices = indices1*indices2\n",
    "        errores = np.copy(error[indices])\n",
    "        cuenta = errores.shape[0]\n",
    "        if errores.size == 0:\n",
    "            m_errores = 0\n",
    "            m_std = 0\n",
    "        else:\n",
    "            m_errores = np.mean(errores)\n",
    "            m_std = np.std(errores)/cuenta\n",
    "        e_bins[i] = m_errores\n",
    "        std_bins[i] = m_std\n",
    "        o_bins[i] = cuenta\n",
    "        c_bins[i] = (2*i+1)*(bs/2) + min_v\n",
    "        i = i +1\n",
    "    plt.figure()\n",
    "    plt.title(str(file_name)+' - Error-R7 - bs = 0.1')\n",
    "    ax = plt.axes()\n",
    "    ax.set_xticks(rr_bins)\n",
    "    ax.set_xticklabels(())\n",
    "    ax.set_xticklabels((rr_bins.round(2)))\n",
    "    plt.xlabel(r'$R_7$',fontsize=12)\n",
    "    plt.ylabel('Error',fontsize=12)\n",
    "    ax.xaxis.set_minor_locator(AutoMinorLocator(2)) #for minor ticks to be visible its the easiest i could find tbh\n",
    "    plt.xticks(fontsize=12,rotation=90)\n",
    "    plt.grid()\n",
    "    plt.bar(c_bins, e_bins, bs, color='r',edgecolor='k',yerr=std_bins)\n",
    "    #plt.savefig(str(file_name)+'_Hist.pdf')\n",
    "    plt.show()\n",
    "    return c_bins,e_bins,std_bins,o_bins"
   ]
  },
  {
   "cell_type": "code",
   "execution_count": 4,
   "metadata": {},
   "outputs": [],
   "source": [
    "def chunks(lst,a,n):\n",
    "    \"\"\"Yield successive n-sized chunks from lst.\"\"\"\n",
    "    for i in range(0, len(lst), n):\n",
    "        yield lst[i:i + n],a[i:i + n]"
   ]
  },
  {
   "cell_type": "code",
   "execution_count": 5,
   "metadata": {},
   "outputs": [],
   "source": [
    "#new hist with a much better approach and easier and faster\n",
    "def new_hist(file_name,error,r_seven,bs,loc=2,save=False):\n",
    "    error = error[:-10]\n",
    "    r_seven = r_seven[:-10]\n",
    "    #indices = (r_seven <= 2)\n",
    "    #r_seven = r_seven[indices]\n",
    "    #error = error[indices]\n",
    "    error = abs(error)\n",
    "    r_sevens, errores= (list(t) for t in zip(*sorted(zip(r_seven, error)))) #ordeno por orden del r_seven\n",
    "    hist_graf = [] #minimos y maximos consecutivos\n",
    "    c_bins = []\n",
    "    e_bins = []\n",
    "    std_bins = []\n",
    "    obs_bins = []\n",
    "    x = chunks(r_sevens,errores,bs)\n",
    "    for i in x:\n",
    "        rs = i[0]\n",
    "        es = i[1]\n",
    "        hist_graf.append(min(rs))\n",
    "        hist_graf.append(max(rs))\n",
    "        c_bins.append(np.mean(rs))\n",
    "        e_bins.append(np.mean(es))\n",
    "        obs_bins.append(len(es))\n",
    "        std_bins.append(np.std(es)/len(es))\n",
    "    plt.errorbar(c_bins,e_bins,yerr=std_bins,fmt='-ob')\n",
    "    y_min, y_max = plt.gca().get_ylim()\n",
    "    plt.title(str(file_name)+' - Error-R7 - obs = 20')\n",
    "    grouped_lists = [hist_graf[n:n+2] for n in range(0, len(hist_graf), 2)]\n",
    "    i = 0\n",
    "    for g in grouped_lists:\n",
    "        plt.axvspan(g[0],g[1],facecolor='r',edgecolor='k',alpha=0.5)\n",
    "        i = i + 1\n",
    "    #plt.savefig(str(file_name)+'_Hist.pdf')\n",
    "    plt.show()\n",
    "    return c_bins,e_bins,std_bins,obs_bins"
   ]
  },
  {
   "cell_type": "code",
   "execution_count": 6,
   "metadata": {},
   "outputs": [],
   "source": [
    "#grafico log-log\n",
    "def graph_loglog(b_centers,b_errors,b_std,file_name):\n",
    "    #save_data(b_centers,b_errors,c_obs,'BuenosAires_hist_2')\n",
    "    b_centers = b_centers[b_errors!=0]\n",
    "    b_std = b_std[b_errors!=0]\n",
    "    b_errors = b_errors[b_errors!=0]\n",
    "    max_errors = np.argmax(b_errors)\n",
    "    max_rseven = b_centers[max_errors]\n",
    "    #separo a un lado\n",
    "    b_centers_1 = b_centers[:max_errors]\n",
    "    b_errors_1 = b_errors[:max_errors]\n",
    "    b_std_1 = b_std[:max_errors]\n",
    "    #separo al otro lado\n",
    "    b_centers_2 = b_centers[max_errors:]\n",
    "    b_errors_2 = b_errors[max_errors:]\n",
    "    b_std_2 = b_std[max_errors:]\n",
    "    #imprimo a ver si esta bien\n",
    "    print(b_centers_1,b_centers_2)\n",
    "    #grafico\n",
    "    plt.errorbar(np.log(np.abs(b_centers_1-1)),np.log(b_errors_1),yerr=b_std_1,label='left',fmt='-o')\n",
    "    plt.errorbar(np.log(np.abs(b_centers_2-1)),np.log(b_errors_2),yerr=b_std_2,label='right',fmt='-o')\n",
    "    plt.xlabel(r'$log|R_7 - 1|, R_7 max = $'+str(max_rseven))\n",
    "    plt.ylabel(r'log|Error|')\n",
    "    plt.legend()\n",
    "    plt.grid()\n",
    "    #plt.savefig(str(file_name)+'_LogLog.pdf')\n",
    "    plt.show()"
   ]
  },
  {
   "cell_type": "code",
   "execution_count": 7,
   "metadata": {},
   "outputs": [],
   "source": [
    "def save_data(b_centers,b_errors,b_std,c_obs,string):\n",
    "    matriz = np.zeros((len(c_obs),4))\n",
    "    matriz[:,0] = b_centers\n",
    "    matriz[:,1] = b_errors\n",
    "    matriz[:,2] = b_std\n",
    "    matriz[:,3] = c_obs\n",
    "    np.savetxt(string+'.txt',matriz,delimiter=',',header='Bin Centers,Abs Mean Error,Mean SE,Observations')"
   ]
  },
  {
   "cell_type": "markdown",
   "metadata": {},
   "source": [
    "# grafico aca el tema de los errores - func de R7 (log-log)"
   ]
  },
  {
   "cell_type": "code",
   "execution_count": 8,
   "metadata": {},
   "outputs": [],
   "source": [
    "def exponential(x,a,b):\n",
    "    return a*(x**b)"
   ]
  },
  {
   "cell_type": "markdown",
   "metadata": {},
   "source": [
    "# todos los graficos nuevos"
   ]
  },
  {
   "cell_type": "markdown",
   "metadata": {},
   "source": [
    "# los histogramas comunes"
   ]
  },
  {
   "cell_type": "code",
   "execution_count": 10,
   "metadata": {},
   "outputs": [
    {
     "name": "stderr",
     "output_type": "stream",
     "text": [
      "C:\\Users\\denis\\Anaconda3\\envs\\tf-gpu\\lib\\site-packages\\ipykernel_launcher.py:37: MatplotlibDeprecationWarning: Adding an axes using the same arguments as a previous axes currently reuses the earlier instance.  In a future version, a new instance will always be created and returned.  Meanwhile, this warning can be suppressed, and the future behavior ensured, by passing a unique label to each axes instance.\n"
     ]
    },
    {
     "data": {
      "image/png": "[encoded data removed]",
      "text/plain": [
       "<Figure size 432x288 with 1 Axes>"
      ]
     },
     "metadata": {
      "needs_background": "light"
     },
     "output_type": "display_data"
    },
    {
     "data": {
      "image/png": "[encoded data removed]",
      "text/plain": [
       "<Figure size 432x288 with 1 Axes>"
      ]
     },
     "metadata": {
      "needs_background": "light"
     },
     "output_type": "display_data"
    }
   ],
   "source": [
    "for file in files:\n",
    "    bs = 0.05\n",
    "    file_name = file\n",
    "    error,r_seven = get_Error(file_name)\n",
    "    b_centers,b_errors,b_std,c_obs = make_hist(file_name,error,r_seven,bs,loc=2) \n",
    "    plt.plot(b_centers,b_errors**(1/0.5),'-ob')\n",
    "    #save_data(b_centers,b_errors,b_std,c_obs,file_name)\n",
    "    #graph_loglog(b_centers,b_errors,b_std,file_name)"
   ]
  },
  {
   "cell_type": "markdown",
   "metadata": {},
   "source": [
    "# los histogramas nuevos"
   ]
  },
  {
   "cell_type": "code",
   "execution_count": 17,
   "metadata": {},
   "outputs": [
    {
     "data": {
      "image/png": "[encoded data removed]",
      "text/plain": [
       "<Figure size 432x288 with 1 Axes>"
      ]
     },
     "metadata": {
      "needs_background": "light"
     },
     "output_type": "display_data"
    },
    {
     "data": {
      "image/png": "[encoded data removed]",
      "text/plain": [
       "<Figure size 432x288 with 1 Axes>"
      ]
     },
     "metadata": {
      "needs_background": "light"
     },
     "output_type": "display_data"
    }
   ],
   "source": [
    "for file in files:\n",
    "    bs = 20\n",
    "    file_name = file\n",
    "    error,r_seven = get_Error(file_name)\n",
    "    c_bins,e_bins,std_bins,obs_bins = new_hist(file_name,error,r_seven,bs,loc=2)\n",
    "    #graph_loglog(np.array(c_bins),np.array(e_bins),np.array(std_bins),file_name)]\n",
    "    plt.plot(np.array(c_bins),np.array(e_bins)**(1/0.8),'-ob')"
   ]
  }
 ],
 "metadata": {
  "kernelspec": {
   "display_name": "Python 3",
   "language": "python",
   "name": "python3"
  },
  "language_info": {
   "codemirror_mode": {
    "name": "ipython",
    "version": 3
   },
   "file_extension": ".py",
   "mimetype": "text/x-python",
   "name": "python",
   "nbconvert_exporter": "python",
   "pygments_lexer": "ipython3",
   "version": "3.7.7"
  }
 },
 "nbformat": 4,
 "nbformat_minor": 4
}
