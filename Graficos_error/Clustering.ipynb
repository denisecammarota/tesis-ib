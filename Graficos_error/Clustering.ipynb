{
 "cells": [
  {
   "cell_type": "code",
   "execution_count": 124,
   "metadata": {},
   "outputs": [],
   "source": [
    "import numpy as np\n",
    "import matplotlib.pyplot as plt\n",
    "import matplotlib.image as mpimg\n",
    "from os import listdir\n",
    "from os.path import isfile, join\n",
    "from sklearn.cluster import KMeans\n",
    "from sklearn.preprocessing import scale\n",
    "from sklearn.decomposition import PCA"
   ]
  },
  {
   "cell_type": "code",
   "execution_count": 125,
   "metadata": {},
   "outputs": [],
   "source": [
    "mypath = 'Fotos' #path with files to analyze\n",
    "files = [f for f in listdir(mypath) if isfile(join(mypath, f))] #get all file names of that path\n",
    "\n",
    "def rgb2gray(rgb):\n",
    "    return np.dot(rgb[...,:3], [0.2989, 0.5870, 0.1140])\n",
    "\n",
    "fotos = []\n",
    "for file in files:\n",
    "    img = mpimg.imread('Fotos/'+file) \n",
    "    gray = rgb2gray(img) \n",
    "    gray = gray.flatten()\n",
    "    fotos.append(gray)\n",
    "fotos = np.array(fotos)"
   ]
  },
  {
   "cell_type": "code",
   "execution_count": 126,
   "metadata": {},
   "outputs": [],
   "source": [
    "#data = scale(fotos)\n",
    "n_samples, n_features = data.shape\n",
    "n_digits = 6 #la cantidad de clusters que voy a esperar, por las dudas para hacer PCA"
   ]
  },
  {
   "cell_type": "code",
   "execution_count": 127,
   "metadata": {},
   "outputs": [
    {
     "data": {
      "text/plain": [
       "KMeans(init=array([[-1.98645407e-16,  1.23033919e-18,  3.78391243e-17, ...,\n",
       "        -0.00000000e+00, -0.00000000e+00, -0.00000000e+00],\n",
       "       [-9.17332557e-16,  5.16099546e-17,  1.47353231e-16, ...,\n",
       "        -0.00000000e+00, -0.00000000e+00, -0.00000000e+00],\n",
       "       [ 2.52789723e-15, -5.91298365e-18,  8.46276811e-16, ...,\n",
       "         0.00000000e+00,  0.00000000e+00,  0.00000000e+00],\n",
       "       [-2.26808660e-15,  1.09870662e-16,  1.80298834e-15, ...,\n",
       "         0.00000000e+00,  0.00000000e+00,  0.00000000e+00],\n",
       "       [-1.19309620e-15, -7.38073010e-16,  1.71868163e-15, ...,\n",
       "         0.00000000e+00,  0.00000000e+00,  0.00000000e+00],\n",
       "       [-8.28615733e-16, -3.46423480e-16,  7.95815967e-16, ...,\n",
       "         0.00000000e+00,  0.00000000e+00,  0.00000000e+00]]),\n",
       "       n_clusters=6, n_init=1)"
      ]
     },
     "execution_count": 127,
     "metadata": {},
     "output_type": "execute_result"
    }
   ],
   "source": [
    "pca = PCA(n_components=n_digits).fit(data) #PCA a 3 conjuntos posibles de histogramas \n",
    "kmeans_og = KMeans(init=pca.components_, n_clusters=n_digits, n_init=1)\n",
    "kmeans_og.fit(data)"
   ]
  },
  {
   "cell_type": "code",
   "execution_count": 128,
   "metadata": {},
   "outputs": [
    {
     "data": {
      "text/plain": [
       "KMeans(n_clusters=6)"
      ]
     },
     "execution_count": 128,
     "metadata": {},
     "output_type": "execute_result"
    }
   ],
   "source": [
    "#visualize data\n",
    "reduced_data = PCA(n_components=2).fit_transform(data)\n",
    "kmeans = KMeans(init='k-means++', n_clusters=n_digits, n_init=10)\n",
    "kmeans.fit(reduced_data)"
   ]
  },
  {
   "cell_type": "code",
   "execution_count": 68,
   "metadata": {},
   "outputs": [
    {
     "data": {
      "image/png": "[encoded data removed]",
      "text/plain": [
       "<Figure size 432x288 with 1 Axes>"
      ]
     },
     "metadata": {},
     "output_type": "display_data"
    }
   ],
   "source": [
    "# Step size of the mesh. Decrease to increase the quality of the VQ.\n",
    "h = .02     # point in the mesh [x_min, x_max]x[y_min, y_max].\n",
    "\n",
    "# Plot the decision boundary. For that, we will assign a color to each\n",
    "x_min, x_max = reduced_data[:, 0].min() - 1, reduced_data[:, 0].max() + 1\n",
    "y_min, y_max = reduced_data[:, 1].min() - 1, reduced_data[:, 1].max() + 1\n",
    "xx, yy = np.meshgrid(np.arange(x_min, x_max, h), np.arange(y_min, y_max, h))\n",
    "\n",
    "# Obtain labels for each point in mesh. Use last trained model.\n",
    "Z = kmeans.predict(np.c_[xx.ravel(), yy.ravel()])\n",
    "\n",
    "# Put the result into a color plot\n",
    "Z = Z.reshape(xx.shape)\n",
    "plt.figure(1)\n",
    "plt.clf()\n",
    "plt.imshow(Z, interpolation='nearest',\n",
    "           extent=(xx.min(), xx.max(), yy.min(), yy.max()),\n",
    "           cmap=plt.cm.Paired,\n",
    "           aspect='auto', origin='lower')\n",
    "\n",
    "plt.plot(reduced_data[:, 0], reduced_data[:, 1], 'k.', markersize=2)\n",
    "# Plot the centroids as a white X\n",
    "centroids = kmeans.cluster_centers_\n",
    "plt.scatter(centroids[:, 0], centroids[:, 1],\n",
    "            marker='x', s=169, linewidths=3,\n",
    "            color='w', zorder=10)\n",
    "plt.title('K-means clustering on the digits dataset (PCA-reduced data)\\n'\n",
    "          'Centroids are marked with white cross')\n",
    "#plt.xlim(x_min, x_max)\n",
    "#plt.ylim(y_min, y_max)\n",
    "plt.xticks(())\n",
    "plt.yticks(())\n",
    "plt.show()"
   ]
  },
  {
   "cell_type": "code",
   "execution_count": 151,
   "metadata": {},
   "outputs": [
    {
     "name": "stdout",
     "output_type": "stream",
     "text": [
      "18\n",
      "1 RiesgoBahíaBlanca_Hist_2.png\n",
      "4 RiesgoCABACABANA_Hist_2.png\n",
      "15 RiesgoCórdobaColón_Hist_2.png\n",
      "16 RiesgoCórdobaCórdoba_Hist_2.png\n",
      "19 RiesgoCórdobaPunilla_Hist_2.png\n",
      "23 RiesgoEntreRiosRíos_Hist_2.png\n",
      "31 RiesgoLaMatanza_Hist_2.png\n",
      "32 RiesgoLanúsNA_Hist_2.png\n",
      "33 RiesgoLaPlata_Hist_2.png\n",
      "38 RiesgoLomasde_Hist_2.png\n",
      "40 RiesgoMendozaGuaymallen_Hist_2.png\n",
      "43 RiesgoMendozaMendoza_Hist_2.png\n",
      "48 RiesgoQuilmesNA_Hist_2.png\n",
      "49 RiesgoRioNegroAdolfoAlsina_Hist_2.png\n",
      "56 RiesgoSaltaSalta_Hist_2.png\n",
      "60 RiesgoSantaCruzSantaCruz_Hist_2.png\n",
      "67 RiesgoTierradelFuegoTierradel_Hist_2.png\n",
      "70 RiesgoTucumanCruzAlta_Hist_2.png\n"
     ]
    }
   ],
   "source": [
    "l = kmeans_og.labels_\n",
    "a = [index for index, value in enumerate(l) if value == 5]\n",
    "print(len(a))\n",
    "for i in range(len(a)):\n",
    "    print(a[i],files[a[i]])"
   ]
  }
 ],
 "metadata": {
  "kernelspec": {
   "display_name": "Python 3",
   "language": "python",
   "name": "python3"
  },
  "language_info": {
   "codemirror_mode": {
    "name": "ipython",
    "version": 3
   },
   "file_extension": ".py",
   "mimetype": "text/x-python",
   "name": "python",
   "nbconvert_exporter": "python",
   "pygments_lexer": "ipython3",
   "version": "3.7.7"
  }
 },
 "nbformat": 4,
 "nbformat_minor": 4
}
