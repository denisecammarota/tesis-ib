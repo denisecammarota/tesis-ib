{
 "cells": [
  {
   "cell_type": "code",
   "execution_count": 1,
   "metadata": {},
   "outputs": [],
   "source": [
    "from os import listdir\n",
    "from os.path import isfile, join\n",
    "import numpy as np\n",
    "import matplotlib.pyplot as plt\n",
    "import pandas as pd\n",
    "mypath = 'Datos_14oct_2' #path with files to analyze\n",
    "from matplotlib.ticker import AutoMinorLocator\n",
    "files = [f for f in listdir(mypath) if isfile(join(mypath, f))] #get all file names of that path\n",
    "from scipy.optimize import curve_fit"
   ]
  },
  {
   "cell_type": "code",
   "execution_count": 2,
   "metadata": {},
   "outputs": [],
   "source": [
    "def get_Error(file_name):\n",
    "    #error analysis, where file_name is the name of the file to analyze\n",
    "    #i dont include mypath as an arg bc it's a global variable\n",
    "    file_dir = mypath + '/' + str(file_name)\n",
    "    data = pd.read_csv(file_dir,sep=\",\",quotechar='\"',parse_dates=[\"fecha\"],na_values=[''])\n",
    "    df = pd.DataFrame(data)\n",
    "    df.sort_values(by=[\"fecha\"])\n",
    "    #dates formatting\n",
    "    first_day = min(df[\"fecha\"])\n",
    "    last_day = max(df[\"fecha\"])\n",
    "    df[\"fecha\"] -= first_day\n",
    "    df.fecha = df.fecha.dt.days\n",
    "    df = df.groupby([\"fecha\"], as_index=False).mean()\n",
    "    df = df.to_numpy() #to numpy array (date,rho7d,inc14days,riskper10)\n",
    "    #data analysis per se\n",
    "    last = df.shape[0]\n",
    "    df = np.hstack((df,np.zeros((last,1))))\n",
    "    i = 19\n",
    "    while i < last:\n",
    "        df[i,4] = df[i-7,3]\n",
    "        i = i+1\n",
    "    error = df[19:,4]-df[19:,2]\n",
    "    return error,df[19:,1]"
   ]
  },
  {
   "cell_type": "code",
   "execution_count": 3,
   "metadata": {},
   "outputs": [],
   "source": [
    "#apparently theres like no function to make this thing i want\n",
    "def make_hist(file_name,error,r_seven,bs,loc=2,save=False):\n",
    "    error = error[:-10]\n",
    "    r_seven = r_seven[:-10]\n",
    "    error = abs(error)\n",
    "    max_v = round(max(r_seven),1) \n",
    "    min_v = round(min(r_seven),1)\n",
    "    print(file_name,max_v,min_v)\n",
    "    r_bins = np.arange(min_v,max_v+bs,bs) #bin range\n",
    "    rr_bins = np.arange(min_v,max_v+bs,bs*loc) #the loc factor comes into pay here\n",
    "    n_size = r_bins.shape[0]-1 #amount of bins\n",
    "    c_bins = np.zeros(n_size) #center of bins\n",
    "    e_bins = np.zeros(n_size) #errors with same size\n",
    "    i = 0 #this is just a counter\n",
    "    #now we count for each bin based on error\n",
    "    cuenta = 0\n",
    "    while i < n_size:\n",
    "        indices1 = (i*bs<=r_seven)\n",
    "        indices2 = (r_seven < (i+1)*bs)\n",
    "        indices = indices1*indices2\n",
    "        errores = np.copy(error[indices])\n",
    "        cuenta += errores.shape[0]\n",
    "        e_bins[i] = np.mean(errores)\n",
    "        c_bins[i] = (2*i+1)*(bs/2)\n",
    "        i = i +1\n",
    "    plt.figure()\n",
    "    plt.title(str(file_name)+' - Error-R7 - bs = 0.2')\n",
    "    ax = plt.axes()\n",
    "    pos = np.arange(len(c_bins))\n",
    "    ax.set_xticks(rr_bins)\n",
    "    ax.set_xticklabels(())\n",
    "    ax.set_xticklabels((rr_bins.round(2)))\n",
    "    plt.xlabel(r'$R_7$',fontsize=12)\n",
    "    plt.ylabel('Error',fontsize=12)\n",
    "    ax.xaxis.set_minor_locator(AutoMinorLocator(2)) #for minor ticks to be visible its the easiest i could find tbh\n",
    "    plt.xticks(fontsize=12,rotation=90)\n",
    "    plt.bar(c_bins, e_bins, bs, color='r',edgecolor='k')\n",
    "    #plt.savefig(str(file_name)+'_hist_0p4_sinult10dias.pdf')\n",
    "    plt.show()\n",
    "    return c_bins,e_bins"
   ]
  },
  {
   "cell_type": "markdown",
   "metadata": {},
   "source": [
    "# grafico aca el tema de los errores - func de R7 (log-log)"
   ]
  },
  {
   "cell_type": "code",
   "execution_count": 4,
   "metadata": {},
   "outputs": [],
   "source": [
    "def exponential(x,a,b):\n",
    "    return a*(x**b)"
   ]
  },
  {
   "cell_type": "markdown",
   "metadata": {},
   "source": [
    "# avellaneda"
   ]
  },
  {
   "cell_type": "code",
   "execution_count": 6,
   "metadata": {},
   "outputs": [
    {
     "name": "stdout",
     "output_type": "stream",
     "text": [
      "RiesgoAvellanedaNA\n",
      "RiesgoAvellanedaNA 2.8 0.0\n"
     ]
    },
    {
     "name": "stderr",
     "output_type": "stream",
     "text": [
      "C:\\Users\\denis\\Anaconda3\\envs\\tf-gpu\\lib\\site-packages\\ipykernel_launcher.py:28: MatplotlibDeprecationWarning: Adding an axes using the same arguments as a previous axes currently reuses the earlier instance.  In a future version, a new instance will always be created and returned.  Meanwhile, this warning can be suppressed, and the future behavior ensured, by passing a unique label to each axes instance.\n"
     ]
    },
    {
     "data": {
      "image/png": "[encoded data removed]",
      "text/plain": [
       "<Figure size 432x288 with 1 Axes>"
      ]
     },
     "metadata": {
      "needs_background": "light"
     },
     "output_type": "display_data"
    },
    {
     "name": "stdout",
     "output_type": "stream",
     "text": [
      "parametros:  [18.37987648 -0.46730747] [1.54691509 1.63452936]\n",
      "parametros (log) (pend,ord):  [ 1.26434259 -0.46730747] [0.18946648 1.63452936]\n",
      "[[0.1896757  0.00124548]\n",
      " [0.00124548 0.00751821]] \n",
      " [[ 0.04495446 -0.03917883]\n",
      " [-0.03917883  0.03486844]]\n"
     ]
    },
    {
     "data": {
      "image/png": "[encoded data removed]",
      "text/plain": [
       "<Figure size 432x288 with 1 Axes>"
      ]
     },
     "metadata": {
      "needs_background": "light"
     },
     "output_type": "display_data"
    }
   ],
   "source": [
    "bs = 0.2\n",
    "print(files[0])\n",
    "error,r_seven = get_Error(files[0])\n",
    "file_name = files[0]\n",
    "b_centers,b_errors = make_hist(file_name,error,r_seven,bs,loc=2)\n",
    "plt.savefig('Riesgo_Avellaneda.pdf')\n",
    "plt.scatter(b_centers[3:],b_errors[3:])\n",
    "plt.xscale('log')\n",
    "plt.yscale('log')\n",
    "plt.xlabel(r'$R_7$ (log)')\n",
    "plt.ylabel(r'Error (log)')\n",
    "plt.savefig('Avellaneda_2.pdf')\n",
    "pars1, cov1 = curve_fit(f=exponential,xdata=b_centers[3:8],ydata=b_errors[3:8], p0=[0, 0], bounds=(-np.inf, np.inf))\n",
    "x_lin1 = np.linspace(min(b_centers[3:8]),max(b_centers[3:8]),100)\n",
    "y_lin1 = exponential(x_lin1,pars1[0],pars1[1])\n",
    "plt.plot(x_lin1,y_lin1,c='r')\n",
    "pars2, cov2 = curve_fit(f=exponential,xdata=b_centers[8:12],ydata=b_errors[8:12], p0=[0, 0], bounds=(-np.inf, np.inf))\n",
    "x_lin2 = np.linspace(min(b_centers[8:12]),max(b_centers[8:12]),100)\n",
    "y_lin2 = exponential(x_lin2,pars2[0],pars2[1])\n",
    "plt.plot(x_lin2,y_lin2,c='g')\n",
    "print('parametros: ',pars1,pars2)\n",
    "pars1[0] = np.log10(pars1[0])\n",
    "pars2[0] = np.log10(pars2[0])\n",
    "print('parametros (log) (pend,ord): ',pars1,pars2)\n",
    "print(cov1,'\\n',cov2)\n",
    "np.savetxt('Avellaneda_hist.txt',(b_centers,b_errors))"
   ]
  },
  {
   "cell_type": "markdown",
   "metadata": {},
   "source": [
    "# bahia blanca"
   ]
  },
  {
   "cell_type": "code",
   "execution_count": 7,
   "metadata": {},
   "outputs": [
    {
     "name": "stdout",
     "output_type": "stream",
     "text": [
      "RiesgoBahíaBlanca\n",
      "RiesgoBahíaBlanca 3.3 0.0\n"
     ]
    },
    {
     "name": "stderr",
     "output_type": "stream",
     "text": [
      "C:\\Users\\denis\\Anaconda3\\envs\\tf-gpu\\lib\\site-packages\\numpy\\core\\fromnumeric.py:3373: RuntimeWarning: Mean of empty slice.\n",
      "  out=out, **kwargs)\n",
      "C:\\Users\\denis\\Anaconda3\\envs\\tf-gpu\\lib\\site-packages\\numpy\\core\\_methods.py:170: RuntimeWarning: invalid value encountered in double_scalars\n",
      "  ret = ret.dtype.type(ret / rcount)\n",
      "C:\\Users\\denis\\Anaconda3\\envs\\tf-gpu\\lib\\site-packages\\ipykernel_launcher.py:28: MatplotlibDeprecationWarning: Adding an axes using the same arguments as a previous axes currently reuses the earlier instance.  In a future version, a new instance will always be created and returned.  Meanwhile, this warning can be suppressed, and the future behavior ensured, by passing a unique label to each axes instance.\n"
     ]
    },
    {
     "data": {
      "image/png": "[encoded data removed]",
      "text/plain": [
       "<Figure size 432x288 with 1 Axes>"
      ]
     },
     "metadata": {
      "needs_background": "light"
     },
     "output_type": "display_data"
    },
    {
     "data": {
      "text/plain": [
       "<Figure size 432x288 with 0 Axes>"
      ]
     },
     "metadata": {},
     "output_type": "display_data"
    }
   ],
   "source": [
    "bs = 0.2\n",
    "file_name = files[1]\n",
    "print(files[1])\n",
    "error,r_seven = get_Error(files[1])\n",
    "b_centers,b_errors = make_hist(file_name,error,r_seven,bs,loc=2)\n",
    "plt.savefig('Riesgo_BahiaBlanca.pdf')"
   ]
  },
  {
   "cell_type": "code",
   "execution_count": 8,
   "metadata": {},
   "outputs": [
    {
     "data": {
      "image/png": "[encoded data removed]",
      "text/plain": [
       "<Figure size 432x288 with 1 Axes>"
      ]
     },
     "metadata": {
      "needs_background": "light"
     },
     "output_type": "display_data"
    }
   ],
   "source": [
    "plt.scatter(b_centers,b_errors)\n",
    "plt.xscale('log')\n",
    "plt.yscale('log')\n",
    "plt.xlabel(r'$R_7$ (log)')\n",
    "plt.ylabel(r'Error (log)')\n",
    "plt.savefig('BahiaBlanca_1.pdf')\n",
    "np.savetxt('BahiaBlanca_hist.txt',(b_centers,b_errors))"
   ]
  },
  {
   "cell_type": "markdown",
   "metadata": {},
   "source": [
    "# bariloche"
   ]
  },
  {
   "cell_type": "code",
   "execution_count": 9,
   "metadata": {},
   "outputs": [
    {
     "name": "stdout",
     "output_type": "stream",
     "text": [
      "RiesgoBariloche\n",
      "RiesgoBariloche 3.1 0.0\n"
     ]
    },
    {
     "name": "stderr",
     "output_type": "stream",
     "text": [
      "C:\\Users\\denis\\Anaconda3\\envs\\tf-gpu\\lib\\site-packages\\numpy\\core\\fromnumeric.py:3373: RuntimeWarning: Mean of empty slice.\n",
      "  out=out, **kwargs)\n",
      "C:\\Users\\denis\\Anaconda3\\envs\\tf-gpu\\lib\\site-packages\\numpy\\core\\_methods.py:170: RuntimeWarning: invalid value encountered in double_scalars\n",
      "  ret = ret.dtype.type(ret / rcount)\n",
      "C:\\Users\\denis\\Anaconda3\\envs\\tf-gpu\\lib\\site-packages\\ipykernel_launcher.py:28: MatplotlibDeprecationWarning: Adding an axes using the same arguments as a previous axes currently reuses the earlier instance.  In a future version, a new instance will always be created and returned.  Meanwhile, this warning can be suppressed, and the future behavior ensured, by passing a unique label to each axes instance.\n"
     ]
    },
    {
     "data": {
      "image/png": "[encoded data removed]",
      "text/plain": [
       "<Figure size 432x288 with 1 Axes>"
      ]
     },
     "metadata": {
      "needs_background": "light"
     },
     "output_type": "display_data"
    },
    {
     "data": {
      "text/plain": [
       "<Figure size 432x288 with 0 Axes>"
      ]
     },
     "metadata": {},
     "output_type": "display_data"
    }
   ],
   "source": [
    "bs = 0.2\n",
    "print(files[2])\n",
    "file_name = files[2]\n",
    "error,r_seven = get_Error(files[2])\n",
    "b_centers,b_errors = make_hist(file_name,error,r_seven,bs,loc=2)\n",
    "plt.savefig('Riesgo_Bariloche.pdf')"
   ]
  },
  {
   "cell_type": "code",
   "execution_count": 10,
   "metadata": {},
   "outputs": [
    {
     "data": {
      "image/png": "[encoded data removed]",
      "text/plain": [
       "<Figure size 432x288 with 1 Axes>"
      ]
     },
     "metadata": {
      "needs_background": "light"
     },
     "output_type": "display_data"
    }
   ],
   "source": [
    "plt.scatter(b_centers[2:],b_errors[2:])\n",
    "plt.xscale('log')\n",
    "plt.yscale('log')\n",
    "plt.xlabel(r'$R_7$ (log)')\n",
    "plt.ylabel(r'Error (log)')\n",
    "plt.savefig('Bariloche_1.pdf')\n",
    "np.savetxt('Bariloche_hist.txt',(b_centers[2:],b_errors[2:]))"
   ]
  },
  {
   "cell_type": "markdown",
   "metadata": {},
   "source": [
    "# buenos aires"
   ]
  },
  {
   "cell_type": "code",
   "execution_count": 11,
   "metadata": {},
   "outputs": [
    {
     "name": "stdout",
     "output_type": "stream",
     "text": [
      "RiesgoBuenosAires\n",
      "RiesgoBuenosAires 2.7 0.6\n"
     ]
    },
    {
     "name": "stderr",
     "output_type": "stream",
     "text": [
      "C:\\Users\\denis\\Anaconda3\\envs\\tf-gpu\\lib\\site-packages\\numpy\\core\\fromnumeric.py:3373: RuntimeWarning: Mean of empty slice.\n",
      "  out=out, **kwargs)\n",
      "C:\\Users\\denis\\Anaconda3\\envs\\tf-gpu\\lib\\site-packages\\numpy\\core\\_methods.py:170: RuntimeWarning: invalid value encountered in double_scalars\n",
      "  ret = ret.dtype.type(ret / rcount)\n",
      "C:\\Users\\denis\\Anaconda3\\envs\\tf-gpu\\lib\\site-packages\\ipykernel_launcher.py:28: MatplotlibDeprecationWarning: Adding an axes using the same arguments as a previous axes currently reuses the earlier instance.  In a future version, a new instance will always be created and returned.  Meanwhile, this warning can be suppressed, and the future behavior ensured, by passing a unique label to each axes instance.\n"
     ]
    },
    {
     "data": {
      "image/png": "[encoded data removed]",
      "text/plain": [
       "<Figure size 432x288 with 1 Axes>"
      ]
     },
     "metadata": {
      "needs_background": "light"
     },
     "output_type": "display_data"
    },
    {
     "data": {
      "text/plain": [
       "<Figure size 432x288 with 0 Axes>"
      ]
     },
     "metadata": {},
     "output_type": "display_data"
    }
   ],
   "source": [
    "bs = 0.2\n",
    "print(files[3])\n",
    "file_name = files[3]\n",
    "error,r_seven = get_Error(files[3])\n",
    "b_centers,b_errors = make_hist(file_name,error,r_seven,bs,loc=2)\n",
    "plt.savefig('Riesgo_BuenosAires.pdf')"
   ]
  },
  {
   "cell_type": "code",
   "execution_count": 12,
   "metadata": {},
   "outputs": [
    {
     "data": {
      "image/png": "[encoded data removed]",
      "text/plain": [
       "<Figure size 432x288 with 1 Axes>"
      ]
     },
     "metadata": {
      "needs_background": "light"
     },
     "output_type": "display_data"
    }
   ],
   "source": [
    "plt.scatter(b_centers,b_errors)\n",
    "plt.xscale('log')\n",
    "plt.yscale('log')\n",
    "plt.xlabel(r'$R_7$ (log)')\n",
    "plt.ylabel(r'Error (log)')\n",
    "plt.savefig('BuenosAires_1.pdf')\n",
    "np.savetxt('BuenosAires_hist.txt',(b_centers,b_errors))"
   ]
  },
  {
   "cell_type": "markdown",
   "metadata": {},
   "source": [
    "# CABA TOTAL"
   ]
  },
  {
   "cell_type": "code",
   "execution_count": 13,
   "metadata": {},
   "outputs": [
    {
     "name": "stdout",
     "output_type": "stream",
     "text": [
      "RiesgoCABACABANA\n",
      "RiesgoCABACABANA 3.6 0.0\n"
     ]
    },
    {
     "name": "stderr",
     "output_type": "stream",
     "text": [
      "C:\\Users\\denis\\Anaconda3\\envs\\tf-gpu\\lib\\site-packages\\numpy\\core\\fromnumeric.py:3373: RuntimeWarning: Mean of empty slice.\n",
      "  out=out, **kwargs)\n",
      "C:\\Users\\denis\\Anaconda3\\envs\\tf-gpu\\lib\\site-packages\\numpy\\core\\_methods.py:170: RuntimeWarning: invalid value encountered in double_scalars\n",
      "  ret = ret.dtype.type(ret / rcount)\n",
      "C:\\Users\\denis\\Anaconda3\\envs\\tf-gpu\\lib\\site-packages\\ipykernel_launcher.py:28: MatplotlibDeprecationWarning: Adding an axes using the same arguments as a previous axes currently reuses the earlier instance.  In a future version, a new instance will always be created and returned.  Meanwhile, this warning can be suppressed, and the future behavior ensured, by passing a unique label to each axes instance.\n"
     ]
    },
    {
     "data": {
      "image/png": "[encoded data removed]",
      "text/plain": [
       "<Figure size 432x288 with 1 Axes>"
      ]
     },
     "metadata": {
      "needs_background": "light"
     },
     "output_type": "display_data"
    },
    {
     "data": {
      "text/plain": [
       "<Figure size 432x288 with 0 Axes>"
      ]
     },
     "metadata": {},
     "output_type": "display_data"
    }
   ],
   "source": [
    "bs = 0.2\n",
    "print(files[4])\n",
    "file_name = files[4]\n",
    "error,r_seven = get_Error(files[4])\n",
    "b_centers,b_errors = make_hist(file_name,error,r_seven,bs,loc=2)\n",
    "plt.savefig('Riesgo_CABA.pdf')"
   ]
  },
  {
   "cell_type": "code",
   "execution_count": 15,
   "metadata": {},
   "outputs": [
    {
     "data": {
      "image/png": "[encoded data removed]",
      "text/plain": [
       "<Figure size 432x288 with 1 Axes>"
      ]
     },
     "metadata": {
      "needs_background": "light"
     },
     "output_type": "display_data"
    }
   ],
   "source": [
    "plt.scatter(b_centers[2:],b_errors[2:])\n",
    "plt.xscale('log')\n",
    "plt.yscale('log')\n",
    "plt.xlabel(r'$R_7$ (log)')\n",
    "plt.ylabel(r'Error (log)')\n",
    "plt.savefig('CABA_1.pdf')\n",
    "np.savetxt('CABA_hist.txt',(b_centers[2:],b_errors[2:]))"
   ]
  },
  {
   "cell_type": "markdown",
   "metadata": {},
   "source": [
    "# cordoba capital"
   ]
  },
  {
   "cell_type": "code",
   "execution_count": 16,
   "metadata": {},
   "outputs": [
    {
     "name": "stdout",
     "output_type": "stream",
     "text": [
      "RiesgoCórdobaCapital\n",
      "RiesgoCórdobaCapital 3.3 0.0\n"
     ]
    },
    {
     "name": "stderr",
     "output_type": "stream",
     "text": [
      "C:\\Users\\denis\\Anaconda3\\envs\\tf-gpu\\lib\\site-packages\\numpy\\core\\fromnumeric.py:3373: RuntimeWarning: Mean of empty slice.\n",
      "  out=out, **kwargs)\n",
      "C:\\Users\\denis\\Anaconda3\\envs\\tf-gpu\\lib\\site-packages\\numpy\\core\\_methods.py:170: RuntimeWarning: invalid value encountered in double_scalars\n",
      "  ret = ret.dtype.type(ret / rcount)\n",
      "C:\\Users\\denis\\Anaconda3\\envs\\tf-gpu\\lib\\site-packages\\ipykernel_launcher.py:28: MatplotlibDeprecationWarning: Adding an axes using the same arguments as a previous axes currently reuses the earlier instance.  In a future version, a new instance will always be created and returned.  Meanwhile, this warning can be suppressed, and the future behavior ensured, by passing a unique label to each axes instance.\n"
     ]
    },
    {
     "data": {
      "image/png": "[encoded data removed]",
      "text/plain": [
       "<Figure size 432x288 with 1 Axes>"
      ]
     },
     "metadata": {
      "needs_background": "light"
     },
     "output_type": "display_data"
    },
    {
     "data": {
      "text/plain": [
       "<Figure size 432x288 with 0 Axes>"
      ]
     },
     "metadata": {},
     "output_type": "display_data"
    }
   ],
   "source": [
    "bs = 0.2\n",
    "print(files[6])\n",
    "file_name = files[6]\n",
    "error,r_seven = get_Error(files[6])\n",
    "b_centers,b_errors = make_hist(file_name,error,r_seven,bs,loc=2)\n",
    "plt.savefig('Riesgo_CordobaCapital.pdf')"
   ]
  },
  {
   "cell_type": "code",
   "execution_count": 17,
   "metadata": {},
   "outputs": [
    {
     "data": {
      "image/png": "[encoded data removed]",
      "text/plain": [
       "<Figure size 432x288 with 1 Axes>"
      ]
     },
     "metadata": {
      "needs_background": "light"
     },
     "output_type": "display_data"
    }
   ],
   "source": [
    "plt.scatter(b_centers[2:],b_errors[2:])\n",
    "plt.xscale('log')\n",
    "plt.yscale('log')\n",
    "plt.xlabel(r'$R_7$ (log)')\n",
    "plt.ylabel(r'Error (log)')\n",
    "plt.savefig('CordobaCapital_1.pdf')\n",
    "np.savetxt('CordobaCapital_hist.txt',(b_centers[2:],b_errors[2:]))"
   ]
  },
  {
   "cell_type": "markdown",
   "metadata": {},
   "source": [
    "# cordoba provincia"
   ]
  },
  {
   "cell_type": "code",
   "execution_count": 18,
   "metadata": {},
   "outputs": [
    {
     "name": "stdout",
     "output_type": "stream",
     "text": [
      "RiesgoCórdobaCórdoba\n",
      "RiesgoCórdobaCórdoba 3.6 0.0\n"
     ]
    },
    {
     "name": "stderr",
     "output_type": "stream",
     "text": [
      "C:\\Users\\denis\\Anaconda3\\envs\\tf-gpu\\lib\\site-packages\\ipykernel_launcher.py:28: MatplotlibDeprecationWarning: Adding an axes using the same arguments as a previous axes currently reuses the earlier instance.  In a future version, a new instance will always be created and returned.  Meanwhile, this warning can be suppressed, and the future behavior ensured, by passing a unique label to each axes instance.\n"
     ]
    },
    {
     "data": {
      "image/png": "[encoded data removed]",
      "text/plain": [
       "<Figure size 432x288 with 1 Axes>"
      ]
     },
     "metadata": {
      "needs_background": "light"
     },
     "output_type": "display_data"
    },
    {
     "data": {
      "text/plain": [
       "<Figure size 432x288 with 0 Axes>"
      ]
     },
     "metadata": {},
     "output_type": "display_data"
    }
   ],
   "source": [
    "bs = 0.2\n",
    "print(files[7])\n",
    "file_name = files[7]\n",
    "error,r_seven = get_Error(files[7])\n",
    "b_centers,b_errors = make_hist(file_name,error,r_seven,bs,loc=2)\n",
    "plt.savefig('Riesgo_CordobaProv.pdf')"
   ]
  },
  {
   "cell_type": "code",
   "execution_count": 19,
   "metadata": {},
   "outputs": [
    {
     "data": {
      "image/png": "[encoded data removed]",
      "text/plain": [
       "<Figure size 432x288 with 1 Axes>"
      ]
     },
     "metadata": {
      "needs_background": "light"
     },
     "output_type": "display_data"
    }
   ],
   "source": [
    "plt.scatter(b_centers[2:],b_errors[2:])\n",
    "plt.xscale('log')\n",
    "plt.yscale('log')\n",
    "plt.xlabel(r'$R_7$ (log)')\n",
    "plt.ylabel(r'Error (log)')\n",
    "plt.savefig('CordobaProv_1.pdf')\n",
    "np.savetxt('CordobaProv_hist.txt',(b_centers[2:],b_errors[2:]))"
   ]
  },
  {
   "cell_type": "markdown",
   "metadata": {},
   "source": [
    "# rio negro"
   ]
  },
  {
   "cell_type": "code",
   "execution_count": 20,
   "metadata": {},
   "outputs": [
    {
     "name": "stdout",
     "output_type": "stream",
     "text": [
      "RiesgoRioNegro\n",
      "RiesgoRioNegro 3.2 0.0\n"
     ]
    },
    {
     "name": "stderr",
     "output_type": "stream",
     "text": [
      "C:\\Users\\denis\\Anaconda3\\envs\\tf-gpu\\lib\\site-packages\\numpy\\core\\fromnumeric.py:3373: RuntimeWarning: Mean of empty slice.\n",
      "  out=out, **kwargs)\n",
      "C:\\Users\\denis\\Anaconda3\\envs\\tf-gpu\\lib\\site-packages\\numpy\\core\\_methods.py:170: RuntimeWarning: invalid value encountered in double_scalars\n",
      "  ret = ret.dtype.type(ret / rcount)\n",
      "C:\\Users\\denis\\Anaconda3\\envs\\tf-gpu\\lib\\site-packages\\ipykernel_launcher.py:28: MatplotlibDeprecationWarning: Adding an axes using the same arguments as a previous axes currently reuses the earlier instance.  In a future version, a new instance will always be created and returned.  Meanwhile, this warning can be suppressed, and the future behavior ensured, by passing a unique label to each axes instance.\n"
     ]
    },
    {
     "data": {
      "image/png": "[encoded data removed]",
      "text/plain": [
       "<Figure size 432x288 with 1 Axes>"
      ]
     },
     "metadata": {
      "needs_background": "light"
     },
     "output_type": "display_data"
    },
    {
     "data": {
      "text/plain": [
       "<Figure size 432x288 with 0 Axes>"
      ]
     },
     "metadata": {},
     "output_type": "display_data"
    }
   ],
   "source": [
    "bs = 0.2\n",
    "print(files[9])\n",
    "file_name = files[9]\n",
    "error,r_seven = get_Error(files[9])\n",
    "b_centers,b_errors = make_hist(file_name,error,r_seven,bs,loc=2)\n",
    "plt.savefig('Riesgo_RioNegroProv.pdf')"
   ]
  },
  {
   "cell_type": "code",
   "execution_count": 21,
   "metadata": {},
   "outputs": [
    {
     "data": {
      "image/png": "[encoded data removed]",
      "text/plain": [
       "<Figure size 432x288 with 1 Axes>"
      ]
     },
     "metadata": {
      "needs_background": "light"
     },
     "output_type": "display_data"
    }
   ],
   "source": [
    "plt.scatter(b_centers[3:],b_errors[3:])\n",
    "plt.xscale('log')\n",
    "plt.yscale('log')\n",
    "plt.xlabel(r'$R_7$ (log)')\n",
    "plt.ylabel(r'Error (log)')\n",
    "plt.savefig('RioNegroProv_1.pdf')\n",
    "np.savetxt('RioNegroProv_hist.txt',(b_centers[3:],b_errors[3:]))"
   ]
  },
  {
   "cell_type": "markdown",
   "metadata": {},
   "source": [
    "# rosario"
   ]
  },
  {
   "cell_type": "code",
   "execution_count": 22,
   "metadata": {},
   "outputs": [
    {
     "name": "stdout",
     "output_type": "stream",
     "text": [
      "RiesgoSantaFeRosario\n",
      "RiesgoSantaFeRosario 3.7 0.0\n"
     ]
    },
    {
     "name": "stderr",
     "output_type": "stream",
     "text": [
      "C:\\Users\\denis\\Anaconda3\\envs\\tf-gpu\\lib\\site-packages\\numpy\\core\\fromnumeric.py:3373: RuntimeWarning: Mean of empty slice.\n",
      "  out=out, **kwargs)\n",
      "C:\\Users\\denis\\Anaconda3\\envs\\tf-gpu\\lib\\site-packages\\numpy\\core\\_methods.py:170: RuntimeWarning: invalid value encountered in double_scalars\n",
      "  ret = ret.dtype.type(ret / rcount)\n",
      "C:\\Users\\denis\\Anaconda3\\envs\\tf-gpu\\lib\\site-packages\\ipykernel_launcher.py:28: MatplotlibDeprecationWarning: Adding an axes using the same arguments as a previous axes currently reuses the earlier instance.  In a future version, a new instance will always be created and returned.  Meanwhile, this warning can be suppressed, and the future behavior ensured, by passing a unique label to each axes instance.\n"
     ]
    },
    {
     "data": {
      "image/png": "[encoded data removed]",
      "text/plain": [
       "<Figure size 432x288 with 1 Axes>"
      ]
     },
     "metadata": {
      "needs_background": "light"
     },
     "output_type": "display_data"
    },
    {
     "data": {
      "text/plain": [
       "<Figure size 432x288 with 0 Axes>"
      ]
     },
     "metadata": {},
     "output_type": "display_data"
    }
   ],
   "source": [
    "bs = 0.2\n",
    "print(files[11])\n",
    "file_name = files[11]\n",
    "error,r_seven = get_Error(files[11])\n",
    "b_centers,b_errors = make_hist(file_name,error,r_seven,bs,loc=2)\n",
    "plt.savefig('Riesgo_Rosario.pdf')"
   ]
  },
  {
   "cell_type": "code",
   "execution_count": 23,
   "metadata": {},
   "outputs": [
    {
     "data": {
      "image/png": "[encoded data removed]",
      "text/plain": [
       "<Figure size 432x288 with 1 Axes>"
      ]
     },
     "metadata": {
      "needs_background": "light"
     },
     "output_type": "display_data"
    }
   ],
   "source": [
    "plt.scatter(b_centers,b_errors)\n",
    "plt.xscale('log')\n",
    "plt.yscale('log')\n",
    "plt.xlabel(r'$R_7$ (log)')\n",
    "plt.ylabel(r'Error (log)')\n",
    "plt.savefig('Rosario_1.pdf')\n",
    "np.savetxt('Rosario_hist.txt',(b_centers,b_errors))"
   ]
  },
  {
   "cell_type": "markdown",
   "metadata": {},
   "source": [
    "# santa fe "
   ]
  },
  {
   "cell_type": "code",
   "execution_count": 24,
   "metadata": {},
   "outputs": [
    {
     "name": "stdout",
     "output_type": "stream",
     "text": [
      "RiesgoSantaFeSantaFe\n",
      "RiesgoSantaFeSantaFe 4.0 0.0\n"
     ]
    },
    {
     "name": "stderr",
     "output_type": "stream",
     "text": [
      "C:\\Users\\denis\\Anaconda3\\envs\\tf-gpu\\lib\\site-packages\\ipykernel_launcher.py:28: MatplotlibDeprecationWarning: Adding an axes using the same arguments as a previous axes currently reuses the earlier instance.  In a future version, a new instance will always be created and returned.  Meanwhile, this warning can be suppressed, and the future behavior ensured, by passing a unique label to each axes instance.\n"
     ]
    },
    {
     "data": {
      "image/png": "[encoded data removed]",
      "text/plain": [
       "<Figure size 432x288 with 1 Axes>"
      ]
     },
     "metadata": {
      "needs_background": "light"
     },
     "output_type": "display_data"
    },
    {
     "data": {
      "text/plain": [
       "<Figure size 432x288 with 0 Axes>"
      ]
     },
     "metadata": {},
     "output_type": "display_data"
    }
   ],
   "source": [
    "bs = 0.2\n",
    "print(files[12])\n",
    "file_name = files[12]\n",
    "error,r_seven = get_Error(files[12])\n",
    "b_centers,b_errors = make_hist(file_name,error,r_seven,bs,loc=2)\n",
    "plt.savefig('Riesgo_StaFe.pdf')"
   ]
  },
  {
   "cell_type": "code",
   "execution_count": 25,
   "metadata": {},
   "outputs": [
    {
     "data": {
      "image/png": "[encoded data removed]",
      "text/plain": [
       "<Figure size 432x288 with 1 Axes>"
      ]
     },
     "metadata": {
      "needs_background": "light"
     },
     "output_type": "display_data"
    }
   ],
   "source": [
    "plt.scatter(b_centers[1:],b_errors[1:])\n",
    "plt.xscale('log')\n",
    "plt.yscale('log')\n",
    "plt.xlabel(r'$R_7$ (log)')\n",
    "plt.ylabel(r'Error (log)')\n",
    "plt.savefig('StaFe_1.pdf')\n",
    "np.savetxt('StaFe_hist.txt',(b_centers[1:],b_errors[1:]))"
   ]
  },
  {
   "cell_type": "code",
   "execution_count": null,
   "metadata": {},
   "outputs": [],
   "source": []
  }
 ],
 "metadata": {
  "kernelspec": {
   "display_name": "Python 3",
   "language": "python",
   "name": "python3"
  },
  "language_info": {
   "codemirror_mode": {
    "name": "ipython",
    "version": 3
   },
   "file_extension": ".py",
   "mimetype": "text/x-python",
   "name": "python",
   "nbconvert_exporter": "python",
   "pygments_lexer": "ipython3",
   "version": "3.7.7"
  }
 },
 "nbformat": 4,
 "nbformat_minor": 4
}
