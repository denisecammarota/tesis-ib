{
 "cells": [
  {
   "cell_type": "code",
   "execution_count": 1,
   "metadata": {},
   "outputs": [],
   "source": [
    "from os import listdir\n",
    "from os.path import isfile, join\n",
    "import numpy as np\n",
    "import matplotlib.pyplot as plt\n",
    "import pandas as pd\n",
    "mypath = 'Datos_14oct_2' #path with files to analyze\n",
    "from matplotlib.ticker import AutoMinorLocator\n",
    "files = [f for f in listdir(mypath) if isfile(join(mypath, f))] #get all file names of that path\n",
    "from scipy.optimize import curve_fit"
   ]
  },
  {
   "cell_type": "code",
   "execution_count": 2,
   "metadata": {},
   "outputs": [],
   "source": [
    "def get_Error(file_name):\n",
    "    #error analysis, where file_name is the name of the file to analyze\n",
    "    #i dont include mypath as an arg bc it's a global variable\n",
    "    file_dir = mypath + '/' + str(file_name)\n",
    "    data = pd.read_csv(file_dir,sep=\",\",quotechar='\"',parse_dates=[\"fecha\"],na_values=[''])\n",
    "    df = pd.DataFrame(data)\n",
    "    df.sort_values(by=[\"fecha\"])\n",
    "    #dates formatting\n",
    "    first_day = min(df[\"fecha\"])\n",
    "    last_day = max(df[\"fecha\"])\n",
    "    df[\"fecha\"] -= first_day\n",
    "    df.fecha = df.fecha.dt.days\n",
    "    df = df.groupby([\"fecha\"], as_index=False).mean()\n",
    "    df = df.to_numpy() #to numpy array (date,rho7d,inc14days,riskper10)\n",
    "    #data analysis per se\n",
    "    last = df.shape[0]\n",
    "    df = np.hstack((df,np.zeros((last,1))))\n",
    "    i = 19\n",
    "    while i < last:\n",
    "        df[i,4] = df[i-7,3]\n",
    "        i = i+1\n",
    "    error = df[19:,4]-df[19:,2]\n",
    "    return error,df[19:,1]"
   ]
  },
  {
   "cell_type": "code",
   "execution_count": 105,
   "metadata": {},
   "outputs": [],
   "source": [
    "#apparently theres like no function to make this thing i want\n",
    "def make_hist(file_name,error,r_seven,bs,loc=2,save=False):\n",
    "    error = error[:-10]\n",
    "    r_seven = r_seven[:-10]\n",
    "    error = abs(error)\n",
    "    max_v = round(max(r_seven),1) \n",
    "    min_v = round(min(r_seven),1)\n",
    "    print(file_name,max_v,min_v)\n",
    "    r_bins = np.arange(min_v,max_v+bs,bs) #bin range\n",
    "    rr_bins = np.arange(min_v,max_v+bs,bs*loc) #the loc factor comes into pay here\n",
    "    n_size = r_bins.shape[0]-1 #amount of bins\n",
    "    c_bins = np.zeros(n_size) #center of bins\n",
    "    e_bins = np.zeros(n_size) #errors with same size\n",
    "    o_bins = np.zeros(n_size) #amount of observations for that bin\n",
    "    i = 0 #this is just a counter\n",
    "    #now we count for each bin based on error\n",
    "    cuenta = 0\n",
    "    while i < n_size:\n",
    "        indices1 = (i*bs<=r_seven)\n",
    "        indices2 = (r_seven < (i+1)*bs)\n",
    "        indices = indices1*indices2\n",
    "        errores = np.copy(error[indices])\n",
    "        cuenta = errores.shape[0]\n",
    "        if errores.size == 0:\n",
    "            m_errores = 0\n",
    "        else:\n",
    "            m_errores = np.mean(errores)\n",
    "        e_bins[i] = m_errores\n",
    "        o_bins[i] = cuenta\n",
    "        c_bins[i] = (2*i+1)*(bs/2)\n",
    "        i = i +1\n",
    "    plt.figure()\n",
    "    plt.title(str(file_name)+' - Error-R7 - bs = 0.2')\n",
    "    ax = plt.axes()\n",
    "    pos = np.arange(len(c_bins))\n",
    "    ax.set_xticks(rr_bins)\n",
    "    ax.set_xticklabels(())\n",
    "    ax.set_xticklabels((rr_bins.round(2)))\n",
    "    plt.xlabel(r'$R_7$',fontsize=12)\n",
    "    plt.ylabel('Error',fontsize=12)\n",
    "    ax.xaxis.set_minor_locator(AutoMinorLocator(2)) #for minor ticks to be visible its the easiest i could find tbh\n",
    "    plt.xticks(fontsize=12,rotation=90)\n",
    "    plt.bar(c_bins, e_bins, bs, color='r',edgecolor='k')\n",
    "    #plt.savefig(str(file_name)+'_hist_0p4_sinult10dias.pdf')\n",
    "    #plt.show()\n",
    "    return c_bins,e_bins,o_bins"
   ]
  },
  {
   "cell_type": "code",
   "execution_count": 96,
   "metadata": {},
   "outputs": [],
   "source": [
    "def save_data(b_centers,b_errors,c_obs,string):\n",
    "    matriz = np.zeros((len(c_obs),3))\n",
    "    matriz[:,0] = b_centers\n",
    "    matriz[:,1] = b_errors\n",
    "    matriz[:,2] = c_obs\n",
    "    np.savetxt(string+'.txt',matriz,delimiter=',',header='Bin Centers,Abs Mean Error,Observations')"
   ]
  },
  {
   "cell_type": "markdown",
   "metadata": {},
   "source": [
    "# grafico aca el tema de los errores - func de R7 (log-log)"
   ]
  },
  {
   "cell_type": "code",
   "execution_count": 4,
   "metadata": {},
   "outputs": [],
   "source": [
    "def exponential(x,a,b):\n",
    "    return a*(x**b)"
   ]
  },
  {
   "cell_type": "markdown",
   "metadata": {},
   "source": [
    "# avellaneda"
   ]
  },
  {
   "cell_type": "code",
   "execution_count": 56,
   "metadata": {},
   "outputs": [
    {
     "name": "stdout",
     "output_type": "stream",
     "text": [
      "RiesgoAvellanedaNA\n",
      "RiesgoAvellanedaNA 2.8 0.0\n",
      "0 35\n",
      "1 3\n",
      "2 9\n",
      "3 7\n",
      "4 54\n",
      "5 67\n",
      "6 26\n",
      "7 14\n",
      "8 9\n",
      "9 10\n",
      "10 7\n",
      "11 8\n",
      "12 4\n",
      "13 3\n"
     ]
    },
    {
     "name": "stderr",
     "output_type": "stream",
     "text": [
      "C:\\Users\\denis\\Anaconda3\\envs\\tf-gpu\\lib\\site-packages\\ipykernel_launcher.py:33: MatplotlibDeprecationWarning: Adding an axes using the same arguments as a previous axes currently reuses the earlier instance.  In a future version, a new instance will always be created and returned.  Meanwhile, this warning can be suppressed, and the future behavior ensured, by passing a unique label to each axes instance.\n"
     ]
    },
    {
     "data": {
      "image/png": "[encoded data removed]",
      "text/plain": [
       "<Figure size 432x288 with 1 Axes>"
      ]
     },
     "metadata": {
      "needs_background": "light"
     },
     "output_type": "display_data"
    },
    {
     "data": {
      "image/png": "[encoded data removed]",
      "text/plain": [
       "<Figure size 432x288 with 1 Axes>"
      ]
     },
     "metadata": {
      "needs_background": "light"
     },
     "output_type": "display_data"
    }
   ],
   "source": [
    "bs = 0.2\n",
    "print(files[0])\n",
    "error,r_seven = get_Error(files[0])\n",
    "file_name = files[0]\n",
    "b_centers,b_errors,c_obs = make_hist(file_name,error,r_seven,bs,loc=2)\n",
    "plt.savefig('Riesgo_Avellaneda.pdf')\n",
    "b_centers = b_centers[b_errors!=0]\n",
    "b_errors = b_errors[b_errors!=0]\n",
    "plt.scatter(np.log(b_centers),np.log(b_errors))\n",
    "plt.xlabel(r'$log(R_7 - 1)$')\n",
    "plt.ylabel(r'log(Error)')\n",
    "plt.savefig('Avellaneda_1.pdf')"
   ]
  },
  {
   "cell_type": "markdown",
   "metadata": {},
   "source": [
    "# bahia blanca"
   ]
  },
  {
   "cell_type": "code",
   "execution_count": 57,
   "metadata": {},
   "outputs": [
    {
     "name": "stdout",
     "output_type": "stream",
     "text": [
      "RiesgoBahíaBlanca\n",
      "RiesgoBahíaBlanca 3.3 0.0\n",
      "0 43\n",
      "1 8\n",
      "2 13\n",
      "3 10\n",
      "4 35\n",
      "5 39\n",
      "6 35\n",
      "7 17\n",
      "8 14\n",
      "9 11\n",
      "10 13\n",
      "11 8\n",
      "12 6\n",
      "13 0\n",
      "14 1\n",
      "15 1\n",
      "16 2\n"
     ]
    },
    {
     "name": "stderr",
     "output_type": "stream",
     "text": [
      "C:\\Users\\denis\\Anaconda3\\envs\\tf-gpu\\lib\\site-packages\\ipykernel_launcher.py:33: MatplotlibDeprecationWarning: Adding an axes using the same arguments as a previous axes currently reuses the earlier instance.  In a future version, a new instance will always be created and returned.  Meanwhile, this warning can be suppressed, and the future behavior ensured, by passing a unique label to each axes instance.\n"
     ]
    },
    {
     "data": {
      "image/png": "[encoded data removed]",
      "text/plain": [
       "<Figure size 432x288 with 1 Axes>"
      ]
     },
     "metadata": {
      "needs_background": "light"
     },
     "output_type": "display_data"
    },
    {
     "name": "stdout",
     "output_type": "stream",
     "text": [
      "[0.1 0.3 0.5 0.7 0.9 1.1 1.3 1.5 1.7 1.9 2.1 2.3 2.5 2.7 2.9 3.1 3.3] [ 0.27144898  3.21761995  1.50408828  4.61816511  6.57064699 10.94518874\n",
      " 12.65436312  1.52005692  4.11481924  6.85013508  1.40376777  2.04133784\n",
      "  4.5243606   0.          1.84275326  0.41461948  1.15172079]\n"
     ]
    },
    {
     "data": {
      "text/plain": [
       "<Figure size 432x288 with 0 Axes>"
      ]
     },
     "metadata": {},
     "output_type": "display_data"
    }
   ],
   "source": [
    "bs = 0.2\n",
    "file_name = files[1]\n",
    "print(files[1])\n",
    "error,r_seven = get_Error(files[1])\n",
    "b_centers,b_errors,c_obs = make_hist(file_name,error,r_seven,bs,loc=2)\n",
    "plt.savefig('Riesgo_BahiaBlanca.pdf')\n",
    "print(b_centers,b_errors)"
   ]
  },
  {
   "cell_type": "code",
   "execution_count": 7,
   "metadata": {},
   "outputs": [
    {
     "data": {
      "image/png": "[encoded data removed]",
      "text/plain": [
       "<Figure size 432x288 with 1 Axes>"
      ]
     },
     "metadata": {
      "needs_background": "light"
     },
     "output_type": "display_data"
    }
   ],
   "source": [
    "b_centers = b_centers[b_errors!=0]\n",
    "b_errors = b_errors[b_errors!=0]\n",
    "plt.scatter(np.log(b_centers),np.log(b_errors))\n",
    "plt.xlabel(r'$log(R_7 - 1)$')\n",
    "plt.ylabel(r'log(Error)')\n",
    "plt.savefig('BahiaBlanca_1.pdf')"
   ]
  },
  {
   "cell_type": "markdown",
   "metadata": {},
   "source": [
    "# bariloche"
   ]
  },
  {
   "cell_type": "code",
   "execution_count": 8,
   "metadata": {},
   "outputs": [
    {
     "name": "stdout",
     "output_type": "stream",
     "text": [
      "RiesgoBariloche\n",
      "RiesgoBariloche 3.1 0.0\n"
     ]
    },
    {
     "name": "stderr",
     "output_type": "stream",
     "text": [
      "C:\\Users\\denis\\Anaconda3\\envs\\tf-gpu\\lib\\site-packages\\ipykernel_launcher.py:32: MatplotlibDeprecationWarning: Adding an axes using the same arguments as a previous axes currently reuses the earlier instance.  In a future version, a new instance will always be created and returned.  Meanwhile, this warning can be suppressed, and the future behavior ensured, by passing a unique label to each axes instance.\n"
     ]
    },
    {
     "data": {
      "image/png": "[encoded data removed]",
      "text/plain": [
       "<Figure size 432x288 with 1 Axes>"
      ]
     },
     "metadata": {
      "needs_background": "light"
     },
     "output_type": "display_data"
    },
    {
     "data": {
      "text/plain": [
       "<Figure size 432x288 with 0 Axes>"
      ]
     },
     "metadata": {},
     "output_type": "display_data"
    }
   ],
   "source": [
    "bs = 0.2\n",
    "print(files[2])\n",
    "file_name = files[2]\n",
    "error,r_seven = get_Error(files[2])\n",
    "b_centers,b_errors,c_obs = make_hist(file_name,error,r_seven,bs,loc=2)\n",
    "plt.savefig('Riesgo_Bariloche.pdf')"
   ]
  },
  {
   "cell_type": "code",
   "execution_count": 9,
   "metadata": {},
   "outputs": [
    {
     "data": {
      "image/png": "[encoded data removed]",
      "text/plain": [
       "<Figure size 432x288 with 1 Axes>"
      ]
     },
     "metadata": {
      "needs_background": "light"
     },
     "output_type": "display_data"
    }
   ],
   "source": [
    "b_centers = b_centers[b_errors!=0]\n",
    "b_errors = b_errors[b_errors!=0]\n",
    "plt.scatter(np.log(b_centers),np.log(b_errors))\n",
    "plt.xlabel(r'$log(R_7 - 1)$')\n",
    "plt.ylabel(r'log(Error)')\n",
    "plt.savefig('Bariloche_1.pdf')"
   ]
  },
  {
   "cell_type": "markdown",
   "metadata": {},
   "source": [
    "# buenos aires"
   ]
  },
  {
   "cell_type": "code",
   "execution_count": 122,
   "metadata": {},
   "outputs": [
    {
     "name": "stdout",
     "output_type": "stream",
     "text": [
      "RiesgoBuenosAires\n",
      "RiesgoBuenosAires 2.7 0.6\n"
     ]
    },
    {
     "name": "stderr",
     "output_type": "stream",
     "text": [
      "C:\\Users\\denis\\Anaconda3\\envs\\tf-gpu\\lib\\site-packages\\ipykernel_launcher.py:34: MatplotlibDeprecationWarning: Adding an axes using the same arguments as a previous axes currently reuses the earlier instance.  In a future version, a new instance will always be created and returned.  Meanwhile, this warning can be suppressed, and the future behavior ensured, by passing a unique label to each axes instance.\n"
     ]
    },
    {
     "data": {
      "image/png": "[encoded data removed]",
      "text/plain": [
       "<Figure size 432x288 with 1 Axes>"
      ]
     },
     "metadata": {
      "needs_background": "light"
     },
     "output_type": "display_data"
    }
   ],
   "source": [
    "bs = 0.1\n",
    "print(files[3])\n",
    "file_name = files[3]\n",
    "error,r_seven = get_Error(files[3])\n",
    "b_centers,b_errors,c_obs = make_hist(file_name,error,r_seven,bs,loc=2)\n",
    "plt.savefig('Hist_BuenosAires_2.pdf')"
   ]
  },
  {
   "cell_type": "code",
   "execution_count": 123,
   "metadata": {},
   "outputs": [
    {
     "name": "stdout",
     "output_type": "stream",
     "text": [
      "R7 maximo:  1.05\n",
      "[0.55 0.65 0.75 0.85 0.95] [1.05 1.15 1.25 1.35 1.45 1.55 1.65 1.75 1.85 1.95 2.05]\n"
     ]
    },
    {
     "data": {
      "image/png": "[encoded data removed]",
      "text/plain": [
       "<Figure size 432x288 with 1 Axes>"
      ]
     },
     "metadata": {
      "needs_background": "light"
     },
     "output_type": "display_data"
    }
   ],
   "source": [
    "save_data(b_centers,b_errors,c_obs,'BuenosAires_hist_2')\n",
    "b_centers = b_centers[b_errors!=0]\n",
    "b_errors = b_errors[b_errors!=0]\n",
    "max_errors = np.argmax(b_errors)\n",
    "max_rseven = b_centers[max_errors]\n",
    "print('R7 maximo: ',max_rseven)\n",
    "#separo a un lado\n",
    "b_centers_1 = b_centers[:max_errors]\n",
    "b_errors_1 = b_errors[:max_errors]\n",
    "#separo al otro lado\n",
    "b_centers_2 = b_centers[max_errors:]\n",
    "b_errors_2 = b_errors[max_errors:]\n",
    "#imprimo a ver si esta bien\n",
    "print(b_centers_1,b_centers_2)\n",
    "#grafico\n",
    "plt.scatter(np.log(np.abs(b_centers_1-1)),np.log(b_errors_1),label='left')\n",
    "plt.scatter(np.log(np.abs(b_centers_2-1)),np.log(b_errors_2),label='right')\n",
    "plt.xlabel(r'$log|R_7 - 1|$')\n",
    "plt.ylabel(r'log|Error|')\n",
    "plt.legend()\n",
    "plt.text(-0.3,0,r'$R_7 max = $'+str(max_rseven))\n",
    "plt.savefig('BuenosAires_2.pdf')"
   ]
  },
  {
   "cell_type": "markdown",
   "metadata": {},
   "source": [
    "# CABA TOTAL"
   ]
  },
  {
   "cell_type": "code",
   "execution_count": 108,
   "metadata": {},
   "outputs": [
    {
     "name": "stdout",
     "output_type": "stream",
     "text": [
      "RiesgoCABACABANA\n",
      "RiesgoCABACABANA 3.6 0.0\n"
     ]
    },
    {
     "name": "stderr",
     "output_type": "stream",
     "text": [
      "C:\\Users\\denis\\Anaconda3\\envs\\tf-gpu\\lib\\site-packages\\ipykernel_launcher.py:34: MatplotlibDeprecationWarning: Adding an axes using the same arguments as a previous axes currently reuses the earlier instance.  In a future version, a new instance will always be created and returned.  Meanwhile, this warning can be suppressed, and the future behavior ensured, by passing a unique label to each axes instance.\n"
     ]
    },
    {
     "data": {
      "image/png": "[encoded data removed]",
      "text/plain": [
       "<Figure size 432x288 with 1 Axes>"
      ]
     },
     "metadata": {
      "needs_background": "light"
     },
     "output_type": "display_data"
    }
   ],
   "source": [
    "bs = 0.2\n",
    "print(files[4])\n",
    "file_name = files[4]\n",
    "error,r_seven = get_Error(files[4])\n",
    "b_centers,b_errors,c_obs = make_hist(file_name,error,r_seven,bs,loc=2)\n",
    "plt.savefig('Hist_CABA.pdf')"
   ]
  },
  {
   "cell_type": "code",
   "execution_count": 109,
   "metadata": {},
   "outputs": [
    {
     "name": "stdout",
     "output_type": "stream",
     "text": [
      "R7 maximo:  1.1\n",
      "[0.3 0.5 0.7 0.9] [1.1 1.3 1.5 1.7 1.9 2.1 2.3 2.5 2.7 2.9 3.1 3.5]\n"
     ]
    },
    {
     "data": {
      "image/png": "[encoded data removed]",
      "text/plain": [
       "<Figure size 432x288 with 1 Axes>"
      ]
     },
     "metadata": {
      "needs_background": "light"
     },
     "output_type": "display_data"
    }
   ],
   "source": [
    "save_data(b_centers,b_errors,c_obs,'CABA_hist')\n",
    "b_centers = b_centers[b_errors!=0]\n",
    "b_errors = b_errors[b_errors!=0]\n",
    "max_errors = np.argmax(b_errors)\n",
    "max_rseven = b_centers[max_errors]\n",
    "print('R7 maximo: ',max_rseven)\n",
    "#separo a un lado\n",
    "b_centers_1 = b_centers[:max_errors]\n",
    "b_errors_1 = b_errors[:max_errors]\n",
    "#separo al otro lado\n",
    "b_centers_2 = b_centers[max_errors:]\n",
    "b_errors_2 = b_errors[max_errors:]\n",
    "#imprimo a ver si esta bien\n",
    "print(b_centers_1,b_centers_2)\n",
    "#grafico\n",
    "plt.scatter(np.log(np.abs(b_centers_1-1)),np.log(b_errors_1),label='left')\n",
    "plt.scatter(np.log(np.abs(b_centers_2-1)),np.log(b_errors_2),label='right')\n",
    "plt.xlabel(r'$log|R_7 - 1|$')\n",
    "plt.ylabel(r'log|Error|')\n",
    "plt.legend()\n",
    "plt.text(0.4,1,r'$R_7 max = $'+str(max_rseven))\n",
    "plt.savefig('CABA_1.pdf')"
   ]
  },
  {
   "cell_type": "markdown",
   "metadata": {},
   "source": [
    "# cordoba capital"
   ]
  },
  {
   "cell_type": "code",
   "execution_count": 14,
   "metadata": {},
   "outputs": [
    {
     "name": "stdout",
     "output_type": "stream",
     "text": [
      "RiesgoCórdobaCapital\n",
      "RiesgoCórdobaCapital 3.3 0.0\n"
     ]
    },
    {
     "name": "stderr",
     "output_type": "stream",
     "text": [
      "C:\\Users\\denis\\Anaconda3\\envs\\tf-gpu\\lib\\site-packages\\ipykernel_launcher.py:32: MatplotlibDeprecationWarning: Adding an axes using the same arguments as a previous axes currently reuses the earlier instance.  In a future version, a new instance will always be created and returned.  Meanwhile, this warning can be suppressed, and the future behavior ensured, by passing a unique label to each axes instance.\n"
     ]
    },
    {
     "data": {
      "image/png": "[encoded data removed]",
      "text/plain": [
       "<Figure size 432x288 with 1 Axes>"
      ]
     },
     "metadata": {
      "needs_background": "light"
     },
     "output_type": "display_data"
    },
    {
     "data": {
      "text/plain": [
       "<Figure size 432x288 with 0 Axes>"
      ]
     },
     "metadata": {},
     "output_type": "display_data"
    }
   ],
   "source": [
    "bs = 0.2\n",
    "print(files[6])\n",
    "file_name = files[6]\n",
    "error,r_seven = get_Error(files[6])\n",
    "b_centers,b_errors,c_obs = make_hist(file_name,error,r_seven,bs,loc=2)\n",
    "plt.savefig('Riesgo_CordobaCapital.pdf')"
   ]
  },
  {
   "cell_type": "code",
   "execution_count": 15,
   "metadata": {},
   "outputs": [
    {
     "data": {
      "image/png": "[encoded data removed]",
      "text/plain": [
       "<Figure size 432x288 with 1 Axes>"
      ]
     },
     "metadata": {
      "needs_background": "light"
     },
     "output_type": "display_data"
    }
   ],
   "source": [
    "b_centers = b_centers[b_errors!=0]\n",
    "b_errors = b_errors[b_errors!=0]\n",
    "plt.scatter(np.log(b_centers),np.log(b_errors))\n",
    "plt.xlabel(r'$log(R_7 - 1)$')\n",
    "plt.ylabel(r'log(Error)')\n",
    "plt.savefig('CordobaCapital_1.pdf')"
   ]
  },
  {
   "cell_type": "markdown",
   "metadata": {},
   "source": [
    "# cordoba provincia"
   ]
  },
  {
   "cell_type": "code",
   "execution_count": 16,
   "metadata": {},
   "outputs": [
    {
     "name": "stdout",
     "output_type": "stream",
     "text": [
      "RiesgoCórdobaCórdoba\n",
      "RiesgoCórdobaCórdoba 3.6 0.0\n"
     ]
    },
    {
     "name": "stderr",
     "output_type": "stream",
     "text": [
      "C:\\Users\\denis\\Anaconda3\\envs\\tf-gpu\\lib\\site-packages\\ipykernel_launcher.py:32: MatplotlibDeprecationWarning: Adding an axes using the same arguments as a previous axes currently reuses the earlier instance.  In a future version, a new instance will always be created and returned.  Meanwhile, this warning can be suppressed, and the future behavior ensured, by passing a unique label to each axes instance.\n"
     ]
    },
    {
     "data": {
      "image/png": "[encoded data removed]",
      "text/plain": [
       "<Figure size 432x288 with 1 Axes>"
      ]
     },
     "metadata": {
      "needs_background": "light"
     },
     "output_type": "display_data"
    },
    {
     "data": {
      "text/plain": [
       "<Figure size 432x288 with 0 Axes>"
      ]
     },
     "metadata": {},
     "output_type": "display_data"
    }
   ],
   "source": [
    "bs = 0.2\n",
    "print(files[7])\n",
    "file_name = files[7]\n",
    "error,r_seven = get_Error(files[7])\n",
    "b_centers,b_errors,c_obs = make_hist(file_name,error,r_seven,bs,loc=2)\n",
    "plt.savefig('Riesgo_CordobaProv.pdf')"
   ]
  },
  {
   "cell_type": "code",
   "execution_count": 17,
   "metadata": {},
   "outputs": [
    {
     "data": {
      "image/png": "[encoded data removed]",
      "text/plain": [
       "<Figure size 432x288 with 1 Axes>"
      ]
     },
     "metadata": {
      "needs_background": "light"
     },
     "output_type": "display_data"
    }
   ],
   "source": [
    "b_centers = b_centers[b_errors!=0]\n",
    "b_errors = b_errors[b_errors!=0]\n",
    "plt.scatter(np.log(b_centers),np.log(b_errors))\n",
    "plt.xlabel(r'$log(R_7 - 1)$')\n",
    "plt.ylabel(r'log(Error)')\n",
    "plt.savefig('CordobaProv_1.pdf')"
   ]
  },
  {
   "cell_type": "markdown",
   "metadata": {},
   "source": [
    "# rio negro"
   ]
  },
  {
   "cell_type": "code",
   "execution_count": 18,
   "metadata": {},
   "outputs": [
    {
     "name": "stdout",
     "output_type": "stream",
     "text": [
      "RiesgoRioNegro\n",
      "RiesgoRioNegro 3.2 0.0\n"
     ]
    },
    {
     "name": "stderr",
     "output_type": "stream",
     "text": [
      "C:\\Users\\denis\\Anaconda3\\envs\\tf-gpu\\lib\\site-packages\\ipykernel_launcher.py:32: MatplotlibDeprecationWarning: Adding an axes using the same arguments as a previous axes currently reuses the earlier instance.  In a future version, a new instance will always be created and returned.  Meanwhile, this warning can be suppressed, and the future behavior ensured, by passing a unique label to each axes instance.\n"
     ]
    },
    {
     "data": {
      "image/png": "[encoded data removed]",
      "text/plain": [
       "<Figure size 432x288 with 1 Axes>"
      ]
     },
     "metadata": {
      "needs_background": "light"
     },
     "output_type": "display_data"
    },
    {
     "data": {
      "text/plain": [
       "<Figure size 432x288 with 0 Axes>"
      ]
     },
     "metadata": {},
     "output_type": "display_data"
    }
   ],
   "source": [
    "bs = 0.2\n",
    "print(files[9])\n",
    "file_name = files[9]\n",
    "error,r_seven = get_Error(files[9])\n",
    "b_centers,b_errors,c_obs = make_hist(file_name,error,r_seven,bs,loc=2)\n",
    "plt.savefig('Riesgo_RioNegroProv.pdf')"
   ]
  },
  {
   "cell_type": "code",
   "execution_count": 19,
   "metadata": {},
   "outputs": [
    {
     "data": {
      "image/png": "[encoded data removed]",
      "text/plain": [
       "<Figure size 432x288 with 1 Axes>"
      ]
     },
     "metadata": {
      "needs_background": "light"
     },
     "output_type": "display_data"
    }
   ],
   "source": [
    "b_centers = b_centers[b_errors!=0]\n",
    "b_errors = b_errors[b_errors!=0]\n",
    "plt.scatter(np.log(b_centers),np.log(b_errors))\n",
    "plt.xlabel(r'$log(R_7 - 1)$')\n",
    "plt.ylabel(r'log(Error)')\n",
    "plt.savefig('RioNegroProv_1.pdf')"
   ]
  },
  {
   "cell_type": "markdown",
   "metadata": {},
   "source": [
    "# rosario"
   ]
  },
  {
   "cell_type": "code",
   "execution_count": 124,
   "metadata": {},
   "outputs": [
    {
     "name": "stdout",
     "output_type": "stream",
     "text": [
      "RiesgoSantaFeRosario\n",
      "RiesgoSantaFeRosario 3.7 0.0\n"
     ]
    },
    {
     "name": "stderr",
     "output_type": "stream",
     "text": [
      "C:\\Users\\denis\\Anaconda3\\envs\\tf-gpu\\lib\\site-packages\\ipykernel_launcher.py:34: MatplotlibDeprecationWarning: Adding an axes using the same arguments as a previous axes currently reuses the earlier instance.  In a future version, a new instance will always be created and returned.  Meanwhile, this warning can be suppressed, and the future behavior ensured, by passing a unique label to each axes instance.\n"
     ]
    },
    {
     "data": {
      "image/png": "[encoded data removed]",
      "text/plain": [
       "<Figure size 432x288 with 1 Axes>"
      ]
     },
     "metadata": {
      "needs_background": "light"
     },
     "output_type": "display_data"
    }
   ],
   "source": [
    "bs = 0.2\n",
    "print(files[11])\n",
    "file_name = files[11]\n",
    "error,r_seven = get_Error(files[11])\n",
    "b_centers,b_errors,c_obs = make_hist(file_name,error,r_seven,bs,loc=2)\n",
    "plt.savefig('Hist_Rosario.pdf')"
   ]
  },
  {
   "cell_type": "code",
   "execution_count": 125,
   "metadata": {},
   "outputs": [
    {
     "name": "stdout",
     "output_type": "stream",
     "text": [
      "R7 maximo:  1.1\n",
      "[0.1 0.3 0.5 0.7 0.9] [1.1 1.3 1.5 1.7 1.9 2.1 2.3 2.5 2.7 2.9 3.1 3.5 3.7]\n"
     ]
    },
    {
     "data": {
      "image/png": "[encoded data removed]",
      "text/plain": [
       "<Figure size 432x288 with 1 Axes>"
      ]
     },
     "metadata": {
      "needs_background": "light"
     },
     "output_type": "display_data"
    }
   ],
   "source": [
    "save_data(b_centers,b_errors,c_obs,'Rosario_hist')\n",
    "b_centers = b_centers[b_errors!=0]\n",
    "b_errors = b_errors[b_errors!=0]\n",
    "max_errors = np.argmax(b_errors)\n",
    "max_rseven = b_centers[max_errors]\n",
    "print('R7 maximo: ',max_rseven)\n",
    "#separo a un lado\n",
    "b_centers_1 = b_centers[:max_errors]\n",
    "b_errors_1 = b_errors[:max_errors]\n",
    "#separo al otro lado\n",
    "b_centers_2 = b_centers[max_errors:]\n",
    "b_errors_2 = b_errors[max_errors:]\n",
    "#imprimo a ver si esta bien\n",
    "print(b_centers_1,b_centers_2)\n",
    "#grafico\n",
    "plt.scatter(np.log(np.abs(b_centers_1-1)),np.log(b_errors_1),label='left')\n",
    "plt.scatter(np.log(np.abs(b_centers_2-1)),np.log(b_errors_2),label='right')\n",
    "plt.xlabel(r'$log|R_7 - 1|$')\n",
    "plt.ylabel(r'log|Error|')\n",
    "plt.legend()\n",
    "plt.text(0.5,2,r'$R_7 max = $'+str(max_rseven))\n",
    "plt.savefig('Rosario_1.pdf')"
   ]
  },
  {
   "cell_type": "markdown",
   "metadata": {},
   "source": [
    "# santa fe "
   ]
  },
  {
   "cell_type": "code",
   "execution_count": 106,
   "metadata": {},
   "outputs": [
    {
     "name": "stdout",
     "output_type": "stream",
     "text": [
      "RiesgoSantaFeSantaFe\n",
      "RiesgoSantaFeSantaFe 4.0 0.0\n"
     ]
    },
    {
     "name": "stderr",
     "output_type": "stream",
     "text": [
      "C:\\Users\\denis\\Anaconda3\\envs\\tf-gpu\\lib\\site-packages\\ipykernel_launcher.py:34: MatplotlibDeprecationWarning: Adding an axes using the same arguments as a previous axes currently reuses the earlier instance.  In a future version, a new instance will always be created and returned.  Meanwhile, this warning can be suppressed, and the future behavior ensured, by passing a unique label to each axes instance.\n"
     ]
    },
    {
     "data": {
      "image/png": "[encoded data removed]",
      "text/plain": [
       "<Figure size 432x288 with 1 Axes>"
      ]
     },
     "metadata": {
      "needs_background": "light"
     },
     "output_type": "display_data"
    }
   ],
   "source": [
    "bs = 0.2\n",
    "print(files[12])\n",
    "file_name = files[12]\n",
    "error,r_seven = get_Error(files[12])\n",
    "b_centers,b_errors,c_obs = make_hist(file_name,error,r_seven,bs,loc=2)\n",
    "plt.savefig('Hist_StaFe.pdf')"
   ]
  },
  {
   "cell_type": "code",
   "execution_count": 104,
   "metadata": {},
   "outputs": [
    {
     "name": "stdout",
     "output_type": "stream",
     "text": [
      "R7 maximo:  1.1\n",
      "[0.3 0.5 0.7 0.9] [1.1 1.3 1.5 1.7 1.9 2.1 2.3 2.5 2.7 2.9 3.1 3.3 3.5 3.7 3.9]\n"
     ]
    },
    {
     "data": {
      "image/png": "[encoded data removed]",
      "text/plain": [
       "<Figure size 432x288 with 1 Axes>"
      ]
     },
     "metadata": {
      "needs_background": "light"
     },
     "output_type": "display_data"
    }
   ],
   "source": [
    "save_data(b_centers,b_errors,c_obs,'StaFe_hist')\n",
    "b_centers = b_centers[b_errors!=0]\n",
    "b_errors = b_errors[b_errors!=0]\n",
    "max_errors = np.argmax(b_errors)\n",
    "max_rseven = b_centers[max_errors]\n",
    "print('R7 maximo: ',max_rseven)\n",
    "#separo a un lado\n",
    "b_centers_1 = b_centers[:max_errors]\n",
    "b_errors_1 = b_errors[:max_errors]\n",
    "#separo al otro lado\n",
    "b_centers_2 = b_centers[max_errors:]\n",
    "b_errors_2 = b_errors[max_errors:]\n",
    "#imprimo a ver si esta bien\n",
    "print(b_centers_1,b_centers_2)\n",
    "#grafico\n",
    "plt.scatter(np.log(np.abs(b_centers_1-1)),np.log(b_errors_1),label='left')\n",
    "plt.scatter(np.log(np.abs(b_centers_2-1)),np.log(b_errors_2),label='right')\n",
    "plt.xlabel(r'$log|R_7 - 1|$')\n",
    "plt.ylabel(r'log|Error|')\n",
    "plt.legend()\n",
    "plt.text(0.5,2,r'$R_7 max = $'+str(max_rseven))\n",
    "plt.savefig('StaFe_1.pdf')"
   ]
  },
  {
   "cell_type": "code",
   "execution_count": null,
   "metadata": {},
   "outputs": [],
   "source": []
  },
  {
   "cell_type": "code",
   "execution_count": null,
   "metadata": {},
   "outputs": [],
   "source": []
  }
 ],
 "metadata": {
  "kernelspec": {
   "display_name": "Python 3",
   "language": "python",
   "name": "python3"
  },
  "language_info": {
   "codemirror_mode": {
    "name": "ipython",
    "version": 3
   },
   "file_extension": ".py",
   "mimetype": "text/x-python",
   "name": "python",
   "nbconvert_exporter": "python",
   "pygments_lexer": "ipython3",
   "version": "3.7.7"
  }
 },
 "nbformat": 4,
 "nbformat_minor": 4
}
