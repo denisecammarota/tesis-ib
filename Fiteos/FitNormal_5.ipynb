{
  "cells": [
    {
      "cell_type": "markdown",
      "metadata": {
        "id": "view-in-github",
        "colab_type": "text"
      },
      "source": [
        "<a href=\"https://colab.research.google.com/github/denisecammarota/tesis-ib/blob/master/Fiteos/FitNormal_5.ipynb\" target=\"_parent\"><img src=\"https://colab.research.google.com/assets/colab-badge.svg\" alt=\"Open In Colab\"/></a>"
      ]
    },
    {
      "cell_type": "code",
      "execution_count": 1,
      "metadata": {
        "id": "eheoPSQ1P5W-"
      },
      "outputs": [],
      "source": [
        "import numpy as np\n",
        "import matplotlib.pyplot as plt\n",
        "from scipy.integrate import odeint\n",
        "from scipy.optimize import curve_fit\n",
        "import pandas as pd"
      ]
    },
    {
      "cell_type": "markdown",
      "metadata": {
        "id": "dlKktAFAUYtk"
      },
      "source": [
        "# Ejemplo 1: Modelo SIR Normal"
      ]
    },
    {
      "cell_type": "code",
      "execution_count": 2,
      "metadata": {
        "id": "ah9FmTZZQEQG"
      },
      "outputs": [],
      "source": [
        "def deriv(y, t, N, beta, gamma):\n",
        "    S, I, R = y\n",
        "    dSdt = -beta * S * I / N\n",
        "    dIdt = beta * S * I / N - gamma * I\n",
        "    dRdt = gamma * I\n",
        "    return dSdt, dIdt, dRdt"
      ]
    },
    {
      "cell_type": "code",
      "execution_count": 3,
      "metadata": {
        "id": "ZdVaO2leQEHy"
      },
      "outputs": [],
      "source": [
        "def SIR_Model(t,beta,gamma):\n",
        "  N = 1000\n",
        "  # Initial number of infected and recovered individuals, I0 and R0.\n",
        "  I0, R0 = 1, 0\n",
        "  # Everyone else, S0, is susceptible to infection initially.\n",
        "  S0 = N - I0 - R0\n",
        "  #the rest that we had before\n",
        "  y0 = S0,I0,R0\n",
        "  ret = odeint(deriv, y0, t, args=(N, beta, gamma))\n",
        "  S, I, R = ret.T\n",
        "  return I"
      ]
    },
    {
      "cell_type": "code",
      "execution_count": 4,
      "metadata": {
        "id": "zapVH9lOSrWs"
      },
      "outputs": [],
      "source": [
        "# Contact rate, beta, and mean recovery rate, gamma, (in 1/days).\n",
        "beta, gamma = 0.2, 1./10 \n",
        "# A grid of time points (in days)\n",
        "t = np.linspace(0, 160, 160)\n",
        "y_data = SIR_Model(t,beta,gamma) + np.random.normal(size=t.shape)"
      ]
    },
    {
      "cell_type": "code",
      "execution_count": 5,
      "metadata": {
        "id": "ib5ipHCITCAy"
      },
      "outputs": [],
      "source": [
        "parameters, covariance = curve_fit(SIR_Model, t, y_data)"
      ]
    },
    {
      "cell_type": "code",
      "execution_count": 6,
      "metadata": {
        "colab": {
          "base_uri": "https://localhost:8080/"
        },
        "id": "XZh5Tw5HUNqn",
        "outputId": "b66caeba-a03d-4cee-d762-7d7879caddab"
      },
      "outputs": [
        {
          "output_type": "execute_result",
          "data": {
            "text/plain": [
              "array([0.20008764, 0.10006257])"
            ]
          },
          "metadata": {},
          "execution_count": 6
        }
      ],
      "source": [
        "parameters"
      ]
    },
    {
      "cell_type": "markdown",
      "metadata": {
        "id": "L7VcHrWoUb5a"
      },
      "source": [
        "# Ejemplo 2: Intento de fittear el modelo normal neutro y con 10 provincias arbitrarias"
      ]
    },
    {
      "cell_type": "code",
      "execution_count": 7,
      "metadata": {
        "id": "QkMfUnUPUf3c"
      },
      "outputs": [],
      "source": [
        "def deriv_2(y0,t,beta,gamma,a):\n",
        "  n = 10\n",
        "  X = y0[0:n]\n",
        "  Y = y0[n:2*n]\n",
        "  Z = y0[2*n:]\n",
        "  A = np.zeros(shape=(n,n))\n",
        "  for i in range(n):\n",
        "    for j in range(n):\n",
        "      A[i,j] = a\n",
        "  for i in range(n):\n",
        "    A[i,i] = 0\n",
        "    for j in range(n):\n",
        "      if i != j:\n",
        "        A[i,i] -= A[i,j]\n",
        "  N = X+Y+Z\n",
        "  aux_X = np.zeros(n)\n",
        "  aux_Y = np.zeros(n)\n",
        "  aux_Z = np.zeros(n)\n",
        "  for i in range(n):\n",
        "    aux_X_2 = 0\n",
        "    aux_Y_2 = 0\n",
        "    aux_Z_2 = 0\n",
        "    for j in range(n):\n",
        "        aux_X_2 += A[i,j]*X[j]*(N[i]/N[j])\n",
        "        aux_Y_2 += A[i,j]*Y[j]*(N[i]/N[j])\n",
        "        aux_Z_2 += A[i,j]*Z[j]*(N[i]/N[j])\n",
        "    aux_X[i] = aux_X_2\n",
        "    aux_Y[i] = aux_Y_2\n",
        "    aux_Z[i] = aux_Z_2\n",
        "  dXdt = -beta*X*Y/N + (aux_X)\n",
        "  dYdt = beta*X*Y/N - gamma*Y + (aux_Y)\n",
        "  dZdt = gamma*Y + (aux_Z)\n",
        "  return np.concatenate((dXdt,dYdt,dZdt))"
      ]
    },
    {
      "cell_type": "code",
      "execution_count": 8,
      "metadata": {
        "id": "WZvEHgNPUgJt"
      },
      "outputs": [],
      "source": [
        "def SIR_Model_2(t,beta,gamma,a):\n",
        "  n = 10\n",
        "  S = np.ones(n)*10000.0\n",
        "  R = np.zeros(n)*0.0\n",
        "  I = np.zeros(n)*0.0\n",
        "  I[0] = 100.0\n",
        "  I[1] = 20.0\n",
        "  y0 = np.concatenate((S,I,R))\n",
        "  result = odeint(deriv_2,y0, t, args=(beta,gamma,a))\n",
        "  I = result[:,n:2*n]\n",
        "  return I"
      ]
    },
    {
      "cell_type": "code",
      "execution_count": 9,
      "metadata": {
        "id": "zyKNmLEkUgG-"
      },
      "outputs": [],
      "source": [
        "a = 0.001\n",
        "I_data = SIR_Model_2(t,beta,gamma,a) "
      ]
    },
    {
      "cell_type": "code",
      "execution_count": 10,
      "metadata": {
        "colab": {
          "base_uri": "https://localhost:8080/"
        },
        "id": "Zm0-ygPY_dn-",
        "outputId": "bfbafedb-073c-4cd2-e1d5-3fb6f7425843"
      },
      "outputs": [
        {
          "output_type": "stream",
          "name": "stdout",
          "text": [
            "(160, 10)\n"
          ]
        }
      ],
      "source": [
        "print(I_data.shape)"
      ]
    },
    {
      "cell_type": "code",
      "execution_count": 11,
      "metadata": {
        "id": "b1dKEYv4ZFZ6"
      },
      "outputs": [],
      "source": [
        "#parameters, covariance = curve_fit(SIR_Model_2, t, I_data,p0=[0.1,0.01,0.0001])"
      ]
    },
    {
      "cell_type": "markdown",
      "metadata": {
        "id": "sY77p8yX708Z"
      },
      "source": [
        "## aca probamos lmfit que es distinto a ver si funciona: funciona perfecto!!"
      ]
    },
    {
      "cell_type": "code",
      "execution_count": 12,
      "metadata": {
        "id": "6cs6yw1s71Sb"
      },
      "outputs": [],
      "source": [
        "def SIR_Model_2_lm(params,t,I_real):\n",
        "  beta = params['beta']\n",
        "  gamma = params['gamma']\n",
        "  a = params['a']\n",
        "  n = 10\n",
        "  S = np.ones(n)*10000.0\n",
        "  R = np.zeros(n)*0.0\n",
        "  I = np.zeros(n)*0.0\n",
        "  I[0] = 100.0\n",
        "  I[1] = 20.0\n",
        "  y0 = np.concatenate((S,I,R))\n",
        "  result = odeint(deriv_2,y0, t, args=(beta,gamma,a))\n",
        "  I_fake = result[:,n:2*n]\n",
        "  return I_fake - I_real"
      ]
    },
    {
      "cell_type": "code",
      "execution_count": 13,
      "metadata": {
        "colab": {
          "base_uri": "https://localhost:8080/"
        },
        "id": "SUXPXhhu99HT",
        "outputId": "a94faf85-94ea-407b-ebb1-c3a65a88f2ac"
      },
      "outputs": [
        {
          "output_type": "stream",
          "name": "stdout",
          "text": [
            "Collecting lmfit\n",
            "  Downloading lmfit-1.0.3.tar.gz (292 kB)\n",
            "\u001b[?25l\r\u001b[K     |█▏                              | 10 kB 26.8 MB/s eta 0:00:01\r\u001b[K     |██▎                             | 20 kB 27.3 MB/s eta 0:00:01\r\u001b[K     |███▍                            | 30 kB 32.7 MB/s eta 0:00:01\r\u001b[K     |████▌                           | 40 kB 23.5 MB/s eta 0:00:01\r\u001b[K     |█████▋                          | 51 kB 6.3 MB/s eta 0:00:01\r\u001b[K     |██████▊                         | 61 kB 6.8 MB/s eta 0:00:01\r\u001b[K     |███████▉                        | 71 kB 6.0 MB/s eta 0:00:01\r\u001b[K     |█████████                       | 81 kB 6.7 MB/s eta 0:00:01\r\u001b[K     |██████████                      | 92 kB 7.0 MB/s eta 0:00:01\r\u001b[K     |███████████▏                    | 102 kB 5.7 MB/s eta 0:00:01\r\u001b[K     |████████████▎                   | 112 kB 5.7 MB/s eta 0:00:01\r\u001b[K     |█████████████▍                  | 122 kB 5.7 MB/s eta 0:00:01\r\u001b[K     |██████████████▋                 | 133 kB 5.7 MB/s eta 0:00:01\r\u001b[K     |███████████████▊                | 143 kB 5.7 MB/s eta 0:00:01\r\u001b[K     |████████████████▉               | 153 kB 5.7 MB/s eta 0:00:01\r\u001b[K     |██████████████████              | 163 kB 5.7 MB/s eta 0:00:01\r\u001b[K     |███████████████████             | 174 kB 5.7 MB/s eta 0:00:01\r\u001b[K     |████████████████████▏           | 184 kB 5.7 MB/s eta 0:00:01\r\u001b[K     |█████████████████████▎          | 194 kB 5.7 MB/s eta 0:00:01\r\u001b[K     |██████████████████████▍         | 204 kB 5.7 MB/s eta 0:00:01\r\u001b[K     |███████████████████████▌        | 215 kB 5.7 MB/s eta 0:00:01\r\u001b[K     |████████████████████████▋       | 225 kB 5.7 MB/s eta 0:00:01\r\u001b[K     |█████████████████████████▊      | 235 kB 5.7 MB/s eta 0:00:01\r\u001b[K     |██████████████████████████▉     | 245 kB 5.7 MB/s eta 0:00:01\r\u001b[K     |████████████████████████████    | 256 kB 5.7 MB/s eta 0:00:01\r\u001b[K     |█████████████████████████████▏  | 266 kB 5.7 MB/s eta 0:00:01\r\u001b[K     |██████████████████████████████▎ | 276 kB 5.7 MB/s eta 0:00:01\r\u001b[K     |███████████████████████████████▍| 286 kB 5.7 MB/s eta 0:00:01\r\u001b[K     |████████████████████████████████| 292 kB 5.7 MB/s \n",
            "\u001b[?25hCollecting asteval>=0.9.22\n",
            "  Downloading asteval-0.9.25.tar.gz (39 kB)\n",
            "Requirement already satisfied: numpy>=1.18 in /usr/local/lib/python3.7/dist-packages (from lmfit) (1.19.5)\n",
            "Requirement already satisfied: scipy>=1.4 in /usr/local/lib/python3.7/dist-packages (from lmfit) (1.4.1)\n",
            "Collecting uncertainties>=3.0.1\n",
            "  Downloading uncertainties-3.1.6-py2.py3-none-any.whl (98 kB)\n",
            "\u001b[K     |████████████████████████████████| 98 kB 8.0 MB/s \n",
            "\u001b[?25hRequirement already satisfied: future in /usr/local/lib/python3.7/dist-packages (from uncertainties>=3.0.1->lmfit) (0.16.0)\n",
            "Building wheels for collected packages: lmfit, asteval\n",
            "  Building wheel for lmfit (setup.py) ... \u001b[?25l\u001b[?25hdone\n",
            "  Created wheel for lmfit: filename=lmfit-1.0.3-py3-none-any.whl size=84401 sha256=6e07be1a793911ac0bd7883e69d611ce0d6e06f100c71dabc12f5e10fc961018\n",
            "  Stored in directory: /root/.cache/pip/wheels/b9/7a/d1/236aa0f8196b264fda481a112f7cfb1bfde7bfb20235f8e331\n",
            "  Building wheel for asteval (setup.py) ... \u001b[?25l\u001b[?25hdone\n",
            "  Created wheel for asteval: filename=asteval-0.9.25-py3-none-any.whl size=17301 sha256=99de73c5bdc30b5f46bc9314a816c3e81bb0a2a9a06b072cbdc43ee0ef1db6e9\n",
            "  Stored in directory: /root/.cache/pip/wheels/4a/87/53/f1385a55b3f60eabb921c5f4fd151c00fdb016b5111b8c830f\n",
            "Successfully built lmfit asteval\n",
            "Installing collected packages: uncertainties, asteval, lmfit\n",
            "Successfully installed asteval-0.9.25 lmfit-1.0.3 uncertainties-3.1.6\n"
          ]
        }
      ],
      "source": [
        "pip install lmfit"
      ]
    },
    {
      "cell_type": "code",
      "execution_count": 14,
      "metadata": {
        "id": "kJ9QfoCm8Iit"
      },
      "outputs": [],
      "source": [
        "from lmfit import Parameters,minimize, fit_report\n",
        "params = Parameters()"
      ]
    },
    {
      "cell_type": "code",
      "execution_count": 15,
      "metadata": {
        "id": "dD8XZErN-HGZ"
      },
      "outputs": [],
      "source": [
        "params.add('beta', min=0.05, max=0.2)\n",
        "params.add('gamma', min=0.05, max=0.2)\n",
        "params.add('a',min=0.001,max=0.1)"
      ]
    },
    {
      "cell_type": "code",
      "execution_count": 16,
      "metadata": {
        "id": "sC3yC2wS-HAj"
      },
      "outputs": [],
      "source": [
        "fitted_params = minimize(SIR_Model_2_lm, params, args=(t,I_data,), method='least_squares')"
      ]
    },
    {
      "cell_type": "code",
      "execution_count": 17,
      "metadata": {
        "id": "VXXppwox_LaC"
      },
      "outputs": [],
      "source": [
        "beta = fitted_params.params['beta'].value\n",
        "gamma = fitted_params.params['gamma'].value    \n",
        "a = fitted_params.params['a'].value    "
      ]
    },
    {
      "cell_type": "code",
      "execution_count": 18,
      "metadata": {
        "colab": {
          "base_uri": "https://localhost:8080/"
        },
        "id": "FDzupGzU_Uvn",
        "outputId": "3a7f721b-9fad-4348-ba98-98747ac7225a"
      },
      "outputs": [
        {
          "output_type": "stream",
          "name": "stdout",
          "text": [
            "0.19999999770197888 0.09999999880697209 0.0010000000542441149\n"
          ]
        }
      ],
      "source": [
        "print(beta,gamma,a)"
      ]
    },
    {
      "cell_type": "markdown",
      "metadata": {
        "id": "FAABdhQEvbt8"
      },
      "source": [
        "# Ejemplo 3: trato de fitear en serio los datos reales - modelo neutro (compile hoy)"
      ]
    },
    {
      "cell_type": "code",
      "execution_count": 19,
      "metadata": {
        "id": "Ja18TEfZvfXE"
      },
      "outputs": [],
      "source": [
        "datos = pd.read_csv('series_temporales.csv',sep=\",\",header=None)"
      ]
    },
    {
      "cell_type": "code",
      "execution_count": 20,
      "metadata": {
        "id": "WEREJjevzymW"
      },
      "outputs": [],
      "source": [
        "datos = datos.to_numpy()"
      ]
    },
    {
      "cell_type": "code",
      "execution_count": 21,
      "metadata": {
        "id": "pVTVX3_kz8Kf"
      },
      "outputs": [],
      "source": [
        "datos = np.delete(datos,16,0)"
      ]
    },
    {
      "cell_type": "code",
      "source": [
        "datos.shape"
      ],
      "metadata": {
        "colab": {
          "base_uri": "https://localhost:8080/"
        },
        "id": "ohuEZY3B06CH",
        "outputId": "b468443e-8bc0-4546-c780-3de3df0bc16e"
      },
      "execution_count": 22,
      "outputs": [
        {
          "output_type": "execute_result",
          "data": {
            "text/plain": [
              "(24, 297)"
            ]
          },
          "metadata": {},
          "execution_count": 22
        }
      ]
    },
    {
      "cell_type": "code",
      "source": [
        "#vamos a cortar un poco algunos datos\n",
        "datos = datos[:,:261]"
      ],
      "metadata": {
        "id": "ysZ-ebWN1H-d"
      },
      "execution_count": 23,
      "outputs": []
    },
    {
      "cell_type": "code",
      "execution_count": 24,
      "metadata": {
        "id": "oyhNiVJNBygy"
      },
      "outputs": [],
      "source": [
        "def deriv_3(y0,t,beta,gamma,a):\n",
        "  n = 24\n",
        "  X = y0[0:n]\n",
        "  Y = y0[n:2*n]\n",
        "  Z = y0[2*n:]\n",
        "  A = np.zeros(shape=(n,n))\n",
        "  for i in range(n):\n",
        "    for j in range(n):\n",
        "      A[i,j] = a\n",
        "  for i in range(n):\n",
        "    A[i,i] = 0\n",
        "    for j in range(n):\n",
        "      if i != j:\n",
        "        A[i,i] -= A[i,j]\n",
        "  N = X+Y+Z\n",
        "  aux_X = np.zeros(n)\n",
        "  aux_Y = np.zeros(n)\n",
        "  aux_Z = np.zeros(n)\n",
        "  for i in range(n):\n",
        "    aux_X_2 = 0\n",
        "    aux_Y_2 = 0\n",
        "    aux_Z_2 = 0\n",
        "    for j in range(n):\n",
        "        aux_X_2 += A[i,j]*X[j]*(N[i]/N[j])\n",
        "        aux_Y_2 += A[i,j]*Y[j]*(N[i]/N[j])\n",
        "        aux_Z_2 += A[i,j]*Z[j]*(N[i]/N[j])\n",
        "    aux_X[i] = aux_X_2\n",
        "    aux_Y[i] = aux_Y_2\n",
        "    aux_Z[i] = aux_Z_2\n",
        "  dXdt = -beta*X*Y/N + (aux_X)\n",
        "  dYdt = beta*X*Y/N - gamma*Y + (aux_Y)\n",
        "  dZdt = gamma*Y + (aux_Z)\n",
        "  return np.concatenate((dXdt,dYdt,dZdt))"
      ]
    },
    {
      "cell_type": "code",
      "execution_count": 25,
      "metadata": {
        "id": "mSgUj9Vh4UXV"
      },
      "outputs": [],
      "source": [
        "def SIR_Model_3_lm(params,t,datos_reales):\n",
        "  beta = params['beta']\n",
        "  gamma = params['gamma']\n",
        "  a = params['a']\n",
        "  n = 24\n",
        "  S = np.array([15625084,2890151,367828,1055259,509108,992595,3308876,1235994,530162,673307,318951,333642,1738929,1101593,551266,638645,1214441,681055,432310,273964,3194537,874006,127205,1448188])\n",
        "  R = np.zeros(n)*0.0\n",
        "  I = np.array([59,57,0,17,1,3,7,4,0,1,0,1,2,0,2,6,0,0,1,3,4,0,3,2]) #pop infected at day 70 by provinces\n",
        "  y0 = np.concatenate((S,I,R))\n",
        "  result = odeint(deriv_3,y0, t, args=(beta,gamma,a))\n",
        "  I_fit = result[:,n:2*n]\n",
        "  return I_fit - datos_reales"
      ]
    },
    {
      "cell_type": "code",
      "execution_count": 26,
      "metadata": {
        "id": "2eicxpZwHdL-"
      },
      "outputs": [],
      "source": [
        "def SIR_Model_3(beta,gamma,a,t):\n",
        "  n = 24\n",
        "  S = np.array([15625084,2890151,367828,1055259,509108,992595,3308876,1235994,530162,673307,318951,333642,1738929,1101593,551266,638645,1214441,681055,432310,273964,3194537,874006,127205,1448188])\n",
        "  R = np.zeros(n)*0.0\n",
        "  I = np.array([59,57,0,17,1,3,7,4,0,1,0,1,2,0,2,6,0,0,1,3,4,0,3,2]) #pop infected at day 70 by provinces\n",
        "  y0 = np.concatenate((S,I,R))\n",
        "  result = odeint(deriv_3,y0, t, args=(beta,gamma,a))\n",
        "  I_fit = result[:,n:2*n]\n",
        "  return I_fit"
      ]
    },
    {
      "cell_type": "code",
      "execution_count": 27,
      "metadata": {
        "id": "mfNsSTf98dbr"
      },
      "outputs": [],
      "source": [
        "t = np.arange(datos.shape[1])\n",
        "params = Parameters()\n",
        "params.add('beta', min=0.0, max=0.5)\n",
        "params.add('gamma', min=0.05, max=0.5)\n",
        "params.add('a',min=0.0,max=0.5)"
      ]
    },
    {
      "cell_type": "code",
      "execution_count": 28,
      "metadata": {
        "id": "iZ6-qxoA8wrW"
      },
      "outputs": [],
      "source": [
        "fitted_params = minimize(SIR_Model_3_lm, params, args=(t,datos.T,), method='least_squares')"
      ]
    },
    {
      "cell_type": "code",
      "execution_count": 29,
      "metadata": {
        "id": "b-TcRfDLClLe"
      },
      "outputs": [],
      "source": [
        "beta_fit = fitted_params.params['beta'].value\n",
        "gamma_fit = fitted_params.params['gamma'].value    \n",
        "a_fit = fitted_params.params['a'].value    "
      ]
    },
    {
      "cell_type": "code",
      "execution_count": 30,
      "metadata": {
        "colab": {
          "base_uri": "https://localhost:8080/"
        },
        "id": "lNP1QGu9Ck4D",
        "outputId": "04c2b278-1a09-4631-f580-aa0a00082c57"
      },
      "outputs": [
        {
          "output_type": "execute_result",
          "data": {
            "text/plain": [
              "1.4564203622227667"
            ]
          },
          "metadata": {},
          "execution_count": 30
        }
      ],
      "source": [
        "beta_fit/gamma_fit"
      ]
    },
    {
      "cell_type": "code",
      "execution_count": 31,
      "metadata": {
        "colab": {
          "base_uri": "https://localhost:8080/",
          "height": 486
        },
        "id": "c_NilQ2oC_W0",
        "outputId": "9d821bbb-b565-47d1-fd5a-678d801ed82a"
      },
      "outputs": [
        {
          "output_type": "execute_result",
          "data": {
            "text/html": [
              "<h2>Fit Statistics</h2><table><tr><td>fitting method</td><td>least_squares</td><td></td></tr><tr><td># function evals</td><td>30</td><td></td></tr><tr><td># data points</td><td>6264</td><td></td></tr><tr><td># variables</td><td>3</td><td></td></tr><tr><td>chi-square</td><td> 4.0675e+11</td><td></td></tr><tr><td>reduced chi-square</td><td> 64966229.6</td><td></td></tr><tr><td>Akaike info crit.</td><td> 112688.464</td><td></td></tr><tr><td>Bayesian info crit.</td><td> 112708.692</td><td></td></tr></table><h2>Variables</h2><table><tr><th> name </th><th> value </th><th> standard error </th><th> relative error </th><th> initial value </th><th> min </th><th> max </th><th> vary </th></tr><tr><td> beta </td><td>  0.08816071 </td><td>  0.03266429 </td><td> (37.05%) </td><td> 0.0 </td><td>  0.00000000 </td><td>  0.50000000 </td><td> True </td></tr><tr><td> gamma </td><td>  0.06053246 </td><td>  0.03260926 </td><td> (53.87%) </td><td> 0.05 </td><td>  0.05000000 </td><td>  0.50000000 </td><td> True </td></tr><tr><td> a </td><td>  0.05671718 </td><td>  0.09455481 </td><td> (166.71%) </td><td> 0.0 </td><td>  0.00000000 </td><td>  0.50000000 </td><td> True </td></tr></table><h2>Correlations (unreported correlations are < 0.100)</h2><table><tr><td>beta</td><td>gamma</td><td>1.0000</td></tr><tr><td>gamma</td><td>a</td><td>-0.8356</td></tr><tr><td>beta</td><td>a</td><td>-0.8311</td></tr></table>"
            ],
            "text/plain": [
              "<lmfit.minimizer.MinimizerResult at 0x7f6f9fada790>"
            ]
          },
          "metadata": {},
          "execution_count": 31
        }
      ],
      "source": [
        "fitted_params"
      ]
    },
    {
      "cell_type": "code",
      "execution_count": 32,
      "metadata": {
        "id": "erFq6k0mHHjd"
      },
      "outputs": [],
      "source": [
        "resultado = SIR_Model_3(beta_fit,gamma_fit,a_fit,t)"
      ]
    },
    {
      "cell_type": "code",
      "execution_count": 33,
      "metadata": {
        "colab": {
          "base_uri": "https://localhost:8080/",
          "height": 282
        },
        "id": "lMz_i5nlJrja",
        "outputId": "747054e9-42cf-47d1-f335-57a16a04327f"
      },
      "outputs": [
        {
          "output_type": "execute_result",
          "data": {
            "text/plain": [
              "[<matplotlib.lines.Line2D at 0x7f6f9fc0c6d0>]"
            ]
          },
          "metadata": {},
          "execution_count": 33
        },
        {
          "output_type": "display_data",
          "data": {
            "image/png": "[encoded data removed]",
            "text/plain": [
              "<Figure size 432x288 with 1 Axes>"
            ]
          },
          "metadata": {
            "needs_background": "light"
          }
        }
      ],
      "source": [
        "plt.plot(resultado[:,0])\n",
        "plt.plot(datos.T[:,0])"
      ]
    },
    {
      "cell_type": "code",
      "execution_count": 34,
      "metadata": {
        "colab": {
          "base_uri": "https://localhost:8080/"
        },
        "id": "g4e4KNDxfeTg",
        "outputId": "4da450ff-373c-48da-eb72-7f29b025f3fc"
      },
      "outputs": [
        {
          "output_type": "execute_result",
          "data": {
            "text/plain": [
              "1.4564203622227667"
            ]
          },
          "metadata": {},
          "execution_count": 34
        }
      ],
      "source": [
        "beta_fit/gamma_fit"
      ]
    },
    {
      "cell_type": "markdown",
      "metadata": {
        "id": "K95vF3If3h2B"
      },
      "source": [
        "# Ejemplo 4: trato de fitear en serio los datos reales - modelo distancias solas (compile hoy)"
      ]
    },
    {
      "cell_type": "code",
      "execution_count": 35,
      "metadata": {
        "id": "NR5Gfaza3kdc"
      },
      "outputs": [],
      "source": [
        "orden_falso = ['CABA','CB','COR','FO','BA','LR','MZ','NQ','ER','MI','CHU','CHA','SC','CA','TU','ST','SJ','SL','JU','SF','LP','SDE','TF','RN']\n",
        "orden_provs = ['BA','CABA','CA','CHA','CHU','COR','CB','ER','FO','JU','LP','LR','MZ','MI','NQ','RN','ST','SJ','SL','SC','SF','SDE','TF','TU']\n",
        "distancia = np.zeros((24,24))\n",
        "distancia[0,:] = np.array([1,715,940,1191,61,1150,1050,1158,480,1040,1455,1023,2635,1155,1203,1510,1110,790,1543,478,620,1043,3228,960])\n",
        "distancia[1,1:] = np.array([1,898,1043,757,435,670,1137,361,1213,1455,875,3635,440,590,897,500,420,930,330,600,430,3228,1194])\n",
        "distancia[2,2:] = np.array([1,191,978,993,1565,1989,590,315,2187,23,3367,845,791,803,1398,1318,883,568,1378,633,3960,2046])\n",
        "distancia[3,3:] = np.array([1,1253,1136,1710,2060,744,506,2378,168,3558,988,936,948,1543,1463,960,713,1523,776,4151,2117])\n",
        "distancia[4,4:] = np.array([1,1189,1152,1197,555,1061,1414,996,2551,1188,1309,1614,1213,894,1645,527,670,1184,3132,957])\n",
        "distancia[5,5:] = np.array([1,617,1472,796,1308,1890,970,3070,156,388,695,450,550,770,765,1035,360,3663,1629])\n",
        "distancia[6,6:] = np.array([1,855,916,1925,1620,1587,2800,773,1005,1227,167,260,1345,885,765,977,3393,1359])\n",
        "distancia[7,7:] = np.array([1,1378,2198,750,2012,1930,1588,1860,2082,1022,883,2200,1347,537,1567,2523,660])\n",
        "distancia[8,8:] = np.array([1,820,1696,576,2876,801,798,1105,861,656,1138,31,841,1638,3469,1435])\n",
        "distancia[9,9:] = np.array([1,2495,338,3675,1160,1106,1118,1758,1633,1198,883,1660,948,4268,2000])\n",
        "distancia[10,10:] = np.array([1,2210,1180,1895,2045,2352,1680,1360,2385,1665,855,1885,1773,495])\n",
        "distancia[11,11:] = np.array([1,3390,822,765,780,1420,1295,860,545,1475,610,3983,2069])\n",
        "distancia[12,12:] = np.array([1,3075,3225,3532,2860,2540,3565,2845,2035,3065,593,1675])\n",
        "distancia[13,13:] = np.array([1,232,539,606,705,572,770,1040,212,3668,1634])\n",
        "distancia[14,14:] = np.array([1,307,838,938,340,767,1190,160,3818,1784])\n",
        "distancia[15,15:] = np.array([1,1145,1245,99,1074,1497,467,4125,2091])\n",
        "distancia[16,16:] = np.array([1,320,1220,830,825,810,3435,1419])\n",
        "distancia[17,17:] = np.array([1,1320,625,505,850,3133,1099])\n",
        "distancia[18,18:] = np.array([1,1107,1530,500,4158,2124])\n",
        "distancia[19,19:] = np.array([1,810,607,3438,1404])\n",
        "distancia[20,20:] = np.array([1,1030,2628,594])\n",
        "distancia[21,21:] = np.array([1,3658,1624])\n",
        "distancia[22,22:] = np.array([1,2268])\n",
        "distancia[23,23:] = np.array([1])"
      ]
    },
    {
      "cell_type": "code",
      "execution_count": 36,
      "metadata": {
        "id": "LYRH5ubG6Ej2"
      },
      "outputs": [],
      "source": [
        "distancia_falsa = distancia + distancia.T"
      ]
    },
    {
      "cell_type": "code",
      "execution_count": 37,
      "metadata": {
        "id": "aYCoSBDi6GwO"
      },
      "outputs": [],
      "source": [
        "np.fill_diagonal(distancia_falsa,1)"
      ]
    },
    {
      "cell_type": "code",
      "execution_count": 38,
      "metadata": {
        "colab": {
          "base_uri": "https://localhost:8080/"
        },
        "id": "wX-tvM2z6IWx",
        "outputId": "7bc50a98-9a8d-4dd6-f964-71c67fa4c94e"
      },
      "outputs": [
        {
          "output_type": "execute_result",
          "data": {
            "text/plain": [
              "array([[1.000e+00, 7.150e+02, 9.400e+02, 1.191e+03, 6.100e+01, 1.150e+03,\n",
              "        1.050e+03, 1.158e+03, 4.800e+02, 1.040e+03, 1.455e+03, 1.023e+03,\n",
              "        2.635e+03, 1.155e+03, 1.203e+03, 1.510e+03, 1.110e+03, 7.900e+02,\n",
              "        1.543e+03, 4.780e+02, 6.200e+02, 1.043e+03, 3.228e+03, 9.600e+02],\n",
              "       [7.150e+02, 1.000e+00, 8.980e+02, 1.043e+03, 7.570e+02, 4.350e+02,\n",
              "        6.700e+02, 1.137e+03, 3.610e+02, 1.213e+03, 1.455e+03, 8.750e+02,\n",
              "        3.635e+03, 4.400e+02, 5.900e+02, 8.970e+02, 5.000e+02, 4.200e+02,\n",
              "        9.300e+02, 3.300e+02, 6.000e+02, 4.300e+02, 3.228e+03, 1.194e+03],\n",
              "       [9.400e+02, 8.980e+02, 1.000e+00, 1.910e+02, 9.780e+02, 9.930e+02,\n",
              "        1.565e+03, 1.989e+03, 5.900e+02, 3.150e+02, 2.187e+03, 2.300e+01,\n",
              "        3.367e+03, 8.450e+02, 7.910e+02, 8.030e+02, 1.398e+03, 1.318e+03,\n",
              "        8.830e+02, 5.680e+02, 1.378e+03, 6.330e+02, 3.960e+03, 2.046e+03],\n",
              "       [1.191e+03, 1.043e+03, 1.910e+02, 1.000e+00, 1.253e+03, 1.136e+03,\n",
              "        1.710e+03, 2.060e+03, 7.440e+02, 5.060e+02, 2.378e+03, 1.680e+02,\n",
              "        3.558e+03, 9.880e+02, 9.360e+02, 9.480e+02, 1.543e+03, 1.463e+03,\n",
              "        9.600e+02, 7.130e+02, 1.523e+03, 7.760e+02, 4.151e+03, 2.117e+03],\n",
              "       [6.100e+01, 7.570e+02, 9.780e+02, 1.253e+03, 1.000e+00, 1.189e+03,\n",
              "        1.152e+03, 1.197e+03, 5.550e+02, 1.061e+03, 1.414e+03, 9.960e+02,\n",
              "        2.551e+03, 1.188e+03, 1.309e+03, 1.614e+03, 1.213e+03, 8.940e+02,\n",
              "        1.645e+03, 5.270e+02, 6.700e+02, 1.184e+03, 3.132e+03, 9.570e+02],\n",
              "       [1.150e+03, 4.350e+02, 9.930e+02, 1.136e+03, 1.189e+03, 1.000e+00,\n",
              "        6.170e+02, 1.472e+03, 7.960e+02, 1.308e+03, 1.890e+03, 9.700e+02,\n",
              "        3.070e+03, 1.560e+02, 3.880e+02, 6.950e+02, 4.500e+02, 5.500e+02,\n",
              "        7.700e+02, 7.650e+02, 1.035e+03, 3.600e+02, 3.663e+03, 1.629e+03],\n",
              "       [1.050e+03, 6.700e+02, 1.565e+03, 1.710e+03, 1.152e+03, 6.170e+02,\n",
              "        1.000e+00, 8.550e+02, 9.160e+02, 1.925e+03, 1.620e+03, 1.587e+03,\n",
              "        2.800e+03, 7.730e+02, 1.005e+03, 1.227e+03, 1.670e+02, 2.600e+02,\n",
              "        1.345e+03, 8.850e+02, 7.650e+02, 9.770e+02, 3.393e+03, 1.359e+03],\n",
              "       [1.158e+03, 1.137e+03, 1.989e+03, 2.060e+03, 1.197e+03, 1.472e+03,\n",
              "        8.550e+02, 1.000e+00, 1.378e+03, 2.198e+03, 7.500e+02, 2.012e+03,\n",
              "        1.930e+03, 1.588e+03, 1.860e+03, 2.082e+03, 1.022e+03, 8.830e+02,\n",
              "        2.200e+03, 1.347e+03, 5.370e+02, 1.567e+03, 2.523e+03, 6.600e+02],\n",
              "       [4.800e+02, 3.610e+02, 5.900e+02, 7.440e+02, 5.550e+02, 7.960e+02,\n",
              "        9.160e+02, 1.378e+03, 1.000e+00, 8.200e+02, 1.696e+03, 5.760e+02,\n",
              "        2.876e+03, 8.010e+02, 7.980e+02, 1.105e+03, 8.610e+02, 6.560e+02,\n",
              "        1.138e+03, 3.100e+01, 8.410e+02, 1.638e+03, 3.469e+03, 1.435e+03],\n",
              "       [1.040e+03, 1.213e+03, 3.150e+02, 5.060e+02, 1.061e+03, 1.308e+03,\n",
              "        1.925e+03, 2.198e+03, 8.200e+02, 1.000e+00, 2.495e+03, 3.380e+02,\n",
              "        3.675e+03, 1.160e+03, 1.106e+03, 1.118e+03, 1.758e+03, 1.633e+03,\n",
              "        1.198e+03, 8.830e+02, 1.660e+03, 9.480e+02, 4.268e+03, 2.000e+03],\n",
              "       [1.455e+03, 1.455e+03, 2.187e+03, 2.378e+03, 1.414e+03, 1.890e+03,\n",
              "        1.620e+03, 7.500e+02, 1.696e+03, 2.495e+03, 1.000e+00, 2.210e+03,\n",
              "        1.180e+03, 1.895e+03, 2.045e+03, 2.352e+03, 1.680e+03, 1.360e+03,\n",
              "        2.385e+03, 1.665e+03, 8.550e+02, 1.885e+03, 1.773e+03, 4.950e+02],\n",
              "       [1.023e+03, 8.750e+02, 2.300e+01, 1.680e+02, 9.960e+02, 9.700e+02,\n",
              "        1.587e+03, 2.012e+03, 5.760e+02, 3.380e+02, 2.210e+03, 1.000e+00,\n",
              "        3.390e+03, 8.220e+02, 7.650e+02, 7.800e+02, 1.420e+03, 1.295e+03,\n",
              "        8.600e+02, 5.450e+02, 1.475e+03, 6.100e+02, 3.983e+03, 2.069e+03],\n",
              "       [2.635e+03, 3.635e+03, 3.367e+03, 3.558e+03, 2.551e+03, 3.070e+03,\n",
              "        2.800e+03, 1.930e+03, 2.876e+03, 3.675e+03, 1.180e+03, 3.390e+03,\n",
              "        1.000e+00, 3.075e+03, 3.225e+03, 3.532e+03, 2.860e+03, 2.540e+03,\n",
              "        3.565e+03, 2.845e+03, 2.035e+03, 3.065e+03, 5.930e+02, 1.675e+03],\n",
              "       [1.155e+03, 4.400e+02, 8.450e+02, 9.880e+02, 1.188e+03, 1.560e+02,\n",
              "        7.730e+02, 1.588e+03, 8.010e+02, 1.160e+03, 1.895e+03, 8.220e+02,\n",
              "        3.075e+03, 1.000e+00, 2.320e+02, 5.390e+02, 6.060e+02, 7.050e+02,\n",
              "        5.720e+02, 7.700e+02, 1.040e+03, 2.120e+02, 3.668e+03, 1.634e+03],\n",
              "       [1.203e+03, 5.900e+02, 7.910e+02, 9.360e+02, 1.309e+03, 3.880e+02,\n",
              "        1.005e+03, 1.860e+03, 7.980e+02, 1.106e+03, 2.045e+03, 7.650e+02,\n",
              "        3.225e+03, 2.320e+02, 1.000e+00, 3.070e+02, 8.380e+02, 9.380e+02,\n",
              "        3.400e+02, 7.670e+02, 1.190e+03, 1.600e+02, 3.818e+03, 1.784e+03],\n",
              "       [1.510e+03, 8.970e+02, 8.030e+02, 9.480e+02, 1.614e+03, 6.950e+02,\n",
              "        1.227e+03, 2.082e+03, 1.105e+03, 1.118e+03, 2.352e+03, 7.800e+02,\n",
              "        3.532e+03, 5.390e+02, 3.070e+02, 1.000e+00, 1.145e+03, 1.245e+03,\n",
              "        9.900e+01, 1.074e+03, 1.497e+03, 4.670e+02, 4.125e+03, 2.091e+03],\n",
              "       [1.110e+03, 5.000e+02, 1.398e+03, 1.543e+03, 1.213e+03, 4.500e+02,\n",
              "        1.670e+02, 1.022e+03, 8.610e+02, 1.758e+03, 1.680e+03, 1.420e+03,\n",
              "        2.860e+03, 6.060e+02, 8.380e+02, 1.145e+03, 1.000e+00, 3.200e+02,\n",
              "        1.220e+03, 8.300e+02, 8.250e+02, 8.100e+02, 3.435e+03, 1.419e+03],\n",
              "       [7.900e+02, 4.200e+02, 1.318e+03, 1.463e+03, 8.940e+02, 5.500e+02,\n",
              "        2.600e+02, 8.830e+02, 6.560e+02, 1.633e+03, 1.360e+03, 1.295e+03,\n",
              "        2.540e+03, 7.050e+02, 9.380e+02, 1.245e+03, 3.200e+02, 1.000e+00,\n",
              "        1.320e+03, 6.250e+02, 5.050e+02, 8.500e+02, 3.133e+03, 1.099e+03],\n",
              "       [1.543e+03, 9.300e+02, 8.830e+02, 9.600e+02, 1.645e+03, 7.700e+02,\n",
              "        1.345e+03, 2.200e+03, 1.138e+03, 1.198e+03, 2.385e+03, 8.600e+02,\n",
              "        3.565e+03, 5.720e+02, 3.400e+02, 9.900e+01, 1.220e+03, 1.320e+03,\n",
              "        1.000e+00, 1.107e+03, 1.530e+03, 5.000e+02, 4.158e+03, 2.124e+03],\n",
              "       [4.780e+02, 3.300e+02, 5.680e+02, 7.130e+02, 5.270e+02, 7.650e+02,\n",
              "        8.850e+02, 1.347e+03, 3.100e+01, 8.830e+02, 1.665e+03, 5.450e+02,\n",
              "        2.845e+03, 7.700e+02, 7.670e+02, 1.074e+03, 8.300e+02, 6.250e+02,\n",
              "        1.107e+03, 1.000e+00, 8.100e+02, 6.070e+02, 3.438e+03, 1.404e+03],\n",
              "       [6.200e+02, 6.000e+02, 1.378e+03, 1.523e+03, 6.700e+02, 1.035e+03,\n",
              "        7.650e+02, 5.370e+02, 8.410e+02, 1.660e+03, 8.550e+02, 1.475e+03,\n",
              "        2.035e+03, 1.040e+03, 1.190e+03, 1.497e+03, 8.250e+02, 5.050e+02,\n",
              "        1.530e+03, 8.100e+02, 1.000e+00, 1.030e+03, 2.628e+03, 5.940e+02],\n",
              "       [1.043e+03, 4.300e+02, 6.330e+02, 7.760e+02, 1.184e+03, 3.600e+02,\n",
              "        9.770e+02, 1.567e+03, 1.638e+03, 9.480e+02, 1.885e+03, 6.100e+02,\n",
              "        3.065e+03, 2.120e+02, 1.600e+02, 4.670e+02, 8.100e+02, 8.500e+02,\n",
              "        5.000e+02, 6.070e+02, 1.030e+03, 1.000e+00, 3.658e+03, 1.624e+03],\n",
              "       [3.228e+03, 3.228e+03, 3.960e+03, 4.151e+03, 3.132e+03, 3.663e+03,\n",
              "        3.393e+03, 2.523e+03, 3.469e+03, 4.268e+03, 1.773e+03, 3.983e+03,\n",
              "        5.930e+02, 3.668e+03, 3.818e+03, 4.125e+03, 3.435e+03, 3.133e+03,\n",
              "        4.158e+03, 3.438e+03, 2.628e+03, 3.658e+03, 1.000e+00, 2.268e+03],\n",
              "       [9.600e+02, 1.194e+03, 2.046e+03, 2.117e+03, 9.570e+02, 1.629e+03,\n",
              "        1.359e+03, 6.600e+02, 1.435e+03, 2.000e+03, 4.950e+02, 2.069e+03,\n",
              "        1.675e+03, 1.634e+03, 1.784e+03, 2.091e+03, 1.419e+03, 1.099e+03,\n",
              "        2.124e+03, 1.404e+03, 5.940e+02, 1.624e+03, 2.268e+03, 1.000e+00]])"
            ]
          },
          "metadata": {},
          "execution_count": 38
        }
      ],
      "source": [
        "distancia_falsa"
      ]
    },
    {
      "cell_type": "code",
      "execution_count": 39,
      "metadata": {
        "id": "qRemecf36Mqa"
      },
      "outputs": [],
      "source": [
        "#reacomodamos las matrices de distancias y distancias reales\n",
        "#tenemos orden_provs y orden_falsos\n",
        "distancia_real = np.zeros((24,24))\n",
        "for i in range(24):\n",
        "  n_p1 = orden_provs[i]\n",
        "  for j in range(24):\n",
        "    n_p2 = orden_provs[j]\n",
        "    n_p1_lista2 = orden_falso.index(n_p1)\n",
        "    n_p2_lista2 = orden_falso.index(n_p2)\n",
        "    distancia_real[i,j] = distancia_falsa[n_p1_lista2,n_p2_lista2]"
      ]
    },
    {
      "cell_type": "code",
      "execution_count": 40,
      "metadata": {
        "id": "iSw1x9G07Fxx"
      },
      "outputs": [],
      "source": [
        "def deriv_4(y0,t,beta,gamma,a):\n",
        "  n = 24\n",
        "  X = y0[0:n]\n",
        "  Y = y0[n:2*n]\n",
        "  Z = y0[2*n:]\n",
        "  A = np.zeros(shape=(n,n))\n",
        "  for i in range(n):\n",
        "    for j in range(n):\n",
        "      A[i,j] = a*(1/distancia_real[i,j])\n",
        "  for i in range(n):\n",
        "    A[i,i] = 0\n",
        "    for j in range(n):\n",
        "      if i != j:\n",
        "        A[i,i] -= A[i,j]\n",
        "  N = X+Y+Z\n",
        "  aux_X = np.zeros(n)\n",
        "  aux_Y = np.zeros(n)\n",
        "  aux_Z = np.zeros(n)\n",
        "  for i in range(n):\n",
        "    aux_X_2 = 0\n",
        "    aux_Y_2 = 0\n",
        "    aux_Z_2 = 0\n",
        "    for j in range(n):\n",
        "        aux_X_2 += A[i,j]*X[j]*(N[i]/N[j])\n",
        "        aux_Y_2 += A[i,j]*Y[j]*(N[i]/N[j])\n",
        "        aux_Z_2 += A[i,j]*Z[j]*(N[i]/N[j])\n",
        "    aux_X[i] = aux_X_2\n",
        "    aux_Y[i] = aux_Y_2\n",
        "    aux_Z[i] = aux_Z_2\n",
        "  dXdt = -beta*X*Y/N + (aux_X)\n",
        "  dYdt = beta*X*Y/N - gamma*Y + (aux_Y)\n",
        "  dZdt = gamma*Y + (aux_Z)\n",
        "  return np.concatenate((dXdt,dYdt,dZdt))"
      ]
    },
    {
      "cell_type": "code",
      "execution_count": 41,
      "metadata": {
        "id": "nTtOL2aV8NmC"
      },
      "outputs": [],
      "source": [
        "def SIR_Model_4_lm(params,t,datos_reales):\n",
        "  beta = params['beta']\n",
        "  gamma = params['gamma']\n",
        "  a = params['a']\n",
        "  n = 24\n",
        "  S = np.array([15625084,2890151,367828,1055259,509108,992595,3308876,1235994,530162,673307,318951,333642,1738929,1101593,551266,638645,1214441,681055,432310,273964,3194537,874006,127205,1448188])\n",
        "  R = np.zeros(n)*0.0\n",
        "  I = np.array([59,57,0,17,1,3,7,4,0,1,0,1,2,0,2,6,0,0,1,3,4,0,3,2]) #pop infected at day 70 by provinces\n",
        "  y0 = np.concatenate((S,I,R))\n",
        "  result = odeint(deriv_4,y0, t, args=(beta,gamma,a))\n",
        "  I_fit = result[:,n:2*n]\n",
        "  return (I_fit - datos_reales)**2"
      ]
    },
    {
      "cell_type": "code",
      "execution_count": 42,
      "metadata": {
        "id": "oQmbqSCV75hx"
      },
      "outputs": [],
      "source": [
        "def SIR_Model_4(beta,gamma,a,t):\n",
        "  n = 24\n",
        "  S = np.array([15625084,2890151,367828,1055259,509108,992595,3308876,1235994,530162,673307,318951,333642,1738929,1101593,551266,638645,1214441,681055,432310,273964,3194537,874006,127205,1448188])\n",
        "  R = np.zeros(n)*0.0\n",
        "  I = np.array([59,57,0,17,1,3,7,4,0,1,0,1,2,0,2,6,0,0,1,3,4,0,3,2]) #pop infected at day 70 by provinces\n",
        "  y0 = np.concatenate((S,I,R))\n",
        "  result = odeint(deriv_4,y0, t, args=(beta,gamma,a))\n",
        "  I_fit = result[:,n:2*n]\n",
        "  return I_fit"
      ]
    },
    {
      "cell_type": "code",
      "execution_count": 43,
      "metadata": {
        "id": "YYahDeCh8DO-"
      },
      "outputs": [],
      "source": [
        "t = np.arange(datos.shape[1])\n",
        "params = Parameters()\n",
        "params.add('beta', min=0.0, max=0.5)\n",
        "params.add('gamma', min=0.05, max=0.5)\n",
        "params.add('a',min=0.001,max=0.5)"
      ]
    },
    {
      "cell_type": "code",
      "execution_count": 44,
      "metadata": {
        "id": "HCNBBx338DO-"
      },
      "outputs": [],
      "source": [
        "fitted_params = minimize(SIR_Model_4_lm, params, args=(t,datos.T,), method='least_squares')"
      ]
    },
    {
      "cell_type": "code",
      "execution_count": 45,
      "metadata": {
        "id": "yFrLd-938DO-"
      },
      "outputs": [],
      "source": [
        "beta_fit = fitted_params.params['beta'].value\n",
        "gamma_fit = fitted_params.params['gamma'].value    \n",
        "a_fit = fitted_params.params['a'].value    "
      ]
    },
    {
      "cell_type": "code",
      "execution_count": 46,
      "metadata": {
        "colab": {
          "base_uri": "https://localhost:8080/"
        },
        "id": "JVzNNiu88DO_",
        "outputId": "3f2a2fc2-2d90-4920-9a03-488b5e3b1447"
      },
      "outputs": [
        {
          "output_type": "execute_result",
          "data": {
            "text/plain": [
              "1.1170898796362627"
            ]
          },
          "metadata": {},
          "execution_count": 46
        }
      ],
      "source": [
        "beta_fit/gamma_fit"
      ]
    },
    {
      "cell_type": "code",
      "execution_count": 47,
      "metadata": {
        "colab": {
          "base_uri": "https://localhost:8080/",
          "height": 443
        },
        "id": "v8qQVyiN8DO_",
        "outputId": "2b38ab46-3564-4ba4-b23d-043efae7c9d0"
      },
      "outputs": [
        {
          "output_type": "execute_result",
          "data": {
            "text/html": [
              "<h2>Fit Statistics</h2><table><tr><td>fitting method</td><td>least_squares</td><td></td></tr><tr><td># function evals</td><td>74</td><td></td></tr><tr><td># data points</td><td>6264</td><td></td></tr><tr><td># variables</td><td>3</td><td></td></tr><tr><td>chi-square</td><td> 5.9167e+18</td><td></td></tr><tr><td>reduced chi-square</td><td> 9.4501e+14</td><td></td></tr><tr><td>Akaike info crit.</td><td> 215999.626</td><td></td></tr><tr><td>Bayesian info crit.</td><td> 216019.853</td><td></td></tr></table><h2>Variables</h2><table><tr><th> name </th><th> value </th><th> standard error </th><th> relative error </th><th> initial value </th><th> min </th><th> max </th><th> vary </th></tr><tr><td> beta </td><td>  0.43152451 </td><td>  4.1166e-04 </td><td> (0.10%) </td><td> 0.0 </td><td>  0.00000000 </td><td>  0.50000000 </td><td> True </td></tr><tr><td> gamma </td><td>  0.38629346 </td><td>  4.0689e-04 </td><td> (0.11%) </td><td> 0.05 </td><td>  0.05000000 </td><td>  0.50000000 </td><td> True </td></tr><tr><td> a </td><td>  0.14556992 </td><td>  0.00775975 </td><td> (5.33%) </td><td> 0.001 </td><td>  1.0000e-03 </td><td>  0.50000000 </td><td> True </td></tr></table><h2>Correlations (unreported correlations are < 0.100)</h2><table><tr><td>beta</td><td>gamma</td><td>0.9954</td></tr></table>"
            ],
            "text/plain": [
              "<lmfit.minimizer.MinimizerResult at 0x7f6f9fc38850>"
            ]
          },
          "metadata": {},
          "execution_count": 47
        }
      ],
      "source": [
        "fitted_params"
      ]
    },
    {
      "cell_type": "code",
      "execution_count": 48,
      "metadata": {
        "id": "OcpVPEEo8DO_"
      },
      "outputs": [],
      "source": [
        "resultado = SIR_Model_4(beta_fit,gamma_fit,a_fit,t)"
      ]
    },
    {
      "cell_type": "code",
      "execution_count": 49,
      "metadata": {
        "colab": {
          "base_uri": "https://localhost:8080/",
          "height": 282
        },
        "id": "i7sfgQV48DO_",
        "outputId": "d5706ed2-0aa0-4bb6-dc1e-63db4e11cb32"
      },
      "outputs": [
        {
          "output_type": "execute_result",
          "data": {
            "text/plain": [
              "[<matplotlib.lines.Line2D at 0x7f6f9755e390>]"
            ]
          },
          "metadata": {},
          "execution_count": 49
        },
        {
          "output_type": "display_data",
          "data": {
            "image/png": "[encoded data removed]",
            "text/plain": [
              "<Figure size 432x288 with 1 Axes>"
            ]
          },
          "metadata": {
            "needs_background": "light"
          }
        }
      ],
      "source": [
        "plt.plot(resultado[:,0])\n",
        "plt.plot(datos.T[:,0])"
      ]
    },
    {
      "cell_type": "markdown",
      "metadata": {
        "id": "x3gmbI0HB2XT"
      },
      "source": [
        "# Ejemplo 5: trato de fitear en serio los datos reales - modelo poblaciones solas (compile hoy)"
      ]
    },
    {
      "cell_type": "code",
      "execution_count": 50,
      "metadata": {
        "id": "S_oBxraFDJSA"
      },
      "outputs": [],
      "source": [
        "population = np.array([15625084,2890151,367828,1055259,509108,992595,3308876,1235994,530162,673307,318951,333642,1738929,1101593,551266,638645,1214441,681055,432310,273964,3194537,874006,127205,1448188])\n",
        "nt = np.sum(population)"
      ]
    },
    {
      "cell_type": "code",
      "execution_count": 51,
      "metadata": {
        "id": "jWV22KHSDHAV"
      },
      "outputs": [],
      "source": [
        "def deriv_5(y0,t,beta,gamma,a):\n",
        "  n = 24\n",
        "  X = y0[0:n]\n",
        "  Y = y0[n:2*n]\n",
        "  Z = y0[2*n:]\n",
        "  A = np.zeros(shape=(n,n))\n",
        "  for i in range(n):\n",
        "    for j in range(n):\n",
        "      A[i,j] = a*((population[i]+population[j])/nt)\n",
        "  for i in range(n):\n",
        "    A[i,i] = 0\n",
        "    for j in range(n):\n",
        "      if i != j:\n",
        "        A[i,i] -= A[i,j]\n",
        "  N = X+Y+Z\n",
        "  aux_X = np.zeros(n)\n",
        "  aux_Y = np.zeros(n)\n",
        "  aux_Z = np.zeros(n)\n",
        "  for i in range(n):\n",
        "    aux_X_2 = 0\n",
        "    aux_Y_2 = 0\n",
        "    aux_Z_2 = 0\n",
        "    for j in range(n):\n",
        "        aux_X_2 += A[i,j]*X[j]*(N[i]/N[j])\n",
        "        aux_Y_2 += A[i,j]*Y[j]*(N[i]/N[j])\n",
        "        aux_Z_2 += A[i,j]*Z[j]*(N[i]/N[j])\n",
        "    aux_X[i] = aux_X_2\n",
        "    aux_Y[i] = aux_Y_2\n",
        "    aux_Z[i] = aux_Z_2\n",
        "  dXdt = -beta*X*Y/N + (aux_X)\n",
        "  dYdt = beta*X*Y/N - gamma*Y + (aux_Y)\n",
        "  dZdt = gamma*Y + (aux_Z)\n",
        "  return np.concatenate((dXdt,dYdt,dZdt))"
      ]
    },
    {
      "cell_type": "code",
      "execution_count": 52,
      "metadata": {
        "id": "b9QLt9WiDHAY"
      },
      "outputs": [],
      "source": [
        "def SIR_Model_5_lm(params,t,datos_reales):\n",
        "  beta = params['beta']\n",
        "  gamma = params['gamma']\n",
        "  a = params['a']\n",
        "  n = 24\n",
        "  S = np.array([15625084,2890151,367828,1055259,509108,992595,3308876,1235994,530162,673307,318951,333642,1738929,1101593,551266,638645,1214441,681055,432310,273964,3194537,874006,127205,1448188])\n",
        "  R = np.zeros(n)*0.0\n",
        "  I = np.array([59,57,0,17,1,3,7,4,0,1,0,1,2,0,2,6,0,0,1,3,4,0,3,2]) #pop infected at day 70 by provinces\n",
        "  y0 = np.concatenate((S,I,R))\n",
        "  result = odeint(deriv_5,y0, t, args=(beta,gamma,a))\n",
        "  I_fit = result[:,n:2*n]\n",
        "  return I_fit - datos_reales"
      ]
    },
    {
      "cell_type": "code",
      "execution_count": 53,
      "metadata": {
        "id": "kYtG6WIwDHAY"
      },
      "outputs": [],
      "source": [
        "def SIR_Model_5(beta,gamma,a,t):\n",
        "  n = 24\n",
        "  S = np.array([15625084,2890151,367828,1055259,509108,992595,3308876,1235994,530162,673307,318951,333642,1738929,1101593,551266,638645,1214441,681055,432310,273964,3194537,874006,127205,1448188])\n",
        "  R = np.zeros(n)*0.0\n",
        "  I = np.array([59,57,0,17,1,3,7,4,0,1,0,1,2,0,2,6,0,0,1,3,4,0,3,2]) #pop infected at day 70 by provinces\n",
        "  y0 = np.concatenate((S,I,R))\n",
        "  result = odeint(deriv_5,y0, t, args=(beta,gamma,a))\n",
        "  I_fit = result[:,n:2*n]\n",
        "  return I_fit"
      ]
    },
    {
      "cell_type": "code",
      "execution_count": 54,
      "metadata": {
        "id": "R36wbbj4DHAZ"
      },
      "outputs": [],
      "source": [
        "t = np.arange(datos.shape[1])\n",
        "params = Parameters()\n",
        "params.add('beta', min=0.0, max=0.5)\n",
        "params.add('gamma', min=0.05, max=0.5)\n",
        "params.add('a',min=0.0,max=0.5)"
      ]
    },
    {
      "cell_type": "code",
      "execution_count": 55,
      "metadata": {
        "id": "ELYu4a9RDHAZ"
      },
      "outputs": [],
      "source": [
        "fitted_params = minimize(SIR_Model_5_lm, params, args=(t,datos.T,), method='least_squares')"
      ]
    },
    {
      "cell_type": "code",
      "execution_count": 56,
      "metadata": {
        "id": "Bs1KKUuJDHAZ"
      },
      "outputs": [],
      "source": [
        "beta_fit = fitted_params.params['beta'].value\n",
        "gamma_fit = fitted_params.params['gamma'].value    \n",
        "a_fit = fitted_params.params['a'].value    "
      ]
    },
    {
      "cell_type": "code",
      "execution_count": 57,
      "metadata": {
        "colab": {
          "base_uri": "https://localhost:8080/"
        },
        "id": "vX4RzstlDHAZ",
        "outputId": "f9c184a9-4566-4445-90be-a0eacd8f2fc6"
      },
      "outputs": [
        {
          "output_type": "execute_result",
          "data": {
            "text/plain": [
              "1.1165302654092015"
            ]
          },
          "metadata": {},
          "execution_count": 57
        }
      ],
      "source": [
        "beta_fit/gamma_fit"
      ]
    },
    {
      "cell_type": "code",
      "execution_count": 58,
      "metadata": {
        "colab": {
          "base_uri": "https://localhost:8080/",
          "height": 443
        },
        "id": "h5bCgJC3DHAa",
        "outputId": "3bbbe86b-1c76-463d-d35b-9ea24b740034"
      },
      "outputs": [
        {
          "output_type": "execute_result",
          "data": {
            "text/html": [
              "<h2>Fit Statistics</h2><table><tr><td>fitting method</td><td>least_squares</td><td></td></tr><tr><td># function evals</td><td>63</td><td></td></tr><tr><td># data points</td><td>6264</td><td></td></tr><tr><td># variables</td><td>3</td><td></td></tr><tr><td>chi-square</td><td> 5.8385e+10</td><td></td></tr><tr><td>reduced chi-square</td><td> 9325128.86</td><td></td></tr><tr><td>Akaike info crit.</td><td> 100529.070</td><td></td></tr><tr><td>Bayesian info crit.</td><td> 100549.298</td><td></td></tr></table><h2>Variables</h2><table><tr><th> name </th><th> value </th><th> standard error </th><th> relative error </th><th> initial value </th><th> min </th><th> max </th><th> vary </th></tr><tr><td> beta </td><td>  0.44360508 </td><td>  8.5428e-04 </td><td> (0.19%) </td><td> 0.0 </td><td>  0.00000000 </td><td>  0.50000000 </td><td> True </td></tr><tr><td> gamma </td><td>  0.39730681 </td><td>  8.4274e-04 </td><td> (0.21%) </td><td> 0.05 </td><td>  0.05000000 </td><td>  0.50000000 </td><td> True </td></tr><tr><td> a </td><td>  2.4493e-04 </td><td>  2.2184e-05 </td><td> (9.06%) </td><td> 0.0 </td><td>  0.00000000 </td><td>  0.50000000 </td><td> True </td></tr></table><h2>Correlations (unreported correlations are < 0.100)</h2><table><tr><td>beta</td><td>gamma</td><td>0.9975</td></tr></table>"
            ],
            "text/plain": [
              "<lmfit.minimizer.MinimizerResult at 0x7f6f97587b10>"
            ]
          },
          "metadata": {},
          "execution_count": 58
        }
      ],
      "source": [
        "fitted_params"
      ]
    },
    {
      "cell_type": "code",
      "execution_count": 59,
      "metadata": {
        "id": "T4vLNRVKDHAb"
      },
      "outputs": [],
      "source": [
        "resultado = SIR_Model_5(beta_fit,gamma_fit,a_fit,t)"
      ]
    },
    {
      "cell_type": "code",
      "execution_count": 60,
      "metadata": {
        "colab": {
          "base_uri": "https://localhost:8080/",
          "height": 282
        },
        "id": "cj-USuO_DHAb",
        "outputId": "7258a792-cd30-4cad-9a23-703b8b2058d4"
      },
      "outputs": [
        {
          "output_type": "execute_result",
          "data": {
            "text/plain": [
              "[<matplotlib.lines.Line2D at 0x7f6f9751b950>]"
            ]
          },
          "metadata": {},
          "execution_count": 60
        },
        {
          "output_type": "display_data",
          "data": {
            "image/png": "[encoded data removed]",
            "text/plain": [
              "<Figure size 432x288 with 1 Axes>"
            ]
          },
          "metadata": {
            "needs_background": "light"
          }
        }
      ],
      "source": [
        "plt.plot(resultado[:,0])\n",
        "plt.plot(datos.T[:,0])"
      ]
    },
    {
      "cell_type": "markdown",
      "metadata": {
        "id": "vI1dBOtyWX6Y"
      },
      "source": [
        "# Ejemplo 6: trato de fitear en serio los datos reales - modelo poblaciones y distancias (compile hoy)"
      ]
    },
    {
      "cell_type": "code",
      "execution_count": 61,
      "metadata": {
        "id": "UnbJ0WHWW4--"
      },
      "outputs": [],
      "source": [
        "def deriv_6(y0,t,beta,gamma,a):\n",
        "  n = 24\n",
        "  X = y0[0:n]\n",
        "  Y = y0[n:2*n]\n",
        "  Z = y0[2*n:]\n",
        "  A = np.zeros(shape=(n,n))\n",
        "  for i in range(n):\n",
        "    for j in range(n):\n",
        "      A[i,j] = a*((population[i]+population[j])/nt)*(1/distancia_real[i,j])\n",
        "  for i in range(n):\n",
        "    A[i,i] = 0\n",
        "    for j in range(n):\n",
        "      if i != j:\n",
        "        A[i,i] -= A[i,j]\n",
        "  N = X+Y+Z\n",
        "  aux_X = np.zeros(n)\n",
        "  aux_Y = np.zeros(n)\n",
        "  aux_Z = np.zeros(n)\n",
        "  for i in range(n):\n",
        "    aux_X_2 = 0\n",
        "    aux_Y_2 = 0\n",
        "    aux_Z_2 = 0\n",
        "    for j in range(n):\n",
        "        aux_X_2 += A[i,j]*X[j]*(N[i]/N[j])\n",
        "        aux_Y_2 += A[i,j]*Y[j]*(N[i]/N[j])\n",
        "        aux_Z_2 += A[i,j]*Z[j]*(N[i]/N[j])\n",
        "    aux_X[i] = aux_X_2\n",
        "    aux_Y[i] = aux_Y_2\n",
        "    aux_Z[i] = aux_Z_2\n",
        "  dXdt = -beta*X*Y/N + (aux_X)\n",
        "  dYdt = beta*X*Y/N - gamma*Y + (aux_Y)\n",
        "  dZdt = gamma*Y + (aux_Z)\n",
        "  return np.concatenate((dXdt,dYdt,dZdt))"
      ]
    },
    {
      "cell_type": "code",
      "execution_count": 62,
      "metadata": {
        "id": "L-7z3sOkW4_A"
      },
      "outputs": [],
      "source": [
        "def SIR_Model_6_lm(params,t,datos_reales):\n",
        "  beta = params['beta']\n",
        "  gamma = params['gamma']\n",
        "  a = params['a']\n",
        "  n = 24\n",
        "  S = np.array([15625084,2890151,367828,1055259,509108,992595,3308876,1235994,530162,673307,318951,333642,1738929,1101593,551266,638645,1214441,681055,432310,273964,3194537,874006,127205,1448188])\n",
        "  R = np.zeros(n)*0.0\n",
        "  I = np.array([59,57,0,17,1,3,7,4,0,1,0,1,2,0,2,6,0,0,1,3,4,0,3,2]) #pop infected at day 70 by provinces\n",
        "  y0 = np.concatenate((S,I,R))\n",
        "  result = odeint(deriv_6,y0, t, args=(beta,gamma,a))\n",
        "  I_fit = result[:,n:2*n]\n",
        "  return I_fit - datos_reales"
      ]
    },
    {
      "cell_type": "code",
      "execution_count": 63,
      "metadata": {
        "id": "hFJhcd4FW4_A"
      },
      "outputs": [],
      "source": [
        "def SIR_Model_6(beta,gamma,a,t):\n",
        "  n = 24\n",
        "  S = np.array([15625084,2890151,367828,1055259,509108,992595,3308876,1235994,530162,673307,318951,333642,1738929,1101593,551266,638645,1214441,681055,432310,273964,3194537,874006,127205,1448188])\n",
        "  R = np.zeros(n)*0.0\n",
        "  I = np.array([59,57,0,17,1,3,7,4,0,1,0,1,2,0,2,6,0,0,1,3,4,0,3,2]) #pop infected at day 70 by provinces\n",
        "  y0 = np.concatenate((S,I,R))\n",
        "  result = odeint(deriv_6,y0, t, args=(beta,gamma,a))\n",
        "  I_fit = result[:,n:2*n]\n",
        "  return I_fit"
      ]
    },
    {
      "cell_type": "code",
      "execution_count": 64,
      "metadata": {
        "id": "44ru9A7NW4_B"
      },
      "outputs": [],
      "source": [
        "t = np.arange(datos.shape[1])\n",
        "params = Parameters()\n",
        "params.add('beta', min=0.0, max=0.5)\n",
        "params.add('gamma', min=0.05, max=0.5)\n",
        "params.add('a',min=0.0,max=1)"
      ]
    },
    {
      "cell_type": "code",
      "execution_count": 65,
      "metadata": {
        "id": "CzP9DQ_RW4_B"
      },
      "outputs": [],
      "source": [
        "fitted_params = minimize(SIR_Model_6_lm, params, args=(t,datos.T,), method='least_squares')"
      ]
    },
    {
      "cell_type": "code",
      "execution_count": 66,
      "metadata": {
        "id": "aUzGHwPxW4_B"
      },
      "outputs": [],
      "source": [
        "beta_fit = fitted_params.params['beta'].value\n",
        "gamma_fit = fitted_params.params['gamma'].value    \n",
        "a_fit = fitted_params.params['a'].value    "
      ]
    },
    {
      "cell_type": "code",
      "execution_count": 67,
      "metadata": {
        "colab": {
          "base_uri": "https://localhost:8080/"
        },
        "id": "zN86xg-wW4_B",
        "outputId": "b51f8c95-d39c-4929-8f82-d5ec315fa4ce"
      },
      "outputs": [
        {
          "output_type": "execute_result",
          "data": {
            "text/plain": [
              "1.11620637989752"
            ]
          },
          "metadata": {},
          "execution_count": 67
        }
      ],
      "source": [
        "beta_fit/gamma_fit"
      ]
    },
    {
      "cell_type": "code",
      "execution_count": 68,
      "metadata": {
        "colab": {
          "base_uri": "https://localhost:8080/",
          "height": 486
        },
        "id": "29o8oKEKW4_B",
        "outputId": "886c2f5b-d991-4152-865c-09daefe2980b"
      },
      "outputs": [
        {
          "output_type": "execute_result",
          "data": {
            "text/html": [
              "<h2>Fit Statistics</h2><table><tr><td>fitting method</td><td>least_squares</td><td></td></tr><tr><td># function evals</td><td>40</td><td></td></tr><tr><td># data points</td><td>6264</td><td></td></tr><tr><td># variables</td><td>3</td><td></td></tr><tr><td>chi-square</td><td> 4.2820e+10</td><td></td></tr><tr><td>reduced chi-square</td><td> 6839158.80</td><td></td></tr><tr><td>Akaike info crit.</td><td> 98586.9294</td><td></td></tr><tr><td>Bayesian info crit.</td><td> 98607.1571</td><td></td></tr></table><h2>Variables</h2><table><tr><th> name </th><th> value </th><th> standard error </th><th> relative error </th><th> initial value </th><th> min </th><th> max </th><th> vary </th></tr><tr><td> beta </td><td>  0.42230706 </td><td>  7.0035e-04 </td><td> (0.17%) </td><td> 0.0 </td><td>  0.00000000 </td><td>  0.50000000 </td><td> True </td></tr><tr><td> gamma </td><td>  0.37834138 </td><td>  6.9753e-04 </td><td> (0.18%) </td><td> 0.05 </td><td>  0.05000000 </td><td>  0.50000000 </td><td> True </td></tr><tr><td> a </td><td>  0.49878084 </td><td>  0.02509346 </td><td> (5.03%) </td><td> 0.0 </td><td>  0.00000000 </td><td>  1.00000000 </td><td> True </td></tr></table><h2>Correlations (unreported correlations are < 0.100)</h2><table><tr><td>beta</td><td>gamma</td><td>0.9972</td></tr><tr><td>gamma</td><td>a</td><td>0.2980</td></tr><tr><td>beta</td><td>a</td><td>0.2928</td></tr></table>"
            ],
            "text/plain": [
              "<lmfit.minimizer.MinimizerResult at 0x7f6f97465090>"
            ]
          },
          "metadata": {},
          "execution_count": 68
        }
      ],
      "source": [
        "fitted_params"
      ]
    },
    {
      "cell_type": "code",
      "execution_count": 69,
      "metadata": {
        "id": "wQ7A4BKSW4_B"
      },
      "outputs": [],
      "source": [
        "resultado = SIR_Model_5(beta_fit,gamma_fit,a_fit,t)"
      ]
    },
    {
      "cell_type": "code",
      "execution_count": 70,
      "metadata": {
        "colab": {
          "base_uri": "https://localhost:8080/",
          "height": 282
        },
        "id": "GBw9DlH1W4_B",
        "outputId": "a46a4fb8-f633-4c5a-a25a-4cd7beb632e6"
      },
      "outputs": [
        {
          "output_type": "execute_result",
          "data": {
            "text/plain": [
              "[<matplotlib.lines.Line2D at 0x7f6f9749bad0>]"
            ]
          },
          "metadata": {},
          "execution_count": 70
        },
        {
          "output_type": "display_data",
          "data": {
            "image/png": "[encoded data removed]",
            "text/plain": [
              "<Figure size 432x288 with 1 Axes>"
            ]
          },
          "metadata": {
            "needs_background": "light"
          }
        }
      ],
      "source": [
        "plt.plot(resultado[:,0])\n",
        "plt.plot(datos.T[:,0])"
      ]
    },
    {
      "cell_type": "code",
      "execution_count": 71,
      "metadata": {
        "colab": {
          "base_uri": "https://localhost:8080/"
        },
        "id": "Lb1RQz3nWXmq",
        "outputId": "c35fa4dc-1450-4583-c75a-a9e5f790b26e"
      },
      "outputs": [
        {
          "output_type": "execute_result",
          "data": {
            "text/plain": [
              "2.643115586097038"
            ]
          },
          "metadata": {},
          "execution_count": 71
        }
      ],
      "source": [
        "1/gamma_fit"
      ]
    },
    {
      "cell_type": "markdown",
      "metadata": {
        "id": "Yfg-1Ti4SK_T"
      },
      "source": [
        "# Ejemplo 7: Control sin matrices de conectividad (compile hoy)"
      ]
    },
    {
      "cell_type": "code",
      "execution_count": 72,
      "metadata": {
        "id": "pXP4b_GrUTdj"
      },
      "outputs": [],
      "source": [
        "def deriv_7(y0,t,beta,gamma):\n",
        "  n = 24\n",
        "  X = y0[0:n]\n",
        "  Y = y0[n:2*n]\n",
        "  Z = y0[2*n:]\n",
        "  N = X+Y+Z\n",
        "  dXdt = -beta*X*Y/N \n",
        "  dYdt = beta*X*Y/N - gamma*Y \n",
        "  dZdt = gamma*Y \n",
        "  return np.concatenate((dXdt,dYdt,dZdt))"
      ]
    },
    {
      "cell_type": "code",
      "execution_count": 73,
      "metadata": {
        "id": "d6lzeghYUTdl"
      },
      "outputs": [],
      "source": [
        "def SIR_Model_7_lm(params,t,datos_reales):\n",
        "  beta = params['beta']\n",
        "  gamma = params['gamma']\n",
        "  n = 24\n",
        "  S = np.array([15625084,2890151,367828,1055259,509108,992595,3308876,1235994,530162,673307,318951,333642,1738929,1101593,551266,638645,1214441,681055,432310,273964,3194537,874006,127205,1448188])\n",
        "  R = np.zeros(n)*0.0\n",
        "  I = np.array([59,57,0,17,1,3,7,4,0,1,0,1,2,0,2,6,0,0,1,3,4,0,3,2]) #pop infected at day 70 by provinces\n",
        "  y0 = np.concatenate((S,I,R))\n",
        "  result = odeint(deriv_7,y0, t, args=(beta,gamma))\n",
        "  I_fit = result[:,n:2*n]\n",
        "  return I_fit - datos_reales"
      ]
    },
    {
      "cell_type": "code",
      "execution_count": 74,
      "metadata": {
        "id": "s3XuSdn-UTdl"
      },
      "outputs": [],
      "source": [
        "def SIR_Model_7(beta,gamma,t):\n",
        "  n = 24\n",
        "  S = np.array([15625084,2890151,367828,1055259,509108,992595,3308876,1235994,530162,673307,318951,333642,1738929,1101593,551266,638645,1214441,681055,432310,273964,3194537,874006,127205,1448188])\n",
        "  R = np.zeros(n)*0.0\n",
        "  I = np.array([59,57,0,17,1,3,7,4,0,1,0,1,2,0,2,6,0,0,1,3,4,0,3,2]) #pop infected at day 70 by provinces\n",
        "  y0 = np.concatenate((S,I,R))\n",
        "  result = odeint(deriv_7,y0, t, args=(beta,gamma))\n",
        "  I_fit = result[:,n:2*n]\n",
        "  return I_fit"
      ]
    },
    {
      "cell_type": "code",
      "execution_count": 75,
      "metadata": {
        "id": "-dO0QjosUTdl"
      },
      "outputs": [],
      "source": [
        "t = np.arange(datos.shape[1])\n",
        "params = Parameters()\n",
        "params.add('beta', min=0.0, max=0.5)\n",
        "params.add('gamma', min=0.05, max=0.5)"
      ]
    },
    {
      "cell_type": "code",
      "execution_count": 76,
      "metadata": {
        "id": "_hf13c0FUTdl"
      },
      "outputs": [],
      "source": [
        "fitted_params = minimize(SIR_Model_7_lm, params, args=(t,datos.T,), method='least_squares')"
      ]
    },
    {
      "cell_type": "code",
      "execution_count": 77,
      "metadata": {
        "id": "n4ZSG2CMUTdm"
      },
      "outputs": [],
      "source": [
        "beta_fit = fitted_params.params['beta'].value\n",
        "gamma_fit = fitted_params.params['gamma'].value    "
      ]
    },
    {
      "cell_type": "code",
      "execution_count": 78,
      "metadata": {
        "colab": {
          "base_uri": "https://localhost:8080/"
        },
        "id": "qSCa1_uIUTdm",
        "outputId": "0907c4de-3c7f-4c9c-8eb5-aceaf98f66d0"
      },
      "outputs": [
        {
          "output_type": "execute_result",
          "data": {
            "text/plain": [
              "1.116624320131933"
            ]
          },
          "metadata": {},
          "execution_count": 78
        }
      ],
      "source": [
        "beta_fit/gamma_fit"
      ]
    },
    {
      "cell_type": "code",
      "execution_count": 79,
      "metadata": {
        "colab": {
          "base_uri": "https://localhost:8080/",
          "height": 422
        },
        "id": "isS5zAlPUTdm",
        "outputId": "cb0fc342-403a-4892-ff59-cd7f5d72f1bb"
      },
      "outputs": [
        {
          "output_type": "execute_result",
          "data": {
            "text/html": [
              "<h2>Fit Statistics</h2><table><tr><td>fitting method</td><td>least_squares</td><td></td></tr><tr><td># function evals</td><td>48</td><td></td></tr><tr><td># data points</td><td>6264</td><td></td></tr><tr><td># variables</td><td>2</td><td></td></tr><tr><td>chi-square</td><td> 5.8528e+10</td><td></td></tr><tr><td>reduced chi-square</td><td> 9346509.98</td><td></td></tr><tr><td>Akaike info crit.</td><td> 100542.417</td><td></td></tr><tr><td>Bayesian info crit.</td><td> 100555.902</td><td></td></tr></table><h2>Variables</h2><table><tr><th> name </th><th> value </th><th> standard error </th><th> relative error </th><th> initial value </th><th> min </th><th> max </th><th> vary </th></tr><tr><td> beta </td><td>  0.44449025 </td><td>  8.3311e-04 </td><td> (0.19%) </td><td> 0.0 </td><td>  0.00000000 </td><td>  0.50000000 </td><td> True </td></tr><tr><td> gamma </td><td>  0.39806606 </td><td>  8.2907e-04 </td><td> (0.21%) </td><td> 0.05 </td><td>  0.05000000 </td><td>  0.50000000 </td><td> True </td></tr></table><h2>Correlations (unreported correlations are < 0.100)</h2><table><tr><td>beta</td><td>gamma</td><td>0.9975</td></tr></table>"
            ],
            "text/plain": [
              "<lmfit.minimizer.MinimizerResult at 0x7f6f973de990>"
            ]
          },
          "metadata": {},
          "execution_count": 79
        }
      ],
      "source": [
        "fitted_params"
      ]
    },
    {
      "cell_type": "code",
      "execution_count": 80,
      "metadata": {
        "id": "qkpl9vwCUTdm"
      },
      "outputs": [],
      "source": [
        "resultado = SIR_Model_7(beta_fit,gamma_fit,t)"
      ]
    },
    {
      "cell_type": "code",
      "execution_count": 81,
      "metadata": {
        "colab": {
          "base_uri": "https://localhost:8080/",
          "height": 282
        },
        "id": "adVXPySdUTdm",
        "outputId": "a26b1262-7f8e-4851-b89e-21526eac7978"
      },
      "outputs": [
        {
          "output_type": "execute_result",
          "data": {
            "text/plain": [
              "[<matplotlib.lines.Line2D at 0x7f6f9740fad0>]"
            ]
          },
          "metadata": {},
          "execution_count": 81
        },
        {
          "output_type": "display_data",
          "data": {
            "image/png": "[encoded data removed]",
            "text/plain": [
              "<Figure size 432x288 with 1 Axes>"
            ]
          },
          "metadata": {
            "needs_background": "light"
          }
        }
      ],
      "source": [
        "plt.plot(resultado[:,0])\n",
        "plt.plot(datos.T[:,0])"
      ]
    },
    {
      "cell_type": "code",
      "execution_count": 82,
      "metadata": {
        "colab": {
          "base_uri": "https://localhost:8080/"
        },
        "id": "PArzdYhuUTdm",
        "outputId": "6cd3cc6b-abf2-48fc-af49-6e9f03d6f070"
      },
      "outputs": [
        {
          "output_type": "execute_result",
          "data": {
            "text/plain": [
              "2.5121458259028087"
            ]
          },
          "metadata": {},
          "execution_count": 82
        }
      ],
      "source": [
        "1/gamma_fit"
      ]
    },
    {
      "cell_type": "markdown",
      "metadata": {
        "id": "0K5cjH9z6bmR"
      },
      "source": [
        "# A partir de aca, es cambiando los beta por beta_i"
      ]
    },
    {
      "cell_type": "markdown",
      "metadata": {
        "id": "wOygZJZ_R5x8"
      },
      "source": [
        "## Ejemplo 3.2: modelo neutral - diferentes beta_i (bien compilado de antes)"
      ]
    },
    {
      "cell_type": "code",
      "execution_count": null,
      "metadata": {
        "id": "sNJaB2I8lYjv"
      },
      "outputs": [],
      "source": [
        "def deriv_3_2(y0,t,beta_1,beta_2,beta_3,beta_4,beta_5,beta_6,beta_7,beta_8,beta_9,beta_10,beta_11,beta_12,beta_13,beta_14,beta_15,beta_16,beta_17,beta_18,beta_19,beta_20,beta_21,beta_22,beta_23,beta_24,gamma,a):\n",
        "  n = 24\n",
        "  X = y0[0:n]\n",
        "  Y = y0[n:2*n]\n",
        "  Z = y0[2*n:]\n",
        "  A = np.zeros(shape=(n,n))\n",
        "  beta = np.array([beta_1,beta_2,beta_3,beta_4,beta_5,beta_6,beta_7,beta_8,beta_9,beta_10,beta_11,beta_12,beta_13,beta_14,beta_15,beta_16,beta_17,beta_18,beta_19,beta_20,beta_21,beta_22,beta_23,beta_24])\n",
        "  for i in range(n):\n",
        "    for j in range(n):\n",
        "      A[i,j] = a\n",
        "  for i in range(n):\n",
        "    A[i,i] = 0\n",
        "    for j in range(n):\n",
        "      if i != j:\n",
        "        A[i,i] -= A[i,j]\n",
        "  N = X+Y+Z\n",
        "  aux_X = np.zeros(n)\n",
        "  aux_Y = np.zeros(n)\n",
        "  aux_Z = np.zeros(n)\n",
        "  for i in range(n):\n",
        "    aux_X_2 = 0\n",
        "    aux_Y_2 = 0\n",
        "    aux_Z_2 = 0\n",
        "    for j in range(n):\n",
        "        aux_X_2 += A[i,j]*X[j]*(N[i]/N[j])\n",
        "        aux_Y_2 += A[i,j]*Y[j]*(N[i]/N[j])\n",
        "        aux_Z_2 += A[i,j]*Z[j]*(N[i]/N[j])\n",
        "    aux_X[i] = aux_X_2\n",
        "    aux_Y[i] = aux_Y_2\n",
        "    aux_Z[i] = aux_Z_2\n",
        "  dXdt = -beta*X*Y/N + (aux_X)\n",
        "  dYdt = beta*X*Y/N - gamma*Y + (aux_Y)\n",
        "  dZdt = gamma*Y + (aux_Z)\n",
        "  return np.concatenate((dXdt,dYdt,dZdt))"
      ]
    },
    {
      "cell_type": "code",
      "execution_count": null,
      "metadata": {
        "id": "--AEATemlYjw"
      },
      "outputs": [],
      "source": [
        "def SIR_Model_3_lm_2(params,t,datos_reales):\n",
        "  beta_1= params['beta_1']\n",
        "  beta_2= params['beta_2']\n",
        "  beta_3= params['beta_3']\n",
        "  beta_4= params['beta_4']\n",
        "  beta_5= params['beta_5']\n",
        "  beta_6= params['beta_6']\n",
        "  beta_7= params['beta_7']\n",
        "  beta_8= params['beta_8']\n",
        "  beta_9= params['beta_9']\n",
        "  beta_10= params['beta_10']\n",
        "  beta_11= params['beta_11']\n",
        "  beta_12= params['beta_12']\n",
        "  beta_13= params['beta_13']\n",
        "  beta_14= params['beta_14']\n",
        "  beta_15= params['beta_15']\n",
        "  beta_16= params['beta_16']\n",
        "  beta_17= params['beta_17']\n",
        "  beta_18= params['beta_18']\n",
        "  beta_19= params['beta_19']\n",
        "  beta_20= params['beta_20']\n",
        "  beta_21= params['beta_21']\n",
        "  beta_22= params['beta_22']\n",
        "  beta_23= params['beta_23']\n",
        "  beta_24= params['beta_24']\n",
        "  gamma = params['gamma']\n",
        "  a = params['a']\n",
        "  n = 24\n",
        "  S = np.array([15625084,2890151,367828,1055259,509108,992595,3308876,1235994,530162,673307,318951,333642,1738929,1101593,551266,638645,1214441,681055,432310,273964,3194537,874006,127205,1448188])\n",
        "  R = np.zeros(n)*0.0\n",
        "  I = np.array([59,57,0,17,1,3,7,4,0,1,0,1,2,0,2,6,0,0,1,3,4,0,3,2]) #pop infected at day 70 by provinces\n",
        "  y0 = np.concatenate((S,I,R))\n",
        "  result = odeint(deriv_3_2,y0, t, args=(beta_1,beta_2,beta_3,beta_4,beta_5,beta_6,beta_7,beta_8,beta_9,beta_10,beta_11,beta_12,beta_13,beta_14,beta_15,beta_16,beta_17,beta_18,beta_19,beta_20,beta_21,beta_22,beta_23,beta_24,gamma,a))\n",
        "  I_fit = result[:,n:2*n]\n",
        "  return I_fit - datos_reales"
      ]
    },
    {
      "cell_type": "code",
      "execution_count": null,
      "metadata": {
        "id": "jCyJNv-RlYjx"
      },
      "outputs": [],
      "source": [
        "def SIR_Model_3_2(beta_1,beta_2,beta_3,beta_4,beta_5,beta_6,beta_7,beta_8,beta_9,beta_10,beta_11,beta_12,beta_13,beta_14,beta_15,beta_16,beta_17,beta_18,beta_19,beta_20,beta_21,beta_22,beta_23,beta_24,gamma,a,t):\n",
        "  n = 24\n",
        "  S = np.array([15625084,2890151,367828,1055259,509108,992595,3308876,1235994,530162,673307,318951,333642,1738929,1101593,551266,638645,1214441,681055,432310,273964,3194537,874006,127205,1448188])\n",
        "  R = np.zeros(n)*0.0\n",
        "  I = np.array([59,57,0,17,1,3,7,4,0,1,0,1,2,0,2,6,0,0,1,3,4,0,3,2]) #pop infected at day 70 by provinces\n",
        "  y0 = np.concatenate((S,I,R))\n",
        "  result = odeint(deriv_3_2,y0, t, args=(beta_1,beta_2,beta_3,beta_4,beta_5,beta_6,beta_7,beta_8,beta_9,beta_10,beta_11,beta_12,beta_13,beta_14,beta_15,beta_16,beta_17,beta_18,beta_19,beta_20,beta_21,beta_22,beta_23,beta_24,gamma,a))\n",
        "  I_fit = result[:,n:2*n]\n",
        "  return I_fit"
      ]
    },
    {
      "cell_type": "code",
      "execution_count": null,
      "metadata": {
        "id": "dxQiGkkJlYjx"
      },
      "outputs": [],
      "source": [
        "t = np.arange(datos.shape[1])\n",
        "params = Parameters()\n",
        "params.add('beta_1', min=0.0, max=0.5)\n",
        "params.add('beta_2', min=0.0, max=0.5)\n",
        "params.add('beta_3', min=0.0, max=0.5)\n",
        "params.add('beta_4', min=0.0, max=0.5)\n",
        "params.add('beta_5', min=0.0, max=0.5)\n",
        "params.add('beta_6', min=0.0, max=0.5)\n",
        "params.add('beta_7', min=0.0, max=0.5)\n",
        "params.add('beta_8', min=0.0, max=0.5)\n",
        "params.add('beta_9', min=0.0, max=0.5)\n",
        "params.add('beta_10', min=0.0, max=0.5)\n",
        "params.add('beta_11', min=0.0, max=0.5)\n",
        "params.add('beta_12', min=0.0, max=0.5)\n",
        "params.add('beta_13', min=0.0, max=0.5)\n",
        "params.add('beta_14', min=0.0, max=0.5)\n",
        "params.add('beta_15', min=0.0, max=0.5)\n",
        "params.add('beta_16', min=0.0, max=0.5)\n",
        "params.add('beta_17', min=0.0, max=0.5)\n",
        "params.add('beta_18', min=0.0, max=0.5)\n",
        "params.add('beta_19', min=0.0, max=0.5)\n",
        "params.add('beta_20', min=0.0, max=0.5)\n",
        "params.add('beta_21', min=0.0, max=0.5)\n",
        "params.add('beta_22', min=0.0, max=0.5)\n",
        "params.add('beta_23', min=0.0, max=0.5)\n",
        "params.add('beta_24', min=0.0, max=0.5)\n",
        "params.add('gamma', min=0.05, max=0.5)\n",
        "params.add('a',min=0.0,max=0.5)"
      ]
    },
    {
      "cell_type": "code",
      "execution_count": null,
      "metadata": {
        "id": "IbhsjIPflYjx"
      },
      "outputs": [],
      "source": [
        "fitted_params = minimize(SIR_Model_3_lm_2, params, args=(t,datos.T,), method='least_squares')"
      ]
    },
    {
      "cell_type": "code",
      "execution_count": null,
      "metadata": {
        "id": "ocaUU-n5lYjx"
      },
      "outputs": [],
      "source": [
        "beta_1_fit = fitted_params.params['beta_1'].value\n",
        "beta_2_fit = fitted_params.params['beta_2'].value\n",
        "beta_3_fit = fitted_params.params['beta_3'].value\n",
        "beta_4_fit = fitted_params.params['beta_4'].value\n",
        "beta_5_fit = fitted_params.params['beta_5'].value\n",
        "beta_6_fit = fitted_params.params['beta_6'].value\n",
        "beta_7_fit = fitted_params.params['beta_7'].value\n",
        "beta_8_fit = fitted_params.params['beta_8'].value\n",
        "beta_9_fit = fitted_params.params['beta_9'].value\n",
        "beta_10_fit = fitted_params.params['beta_10'].value\n",
        "beta_11_fit = fitted_params.params['beta_11'].value\n",
        "beta_12_fit = fitted_params.params['beta_12'].value\n",
        "beta_13_fit = fitted_params.params['beta_13'].value\n",
        "beta_14_fit = fitted_params.params['beta_14'].value\n",
        "beta_15_fit = fitted_params.params['beta_15'].value\n",
        "beta_16_fit = fitted_params.params['beta_16'].value\n",
        "beta_17_fit = fitted_params.params['beta_17'].value\n",
        "beta_18_fit = fitted_params.params['beta_18'].value\n",
        "beta_19_fit = fitted_params.params['beta_19'].value\n",
        "beta_20_fit = fitted_params.params['beta_20'].value\n",
        "beta_21_fit = fitted_params.params['beta_21'].value\n",
        "beta_22_fit = fitted_params.params['beta_22'].value\n",
        "beta_23_fit = fitted_params.params['beta_23'].value\n",
        "beta_24_fit = fitted_params.params['beta_24'].value\n",
        "gamma_fit = fitted_params.params['gamma'].value    \n",
        "a_fit = fitted_params.params['a'].value    "
      ]
    },
    {
      "cell_type": "code",
      "execution_count": null,
      "metadata": {
        "colab": {
          "base_uri": "https://localhost:8080/"
        },
        "id": "4GihSKgBlYjy",
        "outputId": "dd3cd1e7-6ab0-4a6e-e383-af43617826b7"
      },
      "outputs": [
        {
          "output_type": "execute_result",
          "data": {
            "text/plain": [
              "3.154077847644455"
            ]
          },
          "metadata": {},
          "execution_count": 89
        }
      ],
      "source": [
        "1/gamma_fit"
      ]
    },
    {
      "cell_type": "code",
      "execution_count": null,
      "metadata": {
        "colab": {
          "base_uri": "https://localhost:8080/",
          "height": 1000
        },
        "id": "cnq6rv95lYjy",
        "outputId": "d2c94f8e-d56d-4c12-d420-c8fae259ca61"
      },
      "outputs": [
        {
          "output_type": "execute_result",
          "data": {
            "text/html": [
              "<h2>Fit Statistics</h2><table><tr><td>fitting method</td><td>least_squares</td><td></td></tr><tr><td># function evals</td><td>193</td><td></td></tr><tr><td># data points</td><td>6264</td><td></td></tr><tr><td># variables</td><td>26</td><td></td></tr><tr><td>chi-square</td><td> 3.9811e+10</td><td></td></tr><tr><td>reduced chi-square</td><td> 6381947.44</td><td></td></tr><tr><td>Akaike info crit.</td><td> 98176.4607</td><td></td></tr><tr><td>Bayesian info crit.</td><td> 98351.7677</td><td></td></tr></table><h2>Variables</h2><table><tr><th> name </th><th> value </th><th> standard error </th><th> relative error </th><th> initial value </th><th> min </th><th> max </th><th> vary </th></tr><tr><td> beta_1 </td><td>  0.35399806 </td><td>  0.00109057 </td><td> (0.31%) </td><td> 0.0 </td><td>  0.00000000 </td><td>  0.50000000 </td><td> True </td></tr><tr><td> beta_2 </td><td>  0.35958341 </td><td>  0.00111491 </td><td> (0.31%) </td><td> 0.0 </td><td>  0.00000000 </td><td>  0.50000000 </td><td> True </td></tr><tr><td> beta_3 </td><td>  0.26923283 </td><td>  0.32786089 </td><td> (121.78%) </td><td> 0.0 </td><td>  0.00000000 </td><td>  0.50000000 </td><td> True </td></tr><tr><td> beta_4 </td><td>  0.33680011 </td><td>  0.00210544 </td><td> (0.63%) </td><td> 0.0 </td><td>  0.00000000 </td><td>  0.50000000 </td><td> True </td></tr><tr><td> beta_5 </td><td>  0.34813016 </td><td>  0.00265641 </td><td> (0.76%) </td><td> 0.0 </td><td>  0.00000000 </td><td>  0.50000000 </td><td> True </td></tr><tr><td> beta_6 </td><td>  0.32065988 </td><td>  0.00668856 </td><td> (2.09%) </td><td> 0.0 </td><td>  0.00000000 </td><td>  0.50000000 </td><td> True </td></tr><tr><td> beta_7 </td><td>  0.34796094 </td><td>  0.00117398 </td><td> (0.34%) </td><td> 0.0 </td><td>  0.00000000 </td><td>  0.50000000 </td><td> True </td></tr><tr><td> beta_8 </td><td>  0.33936490 </td><td>  0.00177299 </td><td> (0.52%) </td><td> 0.0 </td><td>  0.00000000 </td><td>  0.50000000 </td><td> True </td></tr><tr><td> beta_9 </td><td>  0.05630340 </td><td>  4.55209013 </td><td> (8084.93%) </td><td> 0.0 </td><td>  0.00000000 </td><td>  0.50000000 </td><td> True </td></tr><tr><td> beta_10 </td><td>  0.34891197 </td><td>  0.00210732 </td><td> (0.60%) </td><td> 0.0 </td><td>  0.00000000 </td><td>  0.50000000 </td><td> True </td></tr><tr><td> beta_11 </td><td>  0.33377462 </td><td>  0.00801142 </td><td> (2.40%) </td><td> 0.0 </td><td>  0.00000000 </td><td>  0.50000000 </td><td> True </td></tr><tr><td> beta_12 </td><td>  0.34211175 </td><td>  0.00459138 </td><td> (1.34%) </td><td> 0.0 </td><td>  0.00000000 </td><td>  0.50000000 </td><td> True </td></tr><tr><td> beta_13 </td><td>  0.34987750 </td><td>  0.00129382 </td><td> (0.37%) </td><td> 0.0 </td><td>  0.00000000 </td><td>  0.50000000 </td><td> True </td></tr><tr><td> beta_14 </td><td>  0.15868650 </td><td>  0.84331608 </td><td> (531.44%) </td><td> 0.0 </td><td>  0.00000000 </td><td>  0.50000000 </td><td> True </td></tr><tr><td> beta_15 </td><td>  0.35126337 </td><td>  0.00234563 </td><td> (0.67%) </td><td> 0.0 </td><td>  0.00000000 </td><td>  0.50000000 </td><td> True </td></tr><tr><td> beta_16 </td><td>  0.34934410 </td><td>  0.00210508 </td><td> (0.60%) </td><td> 0.0 </td><td>  0.00000000 </td><td>  0.50000000 </td><td> True </td></tr><tr><td> beta_17 </td><td>  0.34149689 </td><td>  0.00173999 </td><td> (0.51%) </td><td> 0.0 </td><td>  0.00000000 </td><td>  0.50000000 </td><td> True </td></tr><tr><td> beta_18 </td><td>  0.33350733 </td><td>  0.00394929 </td><td> (1.18%) </td><td> 0.0 </td><td>  0.00000000 </td><td>  0.50000000 </td><td> True </td></tr><tr><td> beta_19 </td><td>  0.34408601 </td><td>  0.00341125 </td><td> (0.99%) </td><td> 0.0 </td><td>  0.00000000 </td><td>  0.50000000 </td><td> True </td></tr><tr><td> beta_20 </td><td>  0.34489992 </td><td>  0.00489420 </td><td> (1.42%) </td><td> 0.0 </td><td>  0.00000000 </td><td>  0.50000000 </td><td> True </td></tr><tr><td> beta_21 </td><td>  0.35093148 </td><td>  0.00116520 </td><td> (0.33%) </td><td> 0.0 </td><td>  0.00000000 </td><td>  0.50000000 </td><td> True </td></tr><tr><td> beta_22 </td><td>  0.33960446 </td><td>  0.00231870 </td><td> (0.68%) </td><td> 0.0 </td><td>  0.00000000 </td><td>  0.50000000 </td><td> True </td></tr><tr><td> beta_23 </td><td>  0.47234849 </td><td>  0.00306757 </td><td> (0.65%) </td><td> 0.0 </td><td>  0.00000000 </td><td>  0.50000000 </td><td> True </td></tr><tr><td> beta_24 </td><td>  0.35033180 </td><td>  0.00138676 </td><td> (0.40%) </td><td> 0.0 </td><td>  0.00000000 </td><td>  0.50000000 </td><td> True </td></tr><tr><td> gamma </td><td>  0.31704988 </td><td>  9.9590e-04 </td><td> (0.31%) </td><td> 0.05 </td><td>  0.05000000 </td><td>  0.50000000 </td><td> True </td></tr><tr><td> a </td><td>  1.0910e-04 </td><td>  5.0355e-06 </td><td> (4.62%) </td><td> 0.0 </td><td>  0.00000000 </td><td>  0.50000000 </td><td> True </td></tr></table><h2>Correlations (unreported correlations are < 0.100)</h2><table><tr><td>beta_1</td><td>gamma</td><td>0.9953</td></tr><tr><td>beta_1</td><td>beta_2</td><td>0.9555</td></tr><tr><td>beta_2</td><td>gamma</td><td>0.9552</td></tr><tr><td>beta_21</td><td>gamma</td><td>0.9437</td></tr><tr><td>beta_1</td><td>beta_21</td><td>0.9424</td></tr><tr><td>beta_7</td><td>gamma</td><td>0.9403</td></tr><tr><td>beta_1</td><td>beta_7</td><td>0.9381</td></tr><tr><td>beta_2</td><td>beta_21</td><td>0.9039</td></tr><tr><td>beta_2</td><td>beta_7</td><td>0.8993</td></tr><tr><td>beta_23</td><td>a</td><td>-0.8932</td></tr><tr><td>beta_7</td><td>beta_21</td><td>0.8886</td></tr><tr><td>beta_13</td><td>gamma</td><td>0.8305</td></tr><tr><td>beta_1</td><td>beta_13</td><td>0.8286</td></tr><tr><td>beta_2</td><td>beta_13</td><td>0.7951</td></tr><tr><td>beta_24</td><td>gamma</td><td>0.7877</td></tr><tr><td>beta_1</td><td>beta_24</td><td>0.7857</td></tr><tr><td>beta_13</td><td>beta_21</td><td>0.7849</td></tr><tr><td>beta_7</td><td>beta_13</td><td>0.7816</td></tr><tr><td>beta_2</td><td>beta_24</td><td>0.7539</td></tr><tr><td>beta_21</td><td>beta_24</td><td>0.7438</td></tr><tr><td>beta_7</td><td>beta_24</td><td>0.7404</td></tr><tr><td>beta_13</td><td>beta_24</td><td>0.6534</td></tr><tr><td>beta_17</td><td>gamma</td><td>0.6258</td></tr><tr><td>beta_1</td><td>beta_17</td><td>0.6226</td></tr><tr><td>beta_2</td><td>beta_17</td><td>0.5962</td></tr><tr><td>beta_17</td><td>beta_21</td><td>0.5897</td></tr><tr><td>beta_7</td><td>beta_17</td><td>0.5874</td></tr><tr><td>beta_8</td><td>gamma</td><td>0.5754</td></tr><tr><td>beta_1</td><td>beta_8</td><td>0.5705</td></tr><tr><td>beta_2</td><td>beta_8</td><td>0.5466</td></tr><tr><td>beta_8</td><td>beta_21</td><td>0.5406</td></tr><tr><td>beta_7</td><td>beta_8</td><td>0.5391</td></tr><tr><td>beta_13</td><td>beta_17</td><td>0.5176</td></tr><tr><td>beta_17</td><td>beta_24</td><td>0.4904</td></tr><tr><td>beta_8</td><td>beta_13</td><td>0.4754</td></tr><tr><td>beta_22</td><td>gamma</td><td>0.4635</td></tr><tr><td>beta_1</td><td>beta_22</td><td>0.4599</td></tr><tr><td>beta_4</td><td>gamma</td><td>0.4549</td></tr><tr><td>beta_8</td><td>beta_24</td><td>0.4502</td></tr><tr><td>beta_1</td><td>beta_4</td><td>0.4490</td></tr><tr><td>beta_10</td><td>gamma</td><td>0.4419</td></tr><tr><td>beta_2</td><td>beta_22</td><td>0.4406</td></tr><tr><td>beta_1</td><td>beta_10</td><td>0.4356</td></tr><tr><td>beta_21</td><td>beta_22</td><td>0.4353</td></tr><tr><td>beta_7</td><td>beta_22</td><td>0.4334</td></tr><tr><td>beta_2</td><td>beta_4</td><td>0.4304</td></tr><tr><td>beta_4</td><td>beta_21</td><td>0.4255</td></tr><tr><td>beta_4</td><td>beta_7</td><td>0.4246</td></tr><tr><td>beta_2</td><td>beta_10</td><td>0.4206</td></tr><tr><td>beta_16</td><td>gamma</td><td>0.4197</td></tr><tr><td>beta_1</td><td>beta_16</td><td>0.4132</td></tr><tr><td>beta_10</td><td>beta_21</td><td>0.4116</td></tr><tr><td>beta_7</td><td>beta_10</td><td>0.4098</td></tr><tr><td>beta_15</td><td>gamma</td><td>0.4085</td></tr><tr><td>beta_1</td><td>beta_15</td><td>0.4004</td></tr><tr><td>beta_2</td><td>beta_16</td><td>0.3989</td></tr><tr><td>beta_16</td><td>beta_21</td><td>0.3902</td></tr><tr><td>beta_2</td><td>beta_15</td><td>0.3897</td></tr><tr><td>beta_7</td><td>beta_16</td><td>0.3884</td></tr><tr><td>beta_15</td><td>beta_21</td><td>0.3820</td></tr><tr><td>beta_13</td><td>beta_22</td><td>0.3815</td></tr><tr><td>beta_7</td><td>beta_15</td><td>0.3806</td></tr><tr><td>beta_4</td><td>beta_13</td><td>0.3743</td></tr><tr><td>beta_22</td><td>beta_24</td><td>0.3616</td></tr><tr><td>beta_10</td><td>beta_13</td><td>0.3611</td></tr><tr><td>beta_8</td><td>beta_17</td><td>0.3570</td></tr><tr><td>beta_4</td><td>beta_24</td><td>0.3544</td></tr><tr><td>beta_10</td><td>beta_24</td><td>0.3429</td></tr><tr><td>beta_13</td><td>beta_16</td><td>0.3416</td></tr><tr><td>beta_13</td><td>beta_15</td><td>0.3329</td></tr><tr><td>beta_16</td><td>beta_24</td><td>0.3248</td></tr><tr><td>beta_15</td><td>beta_24</td><td>0.3169</td></tr><tr><td>beta_5</td><td>gamma</td><td>0.2979</td></tr><tr><td>beta_1</td><td>beta_5</td><td>0.2895</td></tr><tr><td>beta_17</td><td>beta_22</td><td>0.2854</td></tr><tr><td>beta_2</td><td>beta_5</td><td>0.2817</td></tr><tr><td>beta_4</td><td>beta_17</td><td>0.2809</td></tr><tr><td>beta_5</td><td>beta_21</td><td>0.2728</td></tr><tr><td>beta_5</td><td>beta_7</td><td>0.2715</td></tr><tr><td>beta_10</td><td>beta_17</td><td>0.2699</td></tr><tr><td>beta_18</td><td>gamma</td><td>0.2664</td></tr><tr><td>beta_1</td><td>beta_18</td><td>0.2626</td></tr><tr><td>beta_8</td><td>beta_22</td><td>0.2622</td></tr><tr><td>beta_16</td><td>beta_17</td><td>0.2556</td></tr><tr><td>beta_2</td><td>beta_18</td><td>0.2510</td></tr><tr><td>beta_4</td><td>beta_8</td><td>0.2510</td></tr><tr><td>beta_18</td><td>beta_21</td><td>0.2482</td></tr><tr><td>beta_15</td><td>beta_17</td><td>0.2481</td></tr><tr><td>beta_7</td><td>beta_18</td><td>0.2469</td></tr><tr><td>beta_8</td><td>beta_10</td><td>0.2403</td></tr><tr><td>beta_5</td><td>beta_13</td><td>0.2387</td></tr><tr><td>beta_8</td><td>beta_16</td><td>0.2272</td></tr><tr><td>beta_5</td><td>beta_24</td><td>0.2272</td></tr><tr><td>beta_8</td><td>beta_15</td><td>0.2266</td></tr><tr><td>beta_13</td><td>beta_18</td><td>0.2168</td></tr><tr><td>beta_2</td><td>a</td><td>0.2122</td></tr><tr><td>beta_4</td><td>beta_22</td><td>0.2059</td></tr><tr><td>beta_18</td><td>beta_24</td><td>0.2054</td></tr><tr><td>beta_9</td><td>a</td><td>-0.2047</td></tr><tr><td>beta_10</td><td>beta_22</td><td>0.1981</td></tr><tr><td>beta_16</td><td>beta_22</td><td>0.1873</td></tr><tr><td>beta_4</td><td>beta_10</td><td>0.1841</td></tr><tr><td>beta_19</td><td>gamma</td><td>0.1823</td></tr><tr><td>beta_15</td><td>beta_22</td><td>0.1811</td></tr><tr><td>beta_5</td><td>beta_17</td><td>0.1773</td></tr><tr><td>beta_4</td><td>beta_15</td><td>0.1767</td></tr><tr><td>beta_1</td><td>a</td><td>0.1738</td></tr><tr><td>beta_4</td><td>beta_16</td><td>0.1736</td></tr><tr><td>beta_10</td><td>beta_15</td><td>0.1723</td></tr><tr><td>beta_1</td><td>beta_19</td><td>0.1718</td></tr><tr><td>beta_2</td><td>beta_19</td><td>0.1698</td></tr><tr><td>beta_10</td><td>beta_16</td><td>0.1685</td></tr><tr><td>beta_3</td><td>a</td><td>-0.1673</td></tr><tr><td>beta_19</td><td>beta_21</td><td>0.1612</td></tr><tr><td>beta_17</td><td>beta_18</td><td>0.1609</td></tr><tr><td>beta_7</td><td>beta_19</td><td>0.1606</td></tr><tr><td>beta_15</td><td>beta_16</td><td>0.1602</td></tr><tr><td>beta_6</td><td>beta_20</td><td>-0.1544</td></tr><tr><td>beta_6</td><td>beta_12</td><td>-0.1535</td></tr><tr><td>beta_5</td><td>beta_8</td><td>0.1519</td></tr><tr><td>gamma</td><td>a</td><td>0.1514</td></tr><tr><td>beta_21</td><td>a</td><td>0.1494</td></tr><tr><td>beta_8</td><td>beta_18</td><td>0.1477</td></tr><tr><td>beta_13</td><td>beta_19</td><td>0.1415</td></tr><tr><td>beta_7</td><td>a</td><td>0.1385</td></tr><tr><td>beta_14</td><td>a</td><td>-0.1371</td></tr><tr><td>beta_19</td><td>beta_24</td><td>0.1349</td></tr><tr><td>beta_5</td><td>beta_22</td><td>0.1292</td></tr><tr><td>beta_13</td><td>a</td><td>0.1262</td></tr><tr><td>beta_6</td><td>beta_19</td><td>-0.1208</td></tr><tr><td>beta_24</td><td>a</td><td>0.1197</td></tr><tr><td>beta_18</td><td>beta_22</td><td>0.1168</td></tr><tr><td>beta_4</td><td>beta_18</td><td>0.1153</td></tr><tr><td>beta_11</td><td>gamma</td><td>0.1138</td></tr><tr><td>beta_4</td><td>beta_5</td><td>0.1121</td></tr><tr><td>beta_5</td><td>beta_15</td><td>0.1112</td></tr><tr><td>beta_10</td><td>beta_18</td><td>0.1105</td></tr><tr><td>beta_5</td><td>beta_10</td><td>0.1101</td></tr><tr><td>beta_1</td><td>beta_11</td><td>0.1072</td></tr><tr><td>beta_2</td><td>beta_11</td><td>0.1049</td></tr><tr><td>beta_1</td><td>beta_6</td><td>-0.1049</td></tr><tr><td>beta_16</td><td>beta_18</td><td>0.1041</td></tr><tr><td>beta_17</td><td>beta_19</td><td>0.1035</td></tr><tr><td>beta_5</td><td>beta_16</td><td>0.1027</td></tr><tr><td>beta_5</td><td>beta_6</td><td>-0.1027</td></tr></table>"
            ],
            "text/plain": [
              "<lmfit.minimizer.MinimizerResult at 0x7f347c12f0d0>"
            ]
          },
          "metadata": {},
          "execution_count": 90
        }
      ],
      "source": [
        "fitted_params"
      ]
    },
    {
      "cell_type": "code",
      "execution_count": null,
      "metadata": {
        "id": "7elwqBy_lYjy"
      },
      "outputs": [],
      "source": [
        "resultado = SIR_Model_3_2(beta_1_fit,beta_2_fit,beta_3_fit,beta_4_fit,beta_5_fit,beta_6_fit,beta_7_fit,beta_8_fit,beta_9_fit,beta_10_fit,beta_11_fit,beta_12_fit,beta_13_fit,beta_14_fit,beta_15_fit,beta_16_fit,beta_17_fit,beta_18_fit,beta_19_fit,beta_20_fit,beta_21_fit,beta_22_fit,beta_23_fit,beta_24_fit,gamma_fit,a_fit,t)"
      ]
    },
    {
      "cell_type": "code",
      "execution_count": null,
      "metadata": {
        "colab": {
          "base_uri": "https://localhost:8080/",
          "height": 284
        },
        "id": "08iaTSZrlYjy",
        "outputId": "e3e47a39-8776-40bb-9ab7-e8451e17de57"
      },
      "outputs": [
        {
          "output_type": "execute_result",
          "data": {
            "text/plain": [
              "[<matplotlib.lines.Line2D at 0x7f347c013c90>]"
            ]
          },
          "metadata": {},
          "execution_count": 92
        },
        {
          "output_type": "display_data",
          "data": {
            "image/png": "[encoded data removed]",
            "text/plain": [
              "<Figure size 432x288 with 1 Axes>"
            ]
          },
          "metadata": {
            "needs_background": "light"
          }
        }
      ],
      "source": [
        "plt.plot(resultado[:,0])\n",
        "plt.plot(datos.T[:,0])"
      ]
    },
    {
      "cell_type": "markdown",
      "metadata": {
        "id": "nb5VErXoR_hw"
      },
      "source": [
        "## Ejemplo 4.2: distancias solas - diferentes beta_i (compile hoy)"
      ]
    },
    {
      "cell_type": "code",
      "execution_count": null,
      "metadata": {
        "id": "kFVcSh2-T0mU"
      },
      "outputs": [],
      "source": [
        "def deriv_4_2(y0,t,beta_1,beta_2,beta_3,beta_4,beta_5,beta_6,beta_7,beta_8,beta_9,beta_10,beta_11,beta_12,beta_13,beta_14,beta_15,beta_16,beta_17,beta_18,beta_19,beta_20,beta_21,beta_22,beta_23,beta_24,gamma,a):\n",
        "  n = 24\n",
        "  X = y0[0:n]\n",
        "  Y = y0[n:2*n]\n",
        "  Z = y0[2*n:]\n",
        "  A = np.zeros(shape=(n,n))\n",
        "  beta = np.array([beta_1,beta_2,beta_3,beta_4,beta_5,beta_6,beta_7,beta_8,beta_9,beta_10,beta_11,beta_12,beta_13,beta_14,beta_15,beta_16,beta_17,beta_18,beta_19,beta_20,beta_21,beta_22,beta_23,beta_24])\n",
        "  for i in range(n):\n",
        "    for j in range(n):\n",
        "      A[i,j] =  a*(1/distancia_real[i,j])\n",
        "  for i in range(n):\n",
        "    A[i,i] = 0\n",
        "    for j in range(n):\n",
        "      if i != j:\n",
        "        A[i,i] -= A[i,j]\n",
        "  N = X+Y+Z\n",
        "  aux_X = np.zeros(n)\n",
        "  aux_Y = np.zeros(n)\n",
        "  aux_Z = np.zeros(n)\n",
        "  for i in range(n):\n",
        "    aux_X_2 = 0\n",
        "    aux_Y_2 = 0\n",
        "    aux_Z_2 = 0\n",
        "    for j in range(n):\n",
        "        aux_X_2 += A[i,j]*X[j]*(N[i]/N[j])\n",
        "        aux_Y_2 += A[i,j]*Y[j]*(N[i]/N[j])\n",
        "        aux_Z_2 += A[i,j]*Z[j]*(N[i]/N[j])\n",
        "    aux_X[i] = aux_X_2\n",
        "    aux_Y[i] = aux_Y_2\n",
        "    aux_Z[i] = aux_Z_2\n",
        "  dXdt = -beta*X*Y/N + (aux_X)\n",
        "  dYdt = beta*X*Y/N - gamma*Y + (aux_Y)\n",
        "  dZdt = gamma*Y + (aux_Z)\n",
        "  return np.concatenate((dXdt,dYdt,dZdt))"
      ]
    },
    {
      "cell_type": "code",
      "execution_count": null,
      "metadata": {
        "id": "q2xJ32fcT0mV"
      },
      "outputs": [],
      "source": [
        "def SIR_Model_4_lm_2(params,t,datos_reales):\n",
        "  beta_1= params['beta_1']\n",
        "  beta_2= params['beta_2']\n",
        "  beta_3= params['beta_3']\n",
        "  beta_4= params['beta_4']\n",
        "  beta_5= params['beta_5']\n",
        "  beta_6= params['beta_6']\n",
        "  beta_7= params['beta_7']\n",
        "  beta_8= params['beta_8']\n",
        "  beta_9= params['beta_9']\n",
        "  beta_10= params['beta_10']\n",
        "  beta_11= params['beta_11']\n",
        "  beta_12= params['beta_12']\n",
        "  beta_13= params['beta_13']\n",
        "  beta_14= params['beta_14']\n",
        "  beta_15= params['beta_15']\n",
        "  beta_16= params['beta_16']\n",
        "  beta_17= params['beta_17']\n",
        "  beta_18= params['beta_18']\n",
        "  beta_19= params['beta_19']\n",
        "  beta_20= params['beta_20']\n",
        "  beta_21= params['beta_21']\n",
        "  beta_22= params['beta_22']\n",
        "  beta_23= params['beta_23']\n",
        "  beta_24= params['beta_24']\n",
        "  gamma = params['gamma']\n",
        "  a = params['a']\n",
        "  n = 24\n",
        "  S = np.array([15625084,2890151,367828,1055259,509108,992595,3308876,1235994,530162,673307,318951,333642,1738929,1101593,551266,638645,1214441,681055,432310,273964,3194537,874006,127205,1448188])\n",
        "  R = np.zeros(n)*0.0\n",
        "  I = np.array([59,57,0,17,1,3,7,4,0,1,0,1,2,0,2,6,0,0,1,3,4,0,3,2]) #pop infected at day 70 by provinces\n",
        "  y0 = np.concatenate((S,I,R))\n",
        "  result = odeint(deriv_4_2,y0, t, args=(beta_1,beta_2,beta_3,beta_4,beta_5,beta_6,beta_7,beta_8,beta_9,beta_10,beta_11,beta_12,beta_13,beta_14,beta_15,beta_16,beta_17,beta_18,beta_19,beta_20,beta_21,beta_22,beta_23,beta_24,gamma,a))\n",
        "  I_fit = result[:,n:2*n]\n",
        "  return I_fit - datos_reales"
      ]
    },
    {
      "cell_type": "code",
      "execution_count": null,
      "metadata": {
        "id": "gQqDxyI0T0mV"
      },
      "outputs": [],
      "source": [
        "def SIR_Model_4_2(beta_1,beta_2,beta_3,beta_4,beta_5,beta_6,beta_7,beta_8,beta_9,beta_10,beta_11,beta_12,beta_13,beta_14,beta_15,beta_16,beta_17,beta_18,beta_19,beta_20,beta_21,beta_22,beta_23,beta_24,gamma,a,t):\n",
        "  n = 24\n",
        "  S = np.array([15625084,2890151,367828,1055259,509108,992595,3308876,1235994,530162,673307,318951,333642,1738929,1101593,551266,638645,1214441,681055,432310,273964,3194537,874006,127205,1448188])\n",
        "  R = np.zeros(n)*0.0\n",
        "  I = np.array([59,57,0,17,1,3,7,4,0,1,0,1,2,0,2,6,0,0,1,3,4,0,3,2]) #pop infected at day 70 by provinces\n",
        "  y0 = np.concatenate((S,I,R))\n",
        "  result = odeint(deriv_4_2,y0, t, args=(beta_1,beta_2,beta_3,beta_4,beta_5,beta_6,beta_7,beta_8,beta_9,beta_10,beta_11,beta_12,beta_13,beta_14,beta_15,beta_16,beta_17,beta_18,beta_19,beta_20,beta_21,beta_22,beta_23,beta_24,gamma,a))\n",
        "  I_fit = result[:,n:2*n]\n",
        "  return I_fit"
      ]
    },
    {
      "cell_type": "code",
      "execution_count": null,
      "metadata": {
        "id": "ZWIvUVBzT0mW"
      },
      "outputs": [],
      "source": [
        "t = np.arange(datos.shape[1])\n",
        "params = Parameters()\n",
        "params.add('beta_1', min=0.0, max=0.5)\n",
        "params.add('beta_2', min=0.0, max=0.5)\n",
        "params.add('beta_3', min=0.0, max=0.5)\n",
        "params.add('beta_4', min=0.0, max=0.5)\n",
        "params.add('beta_5', min=0.0, max=0.5)\n",
        "params.add('beta_6', min=0.0, max=0.5)\n",
        "params.add('beta_7', min=0.0, max=0.5)\n",
        "params.add('beta_8', min=0.0, max=0.5)\n",
        "params.add('beta_9', min=0.0, max=0.5)\n",
        "params.add('beta_10', min=0.0, max=0.5)\n",
        "params.add('beta_11', min=0.0, max=0.5)\n",
        "params.add('beta_12', min=0.0, max=0.5)\n",
        "params.add('beta_13', min=0.0, max=0.5)\n",
        "params.add('beta_14', min=0.0, max=0.5)\n",
        "params.add('beta_15', min=0.0, max=0.5)\n",
        "params.add('beta_16', min=0.0, max=0.5)\n",
        "params.add('beta_17', min=0.0, max=0.5)\n",
        "params.add('beta_18', min=0.0, max=0.5)\n",
        "params.add('beta_19', min=0.0, max=0.5)\n",
        "params.add('beta_20', min=0.0, max=0.5)\n",
        "params.add('beta_21', min=0.0, max=0.5)\n",
        "params.add('beta_22', min=0.0, max=0.5)\n",
        "params.add('beta_23', min=0.0, max=0.5)\n",
        "params.add('beta_24', min=0.0, max=0.5)\n",
        "params.add('gamma', min=0.05, max=0.5)\n",
        "params.add('a',min=0.0,max=0.5)"
      ]
    },
    {
      "cell_type": "code",
      "execution_count": null,
      "metadata": {
        "id": "XA2HmvOMT0mW"
      },
      "outputs": [],
      "source": [
        "fitted_params = minimize(SIR_Model_4_lm_2, params, args=(t,datos.T,), method='least_squares')"
      ]
    },
    {
      "cell_type": "code",
      "execution_count": null,
      "metadata": {
        "id": "aB3hbrX4T0mX"
      },
      "outputs": [],
      "source": [
        "beta_1_fit = fitted_params.params['beta_1'].value\n",
        "beta_2_fit = fitted_params.params['beta_2'].value\n",
        "beta_3_fit = fitted_params.params['beta_3'].value\n",
        "beta_4_fit = fitted_params.params['beta_4'].value\n",
        "beta_5_fit = fitted_params.params['beta_5'].value\n",
        "beta_6_fit = fitted_params.params['beta_6'].value\n",
        "beta_7_fit = fitted_params.params['beta_7'].value\n",
        "beta_8_fit = fitted_params.params['beta_8'].value\n",
        "beta_9_fit = fitted_params.params['beta_9'].value\n",
        "beta_10_fit = fitted_params.params['beta_10'].value\n",
        "beta_11_fit = fitted_params.params['beta_11'].value\n",
        "beta_12_fit = fitted_params.params['beta_12'].value\n",
        "beta_13_fit = fitted_params.params['beta_13'].value\n",
        "beta_14_fit = fitted_params.params['beta_14'].value\n",
        "beta_15_fit = fitted_params.params['beta_15'].value\n",
        "beta_16_fit = fitted_params.params['beta_16'].value\n",
        "beta_17_fit = fitted_params.params['beta_17'].value\n",
        "beta_18_fit = fitted_params.params['beta_18'].value\n",
        "beta_19_fit = fitted_params.params['beta_19'].value\n",
        "beta_20_fit = fitted_params.params['beta_20'].value\n",
        "beta_21_fit = fitted_params.params['beta_21'].value\n",
        "beta_22_fit = fitted_params.params['beta_22'].value\n",
        "beta_23_fit = fitted_params.params['beta_23'].value\n",
        "beta_24_fit = fitted_params.params['beta_24'].value\n",
        "gamma_fit = fitted_params.params['gamma'].value    \n",
        "a_fit = fitted_params.params['a'].value    "
      ]
    },
    {
      "cell_type": "code",
      "execution_count": null,
      "metadata": {
        "colab": {
          "base_uri": "https://localhost:8080/"
        },
        "id": "q_0A_SxNT0mX",
        "outputId": "d47aa02f-9646-4133-8ced-03ded4cc1c86"
      },
      "outputs": [
        {
          "output_type": "execute_result",
          "data": {
            "text/plain": [
              "2.7258710268978374"
            ]
          },
          "metadata": {},
          "execution_count": 211
        }
      ],
      "source": [
        "1/gamma_fit"
      ]
    },
    {
      "cell_type": "code",
      "execution_count": null,
      "metadata": {
        "colab": {
          "base_uri": "https://localhost:8080/",
          "height": 1000
        },
        "id": "Thcp2Y6xT0mY",
        "outputId": "5dc1f808-af0e-4ca4-d971-67f93df31a0c"
      },
      "outputs": [
        {
          "output_type": "execute_result",
          "data": {
            "text/html": [
              "<h2>Fit Statistics</h2><table><tr><td>fitting method</td><td>least_squares</td><td></td></tr><tr><td># function evals</td><td>300</td><td></td></tr><tr><td># data points</td><td>6264</td><td></td></tr><tr><td># variables</td><td>26</td><td></td></tr><tr><td>chi-square</td><td> 2.5358e+10</td><td></td></tr><tr><td>reduced chi-square</td><td> 4065041.53</td><td></td></tr><tr><td>Akaike info crit.</td><td> 95351.0877</td><td></td></tr><tr><td>Bayesian info crit.</td><td> 95526.3946</td><td></td></tr></table><h2>Variables</h2><table><tr><th> name </th><th> value </th><th> standard error </th><th> relative error </th><th> initial value </th><th> min </th><th> max </th><th> vary </th></tr><tr><td> beta_1 </td><td>  0.40774332 </td><td>  0.00215662 </td><td> (0.53%) </td><td> 0.0 </td><td>  0.00000000 </td><td>  0.50000000 </td><td> True </td></tr><tr><td> beta_2 </td><td>  0.42524745 </td><td>  0.00207043 </td><td> (0.49%) </td><td> 0.0 </td><td>  0.00000000 </td><td>  0.50000000 </td><td> True </td></tr><tr><td> beta_3 </td><td>  0.00953700 </td><td>  3.10441221 </td><td> (32551.25%) </td><td> 0.0 </td><td>  0.00000000 </td><td>  0.50000000 </td><td> True </td></tr><tr><td> beta_4 </td><td>  0.40025393 </td><td>  0.00454847 </td><td> (1.14%) </td><td> 0.0 </td><td>  0.00000000 </td><td>  0.50000000 </td><td> True </td></tr><tr><td> beta_5 </td><td>  0.40740062 </td><td>  0.00297299 </td><td> (0.73%) </td><td> 0.0 </td><td>  0.00000000 </td><td>  0.50000000 </td><td> True </td></tr><tr><td> beta_6 </td><td>  0.18240849 </td><td>  0.27712037 </td><td> (151.92%) </td><td> 0.0 </td><td>  0.00000000 </td><td>  0.50000000 </td><td> True </td></tr><tr><td> beta_7 </td><td>  0.41239080 </td><td>  0.00224582 </td><td> (0.54%) </td><td> 0.0 </td><td>  0.00000000 </td><td>  0.50000000 </td><td> True </td></tr><tr><td> beta_8 </td><td>  0.02223374 </td><td>  0.21198616 </td><td> (953.44%) </td><td> 0.0 </td><td>  0.00000000 </td><td>  0.50000000 </td><td> True </td></tr><tr><td> beta_9 </td><td>  0.01719993 </td><td>  2.76470800 </td><td> (16073.95%) </td><td> 0.0 </td><td>  0.00000000 </td><td>  0.50000000 </td><td> True </td></tr><tr><td> beta_10 </td><td>  0.06715549 </td><td>  1.29532706 </td><td> (1928.85%) </td><td> 0.0 </td><td>  0.00000000 </td><td>  0.50000000 </td><td> True </td></tr><tr><td> beta_11 </td><td>  0.10505221 </td><td>  2.14879169 </td><td> (2045.45%) </td><td> 0.0 </td><td>  0.00000000 </td><td>  0.50000000 </td><td> True </td></tr><tr><td> beta_12 </td><td>  0.03505150 </td><td>  2.04873248 </td><td> (5844.92%) </td><td> 0.0 </td><td>  0.00000000 </td><td>  0.50000000 </td><td> True </td></tr><tr><td> beta_13 </td><td>  0.41443190 </td><td>  0.00232281 </td><td> (0.56%) </td><td> 0.0 </td><td>  0.00000000 </td><td>  0.50000000 </td><td> True </td></tr><tr><td> beta_14 </td><td>  0.01903389 </td><td>  1.70256005 </td><td> (8944.89%) </td><td> 0.0 </td><td>  0.00000000 </td><td>  0.50000000 </td><td> True </td></tr><tr><td> beta_15 </td><td>  0.40877467 </td><td>  0.00270755 </td><td> (0.66%) </td><td> 0.0 </td><td>  0.00000000 </td><td>  0.50000000 </td><td> True </td></tr><tr><td> beta_16 </td><td>  0.40285563 </td><td>  0.00266515 </td><td> (0.66%) </td><td> 0.0 </td><td>  0.00000000 </td><td>  0.50000000 </td><td> True </td></tr><tr><td> beta_17 </td><td>  0.39817293 </td><td>  0.00278158 </td><td> (0.70%) </td><td> 0.0 </td><td>  0.00000000 </td><td>  0.50000000 </td><td> True </td></tr><tr><td> beta_18 </td><td>  0.04094222 </td><td>  1.36443308 </td><td> (3332.58%) </td><td> 0.0 </td><td>  0.00000000 </td><td>  0.50000000 </td><td> True </td></tr><tr><td> beta_19 </td><td>  0.07615540 </td><td>  1.66398233 </td><td> (2184.98%) </td><td> 0.0 </td><td>  0.00000000 </td><td>  0.50000000 </td><td> True </td></tr><tr><td> beta_20 </td><td>  0.39774858 </td><td>  0.00453916 </td><td> (1.14%) </td><td> 0.0 </td><td>  0.00000000 </td><td>  0.50000000 </td><td> True </td></tr><tr><td> beta_21 </td><td>  0.42523205 </td><td>  0.00246816 </td><td> (0.58%) </td><td> 0.0 </td><td>  0.00000000 </td><td>  0.50000000 </td><td> True </td></tr><tr><td> beta_22 </td><td>  0.18178201 </td><td>  0.34595212 </td><td> (190.31%) </td><td> 0.0 </td><td>  0.00000000 </td><td>  0.50000000 </td><td> True </td></tr><tr><td> beta_23 </td><td>  0.32476304 </td><td>  0.56891012 </td><td> (175.18%) </td><td> 0.0 </td><td>  0.00000000 </td><td>  0.50000000 </td><td> True </td></tr><tr><td> beta_24 </td><td>  0.41910385 </td><td>  0.00237114 </td><td> (0.57%) </td><td> 0.0 </td><td>  0.00000000 </td><td>  0.50000000 </td><td> True </td></tr><tr><td> gamma </td><td>  0.36685521 </td><td>  0.00190338 </td><td> (0.52%) </td><td> 0.05 </td><td>  0.05000000 </td><td>  0.50000000 </td><td> True </td></tr><tr><td> a </td><td>  0.35977929 </td><td>  0.01182457 </td><td> (3.29%) </td><td> 0.0 </td><td>  0.00000000 </td><td>  0.50000000 </td><td> True </td></tr></table><h2>Correlations (unreported correlations are < 0.100)</h2><table><tr><td>beta_1</td><td>gamma</td><td>0.9972</td></tr><tr><td>beta_7</td><td>gamma</td><td>0.9873</td></tr><tr><td>beta_2</td><td>beta_21</td><td>0.9862</td></tr><tr><td>beta_2</td><td>gamma</td><td>0.9860</td></tr><tr><td>beta_1</td><td>beta_7</td><td>0.9823</td></tr><tr><td>beta_2</td><td>beta_7</td><td>0.9820</td></tr><tr><td>beta_21</td><td>gamma</td><td>0.9788</td></tr><tr><td>beta_1</td><td>beta_2</td><td>0.9739</td></tr><tr><td>beta_7</td><td>beta_21</td><td>0.9734</td></tr><tr><td>beta_1</td><td>beta_21</td><td>0.9693</td></tr><tr><td>beta_13</td><td>gamma</td><td>0.9678</td></tr><tr><td>beta_2</td><td>beta_24</td><td>0.9669</td></tr><tr><td>beta_2</td><td>beta_13</td><td>0.9650</td></tr><tr><td>beta_24</td><td>gamma</td><td>0.9642</td></tr><tr><td>beta_1</td><td>beta_13</td><td>0.9622</td></tr><tr><td>beta_7</td><td>beta_13</td><td>0.9619</td></tr><tr><td>beta_7</td><td>beta_24</td><td>0.9597</td></tr><tr><td>beta_21</td><td>beta_24</td><td>0.9570</td></tr><tr><td>beta_1</td><td>beta_24</td><td>0.9566</td></tr><tr><td>beta_13</td><td>beta_21</td><td>0.9553</td></tr><tr><td>beta_13</td><td>beta_24</td><td>0.9417</td></tr><tr><td>beta_2</td><td>beta_15</td><td>0.7901</td></tr><tr><td>beta_15</td><td>gamma</td><td>0.7860</td></tr><tr><td>beta_15</td><td>beta_21</td><td>0.7826</td></tr><tr><td>beta_7</td><td>beta_15</td><td>0.7802</td></tr><tr><td>beta_1</td><td>beta_15</td><td>0.7778</td></tr><tr><td>beta_15</td><td>beta_24</td><td>0.7682</td></tr><tr><td>beta_16</td><td>gamma</td><td>0.7666</td></tr><tr><td>beta_2</td><td>beta_16</td><td>0.7658</td></tr><tr><td>beta_13</td><td>beta_15</td><td>0.7633</td></tr><tr><td>beta_16</td><td>beta_21</td><td>0.7616</td></tr><tr><td>beta_7</td><td>beta_16</td><td>0.7596</td></tr><tr><td>beta_1</td><td>beta_16</td><td>0.7593</td></tr><tr><td>beta_2</td><td>beta_5</td><td>0.7541</td></tr><tr><td>beta_5</td><td>gamma</td><td>0.7520</td></tr><tr><td>beta_17</td><td>gamma</td><td>0.7514</td></tr><tr><td>beta_1</td><td>beta_17</td><td>0.7504</td></tr><tr><td>beta_16</td><td>beta_24</td><td>0.7464</td></tr><tr><td>beta_13</td><td>beta_16</td><td>0.7463</td></tr><tr><td>beta_5</td><td>beta_7</td><td>0.7458</td></tr><tr><td>beta_1</td><td>beta_5</td><td>0.7448</td></tr><tr><td>beta_5</td><td>beta_21</td><td>0.7436</td></tr><tr><td>beta_7</td><td>beta_17</td><td>0.7408</td></tr><tr><td>beta_2</td><td>beta_17</td><td>0.7383</td></tr><tr><td>beta_5</td><td>beta_13</td><td>0.7340</td></tr><tr><td>beta_17</td><td>beta_21</td><td>0.7339</td></tr><tr><td>beta_5</td><td>beta_24</td><td>0.7337</td></tr><tr><td>beta_13</td><td>beta_17</td><td>0.7239</td></tr><tr><td>beta_17</td><td>beta_24</td><td>0.7196</td></tr><tr><td>beta_2</td><td>a</td><td>0.7103</td></tr><tr><td>beta_21</td><td>a</td><td>0.7065</td></tr><tr><td>beta_2</td><td>beta_23</td><td>-0.6776</td></tr><tr><td>beta_23</td><td>beta_24</td><td>-0.6588</td></tr><tr><td>beta_13</td><td>beta_23</td><td>-0.6532</td></tr><tr><td>beta_7</td><td>beta_23</td><td>-0.6457</td></tr><tr><td>beta_24</td><td>a</td><td>0.6449</td></tr><tr><td>beta_23</td><td>gamma</td><td>-0.6282</td></tr><tr><td>beta_7</td><td>a</td><td>0.6277</td></tr><tr><td>beta_21</td><td>beta_23</td><td>-0.6277</td></tr><tr><td>beta_13</td><td>a</td><td>0.6170</td></tr><tr><td>beta_1</td><td>beta_23</td><td>-0.6113</td></tr><tr><td>gamma</td><td>a</td><td>0.6038</td></tr><tr><td>beta_15</td><td>beta_17</td><td>0.5857</td></tr><tr><td>beta_15</td><td>beta_16</td><td>0.5825</td></tr><tr><td>beta_5</td><td>beta_15</td><td>0.5796</td></tr><tr><td>beta_4</td><td>beta_6</td><td>-0.5750</td></tr><tr><td>beta_16</td><td>beta_17</td><td>0.5716</td></tr><tr><td>beta_15</td><td>beta_23</td><td>-0.5697</td></tr><tr><td>beta_1</td><td>a</td><td>0.5612</td></tr><tr><td>beta_5</td><td>beta_17</td><td>0.5601</td></tr><tr><td>beta_5</td><td>beta_23</td><td>-0.5551</td></tr><tr><td>beta_5</td><td>beta_16</td><td>0.5496</td></tr><tr><td>beta_16</td><td>beta_23</td><td>-0.5488</td></tr><tr><td>beta_15</td><td>a</td><td>0.5338</td></tr><tr><td>beta_16</td><td>a</td><td>0.5137</td></tr><tr><td>beta_5</td><td>a</td><td>0.4849</td></tr><tr><td>beta_2</td><td>beta_20</td><td>0.4819</td></tr><tr><td>beta_4</td><td>gamma</td><td>0.4809</td></tr><tr><td>beta_2</td><td>beta_4</td><td>0.4798</td></tr><tr><td>beta_4</td><td>beta_21</td><td>0.4785</td></tr><tr><td>beta_1</td><td>beta_4</td><td>0.4783</td></tr><tr><td>beta_20</td><td>beta_21</td><td>0.4767</td></tr><tr><td>beta_20</td><td>gamma</td><td>0.4761</td></tr><tr><td>beta_7</td><td>beta_20</td><td>0.4751</td></tr><tr><td>beta_4</td><td>beta_7</td><td>0.4745</td></tr><tr><td>beta_10</td><td>beta_12</td><td>-0.4723</td></tr><tr><td>beta_1</td><td>beta_20</td><td>0.4692</td></tr><tr><td>beta_17</td><td>beta_23</td><td>-0.4691</td></tr><tr><td>beta_20</td><td>beta_24</td><td>0.4667</td></tr><tr><td>beta_13</td><td>beta_20</td><td>0.4651</td></tr><tr><td>beta_4</td><td>beta_24</td><td>0.4640</td></tr><tr><td>beta_4</td><td>beta_13</td><td>0.4637</td></tr><tr><td>beta_12</td><td>beta_19</td><td>-0.4463</td></tr><tr><td>beta_17</td><td>a</td><td>0.4364</td></tr><tr><td>beta_9</td><td>beta_12</td><td>-0.4317</td></tr><tr><td>beta_23</td><td>a</td><td>-0.4202</td></tr><tr><td>beta_20</td><td>beta_23</td><td>-0.4193</td></tr><tr><td>beta_4</td><td>beta_15</td><td>0.3779</td></tr><tr><td>beta_4</td><td>beta_16</td><td>0.3687</td></tr><tr><td>beta_15</td><td>beta_20</td><td>0.3665</td></tr><tr><td>beta_4</td><td>beta_5</td><td>0.3588</td></tr><tr><td>beta_4</td><td>beta_17</td><td>0.3541</td></tr><tr><td>beta_16</td><td>beta_20</td><td>0.3533</td></tr><tr><td>beta_17</td><td>beta_20</td><td>0.3475</td></tr><tr><td>beta_5</td><td>beta_20</td><td>0.3430</td></tr><tr><td>beta_20</td><td>a</td><td>0.3322</td></tr><tr><td>beta_4</td><td>a</td><td>0.3262</td></tr><tr><td>beta_4</td><td>beta_23</td><td>-0.3025</td></tr><tr><td>beta_4</td><td>beta_20</td><td>0.2239</td></tr><tr><td>beta_8</td><td>beta_23</td><td>-0.1973</td></tr><tr><td>beta_10</td><td>beta_17</td><td>-0.1740</td></tr><tr><td>beta_8</td><td>beta_21</td><td>-0.1585</td></tr><tr><td>beta_9</td><td>beta_19</td><td>-0.1538</td></tr><tr><td>beta_8</td><td>a</td><td>-0.1533</td></tr><tr><td>beta_9</td><td>beta_13</td><td>0.1331</td></tr><tr><td>beta_8</td><td>beta_12</td><td>0.1308</td></tr><tr><td>beta_9</td><td>beta_24</td><td>0.1219</td></tr><tr><td>beta_7</td><td>beta_9</td><td>0.1207</td></tr><tr><td>beta_12</td><td>beta_17</td><td>0.1163</td></tr><tr><td>beta_19</td><td>beta_23</td><td>-0.1140</td></tr><tr><td>beta_9</td><td>beta_10</td><td>-0.1073</td></tr><tr><td>beta_12</td><td>beta_14</td><td>-0.1046</td></tr><tr><td>beta_12</td><td>beta_23</td><td>-0.1043</td></tr><tr><td>beta_2</td><td>beta_9</td><td>0.1033</td></tr><tr><td>beta_3</td><td>beta_24</td><td>-0.1030</td></tr><tr><td>beta_10</td><td>beta_19</td><td>-0.1006</td></tr></table>"
            ],
            "text/plain": [
              "<lmfit.minimizer.MinimizerResult at 0x7f347b8c2c50>"
            ]
          },
          "metadata": {},
          "execution_count": 212
        }
      ],
      "source": [
        "fitted_params"
      ]
    },
    {
      "cell_type": "code",
      "execution_count": null,
      "metadata": {
        "id": "AzBCA4YYT0mY"
      },
      "outputs": [],
      "source": [
        "resultado = SIR_Model_4_2(beta_1_fit,beta_2_fit,beta_3_fit,beta_4_fit,beta_5_fit,beta_6_fit,beta_7_fit,beta_8_fit,beta_9_fit,beta_10_fit,beta_11_fit,beta_12_fit,beta_13_fit,beta_14_fit,beta_15_fit,beta_16_fit,beta_17_fit,beta_18_fit,beta_19_fit,beta_20_fit,beta_21_fit,beta_22_fit,beta_23_fit,beta_24_fit,gamma_fit,a_fit,t)"
      ]
    },
    {
      "cell_type": "code",
      "execution_count": null,
      "metadata": {
        "colab": {
          "base_uri": "https://localhost:8080/",
          "height": 284
        },
        "id": "aNZLsQWgT0mY",
        "outputId": "2fb186eb-a55c-46cd-a07b-c6b7e5f86315"
      },
      "outputs": [
        {
          "output_type": "execute_result",
          "data": {
            "text/plain": [
              "[<matplotlib.lines.Line2D at 0x7f347b763490>]"
            ]
          },
          "metadata": {},
          "execution_count": 214
        },
        {
          "output_type": "display_data",
          "data": {
            "image/png": "[encoded data removed]",
            "text/plain": [
              "<Figure size 432x288 with 1 Axes>"
            ]
          },
          "metadata": {
            "needs_background": "light"
          }
        }
      ],
      "source": [
        "plt.plot(resultado[:,0])\n",
        "plt.plot(datos.T[:,0])"
      ]
    },
    {
      "cell_type": "markdown",
      "source": [
        "## Ejemplo 5.2: distancias solas - diferentes poblaciones (compile hoy)"
      ],
      "metadata": {
        "id": "VfR89ELGmEGE"
      }
    },
    {
      "cell_type": "code",
      "execution_count": null,
      "metadata": {
        "id": "vDdATWdkmVHR"
      },
      "outputs": [],
      "source": [
        "def deriv_5_2(y0,t,beta_1,beta_2,beta_3,beta_4,beta_5,beta_6,beta_7,beta_8,beta_9,beta_10,beta_11,beta_12,beta_13,beta_14,beta_15,beta_16,beta_17,beta_18,beta_19,beta_20,beta_21,beta_22,beta_23,beta_24,gamma,a):\n",
        "  n = 24\n",
        "  X = y0[0:n]\n",
        "  Y = y0[n:2*n]\n",
        "  Z = y0[2*n:]\n",
        "  A = np.zeros(shape=(n,n))\n",
        "  beta = np.array([beta_1,beta_2,beta_3,beta_4,beta_5,beta_6,beta_7,beta_8,beta_9,beta_10,beta_11,beta_12,beta_13,beta_14,beta_15,beta_16,beta_17,beta_18,beta_19,beta_20,beta_21,beta_22,beta_23,beta_24])\n",
        "  for i in range(n):\n",
        "    for j in range(n):\n",
        "      A[i,j] =  a*((population[i]+population[j])/nt)\n",
        "  for i in range(n):\n",
        "    A[i,i] = 0\n",
        "    for j in range(n):\n",
        "      if i != j:\n",
        "        A[i,i] -= A[i,j]\n",
        "  N = X+Y+Z\n",
        "  aux_X = np.zeros(n)\n",
        "  aux_Y = np.zeros(n)\n",
        "  aux_Z = np.zeros(n)\n",
        "  for i in range(n):\n",
        "    aux_X_2 = 0\n",
        "    aux_Y_2 = 0\n",
        "    aux_Z_2 = 0\n",
        "    for j in range(n):\n",
        "        aux_X_2 += A[i,j]*X[j]*(N[i]/N[j])\n",
        "        aux_Y_2 += A[i,j]*Y[j]*(N[i]/N[j])\n",
        "        aux_Z_2 += A[i,j]*Z[j]*(N[i]/N[j])\n",
        "    aux_X[i] = aux_X_2\n",
        "    aux_Y[i] = aux_Y_2\n",
        "    aux_Z[i] = aux_Z_2\n",
        "  dXdt = -beta*X*Y/N + (aux_X)\n",
        "  dYdt = beta*X*Y/N - gamma*Y + (aux_Y)\n",
        "  dZdt = gamma*Y + (aux_Z)\n",
        "  return np.concatenate((dXdt,dYdt,dZdt))"
      ]
    },
    {
      "cell_type": "code",
      "execution_count": null,
      "metadata": {
        "id": "Lp98XU2smVHR"
      },
      "outputs": [],
      "source": [
        "def SIR_Model_5_lm_2(params,t,datos_reales):\n",
        "  beta_1= params['beta_1']\n",
        "  beta_2= params['beta_2']\n",
        "  beta_3= params['beta_3']\n",
        "  beta_4= params['beta_4']\n",
        "  beta_5= params['beta_5']\n",
        "  beta_6= params['beta_6']\n",
        "  beta_7= params['beta_7']\n",
        "  beta_8= params['beta_8']\n",
        "  beta_9= params['beta_9']\n",
        "  beta_10= params['beta_10']\n",
        "  beta_11= params['beta_11']\n",
        "  beta_12= params['beta_12']\n",
        "  beta_13= params['beta_13']\n",
        "  beta_14= params['beta_14']\n",
        "  beta_15= params['beta_15']\n",
        "  beta_16= params['beta_16']\n",
        "  beta_17= params['beta_17']\n",
        "  beta_18= params['beta_18']\n",
        "  beta_19= params['beta_19']\n",
        "  beta_20= params['beta_20']\n",
        "  beta_21= params['beta_21']\n",
        "  beta_22= params['beta_22']\n",
        "  beta_23= params['beta_23']\n",
        "  beta_24= params['beta_24']\n",
        "  gamma = params['gamma']\n",
        "  a = params['a']\n",
        "  n = 24\n",
        "  S = np.array([15625084,2890151,367828,1055259,509108,992595,3308876,1235994,530162,673307,318951,333642,1738929,1101593,551266,638645,1214441,681055,432310,273964,3194537,874006,127205,1448188])\n",
        "  R = np.zeros(n)*0.0\n",
        "  I = np.array([59,57,0,17,1,3,7,4,0,1,0,1,2,0,2,6,0,0,1,3,4,0,3,2]) #pop infected at day 70 by provinces\n",
        "  y0 = np.concatenate((S,I,R))\n",
        "  result = odeint(deriv_5_2,y0, t, args=(beta_1,beta_2,beta_3,beta_4,beta_5,beta_6,beta_7,beta_8,beta_9,beta_10,beta_11,beta_12,beta_13,beta_14,beta_15,beta_16,beta_17,beta_18,beta_19,beta_20,beta_21,beta_22,beta_23,beta_24,gamma,a))\n",
        "  I_fit = result[:,n:2*n]\n",
        "  return I_fit - datos_reales"
      ]
    },
    {
      "cell_type": "code",
      "execution_count": null,
      "metadata": {
        "id": "8AFK_BsxmVHS"
      },
      "outputs": [],
      "source": [
        "def SIR_Model_5_2(beta_1,beta_2,beta_3,beta_4,beta_5,beta_6,beta_7,beta_8,beta_9,beta_10,beta_11,beta_12,beta_13,beta_14,beta_15,beta_16,beta_17,beta_18,beta_19,beta_20,beta_21,beta_22,beta_23,beta_24,gamma,a,t):\n",
        "  n = 24\n",
        "  S = np.array([15625084,2890151,367828,1055259,509108,992595,3308876,1235994,530162,673307,318951,333642,1738929,1101593,551266,638645,1214441,681055,432310,273964,3194537,874006,127205,1448188])\n",
        "  R = np.zeros(n)*0.0\n",
        "  I = np.array([59,57,0,17,1,3,7,4,0,1,0,1,2,0,2,6,0,0,1,3,4,0,3,2]) #pop infected at day 70 by provinces\n",
        "  y0 = np.concatenate((S,I,R))\n",
        "  result = odeint(deriv_5_2,y0, t, args=(beta_1,beta_2,beta_3,beta_4,beta_5,beta_6,beta_7,beta_8,beta_9,beta_10,beta_11,beta_12,beta_13,beta_14,beta_15,beta_16,beta_17,beta_18,beta_19,beta_20,beta_21,beta_22,beta_23,beta_24,gamma,a))\n",
        "  I_fit = result[:,n:2*n]\n",
        "  return I_fit"
      ]
    },
    {
      "cell_type": "code",
      "execution_count": null,
      "metadata": {
        "id": "eHI-zMUfmVHS"
      },
      "outputs": [],
      "source": [
        "t = np.arange(datos.shape[1])\n",
        "params = Parameters()\n",
        "params.add('beta_1', min=0.0, max=0.5)\n",
        "params.add('beta_2', min=0.0, max=0.5)\n",
        "params.add('beta_3', min=0.0, max=0.5)\n",
        "params.add('beta_4', min=0.0, max=0.5)\n",
        "params.add('beta_5', min=0.0, max=0.5)\n",
        "params.add('beta_6', min=0.0, max=0.5)\n",
        "params.add('beta_7', min=0.0, max=0.5)\n",
        "params.add('beta_8', min=0.0, max=0.5)\n",
        "params.add('beta_9', min=0.0, max=0.5)\n",
        "params.add('beta_10', min=0.0, max=0.5)\n",
        "params.add('beta_11', min=0.0, max=0.5)\n",
        "params.add('beta_12', min=0.0, max=0.5)\n",
        "params.add('beta_13', min=0.0, max=0.5)\n",
        "params.add('beta_14', min=0.0, max=0.5)\n",
        "params.add('beta_15', min=0.0, max=0.5)\n",
        "params.add('beta_16', min=0.0, max=0.5)\n",
        "params.add('beta_17', min=0.0, max=0.5)\n",
        "params.add('beta_18', min=0.0, max=0.5)\n",
        "params.add('beta_19', min=0.0, max=0.5)\n",
        "params.add('beta_20', min=0.0, max=0.5)\n",
        "params.add('beta_21', min=0.0, max=0.5)\n",
        "params.add('beta_22', min=0.0, max=0.5)\n",
        "params.add('beta_23', min=0.0, max=0.5)\n",
        "params.add('beta_24', min=0.0, max=0.5)\n",
        "params.add('gamma', min=0.05, max=0.5)\n",
        "params.add('a',min=0.0,max=0.5)"
      ]
    },
    {
      "cell_type": "code",
      "execution_count": null,
      "metadata": {
        "id": "WHkhC1X4mVHS"
      },
      "outputs": [],
      "source": [
        "fitted_params = minimize(SIR_Model_5_lm_2, params, args=(t,datos.T,), method='least_squares')"
      ]
    },
    {
      "cell_type": "code",
      "execution_count": null,
      "metadata": {
        "id": "rKeo3OTzmVHS"
      },
      "outputs": [],
      "source": [
        "beta_1_fit = fitted_params.params['beta_1'].value\n",
        "beta_2_fit = fitted_params.params['beta_2'].value\n",
        "beta_3_fit = fitted_params.params['beta_3'].value\n",
        "beta_4_fit = fitted_params.params['beta_4'].value\n",
        "beta_5_fit = fitted_params.params['beta_5'].value\n",
        "beta_6_fit = fitted_params.params['beta_6'].value\n",
        "beta_7_fit = fitted_params.params['beta_7'].value\n",
        "beta_8_fit = fitted_params.params['beta_8'].value\n",
        "beta_9_fit = fitted_params.params['beta_9'].value\n",
        "beta_10_fit = fitted_params.params['beta_10'].value\n",
        "beta_11_fit = fitted_params.params['beta_11'].value\n",
        "beta_12_fit = fitted_params.params['beta_12'].value\n",
        "beta_13_fit = fitted_params.params['beta_13'].value\n",
        "beta_14_fit = fitted_params.params['beta_14'].value\n",
        "beta_15_fit = fitted_params.params['beta_15'].value\n",
        "beta_16_fit = fitted_params.params['beta_16'].value\n",
        "beta_17_fit = fitted_params.params['beta_17'].value\n",
        "beta_18_fit = fitted_params.params['beta_18'].value\n",
        "beta_19_fit = fitted_params.params['beta_19'].value\n",
        "beta_20_fit = fitted_params.params['beta_20'].value\n",
        "beta_21_fit = fitted_params.params['beta_21'].value\n",
        "beta_22_fit = fitted_params.params['beta_22'].value\n",
        "beta_23_fit = fitted_params.params['beta_23'].value\n",
        "beta_24_fit = fitted_params.params['beta_24'].value\n",
        "gamma_fit = fitted_params.params['gamma'].value    \n",
        "a_fit = fitted_params.params['a'].value    "
      ]
    },
    {
      "cell_type": "code",
      "execution_count": null,
      "metadata": {
        "colab": {
          "base_uri": "https://localhost:8080/"
        },
        "outputId": "d724185f-f75a-468d-d178-de8109dad116",
        "id": "65YXb9U0mVHS"
      },
      "outputs": [
        {
          "output_type": "execute_result",
          "data": {
            "text/plain": [
              "15.027767289209443"
            ]
          },
          "metadata": {},
          "execution_count": 221
        }
      ],
      "source": [
        "1/gamma_fit"
      ]
    },
    {
      "cell_type": "code",
      "execution_count": null,
      "metadata": {
        "colab": {
          "base_uri": "https://localhost:8080/"
        },
        "outputId": "d23f0f5b-1254-4aaf-a8e8-3675f425f465",
        "id": "WhQod8y9mVHS"
      },
      "outputs": [
        {
          "output_type": "execute_result",
          "data": {
            "text/html": [
              "<h2>Fit Statistics</h2><table><tr><td>fitting method</td><td>least_squares</td><td></td></tr><tr><td># function evals</td><td>34</td><td></td></tr><tr><td># data points</td><td>6264</td><td></td></tr><tr><td># variables</td><td>26</td><td></td></tr><tr><td>chi-square</td><td> 3.9644e+11</td><td></td></tr><tr><td>reduced chi-square</td><td> 63553061.8</td><td></td></tr><tr><td>Akaike info crit.</td><td> 112573.650</td><td></td></tr><tr><td>Bayesian info crit.</td><td> 112748.957</td><td></td></tr></table><h2>Variables</h2><table><tr><th> name </th><th> value </th><th> standard error </th><th> relative error </th><th> initial value </th><th> min </th><th> max </th><th> vary </th></tr><tr><td> beta_1 </td><td>  0.39440663 </td><td>  0.74899670 </td><td> (189.90%) </td><td> 0.0 </td><td>  0.00000000 </td><td>  0.50000000 </td><td> True </td></tr><tr><td> beta_2 </td><td>  0.24228173 </td><td>  0.38724916 </td><td> (159.83%) </td><td> 0.0 </td><td>  0.00000000 </td><td>  0.50000000 </td><td> True </td></tr><tr><td> beta_3 </td><td>  0.04258427 </td><td>  0.23537412 </td><td> (552.73%) </td><td> 0.0 </td><td>  0.00000000 </td><td>  0.50000000 </td><td> True </td></tr><tr><td> beta_4 </td><td>  0.07090284 </td><td>  0.08632930 </td><td> (121.76%) </td><td> 0.0 </td><td>  0.00000000 </td><td>  0.50000000 </td><td> True </td></tr><tr><td> beta_5 </td><td>  0.04627185 </td><td>  0.18525457 </td><td> (400.36%) </td><td> 0.0 </td><td>  0.00000000 </td><td>  0.50000000 </td><td> True </td></tr><tr><td> beta_6 </td><td>  0.03164360 </td><td>  0.16983569 </td><td> (536.71%) </td><td> 0.0 </td><td>  0.00000000 </td><td>  0.50000000 </td><td> True </td></tr><tr><td> beta_7 </td><td>  0.08158833 </td><td>  0.06779450 </td><td> (83.09%) </td><td> 0.0 </td><td>  0.00000000 </td><td>  0.50000000 </td><td> True </td></tr><tr><td> beta_8 </td><td>  0.04761360 </td><td>  0.12410453 </td><td> (260.65%) </td><td> 0.0 </td><td>  0.00000000 </td><td>  0.50000000 </td><td> True </td></tr><tr><td> beta_9 </td><td>  0.03663422 </td><td>  0.22192949 </td><td> (605.80%) </td><td> 0.0 </td><td>  0.00000000 </td><td>  0.50000000 </td><td> True </td></tr><tr><td> beta_10 </td><td>  0.04258946 </td><td>  0.15969005 </td><td> (374.95%) </td><td> 0.0 </td><td>  0.00000000 </td><td>  0.50000000 </td><td> True </td></tr><tr><td> beta_11 </td><td>  0.04882783 </td><td>  0.25616039 </td><td> (524.62%) </td><td> 0.0 </td><td>  0.00000000 </td><td>  0.50000000 </td><td> True </td></tr><tr><td> beta_12 </td><td>  0.03198978 </td><td>  0.26270208 </td><td> (821.21%) </td><td> 0.0 </td><td>  0.00000000 </td><td>  0.50000000 </td><td> True </td></tr><tr><td> beta_13 </td><td>  0.04478432 </td><td>  0.12014231 </td><td> (268.27%) </td><td> 0.0 </td><td>  0.00000000 </td><td>  0.50000000 </td><td> True </td></tr><tr><td> beta_14 </td><td>  0.03714069 </td><td>  0.15171574 </td><td> (408.49%) </td><td> 0.0 </td><td>  0.00000000 </td><td>  0.50000000 </td><td> True </td></tr><tr><td> beta_15 </td><td>  0.04272875 </td><td>  0.19401514 </td><td> (454.06%) </td><td> 0.0 </td><td>  0.00000000 </td><td>  0.50000000 </td><td> True </td></tr><tr><td> beta_16 </td><td>  0.07091325 </td><td>  0.11790662 </td><td> (166.27%) </td><td> 0.0 </td><td>  0.00000000 </td><td>  0.50000000 </td><td> True </td></tr><tr><td> beta_17 </td><td>  0.04166913 </td><td>  0.13224622 </td><td> (317.37%) </td><td> 0.0 </td><td>  0.00000000 </td><td>  0.50000000 </td><td> True </td></tr><tr><td> beta_18 </td><td>  0.03703540 </td><td>  0.19051437 </td><td> (514.41%) </td><td> 0.0 </td><td>  0.00000000 </td><td>  0.50000000 </td><td> True </td></tr><tr><td> beta_19 </td><td>  0.03743749 </td><td>  0.25048172 </td><td> (669.07%) </td><td> 0.0 </td><td>  0.00000000 </td><td>  0.50000000 </td><td> True </td></tr><tr><td> beta_20 </td><td>  0.07433653 </td><td>  0.21801931 </td><td> (293.29%) </td><td> 0.0 </td><td>  0.00000000 </td><td>  0.50000000 </td><td> True </td></tr><tr><td> beta_21 </td><td>  0.09598494 </td><td>  0.07071535 </td><td> (73.67%) </td><td> 0.0 </td><td>  0.00000000 </td><td>  0.50000000 </td><td> True </td></tr><tr><td> beta_22 </td><td>  0.03625531 </td><td>  0.16000283 </td><td> (441.32%) </td><td> 0.0 </td><td>  0.00000000 </td><td>  0.50000000 </td><td> True </td></tr><tr><td> beta_23 </td><td>  0.09627443 </td><td>  0.25569077 </td><td> (265.59%) </td><td> 0.0 </td><td>  0.00000000 </td><td>  0.50000000 </td><td> True </td></tr><tr><td> beta_24 </td><td>  0.06391428 </td><td>  0.08621386 </td><td> (134.89%) </td><td> 0.0 </td><td>  0.00000000 </td><td>  0.50000000 </td><td> True </td></tr><tr><td> gamma </td><td>  0.06654348 </td><td>  0.03103813 </td><td> (46.64%) </td><td> 0.05 </td><td>  0.05000000 </td><td>  0.50000000 </td><td> True </td></tr><tr><td> a </td><td>  0.10624019 </td><td>  0.25399094 </td><td> (239.07%) </td><td> 0.0 </td><td>  0.00000000 </td><td>  0.50000000 </td><td> True </td></tr></table><h2>Correlations (unreported correlations are < 0.100)</h2><table><tr><td>beta_2</td><td>a</td><td>0.9969</td></tr><tr><td>beta_1</td><td>beta_2</td><td>0.9894</td></tr><tr><td>beta_1</td><td>a</td><td>0.9777</td></tr><tr><td>beta_1</td><td>gamma</td><td>0.9462</td></tr><tr><td>beta_2</td><td>gamma</td><td>0.9348</td></tr><tr><td>gamma</td><td>a</td><td>0.9107</td></tr><tr><td>beta_13</td><td>a</td><td>-0.7428</td></tr><tr><td>beta_2</td><td>beta_13</td><td>-0.7199</td></tr><tr><td>beta_14</td><td>a</td><td>-0.7056</td></tr><tr><td>beta_6</td><td>a</td><td>-0.7036</td></tr><tr><td>beta_2</td><td>beta_6</td><td>-0.6955</td></tr><tr><td>beta_2</td><td>beta_14</td><td>-0.6943</td></tr><tr><td>beta_17</td><td>a</td><td>-0.6725</td></tr><tr><td>beta_8</td><td>a</td><td>-0.6689</td></tr><tr><td>beta_1</td><td>beta_6</td><td>-0.6688</td></tr><tr><td>beta_1</td><td>beta_13</td><td>-0.6682</td></tr><tr><td>beta_1</td><td>beta_14</td><td>-0.6632</td></tr><tr><td>beta_2</td><td>beta_17</td><td>-0.6573</td></tr><tr><td>beta_2</td><td>beta_8</td><td>-0.6529</td></tr><tr><td>beta_21</td><td>gamma</td><td>0.6341</td></tr><tr><td>beta_6</td><td>gamma</td><td>-0.6223</td></tr><tr><td>beta_1</td><td>beta_17</td><td>-0.6196</td></tr><tr><td>beta_1</td><td>beta_8</td><td>-0.6152</td></tr><tr><td>beta_22</td><td>a</td><td>-0.6056</td></tr><tr><td>beta_14</td><td>gamma</td><td>-0.6050</td></tr><tr><td>beta_2</td><td>beta_22</td><td>-0.5985</td></tr><tr><td>beta_18</td><td>a</td><td>-0.5975</td></tr><tr><td>beta_2</td><td>beta_18</td><td>-0.5964</td></tr><tr><td>beta_1</td><td>beta_21</td><td>0.5866</td></tr><tr><td>beta_13</td><td>gamma</td><td>-0.5857</td></tr><tr><td>beta_1</td><td>beta_18</td><td>-0.5853</td></tr><tr><td>beta_1</td><td>beta_22</td><td>-0.5746</td></tr><tr><td>beta_18</td><td>gamma</td><td>-0.5569</td></tr><tr><td>beta_17</td><td>gamma</td><td>-0.5538</td></tr><tr><td>beta_13</td><td>beta_14</td><td>0.5496</td></tr><tr><td>beta_8</td><td>gamma</td><td>-0.5453</td></tr><tr><td>beta_13</td><td>beta_17</td><td>0.5413</td></tr><tr><td>beta_8</td><td>beta_13</td><td>0.5401</td></tr><tr><td>beta_7</td><td>beta_21</td><td>0.5392</td></tr><tr><td>beta_6</td><td>beta_13</td><td>0.5361</td></tr><tr><td>beta_2</td><td>beta_9</td><td>-0.5360</td></tr><tr><td>beta_1</td><td>beta_9</td><td>-0.5358</td></tr><tr><td>beta_22</td><td>gamma</td><td>-0.5339</td></tr><tr><td>beta_9</td><td>a</td><td>-0.5309</td></tr><tr><td>beta_9</td><td>gamma</td><td>-0.5299</td></tr><tr><td>beta_2</td><td>beta_21</td><td>0.5009</td></tr><tr><td>beta_19</td><td>gamma</td><td>-0.4938</td></tr><tr><td>beta_6</td><td>beta_14</td><td>0.4923</td></tr><tr><td>beta_14</td><td>beta_17</td><td>0.4855</td></tr><tr><td>beta_8</td><td>beta_14</td><td>0.4828</td></tr><tr><td>beta_24</td><td>a</td><td>-0.4791</td></tr><tr><td>beta_7</td><td>beta_23</td><td>-0.4788</td></tr><tr><td>beta_1</td><td>beta_19</td><td>-0.4762</td></tr><tr><td>beta_6</td><td>beta_17</td><td>0.4759</td></tr><tr><td>beta_8</td><td>beta_17</td><td>0.4731</td></tr><tr><td>beta_6</td><td>beta_8</td><td>0.4730</td></tr><tr><td>beta_2</td><td>beta_19</td><td>-0.4670</td></tr><tr><td>beta_2</td><td>beta_15</td><td>-0.4643</td></tr><tr><td>beta_1</td><td>beta_15</td><td>-0.4626</td></tr><tr><td>beta_15</td><td>a</td><td>-0.4609</td></tr><tr><td>beta_13</td><td>beta_22</td><td>0.4606</td></tr><tr><td>beta_19</td><td>a</td><td>-0.4564</td></tr><tr><td>beta_2</td><td>beta_24</td><td>-0.4527</td></tr><tr><td>beta_21</td><td>a</td><td>0.4505</td></tr><tr><td>beta_15</td><td>gamma</td><td>-0.4503</td></tr><tr><td>beta_13</td><td>beta_24</td><td>0.4389</td></tr><tr><td>beta_21</td><td>beta_23</td><td>-0.4307</td></tr><tr><td>beta_13</td><td>beta_18</td><td>0.4281</td></tr><tr><td>beta_14</td><td>beta_22</td><td>0.4214</td></tr><tr><td>beta_10</td><td>a</td><td>-0.4201</td></tr><tr><td>beta_2</td><td>beta_10</td><td>-0.4176</td></tr><tr><td>beta_6</td><td>beta_22</td><td>0.4158</td></tr><tr><td>beta_8</td><td>beta_22</td><td>0.4059</td></tr><tr><td>beta_1</td><td>beta_10</td><td>-0.4049</td></tr><tr><td>beta_17</td><td>beta_22</td><td>0.4033</td></tr><tr><td>beta_1</td><td>beta_24</td><td>-0.4012</td></tr><tr><td>beta_14</td><td>beta_18</td><td>0.3999</td></tr><tr><td>beta_6</td><td>beta_18</td><td>0.3981</td></tr><tr><td>beta_17</td><td>beta_18</td><td>0.3852</td></tr><tr><td>beta_10</td><td>gamma</td><td>-0.3807</td></tr><tr><td>beta_8</td><td>beta_18</td><td>0.3792</td></tr><tr><td>beta_8</td><td>beta_24</td><td>0.3715</td></tr><tr><td>beta_17</td><td>beta_24</td><td>0.3699</td></tr><tr><td>beta_14</td><td>beta_24</td><td>0.3676</td></tr><tr><td>beta_9</td><td>beta_13</td><td>0.3546</td></tr><tr><td>beta_6</td><td>beta_24</td><td>0.3526</td></tr><tr><td>beta_18</td><td>beta_22</td><td>0.3403</td></tr><tr><td>beta_6</td><td>beta_9</td><td>0.3396</td></tr><tr><td>beta_9</td><td>beta_14</td><td>0.3381</td></tr><tr><td>beta_9</td><td>beta_17</td><td>0.3233</td></tr><tr><td>beta_19</td><td>beta_21</td><td>-0.3228</td></tr><tr><td>beta_8</td><td>beta_9</td><td>0.3159</td></tr><tr><td>beta_24</td><td>gamma</td><td>-0.3154</td></tr><tr><td>beta_1</td><td>beta_5</td><td>-0.3116</td></tr><tr><td>beta_2</td><td>beta_5</td><td>-0.3107</td></tr><tr><td>beta_13</td><td>beta_15</td><td>0.3105</td></tr><tr><td>beta_9</td><td>beta_21</td><td>-0.3086</td></tr><tr><td>beta_10</td><td>beta_13</td><td>0.3086</td></tr><tr><td>beta_5</td><td>a</td><td>-0.3067</td></tr><tr><td>beta_5</td><td>gamma</td><td>-0.3057</td></tr><tr><td>beta_22</td><td>beta_24</td><td>0.3003</td></tr><tr><td>beta_4</td><td>a</td><td>-0.2960</td></tr><tr><td>beta_14</td><td>beta_15</td><td>0.2947</td></tr><tr><td>beta_6</td><td>beta_15</td><td>0.2930</td></tr><tr><td>beta_9</td><td>beta_22</td><td>0.2889</td></tr><tr><td>beta_10</td><td>beta_14</td><td>0.2834</td></tr><tr><td>beta_18</td><td>beta_21</td><td>-0.2834</td></tr><tr><td>beta_6</td><td>beta_10</td><td>0.2801</td></tr><tr><td>beta_15</td><td>beta_17</td><td>0.2800</td></tr><tr><td>beta_13</td><td>beta_19</td><td>0.2779</td></tr><tr><td>beta_2</td><td>beta_4</td><td>-0.2773</td></tr><tr><td>beta_8</td><td>beta_15</td><td>0.2770</td></tr><tr><td>beta_6</td><td>beta_19</td><td>0.2757</td></tr><tr><td>beta_4</td><td>beta_13</td><td>0.2754</td></tr><tr><td>beta_9</td><td>beta_18</td><td>0.2746</td></tr><tr><td>beta_14</td><td>beta_19</td><td>0.2729</td></tr><tr><td>beta_8</td><td>beta_10</td><td>0.2722</td></tr><tr><td>beta_18</td><td>beta_24</td><td>0.2673</td></tr><tr><td>beta_10</td><td>beta_17</td><td>0.2641</td></tr><tr><td>beta_6</td><td>beta_21</td><td>-0.2622</td></tr><tr><td>beta_16</td><td>a</td><td>-0.2613</td></tr><tr><td>beta_7</td><td>beta_24</td><td>0.2607</td></tr><tr><td>beta_15</td><td>beta_21</td><td>-0.2583</td></tr><tr><td>beta_17</td><td>beta_19</td><td>0.2576</td></tr><tr><td>beta_2</td><td>beta_16</td><td>-0.2556</td></tr><tr><td>beta_8</td><td>beta_19</td><td>0.2499</td></tr><tr><td>beta_1</td><td>beta_16</td><td>-0.2492</td></tr><tr><td>beta_15</td><td>beta_22</td><td>0.2473</td></tr><tr><td>beta_1</td><td>beta_4</td><td>-0.2417</td></tr><tr><td>beta_15</td><td>beta_18</td><td>0.2407</td></tr><tr><td>beta_14</td><td>beta_21</td><td>-0.2352</td></tr><tr><td>beta_11</td><td>beta_21</td><td>-0.2338</td></tr><tr><td>beta_19</td><td>beta_22</td><td>0.2331</td></tr><tr><td>beta_7</td><td>beta_13</td><td>0.2310</td></tr><tr><td>beta_4</td><td>beta_8</td><td>0.2298</td></tr><tr><td>beta_20</td><td>beta_21</td><td>-0.2298</td></tr><tr><td>beta_10</td><td>beta_18</td><td>0.2295</td></tr><tr><td>beta_4</td><td>beta_17</td><td>0.2294</td></tr><tr><td>beta_4</td><td>beta_14</td><td>0.2256</td></tr><tr><td>beta_10</td><td>beta_22</td><td>0.2253</td></tr><tr><td>beta_21</td><td>beta_22</td><td>-0.2246</td></tr><tr><td>beta_18</td><td>beta_19</td><td>0.2244</td></tr><tr><td>beta_7</td><td>gamma</td><td>0.2229</td></tr><tr><td>beta_11</td><td>gamma</td><td>-0.2196</td></tr><tr><td>beta_4</td><td>beta_6</td><td>0.2136</td></tr><tr><td>beta_7</td><td>beta_12</td><td>-0.2093</td></tr><tr><td>beta_4</td><td>beta_24</td><td>0.2076</td></tr><tr><td>beta_9</td><td>beta_24</td><td>0.2066</td></tr><tr><td>beta_9</td><td>beta_15</td><td>0.2043</td></tr><tr><td>beta_3</td><td>beta_12</td><td>-0.2015</td></tr><tr><td>beta_1</td><td>beta_11</td><td>-0.1998</td></tr><tr><td>beta_5</td><td>beta_13</td><td>0.1974</td></tr><tr><td>beta_13</td><td>beta_16</td><td>0.1962</td></tr><tr><td>beta_10</td><td>beta_24</td><td>0.1940</td></tr><tr><td>beta_9</td><td>beta_10</td><td>0.1931</td></tr><tr><td>beta_16</td><td>gamma</td><td>-0.1926</td></tr><tr><td>beta_9</td><td>beta_19</td><td>0.1905</td></tr><tr><td>beta_5</td><td>beta_21</td><td>-0.1883</td></tr><tr><td>beta_5</td><td>beta_14</td><td>0.1874</td></tr><tr><td>beta_7</td><td>beta_20</td><td>-0.1873</td></tr><tr><td>beta_5</td><td>beta_6</td><td>0.1869</td></tr><tr><td>beta_15</td><td>beta_24</td><td>0.1837</td></tr><tr><td>beta_1</td><td>beta_20</td><td>-0.1833</td></tr><tr><td>beta_12</td><td>beta_21</td><td>-0.1823</td></tr><tr><td>beta_4</td><td>beta_22</td><td>0.1818</td></tr><tr><td>beta_17</td><td>beta_21</td><td>-0.1816</td></tr><tr><td>beta_4</td><td>beta_7</td><td>0.1813</td></tr><tr><td>beta_3</td><td>beta_21</td><td>-0.1797</td></tr><tr><td>beta_7</td><td>beta_11</td><td>-0.1792</td></tr><tr><td>beta_10</td><td>beta_21</td><td>-0.1773</td></tr><tr><td>beta_5</td><td>beta_8</td><td>0.1762</td></tr><tr><td>beta_4</td><td>gamma</td><td>-0.1762</td></tr><tr><td>beta_8</td><td>beta_21</td><td>-0.1754</td></tr><tr><td>beta_3</td><td>gamma</td><td>-0.1752</td></tr><tr><td>beta_23</td><td>beta_24</td><td>-0.1751</td></tr><tr><td>beta_14</td><td>beta_16</td><td>0.1738</td></tr><tr><td>beta_16</td><td>beta_17</td><td>0.1733</td></tr><tr><td>beta_2</td><td>beta_11</td><td>-0.1731</td></tr><tr><td>beta_4</td><td>beta_23</td><td>-0.1714</td></tr><tr><td>beta_12</td><td>gamma</td><td>-0.1705</td></tr><tr><td>beta_6</td><td>beta_16</td><td>0.1693</td></tr><tr><td>beta_5</td><td>beta_17</td><td>0.1692</td></tr><tr><td>beta_8</td><td>beta_16</td><td>0.1688</td></tr><tr><td>beta_15</td><td>beta_19</td><td>0.1625</td></tr><tr><td>beta_10</td><td>beta_15</td><td>0.1615</td></tr><tr><td>beta_11</td><td>a</td><td>-0.1581</td></tr><tr><td>beta_4</td><td>beta_18</td><td>0.1574</td></tr><tr><td>beta_1</td><td>beta_23</td><td>-0.1563</td></tr><tr><td>beta_7</td><td>beta_8</td><td>0.1560</td></tr><tr><td>beta_13</td><td>beta_23</td><td>-0.1551</td></tr><tr><td>beta_10</td><td>beta_19</td><td>0.1544</td></tr><tr><td>beta_5</td><td>beta_18</td><td>0.1537</td></tr><tr><td>beta_3</td><td>beta_7</td><td>-0.1529</td></tr><tr><td>beta_10</td><td>beta_12</td><td>-0.1523</td></tr><tr><td>beta_7</td><td>beta_17</td><td>0.1495</td></tr><tr><td>beta_16</td><td>beta_22</td><td>0.1461</td></tr><tr><td>beta_19</td><td>beta_24</td><td>0.1458</td></tr><tr><td>beta_2</td><td>beta_20</td><td>-0.1453</td></tr><tr><td>beta_5</td><td>beta_22</td><td>0.1440</td></tr><tr><td>beta_13</td><td>beta_21</td><td>-0.1427</td></tr><tr><td>beta_1</td><td>beta_7</td><td>0.1410</td></tr><tr><td>beta_20</td><td>gamma</td><td>-0.1409</td></tr><tr><td>beta_1</td><td>beta_3</td><td>-0.1361</td></tr><tr><td>beta_20</td><td>a</td><td>-0.1313</td></tr><tr><td>beta_16</td><td>beta_24</td><td>0.1307</td></tr><tr><td>beta_5</td><td>beta_9</td><td>0.1284</td></tr><tr><td>beta_16</td><td>beta_18</td><td>0.1269</td></tr><tr><td>beta_5</td><td>beta_12</td><td>-0.1220</td></tr><tr><td>beta_11</td><td>beta_12</td><td>-0.1208</td></tr><tr><td>beta_12</td><td>beta_24</td><td>-0.1206</td></tr><tr><td>beta_7</td><td>beta_19</td><td>-0.1171</td></tr><tr><td>beta_4</td><td>beta_9</td><td>0.1164</td></tr><tr><td>beta_2</td><td>beta_3</td><td>-0.1163</td></tr><tr><td>beta_4</td><td>beta_10</td><td>0.1155</td></tr><tr><td>beta_7</td><td>beta_14</td><td>0.1089</td></tr><tr><td>beta_5</td><td>beta_24</td><td>0.1078</td></tr><tr><td>beta_8</td><td>beta_23</td><td>-0.1062</td></tr><tr><td>beta_4</td><td>beta_15</td><td>0.1029</td></tr><tr><td>beta_5</td><td>beta_15</td><td>0.1023</td></tr><tr><td>beta_3</td><td>a</td><td>-0.1021</td></tr></table>"
            ],
            "text/plain": [
              "<lmfit.minimizer.MinimizerResult at 0x7f347b71bdd0>"
            ]
          },
          "metadata": {},
          "execution_count": 222
        }
      ],
      "source": [
        "fitted_params"
      ]
    },
    {
      "cell_type": "code",
      "execution_count": null,
      "metadata": {
        "id": "9qxCRV5-mVHT"
      },
      "outputs": [],
      "source": [
        "resultado = SIR_Model_5_2(beta_1_fit,beta_2_fit,beta_3_fit,beta_4_fit,beta_5_fit,beta_6_fit,beta_7_fit,beta_8_fit,beta_9_fit,beta_10_fit,beta_11_fit,beta_12_fit,beta_13_fit,beta_14_fit,beta_15_fit,beta_16_fit,beta_17_fit,beta_18_fit,beta_19_fit,beta_20_fit,beta_21_fit,beta_22_fit,beta_23_fit,beta_24_fit,gamma_fit,a_fit,t)"
      ]
    },
    {
      "cell_type": "code",
      "execution_count": null,
      "metadata": {
        "colab": {
          "base_uri": "https://localhost:8080/"
        },
        "outputId": "89b764ab-bed5-4c5c-9dae-9dcd2d16fd86",
        "id": "pSXeDB-wmVHT"
      },
      "outputs": [
        {
          "output_type": "execute_result",
          "data": {
            "text/plain": [
              "[<matplotlib.lines.Line2D at 0x7f347b6b1150>]"
            ]
          },
          "metadata": {},
          "execution_count": 224
        },
        {
          "output_type": "display_data",
          "data": {
            "image/png": "[encoded data removed]",
            "text/plain": [
              "<Figure size 432x288 with 1 Axes>"
            ]
          },
          "metadata": {
            "needs_background": "light"
          }
        }
      ],
      "source": [
        "plt.plot(resultado[:,0])\n",
        "plt.plot(datos.T[:,0])"
      ]
    },
    {
      "cell_type": "markdown",
      "source": [
        "## Ejemplo 6.2: poblaciones y distancias (compile hoy)"
      ],
      "metadata": {
        "id": "BtXWvS5sWzpe"
      }
    },
    {
      "cell_type": "code",
      "execution_count": 83,
      "metadata": {
        "id": "BnZ3bfxDXCih"
      },
      "outputs": [],
      "source": [
        "def deriv_6_2(y0,t,beta_1,beta_2,beta_3,beta_4,beta_5,beta_6,beta_7,beta_8,beta_9,beta_10,beta_11,beta_12,beta_13,beta_14,beta_15,beta_16,beta_17,beta_18,beta_19,beta_20,beta_21,beta_22,beta_23,beta_24,gamma,a):\n",
        "  n = 24\n",
        "  X = y0[0:n]\n",
        "  Y = y0[n:2*n]\n",
        "  Z = y0[2*n:]\n",
        "  A = np.zeros(shape=(n,n))\n",
        "  beta = np.array([beta_1,beta_2,beta_3,beta_4,beta_5,beta_6,beta_7,beta_8,beta_9,beta_10,beta_11,beta_12,beta_13,beta_14,beta_15,beta_16,beta_17,beta_18,beta_19,beta_20,beta_21,beta_22,beta_23,beta_24])\n",
        "  for i in range(n):\n",
        "    for j in range(n):\n",
        "      A[i,j] =  a*((population[i]+population[j])/nt)*(1/distancia_real[i,j])\n",
        "  for i in range(n):\n",
        "    A[i,i] = 0\n",
        "    for j in range(n):\n",
        "      if i != j:\n",
        "        A[i,i] -= A[i,j]\n",
        "  N = X+Y+Z\n",
        "  aux_X = np.zeros(n)\n",
        "  aux_Y = np.zeros(n)\n",
        "  aux_Z = np.zeros(n)\n",
        "  for i in range(n):\n",
        "    aux_X_2 = 0\n",
        "    aux_Y_2 = 0\n",
        "    aux_Z_2 = 0\n",
        "    for j in range(n):\n",
        "        aux_X_2 += A[i,j]*X[j]*(N[i]/N[j])\n",
        "        aux_Y_2 += A[i,j]*Y[j]*(N[i]/N[j])\n",
        "        aux_Z_2 += A[i,j]*Z[j]*(N[i]/N[j])\n",
        "    aux_X[i] = aux_X_2\n",
        "    aux_Y[i] = aux_Y_2\n",
        "    aux_Z[i] = aux_Z_2\n",
        "  dXdt = -beta*X*Y/N + (aux_X)\n",
        "  dYdt = beta*X*Y/N - gamma*Y + (aux_Y)\n",
        "  dZdt = gamma*Y + (aux_Z)\n",
        "  return np.concatenate((dXdt,dYdt,dZdt))"
      ]
    },
    {
      "cell_type": "code",
      "execution_count": 84,
      "metadata": {
        "id": "RdI_mj5iXCih"
      },
      "outputs": [],
      "source": [
        "def SIR_Model_6_lm_2(params,t,datos_reales):\n",
        "  beta_1= params['beta_1']\n",
        "  beta_2= params['beta_2']\n",
        "  beta_3= params['beta_3']\n",
        "  beta_4= params['beta_4']\n",
        "  beta_5= params['beta_5']\n",
        "  beta_6= params['beta_6']\n",
        "  beta_7= params['beta_7']\n",
        "  beta_8= params['beta_8']\n",
        "  beta_9= params['beta_9']\n",
        "  beta_10= params['beta_10']\n",
        "  beta_11= params['beta_11']\n",
        "  beta_12= params['beta_12']\n",
        "  beta_13= params['beta_13']\n",
        "  beta_14= params['beta_14']\n",
        "  beta_15= params['beta_15']\n",
        "  beta_16= params['beta_16']\n",
        "  beta_17= params['beta_17']\n",
        "  beta_18= params['beta_18']\n",
        "  beta_19= params['beta_19']\n",
        "  beta_20= params['beta_20']\n",
        "  beta_21= params['beta_21']\n",
        "  beta_22= params['beta_22']\n",
        "  beta_23= params['beta_23']\n",
        "  beta_24= params['beta_24']\n",
        "  gamma = params['gamma']\n",
        "  a = params['a']\n",
        "  n = 24\n",
        "  S = np.array([15625084,2890151,367828,1055259,509108,992595,3308876,1235994,530162,673307,318951,333642,1738929,1101593,551266,638645,1214441,681055,432310,273964,3194537,874006,127205,1448188])\n",
        "  R = np.zeros(n)*0.0\n",
        "  I = np.array([59,57,0,17,1,3,7,4,0,1,0,1,2,0,2,6,0,0,1,3,4,0,3,2]) #pop infected at day 70 by provinces\n",
        "  y0 = np.concatenate((S,I,R))\n",
        "  result = odeint(deriv_6_2,y0, t, args=(beta_1,beta_2,beta_3,beta_4,beta_5,beta_6,beta_7,beta_8,beta_9,beta_10,beta_11,beta_12,beta_13,beta_14,beta_15,beta_16,beta_17,beta_18,beta_19,beta_20,beta_21,beta_22,beta_23,beta_24,gamma,a))\n",
        "  I_fit = result[:,n:2*n]\n",
        "  return I_fit - datos_reales"
      ]
    },
    {
      "cell_type": "code",
      "execution_count": 85,
      "metadata": {
        "id": "zhdHqU-IXCii"
      },
      "outputs": [],
      "source": [
        "def SIR_Model_6_2(beta_1,beta_2,beta_3,beta_4,beta_5,beta_6,beta_7,beta_8,beta_9,beta_10,beta_11,beta_12,beta_13,beta_14,beta_15,beta_16,beta_17,beta_18,beta_19,beta_20,beta_21,beta_22,beta_23,beta_24,gamma,a,t):\n",
        "  n = 24\n",
        "  S = np.array([15625084,2890151,367828,1055259,509108,992595,3308876,1235994,530162,673307,318951,333642,1738929,1101593,551266,638645,1214441,681055,432310,273964,3194537,874006,127205,1448188])\n",
        "  R = np.zeros(n)*0.0\n",
        "  I = np.array([59,57,0,17,1,3,7,4,0,1,0,1,2,0,2,6,0,0,1,3,4,0,3,2]) #pop infected at day 70 by provinces\n",
        "  y0 = np.concatenate((S,I,R))\n",
        "  result = odeint(deriv_6_2,y0, t, args=(beta_1,beta_2,beta_3,beta_4,beta_5,beta_6,beta_7,beta_8,beta_9,beta_10,beta_11,beta_12,beta_13,beta_14,beta_15,beta_16,beta_17,beta_18,beta_19,beta_20,beta_21,beta_22,beta_23,beta_24,gamma,a))\n",
        "  I_fit = result[:,n:2*n]\n",
        "  return I_fit"
      ]
    },
    {
      "cell_type": "code",
      "execution_count": 86,
      "metadata": {
        "id": "ZFajp7TzXCii"
      },
      "outputs": [],
      "source": [
        "t = np.arange(datos.shape[1])\n",
        "params = Parameters()\n",
        "params.add('beta_1', min=0.0, max=0.5)\n",
        "params.add('beta_2', min=0.0, max=0.5)\n",
        "params.add('beta_3', min=0.0, max=0.5)\n",
        "params.add('beta_4', min=0.0, max=0.5)\n",
        "params.add('beta_5', min=0.0, max=0.5)\n",
        "params.add('beta_6', min=0.0, max=0.5)\n",
        "params.add('beta_7', min=0.0, max=0.5)\n",
        "params.add('beta_8', min=0.0, max=0.5)\n",
        "params.add('beta_9', min=0.0, max=0.5)\n",
        "params.add('beta_10', min=0.0, max=0.5)\n",
        "params.add('beta_11', min=0.0, max=0.5)\n",
        "params.add('beta_12', min=0.0, max=0.5)\n",
        "params.add('beta_13', min=0.0, max=0.5)\n",
        "params.add('beta_14', min=0.0, max=0.5)\n",
        "params.add('beta_15', min=0.0, max=0.5)\n",
        "params.add('beta_16', min=0.0, max=0.5)\n",
        "params.add('beta_17', min=0.0, max=0.5)\n",
        "params.add('beta_18', min=0.0, max=0.5)\n",
        "params.add('beta_19', min=0.0, max=0.5)\n",
        "params.add('beta_20', min=0.0, max=0.5)\n",
        "params.add('beta_21', min=0.0, max=0.5)\n",
        "params.add('beta_22', min=0.0, max=0.5)\n",
        "params.add('beta_23', min=0.0, max=0.5)\n",
        "params.add('beta_24', min=0.0, max=0.5)\n",
        "params.add('gamma', min=0.05, max=0.5)\n",
        "params.add('a',min=0.001,max=0.5)"
      ]
    },
    {
      "cell_type": "code",
      "execution_count": 87,
      "metadata": {
        "id": "GvaWVLQHXCii"
      },
      "outputs": [],
      "source": [
        "fitted_params = minimize(SIR_Model_6_lm_2, params, args=(t,datos.T,), method='least_squares')"
      ]
    },
    {
      "cell_type": "code",
      "execution_count": 88,
      "metadata": {
        "id": "vcdyvHR9XCii"
      },
      "outputs": [],
      "source": [
        "beta_1_fit = fitted_params.params['beta_1'].value\n",
        "beta_2_fit = fitted_params.params['beta_2'].value\n",
        "beta_3_fit = fitted_params.params['beta_3'].value\n",
        "beta_4_fit = fitted_params.params['beta_4'].value\n",
        "beta_5_fit = fitted_params.params['beta_5'].value\n",
        "beta_6_fit = fitted_params.params['beta_6'].value\n",
        "beta_7_fit = fitted_params.params['beta_7'].value\n",
        "beta_8_fit = fitted_params.params['beta_8'].value\n",
        "beta_9_fit = fitted_params.params['beta_9'].value\n",
        "beta_10_fit = fitted_params.params['beta_10'].value\n",
        "beta_11_fit = fitted_params.params['beta_11'].value\n",
        "beta_12_fit = fitted_params.params['beta_12'].value\n",
        "beta_13_fit = fitted_params.params['beta_13'].value\n",
        "beta_14_fit = fitted_params.params['beta_14'].value\n",
        "beta_15_fit = fitted_params.params['beta_15'].value\n",
        "beta_16_fit = fitted_params.params['beta_16'].value\n",
        "beta_17_fit = fitted_params.params['beta_17'].value\n",
        "beta_18_fit = fitted_params.params['beta_18'].value\n",
        "beta_19_fit = fitted_params.params['beta_19'].value\n",
        "beta_20_fit = fitted_params.params['beta_20'].value\n",
        "beta_21_fit = fitted_params.params['beta_21'].value\n",
        "beta_22_fit = fitted_params.params['beta_22'].value\n",
        "beta_23_fit = fitted_params.params['beta_23'].value\n",
        "beta_24_fit = fitted_params.params['beta_24'].value\n",
        "gamma_fit = fitted_params.params['gamma'].value    \n",
        "a_fit = fitted_params.params['a'].value    "
      ]
    },
    {
      "cell_type": "code",
      "execution_count": 89,
      "metadata": {
        "colab": {
          "base_uri": "https://localhost:8080/"
        },
        "outputId": "24e03e8d-df15-4018-8b25-1b83fb1d0a9b",
        "id": "x2IPiFq_XCii"
      },
      "outputs": [
        {
          "output_type": "execute_result",
          "data": {
            "text/plain": [
              "3.0468222884617973"
            ]
          },
          "metadata": {},
          "execution_count": 89
        }
      ],
      "source": [
        "1/gamma_fit"
      ]
    },
    {
      "cell_type": "code",
      "execution_count": 90,
      "metadata": {
        "colab": {
          "base_uri": "https://localhost:8080/",
          "height": 1000
        },
        "outputId": "4e35b9fb-92cf-4ae1-a1ae-bae8414abbc3",
        "id": "62RBaRaKXCij"
      },
      "outputs": [
        {
          "output_type": "execute_result",
          "data": {
            "text/html": [
              "<h2>Fit Statistics</h2><table><tr><td>fitting method</td><td>least_squares</td><td></td></tr><tr><td># function evals</td><td>134</td><td></td></tr><tr><td># data points</td><td>6264</td><td></td></tr><tr><td># variables</td><td>26</td><td></td></tr><tr><td>chi-square</td><td> 2.0796e+10</td><td></td></tr><tr><td>reduced chi-square</td><td> 3333688.29</td><td></td></tr><tr><td>Akaike info crit.</td><td> 94108.6567</td><td></td></tr><tr><td>Bayesian info crit.</td><td> 94283.9636</td><td></td></tr></table><h2>Variables</h2><table><tr><th> name </th><th> value </th><th> standard error </th><th> relative error </th><th> initial value </th><th> min </th><th> max </th><th> vary </th></tr><tr><td> beta_1 </td><td>  0.36510642 </td><td>  0.00103198 </td><td> (0.28%) </td><td> 0.0 </td><td>  0.00000000 </td><td>  0.50000000 </td><td> True </td></tr><tr><td> beta_2 </td><td>  0.37714961 </td><td>  8.8532e-04 </td><td> (0.23%) </td><td> 0.0 </td><td>  0.00000000 </td><td>  0.50000000 </td><td> True </td></tr><tr><td> beta_3 </td><td>  0.03789802 </td><td>  14.2294600 </td><td> (37546.71%) </td><td> 0.0 </td><td>  0.00000000 </td><td>  0.50000000 </td><td> True </td></tr><tr><td> beta_4 </td><td>  0.35297431 </td><td>  0.00125432 </td><td> (0.36%) </td><td> 0.0 </td><td>  0.00000000 </td><td>  0.50000000 </td><td> True </td></tr><tr><td> beta_5 </td><td>  0.36877757 </td><td>  0.00137400 </td><td> (0.37%) </td><td> 0.0 </td><td>  0.00000000 </td><td>  0.50000000 </td><td> True </td></tr><tr><td> beta_6 </td><td>  0.34757023 </td><td>  0.00248633 </td><td> (0.72%) </td><td> 0.0 </td><td>  0.00000000 </td><td>  0.50000000 </td><td> True </td></tr><tr><td> beta_7 </td><td>  0.36617061 </td><td>  0.00100638 </td><td> (0.27%) </td><td> 0.0 </td><td>  0.00000000 </td><td>  0.50000000 </td><td> True </td></tr><tr><td> beta_8 </td><td>  0.35213335 </td><td>  0.00156632 </td><td> (0.44%) </td><td> 0.0 </td><td>  0.00000000 </td><td>  0.50000000 </td><td> True </td></tr><tr><td> beta_9 </td><td>  0.04061179 </td><td>  12.3237368 </td><td> (30345.22%) </td><td> 0.0 </td><td>  0.00000000 </td><td>  0.50000000 </td><td> True </td></tr><tr><td> beta_10 </td><td>  0.35570735 </td><td>  0.00188313 </td><td> (0.53%) </td><td> 0.0 </td><td>  0.00000000 </td><td>  0.50000000 </td><td> True </td></tr><tr><td> beta_11 </td><td>  0.29310746 </td><td>  0.36909623 </td><td> (125.93%) </td><td> 0.0 </td><td>  0.00000000 </td><td>  0.50000000 </td><td> True </td></tr><tr><td> beta_12 </td><td>  0.36221041 </td><td>  0.00212610 </td><td> (0.59%) </td><td> 0.0 </td><td>  0.00000000 </td><td>  0.50000000 </td><td> True </td></tr><tr><td> beta_13 </td><td>  0.37038074 </td><td>  0.00101165 </td><td> (0.27%) </td><td> 0.0 </td><td>  0.00000000 </td><td>  0.50000000 </td><td> True </td></tr><tr><td> beta_14 </td><td>  0.11134831 </td><td>  3.26599226 </td><td> (2933.13%) </td><td> 0.0 </td><td>  0.00000000 </td><td>  0.50000000 </td><td> True </td></tr><tr><td> beta_15 </td><td>  0.36909359 </td><td>  0.00126498 </td><td> (0.34%) </td><td> 0.0 </td><td>  0.00000000 </td><td>  0.50000000 </td><td> True </td></tr><tr><td> beta_16 </td><td>  0.36408193 </td><td>  0.00129739 </td><td> (0.36%) </td><td> 0.0 </td><td>  0.00000000 </td><td>  0.50000000 </td><td> True </td></tr><tr><td> beta_17 </td><td>  0.35679380 </td><td>  0.00144443 </td><td> (0.40%) </td><td> 0.0 </td><td>  0.00000000 </td><td>  0.50000000 </td><td> True </td></tr><tr><td> beta_18 </td><td>  0.35990497 </td><td>  0.00177554 </td><td> (0.49%) </td><td> 0.0 </td><td>  0.00000000 </td><td>  0.50000000 </td><td> True </td></tr><tr><td> beta_19 </td><td>  0.36551550 </td><td>  0.00163161 </td><td> (0.45%) </td><td> 0.0 </td><td>  0.00000000 </td><td>  0.50000000 </td><td> True </td></tr><tr><td> beta_20 </td><td>  0.36167191 </td><td>  0.00244608 </td><td> (0.68%) </td><td> 0.0 </td><td>  0.00000000 </td><td>  0.50000000 </td><td> True </td></tr><tr><td> beta_21 </td><td>  0.37067943 </td><td>  0.00102470 </td><td> (0.28%) </td><td> 0.0 </td><td>  0.00000000 </td><td>  0.50000000 </td><td> True </td></tr><tr><td> beta_22 </td><td>  0.36224208 </td><td>  0.00141758 </td><td> (0.39%) </td><td> 0.0 </td><td>  0.00000000 </td><td>  0.50000000 </td><td> True </td></tr><tr><td> beta_23 </td><td>  0.49970785 </td><td>  0.00204477 </td><td> (0.41%) </td><td> 0.0 </td><td>  0.00000000 </td><td>  0.50000000 </td><td> True </td></tr><tr><td> beta_24 </td><td>  0.37163506 </td><td>  0.00101120 </td><td> (0.27%) </td><td> 0.0 </td><td>  0.00000000 </td><td>  0.50000000 </td><td> True </td></tr><tr><td> gamma </td><td>  0.32821081 </td><td>  8.9143e-04 </td><td> (0.27%) </td><td> 0.05 </td><td>  0.05000000 </td><td>  0.50000000 </td><td> True </td></tr><tr><td> a </td><td>  0.49867770 </td><td>  0.01227265 </td><td> (2.46%) </td><td> 0.001 </td><td>  1.0000e-03 </td><td>  0.50000000 </td><td> True </td></tr></table><h2>Correlations (unreported correlations are < 0.100)</h2><table><tr><td>beta_1</td><td>gamma</td><td>0.9968</td></tr><tr><td>beta_2</td><td>gamma</td><td>0.9888</td></tr><tr><td>beta_1</td><td>beta_2</td><td>0.9827</td></tr><tr><td>beta_21</td><td>gamma</td><td>0.9780</td></tr><tr><td>beta_7</td><td>gamma</td><td>0.9766</td></tr><tr><td>beta_1</td><td>beta_21</td><td>0.9744</td></tr><tr><td>beta_1</td><td>beta_7</td><td>0.9735</td></tr><tr><td>beta_2</td><td>beta_21</td><td>0.9705</td></tr><tr><td>beta_2</td><td>beta_7</td><td>0.9693</td></tr><tr><td>beta_7</td><td>beta_21</td><td>0.9569</td></tr><tr><td>beta_13</td><td>gamma</td><td>0.9439</td></tr><tr><td>beta_1</td><td>beta_13</td><td>0.9397</td></tr><tr><td>beta_2</td><td>beta_13</td><td>0.9394</td></tr><tr><td>beta_24</td><td>gamma</td><td>0.9300</td></tr><tr><td>beta_13</td><td>beta_21</td><td>0.9269</td></tr><tr><td>beta_1</td><td>beta_24</td><td>0.9259</td></tr><tr><td>beta_7</td><td>beta_13</td><td>0.9250</td></tr><tr><td>beta_2</td><td>beta_24</td><td>0.9234</td></tr><tr><td>beta_21</td><td>beta_24</td><td>0.9124</td></tr><tr><td>beta_7</td><td>beta_24</td><td>0.9110</td></tr><tr><td>beta_13</td><td>beta_24</td><td>0.8826</td></tr><tr><td>beta_1</td><td>a</td><td>-0.8230</td></tr><tr><td>gamma</td><td>a</td><td>-0.8158</td></tr><tr><td>beta_2</td><td>a</td><td>-0.7988</td></tr><tr><td>beta_7</td><td>a</td><td>-0.7865</td></tr><tr><td>beta_21</td><td>a</td><td>-0.7786</td></tr><tr><td>beta_13</td><td>a</td><td>-0.7466</td></tr><tr><td>beta_22</td><td>gamma</td><td>0.7450</td></tr><tr><td>beta_1</td><td>beta_22</td><td>0.7429</td></tr><tr><td>beta_2</td><td>beta_22</td><td>0.7405</td></tr><tr><td>beta_24</td><td>a</td><td>-0.7394</td></tr><tr><td>beta_17</td><td>gamma</td><td>0.7296</td></tr><tr><td>beta_1</td><td>beta_17</td><td>0.7282</td></tr><tr><td>beta_21</td><td>beta_22</td><td>0.7277</td></tr><tr><td>beta_7</td><td>beta_22</td><td>0.7268</td></tr><tr><td>beta_2</td><td>beta_17</td><td>0.7243</td></tr><tr><td>beta_17</td><td>beta_21</td><td>0.7131</td></tr><tr><td>beta_7</td><td>beta_17</td><td>0.7126</td></tr><tr><td>beta_13</td><td>beta_22</td><td>0.7022</td></tr><tr><td>beta_2</td><td>beta_4</td><td>0.6971</td></tr><tr><td>beta_4</td><td>gamma</td><td>0.6962</td></tr><tr><td>beta_1</td><td>beta_4</td><td>0.6908</td></tr><tr><td>beta_22</td><td>beta_24</td><td>0.6878</td></tr><tr><td>beta_13</td><td>beta_17</td><td>0.6877</td></tr><tr><td>beta_4</td><td>beta_21</td><td>0.6827</td></tr><tr><td>beta_4</td><td>beta_7</td><td>0.6800</td></tr><tr><td>beta_16</td><td>gamma</td><td>0.6795</td></tr><tr><td>beta_1</td><td>beta_16</td><td>0.6748</td></tr><tr><td>beta_17</td><td>beta_24</td><td>0.6744</td></tr><tr><td>beta_15</td><td>gamma</td><td>0.6705</td></tr><tr><td>beta_2</td><td>beta_15</td><td>0.6697</td></tr><tr><td>beta_2</td><td>beta_16</td><td>0.6639</td></tr><tr><td>beta_1</td><td>beta_15</td><td>0.6630</td></tr><tr><td>beta_16</td><td>beta_21</td><td>0.6628</td></tr><tr><td>beta_7</td><td>beta_16</td><td>0.6615</td></tr><tr><td>beta_15</td><td>beta_21</td><td>0.6586</td></tr><tr><td>beta_4</td><td>beta_13</td><td>0.6553</td></tr><tr><td>beta_7</td><td>beta_15</td><td>0.6542</td></tr><tr><td>beta_4</td><td>beta_24</td><td>0.6458</td></tr><tr><td>beta_13</td><td>beta_16</td><td>0.6409</td></tr><tr><td>beta_5</td><td>gamma</td><td>0.6382</td></tr><tr><td>beta_2</td><td>beta_5</td><td>0.6345</td></tr><tr><td>beta_1</td><td>beta_5</td><td>0.6336</td></tr><tr><td>beta_22</td><td>a</td><td>-0.6332</td></tr><tr><td>beta_16</td><td>beta_24</td><td>0.6308</td></tr><tr><td>beta_13</td><td>beta_15</td><td>0.6296</td></tr><tr><td>beta_5</td><td>beta_21</td><td>0.6253</td></tr><tr><td>beta_5</td><td>beta_7</td><td>0.6249</td></tr><tr><td>beta_15</td><td>beta_24</td><td>0.6228</td></tr><tr><td>beta_8</td><td>gamma</td><td>0.6161</td></tr><tr><td>beta_17</td><td>a</td><td>-0.6161</td></tr><tr><td>beta_1</td><td>beta_8</td><td>0.6133</td></tr><tr><td>beta_2</td><td>beta_8</td><td>0.6112</td></tr><tr><td>beta_16</td><td>a</td><td>-0.6099</td></tr><tr><td>beta_5</td><td>beta_13</td><td>0.6042</td></tr><tr><td>beta_18</td><td>gamma</td><td>0.6026</td></tr><tr><td>beta_7</td><td>beta_8</td><td>0.6009</td></tr><tr><td>beta_1</td><td>beta_18</td><td>0.6001</td></tr><tr><td>beta_2</td><td>beta_18</td><td>0.5998</td></tr><tr><td>beta_5</td><td>beta_24</td><td>0.5943</td></tr><tr><td>beta_18</td><td>beta_21</td><td>0.5885</td></tr><tr><td>beta_7</td><td>beta_18</td><td>0.5872</td></tr><tr><td>beta_8</td><td>a</td><td>-0.5837</td></tr><tr><td>beta_8</td><td>beta_13</td><td>0.5828</td></tr><tr><td>beta_4</td><td>a</td><td>-0.5773</td></tr><tr><td>beta_8</td><td>beta_24</td><td>0.5741</td></tr><tr><td>beta_8</td><td>beta_21</td><td>0.5715</td></tr><tr><td>beta_5</td><td>a</td><td>-0.5659</td></tr><tr><td>beta_13</td><td>beta_18</td><td>0.5637</td></tr><tr><td>beta_18</td><td>beta_24</td><td>0.5593</td></tr><tr><td>beta_15</td><td>a</td><td>-0.5528</td></tr><tr><td>beta_17</td><td>beta_22</td><td>0.5432</td></tr><tr><td>beta_4</td><td>beta_22</td><td>0.5159</td></tr><tr><td>beta_10</td><td>a</td><td>-0.5140</td></tr><tr><td>beta_18</td><td>a</td><td>-0.5116</td></tr><tr><td>beta_16</td><td>beta_22</td><td>0.5105</td></tr><tr><td>beta_2</td><td>beta_19</td><td>0.5083</td></tr><tr><td>beta_19</td><td>gamma</td><td>0.5076</td></tr><tr><td>beta_4</td><td>beta_17</td><td>0.5055</td></tr><tr><td>beta_1</td><td>beta_19</td><td>0.5006</td></tr><tr><td>beta_15</td><td>beta_22</td><td>0.4997</td></tr><tr><td>beta_16</td><td>beta_17</td><td>0.4985</td></tr><tr><td>beta_10</td><td>gamma</td><td>0.4968</td></tr><tr><td>beta_1</td><td>beta_10</td><td>0.4960</td></tr><tr><td>beta_19</td><td>beta_21</td><td>0.4949</td></tr><tr><td>beta_23</td><td>a</td><td>-0.4946</td></tr><tr><td>beta_7</td><td>beta_19</td><td>0.4923</td></tr><tr><td>beta_2</td><td>beta_10</td><td>0.4917</td></tr><tr><td>beta_19</td><td>a</td><td>-0.4911</td></tr><tr><td>beta_15</td><td>beta_17</td><td>0.4891</td></tr><tr><td>beta_10</td><td>beta_21</td><td>0.4869</td></tr><tr><td>beta_7</td><td>beta_10</td><td>0.4859</td></tr><tr><td>beta_5</td><td>beta_22</td><td>0.4777</td></tr><tr><td>beta_4</td><td>beta_16</td><td>0.4750</td></tr><tr><td>beta_13</td><td>beta_19</td><td>0.4732</td></tr><tr><td>beta_10</td><td>beta_13</td><td>0.4713</td></tr><tr><td>beta_19</td><td>beta_24</td><td>0.4705</td></tr><tr><td>beta_5</td><td>beta_17</td><td>0.4687</td></tr><tr><td>beta_8</td><td>beta_22</td><td>0.4649</td></tr><tr><td>beta_10</td><td>beta_24</td><td>0.4609</td></tr><tr><td>beta_4</td><td>beta_15</td><td>0.4589</td></tr><tr><td>beta_8</td><td>beta_17</td><td>0.4540</td></tr><tr><td>beta_15</td><td>beta_16</td><td>0.4517</td></tr><tr><td>beta_18</td><td>beta_22</td><td>0.4493</td></tr><tr><td>beta_4</td><td>beta_5</td><td>0.4410</td></tr><tr><td>beta_17</td><td>beta_18</td><td>0.4399</td></tr><tr><td>beta_12</td><td>gamma</td><td>0.4352</td></tr><tr><td>beta_1</td><td>beta_12</td><td>0.4288</td></tr><tr><td>beta_6</td><td>gamma</td><td>0.4287</td></tr><tr><td>beta_5</td><td>beta_16</td><td>0.4283</td></tr><tr><td>beta_2</td><td>beta_12</td><td>0.4279</td></tr><tr><td>beta_1</td><td>beta_6</td><td>0.4267</td></tr><tr><td>beta_2</td><td>beta_6</td><td>0.4236</td></tr><tr><td>beta_4</td><td>beta_8</td><td>0.4225</td></tr><tr><td>beta_5</td><td>beta_15</td><td>0.4209</td></tr><tr><td>beta_12</td><td>beta_21</td><td>0.4202</td></tr><tr><td>beta_4</td><td>beta_18</td><td>0.4189</td></tr><tr><td>beta_8</td><td>beta_16</td><td>0.4186</td></tr><tr><td>beta_6</td><td>beta_7</td><td>0.4172</td></tr><tr><td>beta_6</td><td>beta_21</td><td>0.4165</td></tr><tr><td>beta_7</td><td>beta_12</td><td>0.4152</td></tr><tr><td>beta_20</td><td>a</td><td>-0.4137</td></tr><tr><td>beta_16</td><td>beta_18</td><td>0.4134</td></tr><tr><td>beta_8</td><td>beta_15</td><td>0.4083</td></tr><tr><td>beta_12</td><td>beta_13</td><td>0.4050</td></tr><tr><td>beta_15</td><td>beta_18</td><td>0.4041</td></tr><tr><td>beta_6</td><td>beta_13</td><td>0.4035</td></tr><tr><td>beta_12</td><td>beta_24</td><td>0.3975</td></tr><tr><td>beta_6</td><td>beta_24</td><td>0.3969</td></tr><tr><td>beta_5</td><td>beta_8</td><td>0.3949</td></tr><tr><td>beta_12</td><td>a</td><td>-0.3946</td></tr><tr><td>beta_5</td><td>beta_18</td><td>0.3875</td></tr><tr><td>beta_19</td><td>beta_22</td><td>0.3799</td></tr><tr><td>beta_10</td><td>beta_22</td><td>0.3751</td></tr><tr><td>beta_8</td><td>beta_18</td><td>0.3746</td></tr><tr><td>beta_17</td><td>beta_19</td><td>0.3734</td></tr><tr><td>beta_6</td><td>a</td><td>-0.3620</td></tr><tr><td>beta_4</td><td>beta_19</td><td>0.3460</td></tr><tr><td>beta_10</td><td>beta_17</td><td>0.3443</td></tr><tr><td>beta_4</td><td>beta_10</td><td>0.3438</td></tr><tr><td>beta_16</td><td>beta_19</td><td>0.3415</td></tr><tr><td>beta_23</td><td>gamma</td><td>0.3355</td></tr><tr><td>beta_10</td><td>beta_16</td><td>0.3330</td></tr><tr><td>beta_10</td><td>beta_15</td><td>0.3328</td></tr><tr><td>beta_1</td><td>beta_23</td><td>0.3314</td></tr><tr><td>beta_15</td><td>beta_19</td><td>0.3304</td></tr><tr><td>beta_12</td><td>beta_22</td><td>0.3196</td></tr><tr><td>beta_6</td><td>beta_22</td><td>0.3176</td></tr><tr><td>beta_5</td><td>beta_10</td><td>0.3168</td></tr><tr><td>beta_5</td><td>beta_19</td><td>0.3160</td></tr><tr><td>beta_8</td><td>beta_19</td><td>0.3115</td></tr><tr><td>beta_12</td><td>beta_17</td><td>0.3112</td></tr><tr><td>beta_6</td><td>beta_17</td><td>0.3106</td></tr><tr><td>beta_8</td><td>beta_10</td><td>0.3075</td></tr><tr><td>beta_10</td><td>beta_18</td><td>0.3047</td></tr><tr><td>beta_18</td><td>beta_19</td><td>0.3038</td></tr><tr><td>beta_4</td><td>beta_12</td><td>0.3028</td></tr><tr><td>beta_20</td><td>gamma</td><td>0.3018</td></tr><tr><td>beta_1</td><td>beta_20</td><td>0.2987</td></tr><tr><td>beta_20</td><td>beta_21</td><td>0.2959</td></tr><tr><td>beta_7</td><td>beta_20</td><td>0.2948</td></tr><tr><td>beta_6</td><td>beta_16</td><td>0.2942</td></tr><tr><td>beta_12</td><td>beta_15</td><td>0.2913</td></tr><tr><td>beta_2</td><td>beta_20</td><td>0.2907</td></tr><tr><td>beta_6</td><td>beta_15</td><td>0.2886</td></tr><tr><td>beta_12</td><td>beta_16</td><td>0.2877</td></tr><tr><td>beta_13</td><td>beta_20</td><td>0.2868</td></tr><tr><td>beta_7</td><td>beta_23</td><td>0.2840</td></tr><tr><td>beta_20</td><td>beta_24</td><td>0.2813</td></tr><tr><td>beta_21</td><td>beta_23</td><td>0.2793</td></tr><tr><td>beta_5</td><td>beta_6</td><td>0.2762</td></tr><tr><td>beta_5</td><td>beta_12</td><td>0.2760</td></tr><tr><td>beta_6</td><td>beta_8</td><td>0.2661</td></tr><tr><td>beta_8</td><td>beta_12</td><td>0.2649</td></tr><tr><td>beta_23</td><td>beta_24</td><td>0.2634</td></tr><tr><td>beta_16</td><td>beta_23</td><td>0.2630</td></tr><tr><td>beta_12</td><td>beta_18</td><td>0.2589</td></tr><tr><td>beta_6</td><td>beta_18</td><td>0.2573</td></tr><tr><td>beta_2</td><td>beta_23</td><td>0.2537</td></tr><tr><td>beta_13</td><td>beta_23</td><td>0.2526</td></tr><tr><td>beta_10</td><td>beta_19</td><td>0.2493</td></tr><tr><td>beta_22</td><td>beta_23</td><td>0.2418</td></tr><tr><td>beta_8</td><td>beta_23</td><td>0.2401</td></tr><tr><td>beta_10</td><td>beta_23</td><td>0.2382</td></tr><tr><td>beta_20</td><td>beta_22</td><td>0.2360</td></tr><tr><td>beta_17</td><td>beta_23</td><td>0.2328</td></tr><tr><td>beta_17</td><td>beta_20</td><td>0.2295</td></tr><tr><td>beta_6</td><td>beta_19</td><td>0.2211</td></tr><tr><td>beta_12</td><td>beta_19</td><td>0.2208</td></tr><tr><td>beta_6</td><td>beta_10</td><td>0.2167</td></tr><tr><td>beta_20</td><td>beta_23</td><td>0.2164</td></tr><tr><td>beta_5</td><td>beta_23</td><td>0.2158</td></tr><tr><td>beta_4</td><td>beta_20</td><td>0.2105</td></tr><tr><td>beta_12</td><td>beta_23</td><td>0.2040</td></tr><tr><td>beta_4</td><td>beta_23</td><td>0.2039</td></tr><tr><td>beta_10</td><td>beta_12</td><td>0.2037</td></tr><tr><td>beta_15</td><td>beta_20</td><td>0.1986</td></tr><tr><td>beta_18</td><td>beta_23</td><td>0.1976</td></tr><tr><td>beta_19</td><td>beta_23</td><td>0.1975</td></tr><tr><td>beta_15</td><td>beta_23</td><td>0.1955</td></tr><tr><td>beta_4</td><td>beta_6</td><td>0.1951</td></tr><tr><td>beta_18</td><td>beta_20</td><td>0.1919</td></tr><tr><td>beta_16</td><td>beta_20</td><td>0.1897</td></tr><tr><td>beta_8</td><td>beta_20</td><td>0.1864</td></tr><tr><td>beta_6</td><td>beta_12</td><td>0.1859</td></tr><tr><td>beta_5</td><td>beta_20</td><td>0.1845</td></tr><tr><td>beta_6</td><td>beta_23</td><td>0.1514</td></tr><tr><td>beta_19</td><td>beta_20</td><td>0.1431</td></tr><tr><td>beta_6</td><td>beta_20</td><td>0.1385</td></tr><tr><td>beta_10</td><td>beta_20</td><td>0.1349</td></tr><tr><td>beta_12</td><td>beta_20</td><td>0.1142</td></tr></table>"
            ],
            "text/plain": [
              "<lmfit.minimizer.MinimizerResult at 0x7f6f97363750>"
            ]
          },
          "metadata": {},
          "execution_count": 90
        }
      ],
      "source": [
        "fitted_params"
      ]
    },
    {
      "cell_type": "code",
      "execution_count": 91,
      "metadata": {
        "id": "wadl6epIXCij"
      },
      "outputs": [],
      "source": [
        "resultado = SIR_Model_6_2(beta_1_fit,beta_2_fit,beta_3_fit,beta_4_fit,beta_5_fit,beta_6_fit,beta_7_fit,beta_8_fit,beta_9_fit,beta_10_fit,beta_11_fit,beta_12_fit,beta_13_fit,beta_14_fit,beta_15_fit,beta_16_fit,beta_17_fit,beta_18_fit,beta_19_fit,beta_20_fit,beta_21_fit,beta_22_fit,beta_23_fit,beta_24_fit,gamma_fit,a_fit,t)"
      ]
    },
    {
      "cell_type": "code",
      "source": [
        "## AHORA ESTOY ACA, ESPERAR PARA HACER LOS GRÁFICOS ##"
      ],
      "metadata": {
        "id": "RPRsH0Ynvyuf"
      },
      "execution_count": null,
      "outputs": []
    },
    {
      "cell_type": "code",
      "execution_count": 92,
      "metadata": {
        "colab": {
          "base_uri": "https://localhost:8080/",
          "height": 282
        },
        "outputId": "c82db107-6646-4951-daea-57c75bb2f0dc",
        "id": "bSX4O94yXCij"
      },
      "outputs": [
        {
          "output_type": "execute_result",
          "data": {
            "text/plain": [
              "[<matplotlib.lines.Line2D at 0x7f6f972a2d90>]"
            ]
          },
          "metadata": {},
          "execution_count": 92
        },
        {
          "output_type": "display_data",
          "data": {
            "image/png": "[encoded data removed]",
            "text/plain": [
              "<Figure size 432x288 with 1 Axes>"
            ]
          },
          "metadata": {
            "needs_background": "light"
          }
        }
      ],
      "source": [
        "plt.plot(resultado[:,0])\n",
        "plt.plot(datos.T[:,0])"
      ]
    },
    {
      "cell_type": "code",
      "source": [
        "for i in range(24):\n",
        "  print(orden_provs[i])\n",
        "  plt.plot(resultado[:,i])\n",
        "  plt.plot(datos.T[:,i])\n",
        "  plt.show()"
      ],
      "metadata": {
        "colab": {
          "base_uri": "https://localhost:8080/",
          "height": 1000
        },
        "id": "yEl0yu0V-vkV",
        "outputId": "1748f78e-a213-4a41-df13-6e6c9b7321bb"
      },
      "execution_count": 94,
      "outputs": [
        {
          "output_type": "stream",
          "name": "stdout",
          "text": [
            "BA\n"
          ]
        },
        {
          "output_type": "display_data",
          "data": {
            "image/png": "[encoded data removed]",
            "text/plain": [
              "<Figure size 432x288 with 1 Axes>"
            ]
          },
          "metadata": {
            "needs_background": "light"
          }
        },
        {
          "output_type": "stream",
          "name": "stdout",
          "text": [
            "CABA\n"
          ]
        },
        {
          "output_type": "display_data",
          "data": {
            "image/png": "[encoded data removed]",
            "text/plain": [
              "<Figure size 432x288 with 1 Axes>"
            ]
          },
          "metadata": {
            "needs_background": "light"
          }
        },
        {
          "output_type": "stream",
          "name": "stdout",
          "text": [
            "CA\n"
          ]
        },
        {
          "output_type": "display_data",
          "data": {
            "image/png": "[encoded data removed]",
            "text/plain": [
              "<Figure size 432x288 with 1 Axes>"
            ]
          },
          "metadata": {
            "needs_background": "light"
          }
        },
        {
          "output_type": "stream",
          "name": "stdout",
          "text": [
            "CHA\n"
          ]
        },
        {
          "output_type": "display_data",
          "data": {
            "image/png": "[encoded data removed]",
            "text/plain": [
              "<Figure size 432x288 with 1 Axes>"
            ]
          },
          "metadata": {
            "needs_background": "light"
          }
        },
        {
          "output_type": "stream",
          "name": "stdout",
          "text": [
            "CHU\n"
          ]
        },
        {
          "output_type": "display_data",
          "data": {
            "image/png": "[encoded data removed]",
            "text/plain": [
              "<Figure size 432x288 with 1 Axes>"
            ]
          },
          "metadata": {
            "needs_background": "light"
          }
        },
        {
          "output_type": "stream",
          "name": "stdout",
          "text": [
            "COR\n"
          ]
        },
        {
          "output_type": "display_data",
          "data": {
            "image/png": "[encoded data removed]",
            "text/plain": [
              "<Figure size 432x288 with 1 Axes>"
            ]
          },
          "metadata": {
            "needs_background": "light"
          }
        },
        {
          "output_type": "stream",
          "name": "stdout",
          "text": [
            "CB\n"
          ]
        },
        {
          "output_type": "display_data",
          "data": {
            "image/png": "[encoded data removed]",
            "text/plain": [
              "<Figure size 432x288 with 1 Axes>"
            ]
          },
          "metadata": {
            "needs_background": "light"
          }
        },
        {
          "output_type": "stream",
          "name": "stdout",
          "text": [
            "ER\n"
          ]
        },
        {
          "output_type": "display_data",
          "data": {
            "image/png": "[encoded data removed]",
            "text/plain": [
              "<Figure size 432x288 with 1 Axes>"
            ]
          },
          "metadata": {
            "needs_background": "light"
          }
        },
        {
          "output_type": "stream",
          "name": "stdout",
          "text": [
            "FO\n"
          ]
        },
        {
          "output_type": "display_data",
          "data": {
            "image/png": "[encoded data removed]",
            "text/plain": [
              "<Figure size 432x288 with 1 Axes>"
            ]
          },
          "metadata": {
            "needs_background": "light"
          }
        },
        {
          "output_type": "stream",
          "name": "stdout",
          "text": [
            "JU\n"
          ]
        },
        {
          "output_type": "display_data",
          "data": {
            "image/png": "[encoded data removed]",
            "text/plain": [
              "<Figure size 432x288 with 1 Axes>"
            ]
          },
          "metadata": {
            "needs_background": "light"
          }
        },
        {
          "output_type": "stream",
          "name": "stdout",
          "text": [
            "LP\n"
          ]
        },
        {
          "output_type": "display_data",
          "data": {
            "image/png": "[encoded data removed]",
            "text/plain": [
              "<Figure size 432x288 with 1 Axes>"
            ]
          },
          "metadata": {
            "needs_background": "light"
          }
        },
        {
          "output_type": "stream",
          "name": "stdout",
          "text": [
            "LR\n"
          ]
        },
        {
          "output_type": "display_data",
          "data": {
            "image/png": "[encoded data removed]",
            "text/plain": [
              "<Figure size 432x288 with 1 Axes>"
            ]
          },
          "metadata": {
            "needs_background": "light"
          }
        },
        {
          "output_type": "stream",
          "name": "stdout",
          "text": [
            "MZ\n"
          ]
        },
        {
          "output_type": "display_data",
          "data": {
            "image/png": "[encoded data removed]",
            "text/plain": [
              "<Figure size 432x288 with 1 Axes>"
            ]
          },
          "metadata": {
            "needs_background": "light"
          }
        },
        {
          "output_type": "stream",
          "name": "stdout",
          "text": [
            "MI\n"
          ]
        },
        {
          "output_type": "display_data",
          "data": {
            "image/png": "[encoded data removed]",
            "text/plain": [
              "<Figure size 432x288 with 1 Axes>"
            ]
          },
          "metadata": {
            "needs_background": "light"
          }
        },
        {
          "output_type": "stream",
          "name": "stdout",
          "text": [
            "NQ\n"
          ]
        },
        {
          "output_type": "display_data",
          "data": {
            "image/png": "[encoded data removed]",
            "text/plain": [
              "<Figure size 432x288 with 1 Axes>"
            ]
          },
          "metadata": {
            "needs_background": "light"
          }
        },
        {
          "output_type": "stream",
          "name": "stdout",
          "text": [
            "RN\n"
          ]
        },
        {
          "output_type": "display_data",
          "data": {
            "image/png": "[encoded data removed]",
            "text/plain": [
              "<Figure size 432x288 with 1 Axes>"
            ]
          },
          "metadata": {
            "needs_background": "light"
          }
        },
        {
          "output_type": "stream",
          "name": "stdout",
          "text": [
            "ST\n"
          ]
        },
        {
          "output_type": "display_data",
          "data": {
            "image/png": "[encoded data removed]",
            "text/plain": [
              "<Figure size 432x288 with 1 Axes>"
            ]
          },
          "metadata": {
            "needs_background": "light"
          }
        },
        {
          "output_type": "stream",
          "name": "stdout",
          "text": [
            "SJ\n"
          ]
        },
        {
          "output_type": "display_data",
          "data": {
            "image/png": "[encoded data removed]",
            "text/plain": [
              "<Figure size 432x288 with 1 Axes>"
            ]
          },
          "metadata": {
            "needs_background": "light"
          }
        },
        {
          "output_type": "stream",
          "name": "stdout",
          "text": [
            "SL\n"
          ]
        },
        {
          "output_type": "display_data",
          "data": {
            "image/png": "[encoded data removed]",
            "text/plain": [
              "<Figure size 432x288 with 1 Axes>"
            ]
          },
          "metadata": {
            "needs_background": "light"
          }
        },
        {
          "output_type": "stream",
          "name": "stdout",
          "text": [
            "SC\n"
          ]
        },
        {
          "output_type": "display_data",
          "data": {
            "image/png": "[encoded data removed]",
            "text/plain": [
              "<Figure size 432x288 with 1 Axes>"
            ]
          },
          "metadata": {
            "needs_background": "light"
          }
        },
        {
          "output_type": "stream",
          "name": "stdout",
          "text": [
            "SF\n"
          ]
        },
        {
          "output_type": "display_data",
          "data": {
            "image/png": "[encoded data removed]",
            "text/plain": [
              "<Figure size 432x288 with 1 Axes>"
            ]
          },
          "metadata": {
            "needs_background": "light"
          }
        },
        {
          "output_type": "stream",
          "name": "stdout",
          "text": [
            "SDE\n"
          ]
        },
        {
          "output_type": "display_data",
          "data": {
            "image/png": "[encoded data removed]",
            "text/plain": [
              "<Figure size 432x288 with 1 Axes>"
            ]
          },
          "metadata": {
            "needs_background": "light"
          }
        },
        {
          "output_type": "stream",
          "name": "stdout",
          "text": [
            "TF\n"
          ]
        },
        {
          "output_type": "display_data",
          "data": {
            "image/png": "[encoded data removed]",
            "text/plain": [
              "<Figure size 432x288 with 1 Axes>"
            ]
          },
          "metadata": {
            "needs_background": "light"
          }
        },
        {
          "output_type": "stream",
          "name": "stdout",
          "text": [
            "TU\n"
          ]
        },
        {
          "output_type": "display_data",
          "data": {
            "image/png": "[encoded data removed]",
            "text/plain": [
              "<Figure size 432x288 with 1 Axes>"
            ]
          },
          "metadata": {
            "needs_background": "light"
          }
        }
      ]
    },
    {
      "cell_type": "markdown",
      "metadata": {
        "id": "W53zB2_SlXDA"
      },
      "source": [
        "## Ejemplo 7: control sin matrices de conectividad (compile hoy)"
      ]
    },
    {
      "cell_type": "code",
      "execution_count": null,
      "metadata": {
        "id": "tjTKHIl8lmF5"
      },
      "outputs": [],
      "source": [
        "def deriv_7_2(y0,t,beta_1,beta_2,beta_3,beta_4,beta_5,beta_6,beta_7,beta_8,beta_9,beta_10,beta_11,beta_12,beta_13,beta_14,beta_15,beta_16,beta_17,beta_18,beta_19,beta_20,beta_21,beta_22,beta_23,beta_24,gamma):\n",
        "  n = 24\n",
        "  X = y0[0:n]\n",
        "  Y = y0[n:2*n]\n",
        "  Z = y0[2*n:]\n",
        "  beta = np.array([beta_1,beta_2,beta_3,beta_4,beta_5,beta_6,beta_7,beta_8,beta_9,beta_10,beta_11,beta_12,beta_13,beta_14,beta_15,beta_16,beta_17,beta_18,beta_19,beta_20,beta_21,beta_22,beta_23,beta_24])\n",
        "  N = X+Y+Z\n",
        "  dXdt = -beta*X*Y/N\n",
        "  dYdt = beta*X*Y/N - gamma*Y \n",
        "  dZdt = gamma*Y \n",
        "  return np.concatenate((dXdt,dYdt,dZdt))"
      ]
    },
    {
      "cell_type": "code",
      "execution_count": null,
      "metadata": {
        "id": "gCCgBsAUlmF5"
      },
      "outputs": [],
      "source": [
        "def SIR_Model_7_lm_2(params,t,datos_reales):\n",
        "  beta_1= params['beta_1']\n",
        "  beta_2= params['beta_2']\n",
        "  beta_3= params['beta_3']\n",
        "  beta_4= params['beta_4']\n",
        "  beta_5= params['beta_5']\n",
        "  beta_6= params['beta_6']\n",
        "  beta_7= params['beta_7']\n",
        "  beta_8= params['beta_8']\n",
        "  beta_9= params['beta_9']\n",
        "  beta_10= params['beta_10']\n",
        "  beta_11= params['beta_11']\n",
        "  beta_12= params['beta_12']\n",
        "  beta_13= params['beta_13']\n",
        "  beta_14= params['beta_14']\n",
        "  beta_15= params['beta_15']\n",
        "  beta_16= params['beta_16']\n",
        "  beta_17= params['beta_17']\n",
        "  beta_18= params['beta_18']\n",
        "  beta_19= params['beta_19']\n",
        "  beta_20= params['beta_20']\n",
        "  beta_21= params['beta_21']\n",
        "  beta_22= params['beta_22']\n",
        "  beta_23= params['beta_23']\n",
        "  beta_24= params['beta_24']\n",
        "  gamma = params['gamma']\n",
        "  n = 24\n",
        "  S = np.array([15625084,2890151,367828,1055259,509108,992595,3308876,1235994,530162,673307,318951,333642,1738929,1101593,551266,638645,1214441,681055,432310,273964,3194537,874006,127205,1448188])\n",
        "  R = np.zeros(n)*0.0\n",
        "  I = np.array([59,57,0,17,1,3,7,4,0,1,0,1,2,0,2,6,0,0,1,3,4,0,3,2]) #pop infected at day 70 by provinces\n",
        "  y0 = np.concatenate((S,I,R))\n",
        "  result = odeint(deriv_7_2,y0, t, args=(beta_1,beta_2,beta_3,beta_4,beta_5,beta_6,beta_7,beta_8,beta_9,beta_10,beta_11,beta_12,beta_13,beta_14,beta_15,beta_16,beta_17,beta_18,beta_19,beta_20,beta_21,beta_22,beta_23,beta_24,gamma))\n",
        "  I_fit = result[:,n:2*n]\n",
        "  return I_fit - datos_reales"
      ]
    },
    {
      "cell_type": "code",
      "execution_count": null,
      "metadata": {
        "id": "F5vgNupTlmF5"
      },
      "outputs": [],
      "source": [
        "def SIR_Model_7_2(beta_1,beta_2,beta_3,beta_4,beta_5,beta_6,beta_7,beta_8,beta_9,beta_10,beta_11,beta_12,beta_13,beta_14,beta_15,beta_16,beta_17,beta_18,beta_19,beta_20,beta_21,beta_22,beta_23,beta_24,gamma,t):\n",
        "  n = 24\n",
        "  S = np.array([15625084,2890151,367828,1055259,509108,992595,3308876,1235994,530162,673307,318951,333642,1738929,1101593,551266,638645,1214441,681055,432310,273964,3194537,874006,127205,1448188])\n",
        "  R = np.zeros(n)*0.0\n",
        "  I = np.array([59,57,0,17,1,3,7,4,0,1,0,1,2,0,2,6,0,0,1,3,4,0,3,2]) #pop infected at day 70 by provinces\n",
        "  y0 = np.concatenate((S,I,R))\n",
        "  result = odeint(deriv_7_2,y0, t, args=(beta_1,beta_2,beta_3,beta_4,beta_5,beta_6,beta_7,beta_8,beta_9,beta_10,beta_11,beta_12,beta_13,beta_14,beta_15,beta_16,beta_17,beta_18,beta_19,beta_20,beta_21,beta_22,beta_23,beta_24,gamma))\n",
        "  I_fit = result[:,n:2*n]\n",
        "  return I_fit"
      ]
    },
    {
      "cell_type": "code",
      "execution_count": null,
      "metadata": {
        "id": "tb8mDIhglmF6"
      },
      "outputs": [],
      "source": [
        "t = np.arange(datos.shape[1])\n",
        "params = Parameters()\n",
        "params.add('beta_1', min=0.0, max=0.5)\n",
        "params.add('beta_2', min=0.0, max=0.5)\n",
        "params.add('beta_3', min=0.0, max=0.5)\n",
        "params.add('beta_4', min=0.0, max=0.5)\n",
        "params.add('beta_5', min=0.0, max=0.5)\n",
        "params.add('beta_6', min=0.0, max=0.5)\n",
        "params.add('beta_7', min=0.0, max=0.5)\n",
        "params.add('beta_8', min=0.0, max=0.5)\n",
        "params.add('beta_9', min=0.0, max=0.5)\n",
        "params.add('beta_10', min=0.0, max=0.5)\n",
        "params.add('beta_11', min=0.0, max=0.5)\n",
        "params.add('beta_12', min=0.0, max=0.5)\n",
        "params.add('beta_13', min=0.0, max=0.5)\n",
        "params.add('beta_14', min=0.0, max=0.5)\n",
        "params.add('beta_15', min=0.0, max=0.5)\n",
        "params.add('beta_16', min=0.0, max=0.5)\n",
        "params.add('beta_17', min=0.0, max=0.5)\n",
        "params.add('beta_18', min=0.0, max=0.5)\n",
        "params.add('beta_19', min=0.0, max=0.5)\n",
        "params.add('beta_20', min=0.0, max=0.5)\n",
        "params.add('beta_21', min=0.0, max=0.5)\n",
        "params.add('beta_22', min=0.0, max=0.5)\n",
        "params.add('beta_23', min=0.0, max=0.5)\n",
        "params.add('beta_24', min=0.0, max=0.5)\n",
        "params.add('gamma', min=0.05, max=0.5)"
      ]
    },
    {
      "cell_type": "code",
      "execution_count": null,
      "metadata": {
        "id": "R0Um3B_BlmF6"
      },
      "outputs": [],
      "source": [
        "fitted_params = minimize(SIR_Model_7_lm_2, params, args=(t,datos.T,), method='least_squares')"
      ]
    },
    {
      "cell_type": "code",
      "execution_count": null,
      "metadata": {
        "id": "mO920u3WlmF6"
      },
      "outputs": [],
      "source": [
        "beta_1_fit = fitted_params.params['beta_1'].value\n",
        "beta_2_fit = fitted_params.params['beta_2'].value\n",
        "beta_3_fit = fitted_params.params['beta_3'].value\n",
        "beta_4_fit = fitted_params.params['beta_4'].value\n",
        "beta_5_fit = fitted_params.params['beta_5'].value\n",
        "beta_6_fit = fitted_params.params['beta_6'].value\n",
        "beta_7_fit = fitted_params.params['beta_7'].value\n",
        "beta_8_fit = fitted_params.params['beta_8'].value\n",
        "beta_9_fit = fitted_params.params['beta_9'].value\n",
        "beta_10_fit = fitted_params.params['beta_10'].value\n",
        "beta_11_fit = fitted_params.params['beta_11'].value\n",
        "beta_12_fit = fitted_params.params['beta_12'].value\n",
        "beta_13_fit = fitted_params.params['beta_13'].value\n",
        "beta_14_fit = fitted_params.params['beta_14'].value\n",
        "beta_15_fit = fitted_params.params['beta_15'].value\n",
        "beta_16_fit = fitted_params.params['beta_16'].value\n",
        "beta_17_fit = fitted_params.params['beta_17'].value\n",
        "beta_18_fit = fitted_params.params['beta_18'].value\n",
        "beta_19_fit = fitted_params.params['beta_19'].value\n",
        "beta_20_fit = fitted_params.params['beta_20'].value\n",
        "beta_21_fit = fitted_params.params['beta_21'].value\n",
        "beta_22_fit = fitted_params.params['beta_22'].value\n",
        "beta_23_fit = fitted_params.params['beta_23'].value\n",
        "beta_24_fit = fitted_params.params['beta_24'].value\n",
        "gamma_fit = fitted_params.params['gamma'].value    "
      ]
    },
    {
      "cell_type": "code",
      "execution_count": null,
      "metadata": {
        "colab": {
          "base_uri": "https://localhost:8080/"
        },
        "outputId": "dfad784c-fbd1-4e8e-f528-d889d861d100",
        "id": "A6IVOqaFlmF6"
      },
      "outputs": [
        {
          "output_type": "execute_result",
          "data": {
            "text/plain": [
              "2.5078917390901903"
            ]
          },
          "metadata": {},
          "execution_count": 113
        }
      ],
      "source": [
        "1/gamma_fit"
      ]
    },
    {
      "cell_type": "code",
      "execution_count": null,
      "metadata": {
        "colab": {
          "base_uri": "https://localhost:8080/",
          "height": 834
        },
        "outputId": "ec2b5618-b6b5-44f1-a771-fb0edea449df",
        "id": "OpgIzO_XlmF6"
      },
      "outputs": [
        {
          "output_type": "execute_result",
          "data": {
            "text/html": [
              "<h2>Fit Statistics</h2><table><tr><td>fitting method</td><td>least_squares</td><td></td></tr><tr><td># function evals</td><td>98</td><td></td></tr><tr><td># data points</td><td>6264</td><td></td></tr><tr><td># variables</td><td>25</td><td></td></tr><tr><td>chi-square</td><td> 5.8460e+10</td><td></td></tr><tr><td>reduced chi-square</td><td> 9370087.43</td><td></td></tr><tr><td>Akaike info crit.</td><td> 100581.149</td><td></td></tr><tr><td>Bayesian info crit.</td><td> 100749.713</td><td></td></tr></table><h2>Variables</h2><table><tr><th> name </th><th> value </th><th> initial value </th><th> min </th><th> max </th><th> vary </th></tr><tr><td> beta_1 </td><td>  0.44589627 </td><td> 0.0 </td><td>  0.00000000 </td><td>  0.50000000 </td><td> True </td></tr><tr><td> beta_2 </td><td>  0.44505711 </td><td> 0.0 </td><td>  0.00000000 </td><td>  0.50000000 </td><td> True </td></tr><tr><td> beta_3 </td><td>  9.9746e-11 </td><td> 0.0 </td><td>  0.00000000 </td><td>  0.50000000 </td><td> True </td></tr><tr><td> beta_4 </td><td>  0.42607692 </td><td> 0.0 </td><td>  0.00000000 </td><td>  0.50000000 </td><td> True </td></tr><tr><td> beta_5 </td><td>  0.09724219 </td><td> 0.0 </td><td>  0.00000000 </td><td>  0.50000000 </td><td> True </td></tr><tr><td> beta_6 </td><td>  0.24744435 </td><td> 0.0 </td><td>  0.00000000 </td><td>  0.50000000 </td><td> True </td></tr><tr><td> beta_7 </td><td>  0.44097930 </td><td> 0.0 </td><td>  0.00000000 </td><td>  0.50000000 </td><td> True </td></tr><tr><td> beta_8 </td><td>  0.43294766 </td><td> 0.0 </td><td>  0.00000000 </td><td>  0.50000000 </td><td> True </td></tr><tr><td> beta_9 </td><td>  9.9966e-11 </td><td> 0.0 </td><td>  0.00000000 </td><td>  0.50000000 </td><td> True </td></tr><tr><td> beta_10 </td><td>  0.45464821 </td><td> 0.0 </td><td>  0.00000000 </td><td>  0.50000000 </td><td> True </td></tr><tr><td> beta_11 </td><td>  9.9942e-11 </td><td> 0.0 </td><td>  0.00000000 </td><td>  0.50000000 </td><td> True </td></tr><tr><td> beta_12 </td><td>  0.44223441 </td><td> 0.0 </td><td>  0.00000000 </td><td>  0.50000000 </td><td> True </td></tr><tr><td> beta_13 </td><td>  0.44654384 </td><td> 0.0 </td><td>  0.00000000 </td><td>  0.50000000 </td><td> True </td></tr><tr><td> beta_14 </td><td>  1.0000e-10 </td><td> 0.0 </td><td>  0.00000000 </td><td>  0.50000000 </td><td> True </td></tr><tr><td> beta_15 </td><td>  0.44021705 </td><td> 0.0 </td><td>  0.00000000 </td><td>  0.50000000 </td><td> True </td></tr><tr><td> beta_16 </td><td>  0.43572793 </td><td> 0.0 </td><td>  0.00000000 </td><td>  0.50000000 </td><td> True </td></tr><tr><td> beta_17 </td><td>  1.0000e-10 </td><td> 0.0 </td><td>  0.00000000 </td><td>  0.50000000 </td><td> True </td></tr><tr><td> beta_18 </td><td>  1.0000e-10 </td><td> 0.0 </td><td>  0.00000000 </td><td>  0.50000000 </td><td> True </td></tr><tr><td> beta_19 </td><td>  0.32138169 </td><td> 0.0 </td><td>  0.00000000 </td><td>  0.50000000 </td><td> True </td></tr><tr><td> beta_20 </td><td>  0.43332668 </td><td> 0.0 </td><td>  0.00000000 </td><td>  0.50000000 </td><td> True </td></tr><tr><td> beta_21 </td><td>  0.44498130 </td><td> 0.0 </td><td>  0.00000000 </td><td>  0.50000000 </td><td> True </td></tr><tr><td> beta_22 </td><td>  1.0000e-10 </td><td> 0.0 </td><td>  0.00000000 </td><td>  0.50000000 </td><td> True </td></tr><tr><td> beta_23 </td><td>  0.43180872 </td><td> 0.0 </td><td>  0.00000000 </td><td>  0.50000000 </td><td> True </td></tr><tr><td> beta_24 </td><td>  0.24917769 </td><td> 0.0 </td><td>  0.00000000 </td><td>  0.50000000 </td><td> True </td></tr><tr><td> gamma </td><td>  0.39874130 </td><td> 0.05 </td><td>  0.05000000 </td><td>  0.50000000 </td><td> True </td></tr></table>"
            ],
            "text/plain": [
              "<lmfit.minimizer.MinimizerResult at 0x7f347bcfa950>"
            ]
          },
          "metadata": {},
          "execution_count": 114
        }
      ],
      "source": [
        "fitted_params"
      ]
    },
    {
      "cell_type": "code",
      "execution_count": null,
      "metadata": {
        "id": "kl6NIhz_lmF6"
      },
      "outputs": [],
      "source": [
        "resultado = SIR_Model_7_2(beta_1_fit,beta_2_fit,beta_3_fit,beta_4_fit,beta_5_fit,beta_6_fit,beta_7_fit,beta_8_fit,beta_9_fit,beta_10_fit,beta_11_fit,beta_12_fit,beta_13_fit,beta_14_fit,beta_15_fit,beta_16_fit,beta_17_fit,beta_18_fit,beta_19_fit,beta_20_fit,beta_21_fit,beta_22_fit,beta_23_fit,beta_24_fit,gamma_fit,t)"
      ]
    },
    {
      "cell_type": "code",
      "execution_count": null,
      "metadata": {
        "colab": {
          "base_uri": "https://localhost:8080/",
          "height": 284
        },
        "outputId": "a85465bb-1349-4cc0-aaef-6c41338d70dc",
        "id": "Lj1O8Fg7lmF6"
      },
      "outputs": [
        {
          "output_type": "execute_result",
          "data": {
            "text/plain": [
              "[<matplotlib.lines.Line2D at 0x7f347bce0f90>]"
            ]
          },
          "metadata": {},
          "execution_count": 116
        },
        {
          "output_type": "display_data",
          "data": {
            "image/png": "[encoded data removed]",
            "text/plain": [
              "<Figure size 432x288 with 1 Axes>"
            ]
          },
          "metadata": {
            "needs_background": "light"
          }
        }
      ],
      "source": [
        "plt.plot(resultado[:,0])\n",
        "plt.plot(datos.T[:,0])"
      ]
    },
    {
      "cell_type": "markdown",
      "source": [
        "## Ejemplo 6.3: 6.2 agregando un parametro"
      ],
      "metadata": {
        "id": "CftrncuGVCch"
      }
    },
    {
      "cell_type": "code",
      "execution_count": null,
      "metadata": {
        "id": "NbfwEX_CVHfj"
      },
      "outputs": [],
      "source": [
        "def deriv_6_3(y0,t,beta_1,beta_2,beta_3,beta_4,beta_5,beta_6,beta_7,beta_8,beta_9,beta_10,beta_11,beta_12,beta_13,beta_14,beta_15,beta_16,beta_17,beta_18,beta_19,beta_20,beta_21,beta_22,beta_23,beta_24,gamma,a,b):\n",
        "  n = 24\n",
        "  X = y0[0:n]\n",
        "  Y = y0[n:2*n]\n",
        "  Z = y0[2*n:]\n",
        "  A = np.zeros(shape=(n,n))\n",
        "  beta = np.array([beta_1,beta_2,beta_3,beta_4,beta_5,beta_6,beta_7,beta_8,beta_9,beta_10,beta_11,beta_12,beta_13,beta_14,beta_15,beta_16,beta_17,beta_18,beta_19,beta_20,beta_21,beta_22,beta_23,beta_24])\n",
        "  for i in range(n):\n",
        "    for j in range(n):\n",
        "      A[i,j] =  a*((population[i]+population[j])/nt)*(1/distancia_real[i,j])\n",
        "  for i in range(n):\n",
        "    A[i,i] = 0\n",
        "    for j in range(n):\n",
        "      if i != j:\n",
        "        A[i,i] -= A[i,j]\n",
        "  N = X+Y+Z\n",
        "  aux_X = np.zeros(n)\n",
        "  aux_Y = np.zeros(n)\n",
        "  aux_Z = np.zeros(n)\n",
        "  for i in range(n):\n",
        "    aux_X_2 = 0\n",
        "    aux_Y_2 = 0\n",
        "    aux_Z_2 = 0\n",
        "    for j in range(n):\n",
        "        aux_X_2 += A[i,j]*X[j]*(N[i]/N[j])\n",
        "        aux_Y_2 += A[i,j]*Y[j]*(N[i]/N[j])\n",
        "        aux_Z_2 += A[i,j]*Z[j]*(N[i]/N[j])\n",
        "    aux_X[i] = aux_X_2\n",
        "    aux_Y[i] = aux_Y_2\n",
        "    aux_Z[i] = aux_Z_2\n",
        "  dXdt = -beta*X*Y/N + (aux_X)\n",
        "  dYdt = beta*X*Y/N - gamma*Y + b*(aux_Y)\n",
        "  dZdt = gamma*Y + (aux_Z)\n",
        "  return np.concatenate((dXdt,dYdt,dZdt))"
      ]
    },
    {
      "cell_type": "code",
      "execution_count": null,
      "metadata": {
        "id": "UxxdgziuVHfk"
      },
      "outputs": [],
      "source": [
        "def SIR_Model_6_lm_3(params,t,datos_reales):\n",
        "  beta_1= params['beta_1']\n",
        "  beta_2= params['beta_2']\n",
        "  beta_3= params['beta_3']\n",
        "  beta_4= params['beta_4']\n",
        "  beta_5= params['beta_5']\n",
        "  beta_6= params['beta_6']\n",
        "  beta_7= params['beta_7']\n",
        "  beta_8= params['beta_8']\n",
        "  beta_9= params['beta_9']\n",
        "  beta_10= params['beta_10']\n",
        "  beta_11= params['beta_11']\n",
        "  beta_12= params['beta_12']\n",
        "  beta_13= params['beta_13']\n",
        "  beta_14= params['beta_14']\n",
        "  beta_15= params['beta_15']\n",
        "  beta_16= params['beta_16']\n",
        "  beta_17= params['beta_17']\n",
        "  beta_18= params['beta_18']\n",
        "  beta_19= params['beta_19']\n",
        "  beta_20= params['beta_20']\n",
        "  beta_21= params['beta_21']\n",
        "  beta_22= params['beta_22']\n",
        "  beta_23= params['beta_23']\n",
        "  beta_24= params['beta_24']\n",
        "  gamma = params['gamma']\n",
        "  a = params['a']\n",
        "  b = params['b']\n",
        "  n = 24\n",
        "  S = np.array([15625084,2890151,367828,1055259,509108,992595,3308876,1235994,530162,673307,318951,333642,1738929,1101593,551266,638645,1214441,681055,432310,273964,3194537,874006,127205,1448188])\n",
        "  R = np.zeros(n)*0.0\n",
        "  I = np.array([59,57,0,17,1,3,7,4,0,1,0,1,2,0,2,6,0,0,1,3,4,0,3,2]) #pop infected at day 70 by provinces\n",
        "  y0 = np.concatenate((S,I,R))\n",
        "  result = odeint(deriv_6_3,y0, t, args=(beta_1,beta_2,beta_3,beta_4,beta_5,beta_6,beta_7,beta_8,beta_9,beta_10,beta_11,beta_12,beta_13,beta_14,beta_15,beta_16,beta_17,beta_18,beta_19,beta_20,beta_21,beta_22,beta_23,beta_24,gamma,a,b))\n",
        "  I_fit = result[:,n:2*n]\n",
        "  return I_fit - datos_reales"
      ]
    },
    {
      "cell_type": "code",
      "execution_count": null,
      "metadata": {
        "id": "0rZDihz7VHfk"
      },
      "outputs": [],
      "source": [
        "def SIR_Model_6_3(beta_1,beta_2,beta_3,beta_4,beta_5,beta_6,beta_7,beta_8,beta_9,beta_10,beta_11,beta_12,beta_13,beta_14,beta_15,beta_16,beta_17,beta_18,beta_19,beta_20,beta_21,beta_22,beta_23,beta_24,gamma,a,b,t):\n",
        "  n = 24\n",
        "  S = np.array([15625084,2890151,367828,1055259,509108,992595,3308876,1235994,530162,673307,318951,333642,1738929,1101593,551266,638645,1214441,681055,432310,273964,3194537,874006,127205,1448188])\n",
        "  R = np.zeros(n)*0.0\n",
        "  I = np.array([59,57,0,17,1,3,7,4,0,1,0,1,2,0,2,6,0,0,1,3,4,0,3,2]) #pop infected at day 70 by provinces\n",
        "  y0 = np.concatenate((S,I,R))\n",
        "  result = odeint(deriv_6_3,y0, t, args=(beta_1,beta_2,beta_3,beta_4,beta_5,beta_6,beta_7,beta_8,beta_9,beta_10,beta_11,beta_12,beta_13,beta_14,beta_15,beta_16,beta_17,beta_18,beta_19,beta_20,beta_21,beta_22,beta_23,beta_24,gamma,a,b))\n",
        "  I_fit = result[:,n:2*n]\n",
        "  return I_fit"
      ]
    },
    {
      "cell_type": "code",
      "execution_count": null,
      "metadata": {
        "id": "LjKiJQCVVHfk"
      },
      "outputs": [],
      "source": [
        "t = np.arange(datos.shape[1])\n",
        "params = Parameters()\n",
        "params.add('beta_1', min=0.0, max=0.5)\n",
        "params.add('beta_2', min=0.0, max=0.5)\n",
        "params.add('beta_3', min=0.0, max=0.5)\n",
        "params.add('beta_4', min=0.0, max=0.5)\n",
        "params.add('beta_5', min=0.0, max=0.5)\n",
        "params.add('beta_6', min=0.0, max=0.5)\n",
        "params.add('beta_7', min=0.0, max=0.5)\n",
        "params.add('beta_8', min=0.0, max=0.5)\n",
        "params.add('beta_9', min=0.0, max=0.5)\n",
        "params.add('beta_10', min=0.0, max=0.5)\n",
        "params.add('beta_11', min=0.0, max=0.5)\n",
        "params.add('beta_12', min=0.0, max=0.5)\n",
        "params.add('beta_13', min=0.0, max=0.5)\n",
        "params.add('beta_14', min=0.0, max=0.5)\n",
        "params.add('beta_15', min=0.0, max=0.5)\n",
        "params.add('beta_16', min=0.0, max=0.5)\n",
        "params.add('beta_17', min=0.0, max=0.5)\n",
        "params.add('beta_18', min=0.0, max=0.5)\n",
        "params.add('beta_19', min=0.0, max=0.5)\n",
        "params.add('beta_20', min=0.0, max=0.5)\n",
        "params.add('beta_21', min=0.0, max=0.5)\n",
        "params.add('beta_22', min=0.0, max=0.5)\n",
        "params.add('beta_23', min=0.0, max=0.5)\n",
        "params.add('beta_24', min=0.0, max=0.5)\n",
        "params.add('gamma', min=0.05, max=0.5)\n",
        "params.add('a',min=0.0,max=1.0)\n",
        "params.add('b',min=0.0,max=1.0)"
      ]
    },
    {
      "cell_type": "code",
      "execution_count": null,
      "metadata": {
        "id": "PMjXk651VHfl"
      },
      "outputs": [],
      "source": [
        "fitted_params = minimize(SIR_Model_6_lm_3, params, args=(t,datos.T,), method='least_squares')"
      ]
    },
    {
      "cell_type": "code",
      "execution_count": null,
      "metadata": {
        "id": "A0VgKCN-VHfl"
      },
      "outputs": [],
      "source": [
        "beta_1_fit = fitted_params.params['beta_1'].value\n",
        "beta_2_fit = fitted_params.params['beta_2'].value\n",
        "beta_3_fit = fitted_params.params['beta_3'].value\n",
        "beta_4_fit = fitted_params.params['beta_4'].value\n",
        "beta_5_fit = fitted_params.params['beta_5'].value\n",
        "beta_6_fit = fitted_params.params['beta_6'].value\n",
        "beta_7_fit = fitted_params.params['beta_7'].value\n",
        "beta_8_fit = fitted_params.params['beta_8'].value\n",
        "beta_9_fit = fitted_params.params['beta_9'].value\n",
        "beta_10_fit = fitted_params.params['beta_10'].value\n",
        "beta_11_fit = fitted_params.params['beta_11'].value\n",
        "beta_12_fit = fitted_params.params['beta_12'].value\n",
        "beta_13_fit = fitted_params.params['beta_13'].value\n",
        "beta_14_fit = fitted_params.params['beta_14'].value\n",
        "beta_15_fit = fitted_params.params['beta_15'].value\n",
        "beta_16_fit = fitted_params.params['beta_16'].value\n",
        "beta_17_fit = fitted_params.params['beta_17'].value\n",
        "beta_18_fit = fitted_params.params['beta_18'].value\n",
        "beta_19_fit = fitted_params.params['beta_19'].value\n",
        "beta_20_fit = fitted_params.params['beta_20'].value\n",
        "beta_21_fit = fitted_params.params['beta_21'].value\n",
        "beta_22_fit = fitted_params.params['beta_22'].value\n",
        "beta_23_fit = fitted_params.params['beta_23'].value\n",
        "beta_24_fit = fitted_params.params['beta_24'].value\n",
        "gamma_fit = fitted_params.params['gamma'].value    \n",
        "a_fit = fitted_params.params['a'].value    \n",
        "b_fit = fitted_params.params['b'].value    "
      ]
    },
    {
      "cell_type": "code",
      "execution_count": null,
      "metadata": {
        "colab": {
          "base_uri": "https://localhost:8080/"
        },
        "outputId": "dba35917-9f3e-4855-ea46-0d332a00c2c0",
        "id": "FP8b7n6AVHfl"
      },
      "outputs": [
        {
          "output_type": "execute_result",
          "data": {
            "text/plain": [
              "2.9019660793636546"
            ]
          },
          "metadata": {},
          "execution_count": 60
        }
      ],
      "source": [
        "1/gamma_fit"
      ]
    },
    {
      "cell_type": "code",
      "execution_count": null,
      "metadata": {
        "colab": {
          "base_uri": "https://localhost:8080/"
        },
        "outputId": "0c13ac32-0b8d-4497-d03d-187798e5be31",
        "id": "Pztv-1uTVHfm"
      },
      "outputs": [
        {
          "output_type": "execute_result",
          "data": {
            "text/html": [
              "<h2>Fit Statistics</h2><table><tr><td>fitting method</td><td>least_squares</td><td></td></tr><tr><td># function evals</td><td>78</td><td></td></tr><tr><td># data points</td><td>6264</td><td></td></tr><tr><td># variables</td><td>27</td><td></td></tr><tr><td>chi-square</td><td> 2.5305e+10</td><td></td></tr><tr><td>reduced chi-square</td><td> 4057227.79</td><td></td></tr><tr><td>Akaike info crit.</td><td> 95340.0313</td><td></td></tr><tr><td>Bayesian info crit.</td><td> 95522.0808</td><td></td></tr></table><h2>Variables</h2><table><tr><th> name </th><th> value </th><th> standard error </th><th> relative error </th><th> initial value </th><th> min </th><th> max </th><th> vary </th></tr><tr><td> beta_1 </td><td>  0.38273092 </td><td>  0.00150616 </td><td> (0.39%) </td><td> 0.0 </td><td>  0.00000000 </td><td>  0.50000000 </td><td> True </td></tr><tr><td> beta_2 </td><td>  0.39847615 </td><td>  0.00136842 </td><td> (0.34%) </td><td> 0.0 </td><td>  0.00000000 </td><td>  0.50000000 </td><td> True </td></tr><tr><td> beta_3 </td><td>  0.00367070 </td><td>  10.9865085 </td><td> (299302.77%) </td><td> 0.0 </td><td>  0.00000000 </td><td>  0.50000000 </td><td> True </td></tr><tr><td> beta_4 </td><td>  0.36986328 </td><td>  0.00183443 </td><td> (0.50%) </td><td> 0.0 </td><td>  0.00000000 </td><td>  0.50000000 </td><td> True </td></tr><tr><td> beta_5 </td><td>  0.13492246 </td><td>  6.87789884 </td><td> (5097.67%) </td><td> 0.0 </td><td>  0.00000000 </td><td>  0.50000000 </td><td> True </td></tr><tr><td> beta_6 </td><td>  0.36304178 </td><td>  0.00345357 </td><td> (0.95%) </td><td> 0.0 </td><td>  0.00000000 </td><td>  0.50000000 </td><td> True </td></tr><tr><td> beta_7 </td><td>  0.38600890 </td><td>  0.00152250 </td><td> (0.39%) </td><td> 0.0 </td><td>  0.00000000 </td><td>  0.50000000 </td><td> True </td></tr><tr><td> beta_8 </td><td>  0.36246367 </td><td>  0.00299549 </td><td> (0.83%) </td><td> 0.0 </td><td>  0.00000000 </td><td>  0.50000000 </td><td> True </td></tr><tr><td> beta_9 </td><td>  0.01992030 </td><td>  9.65005438 </td><td> (48443.32%) </td><td> 0.0 </td><td>  0.00000000 </td><td>  0.50000000 </td><td> True </td></tr><tr><td> beta_10 </td><td>  0.09663081 </td><td>  5.65636110 </td><td> (5853.58%) </td><td> 0.0 </td><td>  0.00000000 </td><td>  0.50000000 </td><td> True </td></tr><tr><td> beta_11 </td><td>  0.00165483 </td><td>  13.9112174 </td><td> (840644.54%) </td><td> 0.0 </td><td>  0.00000000 </td><td>  0.50000000 </td><td> True </td></tr><tr><td> beta_12 </td><td>  0.14511825 </td><td>  5.95754445 </td><td> (4105.30%) </td><td> 0.0 </td><td>  0.00000000 </td><td>  0.50000000 </td><td> True </td></tr><tr><td> beta_13 </td><td>  0.38967188 </td><td>  0.00154014 </td><td> (0.40%) </td><td> 0.0 </td><td>  0.00000000 </td><td>  0.50000000 </td><td> True </td></tr><tr><td> beta_14 </td><td>  0.00319282 </td><td>  5.40575679 </td><td> (169309.80%) </td><td> 0.0 </td><td>  0.00000000 </td><td>  0.50000000 </td><td> True </td></tr><tr><td> beta_15 </td><td>  0.38535823 </td><td>  0.00180501 </td><td> (0.47%) </td><td> 0.0 </td><td>  0.00000000 </td><td>  0.50000000 </td><td> True </td></tr><tr><td> beta_16 </td><td>  0.38003854 </td><td>  0.00183231 </td><td> (0.48%) </td><td> 0.0 </td><td>  0.00000000 </td><td>  0.50000000 </td><td> True </td></tr><tr><td> beta_17 </td><td>  0.15049638 </td><td>  1.65570074 </td><td> (1100.16%) </td><td> 0.0 </td><td>  0.00000000 </td><td>  0.50000000 </td><td> True </td></tr><tr><td> beta_18 </td><td>  0.04240395 </td><td>  5.16105489 </td><td> (12171.17%) </td><td> 0.0 </td><td>  0.00000000 </td><td>  0.50000000 </td><td> True </td></tr><tr><td> beta_19 </td><td>  0.19103696 </td><td>  2.21396435 </td><td> (1158.92%) </td><td> 0.0 </td><td>  0.00000000 </td><td>  0.50000000 </td><td> True </td></tr><tr><td> beta_20 </td><td>  0.18599751 </td><td>  13.5058521 </td><td> (7261.31%) </td><td> 0.0 </td><td>  0.00000000 </td><td>  0.50000000 </td><td> True </td></tr><tr><td> beta_21 </td><td>  0.39112707 </td><td>  0.00151295 </td><td> (0.39%) </td><td> 0.0 </td><td>  0.00000000 </td><td>  0.50000000 </td><td> True </td></tr><tr><td> beta_22 </td><td>  0.15530687 </td><td>  1.49661316 </td><td> (963.65%) </td><td> 0.0 </td><td>  0.00000000 </td><td>  0.50000000 </td><td> True </td></tr><tr><td> beta_23 </td><td>  0.36187812 </td><td>  0.01389259 </td><td> (3.84%) </td><td> 0.0 </td><td>  0.00000000 </td><td>  0.50000000 </td><td> True </td></tr><tr><td> beta_24 </td><td>  0.39016913 </td><td>  0.00150921 </td><td> (0.39%) </td><td> 0.0 </td><td>  0.00000000 </td><td>  0.50000000 </td><td> True </td></tr><tr><td> gamma </td><td>  0.34459397 </td><td>  0.00134330 </td><td> (0.39%) </td><td> 0.05 </td><td>  0.05000000 </td><td>  0.50000000 </td><td> True </td></tr><tr><td> a </td><td>  0.94564135 </td><td>  0.05218854 </td><td> (5.52%) </td><td> 0.0 </td><td>  0.00000000 </td><td>  1.00000000 </td><td> True </td></tr><tr><td> b </td><td>  0.95437050 </td><td>  0.08036280 </td><td> (8.42%) </td><td> 0.0 </td><td>  0.00000000 </td><td>  1.00000000 </td><td> True </td></tr></table><h2>Correlations (unreported correlations are < 0.100)</h2><table><tr><td>beta_1</td><td>gamma</td><td>0.9930</td></tr><tr><td>beta_7</td><td>gamma</td><td>0.9839</td></tr><tr><td>beta_1</td><td>beta_7</td><td>0.9790</td></tr><tr><td>beta_21</td><td>gamma</td><td>0.9781</td></tr><tr><td>beta_2</td><td>gamma</td><td>0.9763</td></tr><tr><td>beta_2</td><td>beta_21</td><td>0.9748</td></tr><tr><td>beta_7</td><td>beta_21</td><td>0.9706</td></tr><tr><td>beta_1</td><td>beta_21</td><td>0.9706</td></tr><tr><td>beta_2</td><td>beta_7</td><td>0.9677</td></tr><tr><td>beta_13</td><td>gamma</td><td>0.9652</td></tr><tr><td>beta_1</td><td>beta_13</td><td>0.9615</td></tr><tr><td>beta_7</td><td>beta_13</td><td>0.9587</td></tr><tr><td>beta_24</td><td>gamma</td><td>0.9562</td></tr><tr><td>beta_1</td><td>beta_2</td><td>0.9556</td></tr><tr><td>beta_13</td><td>beta_21</td><td>0.9554</td></tr><tr><td>beta_1</td><td>beta_24</td><td>0.9512</td></tr><tr><td>beta_2</td><td>beta_13</td><td>0.9501</td></tr><tr><td>beta_7</td><td>beta_24</td><td>0.9487</td></tr><tr><td>beta_21</td><td>beta_24</td><td>0.9457</td></tr><tr><td>beta_2</td><td>beta_24</td><td>0.9421</td></tr><tr><td>beta_13</td><td>beta_24</td><td>0.9336</td></tr><tr><td>beta_15</td><td>gamma</td><td>0.7697</td></tr><tr><td>beta_16</td><td>gamma</td><td>0.7629</td></tr><tr><td>beta_1</td><td>beta_15</td><td>0.7601</td></tr><tr><td>beta_7</td><td>beta_15</td><td>0.7568</td></tr><tr><td>beta_4</td><td>gamma</td><td>0.7540</td></tr><tr><td>beta_1</td><td>beta_16</td><td>0.7521</td></tr><tr><td>beta_15</td><td>beta_21</td><td>0.7520</td></tr><tr><td>beta_2</td><td>beta_15</td><td>0.7492</td></tr><tr><td>beta_7</td><td>beta_16</td><td>0.7486</td></tr><tr><td>beta_1</td><td>beta_4</td><td>0.7469</td></tr><tr><td>beta_13</td><td>beta_15</td><td>0.7440</td></tr><tr><td>beta_16</td><td>beta_21</td><td>0.7431</td></tr><tr><td>beta_4</td><td>beta_7</td><td>0.7402</td></tr><tr><td>beta_2</td><td>beta_16</td><td>0.7388</td></tr><tr><td>beta_15</td><td>beta_24</td><td>0.7382</td></tr><tr><td>beta_13</td><td>beta_16</td><td>0.7364</td></tr><tr><td>beta_2</td><td>beta_4</td><td>0.7344</td></tr><tr><td>beta_4</td><td>beta_21</td><td>0.7340</td></tr><tr><td>a</td><td>b</td><td>-0.7317</td></tr><tr><td>beta_16</td><td>beta_24</td><td>0.7297</td></tr><tr><td>beta_4</td><td>beta_13</td><td>0.7282</td></tr><tr><td>beta_4</td><td>beta_24</td><td>0.7194</td></tr><tr><td>beta_2</td><td>a</td><td>0.5901</td></tr><tr><td>gamma</td><td>b</td><td>-0.5878</td></tr><tr><td>beta_15</td><td>beta_16</td><td>0.5817</td></tr><tr><td>beta_4</td><td>beta_15</td><td>0.5796</td></tr><tr><td>beta_1</td><td>b</td><td>-0.5756</td></tr><tr><td>beta_4</td><td>beta_16</td><td>0.5744</td></tr><tr><td>gamma</td><td>a</td><td>0.5644</td></tr><tr><td>beta_1</td><td>beta_8</td><td>0.5643</td></tr><tr><td>beta_8</td><td>gamma</td><td>0.5626</td></tr><tr><td>beta_7</td><td>b</td><td>-0.5540</td></tr><tr><td>beta_7</td><td>beta_8</td><td>0.5464</td></tr><tr><td>beta_13</td><td>b</td><td>-0.5443</td></tr><tr><td>beta_7</td><td>a</td><td>0.5423</td></tr><tr><td>beta_8</td><td>beta_13</td><td>0.5411</td></tr><tr><td>beta_24</td><td>b</td><td>-0.5360</td></tr><tr><td>beta_21</td><td>a</td><td>0.5338</td></tr><tr><td>beta_24</td><td>a</td><td>0.5333</td></tr><tr><td>beta_8</td><td>beta_24</td><td>0.5322</td></tr><tr><td>beta_13</td><td>a</td><td>0.5315</td></tr><tr><td>beta_3</td><td>beta_9</td><td>-0.5128</td></tr><tr><td>beta_2</td><td>beta_8</td><td>0.5096</td></tr><tr><td>beta_21</td><td>b</td><td>-0.5050</td></tr><tr><td>beta_1</td><td>a</td><td>0.5010</td></tr><tr><td>beta_2</td><td>beta_20</td><td>-0.4990</td></tr><tr><td>beta_8</td><td>b</td><td>-0.4984</td></tr><tr><td>beta_16</td><td>b</td><td>-0.4895</td></tr><tr><td>beta_8</td><td>beta_21</td><td>0.4862</td></tr><tr><td>beta_15</td><td>b</td><td>-0.4830</td></tr><tr><td>beta_2</td><td>b</td><td>-0.4796</td></tr><tr><td>beta_16</td><td>a</td><td>0.4761</td></tr><tr><td>beta_15</td><td>a</td><td>0.4732</td></tr><tr><td>beta_20</td><td>beta_21</td><td>-0.4664</td></tr><tr><td>beta_4</td><td>b</td><td>-0.4532</td></tr><tr><td>beta_6</td><td>gamma</td><td>0.4497</td></tr><tr><td>beta_1</td><td>beta_6</td><td>0.4495</td></tr><tr><td>beta_6</td><td>beta_7</td><td>0.4387</td></tr><tr><td>beta_8</td><td>beta_15</td><td>0.4380</td></tr><tr><td>beta_8</td><td>beta_16</td><td>0.4364</td></tr><tr><td>beta_13</td><td>beta_20</td><td>-0.4321</td></tr><tr><td>beta_6</td><td>beta_13</td><td>0.4313</td></tr><tr><td>beta_6</td><td>beta_21</td><td>0.4288</td></tr><tr><td>beta_4</td><td>a</td><td>0.4287</td></tr><tr><td>beta_6</td><td>beta_24</td><td>0.4253</td></tr><tr><td>beta_4</td><td>beta_8</td><td>0.4228</td></tr><tr><td>beta_2</td><td>beta_6</td><td>0.4203</td></tr><tr><td>beta_20</td><td>beta_24</td><td>-0.4176</td></tr><tr><td>beta_7</td><td>beta_20</td><td>-0.4152</td></tr><tr><td>beta_3</td><td>beta_11</td><td>-0.3883</td></tr><tr><td>beta_20</td><td>gamma</td><td>-0.3758</td></tr><tr><td>beta_1</td><td>beta_20</td><td>-0.3632</td></tr><tr><td>beta_6</td><td>beta_15</td><td>0.3477</td></tr><tr><td>beta_6</td><td>beta_16</td><td>0.3459</td></tr><tr><td>beta_8</td><td>a</td><td>0.3284</td></tr><tr><td>beta_6</td><td>b</td><td>-0.3282</td></tr><tr><td>beta_15</td><td>beta_20</td><td>-0.3000</td></tr><tr><td>beta_4</td><td>beta_20</td><td>-0.2933</td></tr><tr><td>beta_16</td><td>beta_20</td><td>-0.2876</td></tr><tr><td>beta_6</td><td>beta_8</td><td>0.2758</td></tr><tr><td>beta_9</td><td>beta_11</td><td>-0.2633</td></tr><tr><td>beta_7</td><td>beta_12</td><td>-0.2568</td></tr><tr><td>beta_12</td><td>beta_24</td><td>-0.2555</td></tr><tr><td>beta_12</td><td>beta_21</td><td>-0.2398</td></tr><tr><td>beta_6</td><td>a</td><td>0.2395</td></tr><tr><td>beta_12</td><td>beta_13</td><td>-0.2353</td></tr><tr><td>beta_2</td><td>beta_12</td><td>-0.2324</td></tr><tr><td>beta_1</td><td>beta_12</td><td>-0.2189</td></tr><tr><td>beta_12</td><td>gamma</td><td>-0.2154</td></tr><tr><td>beta_4</td><td>beta_6</td><td>0.2033</td></tr><tr><td>beta_3</td><td>beta_10</td><td>0.1976</td></tr><tr><td>beta_3</td><td>beta_18</td><td>-0.1800</td></tr><tr><td>beta_13</td><td>beta_19</td><td>-0.1781</td></tr><tr><td>beta_4</td><td>beta_12</td><td>-0.1702</td></tr><tr><td>beta_12</td><td>beta_15</td><td>-0.1701</td></tr><tr><td>beta_12</td><td>beta_16</td><td>-0.1684</td></tr><tr><td>beta_7</td><td>beta_19</td><td>-0.1597</td></tr><tr><td>beta_19</td><td>beta_21</td><td>-0.1523</td></tr><tr><td>beta_20</td><td>b</td><td>-0.1485</td></tr><tr><td>beta_2</td><td>beta_19</td><td>-0.1482</td></tr><tr><td>beta_1</td><td>beta_19</td><td>-0.1441</td></tr><tr><td>beta_19</td><td>gamma</td><td>-0.1381</td></tr><tr><td>beta_9</td><td>beta_10</td><td>0.1376</td></tr><tr><td>beta_19</td><td>beta_24</td><td>-0.1365</td></tr><tr><td>beta_8</td><td>beta_20</td><td>-0.1286</td></tr><tr><td>beta_3</td><td>beta_14</td><td>-0.1283</td></tr><tr><td>beta_6</td><td>beta_20</td><td>-0.1230</td></tr><tr><td>beta_9</td><td>beta_18</td><td>-0.1224</td></tr><tr><td>beta_15</td><td>beta_19</td><td>-0.1100</td></tr><tr><td>beta_16</td><td>beta_19</td><td>-0.1082</td></tr><tr><td>beta_4</td><td>beta_19</td><td>-0.1076</td></tr><tr><td>beta_20</td><td>a</td><td>-0.1058</td></tr><tr><td>beta_8</td><td>beta_12</td><td>-0.1049</td></tr><tr><td>beta_10</td><td>beta_11</td><td>0.1002</td></tr></table>"
            ],
            "text/plain": [
              "<lmfit.minimizer.MinimizerResult at 0x7ff6327b3c10>"
            ]
          },
          "metadata": {},
          "execution_count": 61
        }
      ],
      "source": [
        "fitted_params"
      ]
    },
    {
      "cell_type": "code",
      "execution_count": null,
      "metadata": {
        "id": "GEO_ZRvpVHfm"
      },
      "outputs": [],
      "source": [
        "resultado = SIR_Model_6_3(beta_1_fit,beta_2_fit,beta_3_fit,beta_4_fit,beta_5_fit,beta_6_fit,beta_7_fit,beta_8_fit,beta_9_fit,beta_10_fit,beta_11_fit,beta_12_fit,beta_13_fit,beta_14_fit,beta_15_fit,beta_16_fit,beta_17_fit,beta_18_fit,beta_19_fit,beta_20_fit,beta_21_fit,beta_22_fit,beta_23_fit,beta_24_fit,gamma_fit,a_fit,b_fit,t)"
      ]
    },
    {
      "cell_type": "code",
      "execution_count": null,
      "metadata": {
        "colab": {
          "base_uri": "https://localhost:8080/"
        },
        "outputId": "14bd5f3d-7679-4fbc-e34b-fc52caa4475e",
        "id": "CUlxUC0-VHfm"
      },
      "outputs": [
        {
          "output_type": "execute_result",
          "data": {
            "text/plain": [
              "[<matplotlib.lines.Line2D at 0x7ff6327347d0>]"
            ]
          },
          "metadata": {},
          "execution_count": 63
        },
        {
          "output_type": "display_data",
          "data": {
            "image/png": "[encoded data removed]",
            "text/plain": [
              "<Figure size 432x288 with 1 Axes>"
            ]
          },
          "metadata": {
            "needs_background": "light"
          }
        }
      ],
      "source": [
        "plt.plot(resultado[:,0])\n",
        "plt.plot(datos.T[:,0])"
      ]
    },
    {
      "cell_type": "markdown",
      "source": [
        "### Ejemplo 6.4: sacando Formosa"
      ],
      "metadata": {
        "id": "j7vOyclUtuAa"
      }
    },
    {
      "cell_type": "code",
      "source": [
        ""
      ],
      "metadata": {
        "id": "4uvkeGi_t15r"
      },
      "execution_count": null,
      "outputs": []
    },
    {
      "cell_type": "code",
      "source": [
        ""
      ],
      "metadata": {
        "id": "0a7gHDnut1z1"
      },
      "execution_count": null,
      "outputs": []
    },
    {
      "cell_type": "code",
      "source": [
        ""
      ],
      "metadata": {
        "id": "R4NHNt1_t1kM"
      },
      "execution_count": null,
      "outputs": []
    }
  ],
  "metadata": {
    "colab": {
      "collapsed_sections": [],
      "name": "FitNormal.ipynb",
      "toc_visible": true,
      "provenance": [],
      "authorship_tag": "ABX9TyOzVJ1JRmbs/PePooYjt+8M",
      "include_colab_link": true
    },
    "kernelspec": {
      "display_name": "Python 3",
      "name": "python3"
    },
    "language_info": {
      "name": "python"
    }
  },
  "nbformat": 4,
  "nbformat_minor": 0
}