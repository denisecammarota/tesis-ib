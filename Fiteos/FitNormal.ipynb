{
  "cells": [
    {
      "cell_type": "markdown",
      "metadata": {
        "id": "view-in-github",
        "colab_type": "text"
      },
      "source": [
        "<a href=\"https://colab.research.google.com/github/denisecammarota/tesis-ib/blob/master/Fiteos/FitNormal.ipynb\" target=\"_parent\"><img src=\"https://colab.research.google.com/assets/colab-badge.svg\" alt=\"Open In Colab\"/></a>"
      ]
    },
    {
      "cell_type": "code",
      "execution_count": 31,
      "metadata": {
        "id": "eheoPSQ1P5W-"
      },
      "outputs": [],
      "source": [
        "import numpy as np\n",
        "import matplotlib.pyplot as plt\n",
        "from scipy.integrate import odeint\n",
        "from scipy.optimize import curve_fit\n",
        "import pandas as pd"
      ]
    },
    {
      "cell_type": "markdown",
      "metadata": {
        "id": "dlKktAFAUYtk"
      },
      "source": [
        "# Ejemplo 1: Modelo SIR Normal"
      ]
    },
    {
      "cell_type": "code",
      "execution_count": 32,
      "metadata": {
        "id": "ah9FmTZZQEQG"
      },
      "outputs": [],
      "source": [
        "def deriv(y, t, N, beta, gamma):\n",
        "    S, I, R = y\n",
        "    dSdt = -beta * S * I / N\n",
        "    dIdt = beta * S * I / N - gamma * I\n",
        "    dRdt = gamma * I\n",
        "    return dSdt, dIdt, dRdt"
      ]
    },
    {
      "cell_type": "code",
      "execution_count": 33,
      "metadata": {
        "id": "ZdVaO2leQEHy"
      },
      "outputs": [],
      "source": [
        "def SIR_Model(t,beta,gamma):\n",
        "  N = 1000\n",
        "  # Initial number of infected and recovered individuals, I0 and R0.\n",
        "  I0, R0 = 1, 0\n",
        "  # Everyone else, S0, is susceptible to infection initially.\n",
        "  S0 = N - I0 - R0\n",
        "  #the rest that we had before\n",
        "  y0 = S0,I0,R0\n",
        "  ret = odeint(deriv, y0, t, args=(N, beta, gamma))\n",
        "  S, I, R = ret.T\n",
        "  return I"
      ]
    },
    {
      "cell_type": "code",
      "execution_count": 34,
      "metadata": {
        "id": "zapVH9lOSrWs"
      },
      "outputs": [],
      "source": [
        "# Contact rate, beta, and mean recovery rate, gamma, (in 1/days).\n",
        "beta, gamma = 0.2, 1./10 \n",
        "# A grid of time points (in days)\n",
        "t = np.linspace(0, 160, 160)\n",
        "y_data = SIR_Model(t,beta,gamma) + np.random.normal(size=t.shape)"
      ]
    },
    {
      "cell_type": "code",
      "execution_count": 35,
      "metadata": {
        "id": "ib5ipHCITCAy"
      },
      "outputs": [],
      "source": [
        "parameters, covariance = curve_fit(SIR_Model, t, y_data)"
      ]
    },
    {
      "cell_type": "code",
      "execution_count": 36,
      "metadata": {
        "colab": {
          "base_uri": "https://localhost:8080/"
        },
        "id": "XZh5Tw5HUNqn",
        "outputId": "15f2d470-8d9f-4820-89ef-919af6ea3815"
      },
      "outputs": [
        {
          "output_type": "execute_result",
          "data": {
            "text/plain": [
              "array([0.20005459, 0.10008143])"
            ]
          },
          "metadata": {},
          "execution_count": 36
        }
      ],
      "source": [
        "parameters"
      ]
    },
    {
      "cell_type": "markdown",
      "metadata": {
        "id": "L7VcHrWoUb5a"
      },
      "source": [
        "# Ejemplo 2: Intento de fittear el modelo normal neutro y con 10 provincias arbitrarias"
      ]
    },
    {
      "cell_type": "code",
      "execution_count": 37,
      "metadata": {
        "id": "QkMfUnUPUf3c"
      },
      "outputs": [],
      "source": [
        "def deriv_2(y0,t,beta,gamma,a):\n",
        "  n = 10\n",
        "  X = y0[0:n]\n",
        "  Y = y0[n:2*n]\n",
        "  Z = y0[2*n:]\n",
        "  A = np.zeros(shape=(n,n))\n",
        "  for i in range(n):\n",
        "    for j in range(n):\n",
        "      A[i,j] = a\n",
        "  for i in range(n):\n",
        "    A[i,i] = 0\n",
        "    for j in range(n):\n",
        "      if i != j:\n",
        "        A[i,i] -= A[i,j]\n",
        "  N = X+Y+Z\n",
        "  aux_X = np.zeros(n)\n",
        "  aux_Y = np.zeros(n)\n",
        "  aux_Z = np.zeros(n)\n",
        "  for i in range(n):\n",
        "    aux_X_2 = 0\n",
        "    aux_Y_2 = 0\n",
        "    aux_Z_2 = 0\n",
        "    for j in range(n):\n",
        "        aux_X_2 += A[i,j]*X[j]*(N[i]/N[j])\n",
        "        aux_Y_2 += A[i,j]*Y[j]*(N[i]/N[j])\n",
        "        aux_Z_2 += A[i,j]*Z[j]*(N[i]/N[j])\n",
        "    aux_X[i] = aux_X_2\n",
        "    aux_Y[i] = aux_Y_2\n",
        "    aux_Z[i] = aux_Z_2\n",
        "  dXdt = -beta*X*Y/N + (aux_X)\n",
        "  dYdt = beta*X*Y/N - gamma*Y + (aux_Y)\n",
        "  dZdt = gamma*Y + (aux_Z)\n",
        "  return np.concatenate((dXdt,dYdt,dZdt))"
      ]
    },
    {
      "cell_type": "code",
      "execution_count": 38,
      "metadata": {
        "id": "WZvEHgNPUgJt"
      },
      "outputs": [],
      "source": [
        "def SIR_Model_2(t,beta,gamma,a):\n",
        "  n = 10\n",
        "  S = np.ones(n)*10000.0\n",
        "  R = np.zeros(n)*0.0\n",
        "  I = np.zeros(n)*0.0\n",
        "  I[0] = 100.0\n",
        "  I[1] = 20.0\n",
        "  y0 = np.concatenate((S,I,R))\n",
        "  result = odeint(deriv_2,y0, t, args=(beta,gamma,a))\n",
        "  I = result[:,n:2*n]\n",
        "  return I"
      ]
    },
    {
      "cell_type": "code",
      "execution_count": 39,
      "metadata": {
        "id": "zyKNmLEkUgG-"
      },
      "outputs": [],
      "source": [
        "a = 0.001\n",
        "I_data = SIR_Model_2(t,beta,gamma,a) "
      ]
    },
    {
      "cell_type": "code",
      "execution_count": 40,
      "metadata": {
        "colab": {
          "base_uri": "https://localhost:8080/"
        },
        "id": "Zm0-ygPY_dn-",
        "outputId": "ac7dc858-b680-45ee-a8b0-6a078411f172"
      },
      "outputs": [
        {
          "output_type": "stream",
          "name": "stdout",
          "text": [
            "(160, 10)\n"
          ]
        }
      ],
      "source": [
        "print(I_data.shape)"
      ]
    },
    {
      "cell_type": "code",
      "execution_count": 41,
      "metadata": {
        "id": "b1dKEYv4ZFZ6"
      },
      "outputs": [],
      "source": [
        "#parameters, covariance = curve_fit(SIR_Model_2, t, I_data,p0=[0.1,0.01,0.0001])"
      ]
    },
    {
      "cell_type": "markdown",
      "metadata": {
        "id": "sY77p8yX708Z"
      },
      "source": [
        "## aca probamos lmfit que es distinto a ver si funciona: funciona perfecto!!"
      ]
    },
    {
      "cell_type": "code",
      "execution_count": 42,
      "metadata": {
        "id": "6cs6yw1s71Sb"
      },
      "outputs": [],
      "source": [
        "def SIR_Model_2_lm(params,t,I_real):\n",
        "  beta = params['beta']\n",
        "  gamma = params['gamma']\n",
        "  a = params['a']\n",
        "  n = 10\n",
        "  S = np.ones(n)*10000.0\n",
        "  R = np.zeros(n)*0.0\n",
        "  I = np.zeros(n)*0.0\n",
        "  I[0] = 100.0\n",
        "  I[1] = 20.0\n",
        "  y0 = np.concatenate((S,I,R))\n",
        "  result = odeint(deriv_2,y0, t, args=(beta,gamma,a))\n",
        "  I_fake = result[:,n:2*n]\n",
        "  return I_fake - I_real"
      ]
    },
    {
      "cell_type": "code",
      "execution_count": 43,
      "metadata": {
        "colab": {
          "base_uri": "https://localhost:8080/"
        },
        "id": "SUXPXhhu99HT",
        "outputId": "19a5c784-3a47-427f-98a1-51f2619c6a12"
      },
      "outputs": [
        {
          "output_type": "stream",
          "name": "stdout",
          "text": [
            "Requirement already satisfied: lmfit in /usr/local/lib/python3.7/dist-packages (1.0.3)\n",
            "Requirement already satisfied: scipy>=1.4 in /usr/local/lib/python3.7/dist-packages (from lmfit) (1.4.1)\n",
            "Requirement already satisfied: asteval>=0.9.22 in /usr/local/lib/python3.7/dist-packages (from lmfit) (0.9.25)\n",
            "Requirement already satisfied: uncertainties>=3.0.1 in /usr/local/lib/python3.7/dist-packages (from lmfit) (3.1.6)\n",
            "Requirement already satisfied: numpy>=1.18 in /usr/local/lib/python3.7/dist-packages (from lmfit) (1.19.5)\n",
            "Requirement already satisfied: future in /usr/local/lib/python3.7/dist-packages (from uncertainties>=3.0.1->lmfit) (0.16.0)\n"
          ]
        }
      ],
      "source": [
        "pip install lmfit"
      ]
    },
    {
      "cell_type": "code",
      "execution_count": 44,
      "metadata": {
        "id": "kJ9QfoCm8Iit"
      },
      "outputs": [],
      "source": [
        "from lmfit import Parameters,minimize, fit_report\n",
        "params = Parameters()"
      ]
    },
    {
      "cell_type": "code",
      "execution_count": 45,
      "metadata": {
        "id": "dD8XZErN-HGZ"
      },
      "outputs": [],
      "source": [
        "params.add('beta', min=0.05, max=0.2)\n",
        "params.add('gamma', min=0.05, max=0.2)\n",
        "params.add('a',min=0.001,max=0.1)"
      ]
    },
    {
      "cell_type": "code",
      "execution_count": 46,
      "metadata": {
        "id": "sC3yC2wS-HAj"
      },
      "outputs": [],
      "source": [
        "fitted_params = minimize(SIR_Model_2_lm, params, args=(t,I_data,), method='least_squares')"
      ]
    },
    {
      "cell_type": "code",
      "execution_count": 47,
      "metadata": {
        "id": "VXXppwox_LaC"
      },
      "outputs": [],
      "source": [
        "beta = fitted_params.params['beta'].value\n",
        "gamma = fitted_params.params['gamma'].value    \n",
        "a = fitted_params.params['a'].value    "
      ]
    },
    {
      "cell_type": "code",
      "execution_count": 48,
      "metadata": {
        "colab": {
          "base_uri": "https://localhost:8080/"
        },
        "id": "FDzupGzU_Uvn",
        "outputId": "7a22c4bc-4c1b-4715-ca8a-0ea7b249b155"
      },
      "outputs": [
        {
          "output_type": "stream",
          "name": "stdout",
          "text": [
            "0.19999999770197888 0.09999999880697209 0.0010000000542441149\n"
          ]
        }
      ],
      "source": [
        "print(beta,gamma,a)"
      ]
    },
    {
      "cell_type": "markdown",
      "metadata": {
        "id": "FAABdhQEvbt8"
      },
      "source": [
        "# Ejemplo 3: trato de fitear en serio los datos reales - modelo neutro"
      ]
    },
    {
      "cell_type": "code",
      "execution_count": 49,
      "metadata": {
        "id": "Ja18TEfZvfXE"
      },
      "outputs": [],
      "source": [
        "datos = pd.read_csv('series_temporales.csv',sep=\",\",header=None)"
      ]
    },
    {
      "cell_type": "code",
      "execution_count": 50,
      "metadata": {
        "id": "WEREJjevzymW"
      },
      "outputs": [],
      "source": [
        "datos = datos.to_numpy()"
      ]
    },
    {
      "cell_type": "code",
      "execution_count": 51,
      "metadata": {
        "id": "pVTVX3_kz8Kf"
      },
      "outputs": [],
      "source": [
        "datos = np.delete(datos,16,0)"
      ]
    },
    {
      "cell_type": "code",
      "source": [
        "datos.shape"
      ],
      "metadata": {
        "colab": {
          "base_uri": "https://localhost:8080/"
        },
        "id": "ohuEZY3B06CH",
        "outputId": "ec53790c-8b49-4ac3-e9d0-77ef4e0b4328"
      },
      "execution_count": 52,
      "outputs": [
        {
          "output_type": "execute_result",
          "data": {
            "text/plain": [
              "(24, 297)"
            ]
          },
          "metadata": {},
          "execution_count": 52
        }
      ]
    },
    {
      "cell_type": "code",
      "source": [
        "#vamos a cortar un poco algunos datos\n",
        "datos = datos[:,:261]"
      ],
      "metadata": {
        "id": "ysZ-ebWN1H-d"
      },
      "execution_count": 53,
      "outputs": []
    },
    {
      "cell_type": "code",
      "execution_count": 54,
      "metadata": {
        "id": "oyhNiVJNBygy"
      },
      "outputs": [],
      "source": [
        "def deriv_3(y0,t,beta,gamma,a):\n",
        "  n = 24\n",
        "  X = y0[0:n]\n",
        "  Y = y0[n:2*n]\n",
        "  Z = y0[2*n:]\n",
        "  A = np.zeros(shape=(n,n))\n",
        "  for i in range(n):\n",
        "    for j in range(n):\n",
        "      A[i,j] = a\n",
        "  for i in range(n):\n",
        "    A[i,i] = 0\n",
        "    for j in range(n):\n",
        "      if i != j:\n",
        "        A[i,i] -= A[i,j]\n",
        "  N = X+Y+Z\n",
        "  aux_X = np.zeros(n)\n",
        "  aux_Y = np.zeros(n)\n",
        "  aux_Z = np.zeros(n)\n",
        "  for i in range(n):\n",
        "    aux_X_2 = 0\n",
        "    aux_Y_2 = 0\n",
        "    aux_Z_2 = 0\n",
        "    for j in range(n):\n",
        "        aux_X_2 += A[i,j]*X[j]*(N[i]/N[j])\n",
        "        aux_Y_2 += A[i,j]*Y[j]*(N[i]/N[j])\n",
        "        aux_Z_2 += A[i,j]*Z[j]*(N[i]/N[j])\n",
        "    aux_X[i] = aux_X_2\n",
        "    aux_Y[i] = aux_Y_2\n",
        "    aux_Z[i] = aux_Z_2\n",
        "  dXdt = -beta*X*Y/N + (aux_X)\n",
        "  dYdt = beta*X*Y/N - gamma*Y + (aux_Y)\n",
        "  dZdt = gamma*Y + (aux_Z)\n",
        "  return np.concatenate((dXdt,dYdt,dZdt))"
      ]
    },
    {
      "cell_type": "code",
      "execution_count": 55,
      "metadata": {
        "id": "mSgUj9Vh4UXV"
      },
      "outputs": [],
      "source": [
        "def SIR_Model_3_lm(params,t,datos_reales):\n",
        "  beta = params['beta']\n",
        "  gamma = params['gamma']\n",
        "  a = params['a']\n",
        "  n = 24\n",
        "  S = np.array([15625084,2890151,367828,1055259,509108,992595,3308876,1235994,530162,673307,318951,333642,1738929,1101593,551266,638645,1214441,681055,432310,273964,3194537,874006,127205,1448188])\n",
        "  R = np.zeros(n)*0.0\n",
        "  I = np.array([59,57,0,17,1,3,7,4,0,1,0,1,2,0,2,6,0,0,1,3,4,0,3,2]) #pop infected at day 70 by provinces\n",
        "  y0 = np.concatenate((S,I,R))\n",
        "  result = odeint(deriv_3,y0, t, args=(beta,gamma,a))\n",
        "  I_fit = result[:,n:2*n]\n",
        "  return I_fit - datos_reales"
      ]
    },
    {
      "cell_type": "code",
      "execution_count": 56,
      "metadata": {
        "id": "2eicxpZwHdL-"
      },
      "outputs": [],
      "source": [
        "def SIR_Model_3(beta,gamma,a,t):\n",
        "  n = 24\n",
        "  S = np.array([15625084,2890151,367828,1055259,509108,992595,3308876,1235994,530162,673307,318951,333642,1738929,1101593,551266,638645,1214441,681055,432310,273964,3194537,874006,127205,1448188])\n",
        "  R = np.zeros(n)*0.0\n",
        "  I = np.array([59,57,0,17,1,3,7,4,0,1,0,1,2,0,2,6,0,0,1,3,4,0,3,2]) #pop infected at day 70 by provinces\n",
        "  y0 = np.concatenate((S,I,R))\n",
        "  result = odeint(deriv_3,y0, t, args=(beta,gamma,a))\n",
        "  I_fit = result[:,n:2*n]\n",
        "  return I_fit"
      ]
    },
    {
      "cell_type": "code",
      "execution_count": 57,
      "metadata": {
        "id": "mfNsSTf98dbr"
      },
      "outputs": [],
      "source": [
        "t = np.arange(datos.shape[1])\n",
        "params = Parameters()\n",
        "params.add('beta', min=0.05, max=0.5)\n",
        "params.add('gamma', min=0.05, max=0.5)\n",
        "params.add('a',min=0.001,max=0.5)"
      ]
    },
    {
      "cell_type": "code",
      "execution_count": 58,
      "metadata": {
        "id": "iZ6-qxoA8wrW"
      },
      "outputs": [],
      "source": [
        "fitted_params = minimize(SIR_Model_3_lm, params, args=(t,datos.T,), method='least_squares')"
      ]
    },
    {
      "cell_type": "code",
      "execution_count": 59,
      "metadata": {
        "id": "b-TcRfDLClLe"
      },
      "outputs": [],
      "source": [
        "beta_fit = fitted_params.params['beta'].value\n",
        "gamma_fit = fitted_params.params['gamma'].value    \n",
        "a_fit = fitted_params.params['a'].value    "
      ]
    },
    {
      "cell_type": "code",
      "execution_count": 60,
      "metadata": {
        "colab": {
          "base_uri": "https://localhost:8080/"
        },
        "id": "lNP1QGu9Ck4D",
        "outputId": "82045499-2285-438f-a504-a7e6a7e2fe12"
      },
      "outputs": [
        {
          "output_type": "execute_result",
          "data": {
            "text/plain": [
              "1.175972060655716"
            ]
          },
          "metadata": {},
          "execution_count": 60
        }
      ],
      "source": [
        "beta_fit/gamma_fit"
      ]
    },
    {
      "cell_type": "code",
      "execution_count": 61,
      "metadata": {
        "colab": {
          "base_uri": "https://localhost:8080/",
          "height": 458
        },
        "id": "c_NilQ2oC_W0",
        "outputId": "68b5d122-278f-4aa0-a430-18ee4908f248"
      },
      "outputs": [
        {
          "output_type": "execute_result",
          "data": {
            "text/html": [
              "<h2>Fit Statistics</h2><table><tr><td>fitting method</td><td>least_squares</td><td></td></tr><tr><td># function evals</td><td>27</td><td></td></tr><tr><td># data points</td><td>6264</td><td></td></tr><tr><td># variables</td><td>3</td><td></td></tr><tr><td>chi-square</td><td> 3.8975e+11</td><td></td></tr><tr><td>reduced chi-square</td><td> 62250415.7</td><td></td></tr><tr><td>Akaike info crit.</td><td> 112420.976</td><td></td></tr><tr><td>Bayesian info crit.</td><td> 112441.204</td><td></td></tr></table><h2>Variables</h2><table><tr><th> name </th><th> value </th><th> standard error </th><th> relative error </th><th> initial value </th><th> min </th><th> max </th><th> vary </th></tr><tr><td> beta </td><td>  0.19163312 </td><td>  0.00811073 </td><td> (4.23%) </td><td> 0.05 </td><td>  0.05000000 </td><td>  0.50000000 </td><td> True </td></tr><tr><td> gamma </td><td>  0.16295720 </td><td>  0.00854807 </td><td> (5.25%) </td><td> 0.05 </td><td>  0.05000000 </td><td>  0.50000000 </td><td> True </td></tr><tr><td> a </td><td>  0.04700100 </td><td>  4.50993689 </td><td> (9595.41%) </td><td> 0.001 </td><td>  1.0000e-03 </td><td>  0.50000000 </td><td> True </td></tr></table><h2>Correlations (unreported correlations are < 0.100)</h2><table><tr><td>beta</td><td>gamma</td><td>0.9993</td></tr><tr><td>beta</td><td>a</td><td>-0.1018</td></tr></table>"
            ],
            "text/plain": [
              "<lmfit.minimizer.MinimizerResult at 0x7f959c53a710>"
            ]
          },
          "metadata": {},
          "execution_count": 61
        }
      ],
      "source": [
        "fitted_params"
      ]
    },
    {
      "cell_type": "code",
      "execution_count": 62,
      "metadata": {
        "id": "erFq6k0mHHjd"
      },
      "outputs": [],
      "source": [
        "resultado = SIR_Model_3(beta_fit,gamma_fit,a_fit,t)"
      ]
    },
    {
      "cell_type": "code",
      "execution_count": 63,
      "metadata": {
        "colab": {
          "base_uri": "https://localhost:8080/",
          "height": 282
        },
        "id": "lMz_i5nlJrja",
        "outputId": "26b7347b-598a-4d56-92f4-c1d7e28138c6"
      },
      "outputs": [
        {
          "output_type": "execute_result",
          "data": {
            "text/plain": [
              "[<matplotlib.lines.Line2D at 0x7f959bcf9ed0>]"
            ]
          },
          "metadata": {},
          "execution_count": 63
        },
        {
          "output_type": "display_data",
          "data": {
            "image/png": "[encoded data removed]",
            "text/plain": [
              "<Figure size 432x288 with 1 Axes>"
            ]
          },
          "metadata": {
            "needs_background": "light"
          }
        }
      ],
      "source": [
        "plt.plot(resultado[:,0])\n",
        "plt.plot(datos.T[:,0])"
      ]
    },
    {
      "cell_type": "code",
      "execution_count": 64,
      "metadata": {
        "colab": {
          "base_uri": "https://localhost:8080/"
        },
        "id": "g4e4KNDxfeTg",
        "outputId": "fc8e60d6-6d03-4756-cce1-ddcf2bb3140e"
      },
      "outputs": [
        {
          "output_type": "execute_result",
          "data": {
            "text/plain": [
              "1.175972060655716"
            ]
          },
          "metadata": {},
          "execution_count": 64
        }
      ],
      "source": [
        "beta_fit/gamma_fit"
      ]
    },
    {
      "cell_type": "markdown",
      "metadata": {
        "id": "K95vF3If3h2B"
      },
      "source": [
        "# Ejemplo 4: trato de fitear en serio los datos reales - modelo distancias solas"
      ]
    },
    {
      "cell_type": "code",
      "execution_count": 65,
      "metadata": {
        "id": "NR5Gfaza3kdc"
      },
      "outputs": [],
      "source": [
        "orden_falso = ['CABA','CB','COR','FO','BA','LR','MZ','NQ','ER','MI','CHU','CHA','SC','CA','TU','ST','SJ','SL','JU','SF','LP','SDE','TF','RN']\n",
        "orden_provs = ['BA','CABA','CA','CHA','CHU','COR','CB','ER','FO','JU','LP','LR','MZ','MI','NQ','RN','ST','SJ','SL','SC','SF','SDE','TF','TU']\n",
        "distancia = np.zeros((24,24))\n",
        "distancia[0,:] = np.array([1,715,940,1191,61,1150,1050,1158,480,1040,1455,1023,2635,1155,1203,1510,1110,790,1543,478,620,1043,3228,960])\n",
        "distancia[1,1:] = np.array([1,898,1043,757,435,670,1137,361,1213,1455,875,3635,440,590,897,500,420,930,330,600,430,3228,1194])\n",
        "distancia[2,2:] = np.array([1,191,978,993,1565,1989,590,315,2187,23,3367,845,791,803,1398,1318,883,568,1378,633,3960,2046])\n",
        "distancia[3,3:] = np.array([1,1253,1136,1710,2060,744,506,2378,168,3558,988,936,948,1543,1463,960,713,1523,776,4151,2117])\n",
        "distancia[4,4:] = np.array([1,1189,1152,1197,555,1061,1414,996,2551,1188,1309,1614,1213,894,1645,527,670,1184,3132,957])\n",
        "distancia[5,5:] = np.array([1,617,1472,796,1308,1890,970,3070,156,388,695,450,550,770,765,1035,360,3663,1629])\n",
        "distancia[6,6:] = np.array([1,855,916,1925,1620,1587,2800,773,1005,1227,167,260,1345,885,765,977,3393,1359])\n",
        "distancia[7,7:] = np.array([1,1378,2198,750,2012,1930,1588,1860,2082,1022,883,2200,1347,537,1567,2523,660])\n",
        "distancia[8,8:] = np.array([1,820,1696,576,2876,801,798,1105,861,656,1138,31,841,1638,3469,1435])\n",
        "distancia[9,9:] = np.array([1,2495,338,3675,1160,1106,1118,1758,1633,1198,883,1660,948,4268,2000])\n",
        "distancia[10,10:] = np.array([1,2210,1180,1895,2045,2352,1680,1360,2385,1665,855,1885,1773,495])\n",
        "distancia[11,11:] = np.array([1,3390,822,765,780,1420,1295,860,545,1475,610,3983,2069])\n",
        "distancia[12,12:] = np.array([1,3075,3225,3532,2860,2540,3565,2845,2035,3065,593,1675])\n",
        "distancia[13,13:] = np.array([1,232,539,606,705,572,770,1040,212,3668,1634])\n",
        "distancia[14,14:] = np.array([1,307,838,938,340,767,1190,160,3818,1784])\n",
        "distancia[15,15:] = np.array([1,1145,1245,99,1074,1497,467,4125,2091])\n",
        "distancia[16,16:] = np.array([1,320,1220,830,825,810,3435,1419])\n",
        "distancia[17,17:] = np.array([1,1320,625,505,850,3133,1099])\n",
        "distancia[18,18:] = np.array([1,1107,1530,500,4158,2124])\n",
        "distancia[19,19:] = np.array([1,810,607,3438,1404])\n",
        "distancia[20,20:] = np.array([1,1030,2628,594])\n",
        "distancia[21,21:] = np.array([1,3658,1624])\n",
        "distancia[22,22:] = np.array([1,2268])\n",
        "distancia[23,23:] = np.array([1])"
      ]
    },
    {
      "cell_type": "code",
      "execution_count": 66,
      "metadata": {
        "id": "LYRH5ubG6Ej2"
      },
      "outputs": [],
      "source": [
        "distancia_falsa = distancia + distancia.T"
      ]
    },
    {
      "cell_type": "code",
      "execution_count": 67,
      "metadata": {
        "id": "aYCoSBDi6GwO"
      },
      "outputs": [],
      "source": [
        "np.fill_diagonal(distancia_falsa,1)"
      ]
    },
    {
      "cell_type": "code",
      "execution_count": 68,
      "metadata": {
        "colab": {
          "base_uri": "https://localhost:8080/"
        },
        "id": "wX-tvM2z6IWx",
        "outputId": "aa194293-bb66-4ec1-9d50-9f309ffd07b2"
      },
      "outputs": [
        {
          "output_type": "execute_result",
          "data": {
            "text/plain": [
              "array([[1.000e+00, 7.150e+02, 9.400e+02, 1.191e+03, 6.100e+01, 1.150e+03,\n",
              "        1.050e+03, 1.158e+03, 4.800e+02, 1.040e+03, 1.455e+03, 1.023e+03,\n",
              "        2.635e+03, 1.155e+03, 1.203e+03, 1.510e+03, 1.110e+03, 7.900e+02,\n",
              "        1.543e+03, 4.780e+02, 6.200e+02, 1.043e+03, 3.228e+03, 9.600e+02],\n",
              "       [7.150e+02, 1.000e+00, 8.980e+02, 1.043e+03, 7.570e+02, 4.350e+02,\n",
              "        6.700e+02, 1.137e+03, 3.610e+02, 1.213e+03, 1.455e+03, 8.750e+02,\n",
              "        3.635e+03, 4.400e+02, 5.900e+02, 8.970e+02, 5.000e+02, 4.200e+02,\n",
              "        9.300e+02, 3.300e+02, 6.000e+02, 4.300e+02, 3.228e+03, 1.194e+03],\n",
              "       [9.400e+02, 8.980e+02, 1.000e+00, 1.910e+02, 9.780e+02, 9.930e+02,\n",
              "        1.565e+03, 1.989e+03, 5.900e+02, 3.150e+02, 2.187e+03, 2.300e+01,\n",
              "        3.367e+03, 8.450e+02, 7.910e+02, 8.030e+02, 1.398e+03, 1.318e+03,\n",
              "        8.830e+02, 5.680e+02, 1.378e+03, 6.330e+02, 3.960e+03, 2.046e+03],\n",
              "       [1.191e+03, 1.043e+03, 1.910e+02, 1.000e+00, 1.253e+03, 1.136e+03,\n",
              "        1.710e+03, 2.060e+03, 7.440e+02, 5.060e+02, 2.378e+03, 1.680e+02,\n",
              "        3.558e+03, 9.880e+02, 9.360e+02, 9.480e+02, 1.543e+03, 1.463e+03,\n",
              "        9.600e+02, 7.130e+02, 1.523e+03, 7.760e+02, 4.151e+03, 2.117e+03],\n",
              "       [6.100e+01, 7.570e+02, 9.780e+02, 1.253e+03, 1.000e+00, 1.189e+03,\n",
              "        1.152e+03, 1.197e+03, 5.550e+02, 1.061e+03, 1.414e+03, 9.960e+02,\n",
              "        2.551e+03, 1.188e+03, 1.309e+03, 1.614e+03, 1.213e+03, 8.940e+02,\n",
              "        1.645e+03, 5.270e+02, 6.700e+02, 1.184e+03, 3.132e+03, 9.570e+02],\n",
              "       [1.150e+03, 4.350e+02, 9.930e+02, 1.136e+03, 1.189e+03, 1.000e+00,\n",
              "        6.170e+02, 1.472e+03, 7.960e+02, 1.308e+03, 1.890e+03, 9.700e+02,\n",
              "        3.070e+03, 1.560e+02, 3.880e+02, 6.950e+02, 4.500e+02, 5.500e+02,\n",
              "        7.700e+02, 7.650e+02, 1.035e+03, 3.600e+02, 3.663e+03, 1.629e+03],\n",
              "       [1.050e+03, 6.700e+02, 1.565e+03, 1.710e+03, 1.152e+03, 6.170e+02,\n",
              "        1.000e+00, 8.550e+02, 9.160e+02, 1.925e+03, 1.620e+03, 1.587e+03,\n",
              "        2.800e+03, 7.730e+02, 1.005e+03, 1.227e+03, 1.670e+02, 2.600e+02,\n",
              "        1.345e+03, 8.850e+02, 7.650e+02, 9.770e+02, 3.393e+03, 1.359e+03],\n",
              "       [1.158e+03, 1.137e+03, 1.989e+03, 2.060e+03, 1.197e+03, 1.472e+03,\n",
              "        8.550e+02, 1.000e+00, 1.378e+03, 2.198e+03, 7.500e+02, 2.012e+03,\n",
              "        1.930e+03, 1.588e+03, 1.860e+03, 2.082e+03, 1.022e+03, 8.830e+02,\n",
              "        2.200e+03, 1.347e+03, 5.370e+02, 1.567e+03, 2.523e+03, 6.600e+02],\n",
              "       [4.800e+02, 3.610e+02, 5.900e+02, 7.440e+02, 5.550e+02, 7.960e+02,\n",
              "        9.160e+02, 1.378e+03, 1.000e+00, 8.200e+02, 1.696e+03, 5.760e+02,\n",
              "        2.876e+03, 8.010e+02, 7.980e+02, 1.105e+03, 8.610e+02, 6.560e+02,\n",
              "        1.138e+03, 3.100e+01, 8.410e+02, 1.638e+03, 3.469e+03, 1.435e+03],\n",
              "       [1.040e+03, 1.213e+03, 3.150e+02, 5.060e+02, 1.061e+03, 1.308e+03,\n",
              "        1.925e+03, 2.198e+03, 8.200e+02, 1.000e+00, 2.495e+03, 3.380e+02,\n",
              "        3.675e+03, 1.160e+03, 1.106e+03, 1.118e+03, 1.758e+03, 1.633e+03,\n",
              "        1.198e+03, 8.830e+02, 1.660e+03, 9.480e+02, 4.268e+03, 2.000e+03],\n",
              "       [1.455e+03, 1.455e+03, 2.187e+03, 2.378e+03, 1.414e+03, 1.890e+03,\n",
              "        1.620e+03, 7.500e+02, 1.696e+03, 2.495e+03, 1.000e+00, 2.210e+03,\n",
              "        1.180e+03, 1.895e+03, 2.045e+03, 2.352e+03, 1.680e+03, 1.360e+03,\n",
              "        2.385e+03, 1.665e+03, 8.550e+02, 1.885e+03, 1.773e+03, 4.950e+02],\n",
              "       [1.023e+03, 8.750e+02, 2.300e+01, 1.680e+02, 9.960e+02, 9.700e+02,\n",
              "        1.587e+03, 2.012e+03, 5.760e+02, 3.380e+02, 2.210e+03, 1.000e+00,\n",
              "        3.390e+03, 8.220e+02, 7.650e+02, 7.800e+02, 1.420e+03, 1.295e+03,\n",
              "        8.600e+02, 5.450e+02, 1.475e+03, 6.100e+02, 3.983e+03, 2.069e+03],\n",
              "       [2.635e+03, 3.635e+03, 3.367e+03, 3.558e+03, 2.551e+03, 3.070e+03,\n",
              "        2.800e+03, 1.930e+03, 2.876e+03, 3.675e+03, 1.180e+03, 3.390e+03,\n",
              "        1.000e+00, 3.075e+03, 3.225e+03, 3.532e+03, 2.860e+03, 2.540e+03,\n",
              "        3.565e+03, 2.845e+03, 2.035e+03, 3.065e+03, 5.930e+02, 1.675e+03],\n",
              "       [1.155e+03, 4.400e+02, 8.450e+02, 9.880e+02, 1.188e+03, 1.560e+02,\n",
              "        7.730e+02, 1.588e+03, 8.010e+02, 1.160e+03, 1.895e+03, 8.220e+02,\n",
              "        3.075e+03, 1.000e+00, 2.320e+02, 5.390e+02, 6.060e+02, 7.050e+02,\n",
              "        5.720e+02, 7.700e+02, 1.040e+03, 2.120e+02, 3.668e+03, 1.634e+03],\n",
              "       [1.203e+03, 5.900e+02, 7.910e+02, 9.360e+02, 1.309e+03, 3.880e+02,\n",
              "        1.005e+03, 1.860e+03, 7.980e+02, 1.106e+03, 2.045e+03, 7.650e+02,\n",
              "        3.225e+03, 2.320e+02, 1.000e+00, 3.070e+02, 8.380e+02, 9.380e+02,\n",
              "        3.400e+02, 7.670e+02, 1.190e+03, 1.600e+02, 3.818e+03, 1.784e+03],\n",
              "       [1.510e+03, 8.970e+02, 8.030e+02, 9.480e+02, 1.614e+03, 6.950e+02,\n",
              "        1.227e+03, 2.082e+03, 1.105e+03, 1.118e+03, 2.352e+03, 7.800e+02,\n",
              "        3.532e+03, 5.390e+02, 3.070e+02, 1.000e+00, 1.145e+03, 1.245e+03,\n",
              "        9.900e+01, 1.074e+03, 1.497e+03, 4.670e+02, 4.125e+03, 2.091e+03],\n",
              "       [1.110e+03, 5.000e+02, 1.398e+03, 1.543e+03, 1.213e+03, 4.500e+02,\n",
              "        1.670e+02, 1.022e+03, 8.610e+02, 1.758e+03, 1.680e+03, 1.420e+03,\n",
              "        2.860e+03, 6.060e+02, 8.380e+02, 1.145e+03, 1.000e+00, 3.200e+02,\n",
              "        1.220e+03, 8.300e+02, 8.250e+02, 8.100e+02, 3.435e+03, 1.419e+03],\n",
              "       [7.900e+02, 4.200e+02, 1.318e+03, 1.463e+03, 8.940e+02, 5.500e+02,\n",
              "        2.600e+02, 8.830e+02, 6.560e+02, 1.633e+03, 1.360e+03, 1.295e+03,\n",
              "        2.540e+03, 7.050e+02, 9.380e+02, 1.245e+03, 3.200e+02, 1.000e+00,\n",
              "        1.320e+03, 6.250e+02, 5.050e+02, 8.500e+02, 3.133e+03, 1.099e+03],\n",
              "       [1.543e+03, 9.300e+02, 8.830e+02, 9.600e+02, 1.645e+03, 7.700e+02,\n",
              "        1.345e+03, 2.200e+03, 1.138e+03, 1.198e+03, 2.385e+03, 8.600e+02,\n",
              "        3.565e+03, 5.720e+02, 3.400e+02, 9.900e+01, 1.220e+03, 1.320e+03,\n",
              "        1.000e+00, 1.107e+03, 1.530e+03, 5.000e+02, 4.158e+03, 2.124e+03],\n",
              "       [4.780e+02, 3.300e+02, 5.680e+02, 7.130e+02, 5.270e+02, 7.650e+02,\n",
              "        8.850e+02, 1.347e+03, 3.100e+01, 8.830e+02, 1.665e+03, 5.450e+02,\n",
              "        2.845e+03, 7.700e+02, 7.670e+02, 1.074e+03, 8.300e+02, 6.250e+02,\n",
              "        1.107e+03, 1.000e+00, 8.100e+02, 6.070e+02, 3.438e+03, 1.404e+03],\n",
              "       [6.200e+02, 6.000e+02, 1.378e+03, 1.523e+03, 6.700e+02, 1.035e+03,\n",
              "        7.650e+02, 5.370e+02, 8.410e+02, 1.660e+03, 8.550e+02, 1.475e+03,\n",
              "        2.035e+03, 1.040e+03, 1.190e+03, 1.497e+03, 8.250e+02, 5.050e+02,\n",
              "        1.530e+03, 8.100e+02, 1.000e+00, 1.030e+03, 2.628e+03, 5.940e+02],\n",
              "       [1.043e+03, 4.300e+02, 6.330e+02, 7.760e+02, 1.184e+03, 3.600e+02,\n",
              "        9.770e+02, 1.567e+03, 1.638e+03, 9.480e+02, 1.885e+03, 6.100e+02,\n",
              "        3.065e+03, 2.120e+02, 1.600e+02, 4.670e+02, 8.100e+02, 8.500e+02,\n",
              "        5.000e+02, 6.070e+02, 1.030e+03, 1.000e+00, 3.658e+03, 1.624e+03],\n",
              "       [3.228e+03, 3.228e+03, 3.960e+03, 4.151e+03, 3.132e+03, 3.663e+03,\n",
              "        3.393e+03, 2.523e+03, 3.469e+03, 4.268e+03, 1.773e+03, 3.983e+03,\n",
              "        5.930e+02, 3.668e+03, 3.818e+03, 4.125e+03, 3.435e+03, 3.133e+03,\n",
              "        4.158e+03, 3.438e+03, 2.628e+03, 3.658e+03, 1.000e+00, 2.268e+03],\n",
              "       [9.600e+02, 1.194e+03, 2.046e+03, 2.117e+03, 9.570e+02, 1.629e+03,\n",
              "        1.359e+03, 6.600e+02, 1.435e+03, 2.000e+03, 4.950e+02, 2.069e+03,\n",
              "        1.675e+03, 1.634e+03, 1.784e+03, 2.091e+03, 1.419e+03, 1.099e+03,\n",
              "        2.124e+03, 1.404e+03, 5.940e+02, 1.624e+03, 2.268e+03, 1.000e+00]])"
            ]
          },
          "metadata": {},
          "execution_count": 68
        }
      ],
      "source": [
        "distancia_falsa"
      ]
    },
    {
      "cell_type": "code",
      "execution_count": 69,
      "metadata": {
        "id": "qRemecf36Mqa"
      },
      "outputs": [],
      "source": [
        "#reacomodamos las matrices de distancias y distancias reales\n",
        "#tenemos orden_provs y orden_falsos\n",
        "distancia_real = np.zeros((24,24))\n",
        "for i in range(24):\n",
        "  n_p1 = orden_provs[i]\n",
        "  for j in range(24):\n",
        "    n_p2 = orden_provs[j]\n",
        "    n_p1_lista2 = orden_falso.index(n_p1)\n",
        "    n_p2_lista2 = orden_falso.index(n_p2)\n",
        "    distancia_real[i,j] = distancia_falsa[n_p1_lista2,n_p2_lista2]"
      ]
    },
    {
      "cell_type": "code",
      "execution_count": 70,
      "metadata": {
        "id": "iSw1x9G07Fxx"
      },
      "outputs": [],
      "source": [
        "def deriv_4(y0,t,beta,gamma,a):\n",
        "  n = 24\n",
        "  X = y0[0:n]\n",
        "  Y = y0[n:2*n]\n",
        "  Z = y0[2*n:]\n",
        "  A = np.zeros(shape=(n,n))\n",
        "  for i in range(n):\n",
        "    for j in range(n):\n",
        "      A[i,j] = a*(1/distancia_real[i,j])\n",
        "  for i in range(n):\n",
        "    A[i,i] = 0\n",
        "    for j in range(n):\n",
        "      if i != j:\n",
        "        A[i,i] -= A[i,j]\n",
        "  N = X+Y+Z\n",
        "  aux_X = np.zeros(n)\n",
        "  aux_Y = np.zeros(n)\n",
        "  aux_Z = np.zeros(n)\n",
        "  for i in range(n):\n",
        "    aux_X_2 = 0\n",
        "    aux_Y_2 = 0\n",
        "    aux_Z_2 = 0\n",
        "    for j in range(n):\n",
        "        aux_X_2 += A[i,j]*X[j]*(N[i]/N[j])\n",
        "        aux_Y_2 += A[i,j]*Y[j]*(N[i]/N[j])\n",
        "        aux_Z_2 += A[i,j]*Z[j]*(N[i]/N[j])\n",
        "    aux_X[i] = aux_X_2\n",
        "    aux_Y[i] = aux_Y_2\n",
        "    aux_Z[i] = aux_Z_2\n",
        "  dXdt = -beta*X*Y/N + (aux_X)\n",
        "  dYdt = beta*X*Y/N - gamma*Y + (aux_Y)\n",
        "  dZdt = gamma*Y + (aux_Z)\n",
        "  return np.concatenate((dXdt,dYdt,dZdt))"
      ]
    },
    {
      "cell_type": "code",
      "execution_count": 71,
      "metadata": {
        "id": "nTtOL2aV8NmC"
      },
      "outputs": [],
      "source": [
        "def SIR_Model_4_lm(params,t,datos_reales):\n",
        "  beta = params['beta']\n",
        "  gamma = params['gamma']\n",
        "  a = params['a']\n",
        "  n = 24\n",
        "  S = np.array([15625084,2890151,367828,1055259,509108,992595,3308876,1235994,530162,673307,318951,333642,1738929,1101593,551266,638645,1214441,681055,432310,273964,3194537,874006,127205,1448188])\n",
        "  R = np.zeros(n)*0.0\n",
        "  I = np.array([59,57,0,17,1,3,7,4,0,1,0,1,2,0,2,6,0,0,1,3,4,0,3,2]) #pop infected at day 70 by provinces\n",
        "  y0 = np.concatenate((S,I,R))\n",
        "  result = odeint(deriv_4,y0, t, args=(beta,gamma,a))\n",
        "  I_fit = result[:,n:2*n]\n",
        "  return (I_fit - datos_reales)**2"
      ]
    },
    {
      "cell_type": "code",
      "execution_count": 72,
      "metadata": {
        "id": "oQmbqSCV75hx"
      },
      "outputs": [],
      "source": [
        "def SIR_Model_4(beta,gamma,a,t):\n",
        "  n = 24\n",
        "  S = np.array([15625084,2890151,367828,1055259,509108,992595,3308876,1235994,530162,673307,318951,333642,1738929,1101593,551266,638645,1214441,681055,432310,273964,3194537,874006,127205,1448188])\n",
        "  R = np.zeros(n)*0.0\n",
        "  I = np.array([59,57,0,17,1,3,7,4,0,1,0,1,2,0,2,6,0,0,1,3,4,0,3,2]) #pop infected at day 70 by provinces\n",
        "  y0 = np.concatenate((S,I,R))\n",
        "  result = odeint(deriv_4,y0, t, args=(beta,gamma,a))\n",
        "  I_fit = result[:,n:2*n]\n",
        "  return I_fit"
      ]
    },
    {
      "cell_type": "code",
      "execution_count": 73,
      "metadata": {
        "id": "YYahDeCh8DO-"
      },
      "outputs": [],
      "source": [
        "t = np.arange(datos.shape[1])\n",
        "params = Parameters()\n",
        "params.add('beta', min=0.05, max=0.5)\n",
        "params.add('gamma', min=0.05, max=0.5)\n",
        "params.add('a',min=0.001,max=0.5)"
      ]
    },
    {
      "cell_type": "code",
      "execution_count": 74,
      "metadata": {
        "id": "HCNBBx338DO-"
      },
      "outputs": [],
      "source": [
        "fitted_params = minimize(SIR_Model_4_lm, params, args=(t,datos.T,), method='least_squares')"
      ]
    },
    {
      "cell_type": "code",
      "execution_count": 75,
      "metadata": {
        "id": "yFrLd-938DO-"
      },
      "outputs": [],
      "source": [
        "beta_fit = fitted_params.params['beta'].value\n",
        "gamma_fit = fitted_params.params['gamma'].value    \n",
        "a_fit = fitted_params.params['a'].value    "
      ]
    },
    {
      "cell_type": "code",
      "execution_count": 76,
      "metadata": {
        "colab": {
          "base_uri": "https://localhost:8080/"
        },
        "id": "JVzNNiu88DO_",
        "outputId": "8915ed02-a7f1-4d58-be2a-ca29334dfd58"
      },
      "outputs": [
        {
          "output_type": "execute_result",
          "data": {
            "text/plain": [
              "1.1170895887646368"
            ]
          },
          "metadata": {},
          "execution_count": 76
        }
      ],
      "source": [
        "beta_fit/gamma_fit"
      ]
    },
    {
      "cell_type": "code",
      "execution_count": 77,
      "metadata": {
        "colab": {
          "base_uri": "https://localhost:8080/",
          "height": 437
        },
        "id": "v8qQVyiN8DO_",
        "outputId": "09e0b3fb-3aed-4077-8aab-5193c33e0984"
      },
      "outputs": [
        {
          "output_type": "execute_result",
          "data": {
            "text/html": [
              "<h2>Fit Statistics</h2><table><tr><td>fitting method</td><td>least_squares</td><td></td></tr><tr><td># function evals</td><td>70</td><td></td></tr><tr><td># data points</td><td>6264</td><td></td></tr><tr><td># variables</td><td>3</td><td></td></tr><tr><td>chi-square</td><td> 5.9167e+18</td><td></td></tr><tr><td>reduced chi-square</td><td> 9.4501e+14</td><td></td></tr><tr><td>Akaike info crit.</td><td> 215999.626</td><td></td></tr><tr><td>Bayesian info crit.</td><td> 216019.853</td><td></td></tr></table><h2>Variables</h2><table><tr><th> name </th><th> value </th><th> standard error </th><th> relative error </th><th> initial value </th><th> min </th><th> max </th><th> vary </th></tr><tr><td> beta </td><td>  0.43152550 </td><td>  4.1167e-04 </td><td> (0.10%) </td><td> 0.05 </td><td>  0.05000000 </td><td>  0.50000000 </td><td> True </td></tr><tr><td> gamma </td><td>  0.38629444 </td><td>  4.0690e-04 </td><td> (0.11%) </td><td> 0.05 </td><td>  0.05000000 </td><td>  0.50000000 </td><td> True </td></tr><tr><td> a </td><td>  0.14556734 </td><td>  0.00775954 </td><td> (5.33%) </td><td> 0.001 </td><td>  1.0000e-03 </td><td>  0.50000000 </td><td> True </td></tr></table><h2>Correlations (unreported correlations are < 0.100)</h2><table><tr><td>beta</td><td>gamma</td><td>0.9954</td></tr></table>"
            ],
            "text/plain": [
              "<lmfit.minimizer.MinimizerResult at 0x7f959bcc5050>"
            ]
          },
          "metadata": {},
          "execution_count": 77
        }
      ],
      "source": [
        "fitted_params"
      ]
    },
    {
      "cell_type": "code",
      "execution_count": 78,
      "metadata": {
        "id": "OcpVPEEo8DO_"
      },
      "outputs": [],
      "source": [
        "resultado = SIR_Model_4(beta_fit,gamma_fit,a_fit,t)"
      ]
    },
    {
      "cell_type": "code",
      "execution_count": 79,
      "metadata": {
        "colab": {
          "base_uri": "https://localhost:8080/",
          "height": 282
        },
        "id": "i7sfgQV48DO_",
        "outputId": "76fc6d1a-84db-45f9-c205-2988cbc9367c"
      },
      "outputs": [
        {
          "output_type": "execute_result",
          "data": {
            "text/plain": [
              "[<matplotlib.lines.Line2D at 0x7f959bc82b50>]"
            ]
          },
          "metadata": {},
          "execution_count": 79
        },
        {
          "output_type": "display_data",
          "data": {
            "image/png": "[encoded data removed]",
            "text/plain": [
              "<Figure size 432x288 with 1 Axes>"
            ]
          },
          "metadata": {
            "needs_background": "light"
          }
        }
      ],
      "source": [
        "plt.plot(resultado[:,0])\n",
        "plt.plot(datos.T[:,0])"
      ]
    },
    {
      "cell_type": "markdown",
      "metadata": {
        "id": "x3gmbI0HB2XT"
      },
      "source": [
        "# Ejemplo 5: trato de fitear en serio los datos reales - modelo poblaciones solas"
      ]
    },
    {
      "cell_type": "code",
      "execution_count": 80,
      "metadata": {
        "id": "S_oBxraFDJSA"
      },
      "outputs": [],
      "source": [
        "population = np.array([15625084,2890151,367828,1055259,509108,992595,3308876,1235994,530162,673307,318951,333642,1738929,1101593,551266,638645,1214441,681055,432310,273964,3194537,874006,127205,1448188])\n",
        "nt = np.sum(population)"
      ]
    },
    {
      "cell_type": "code",
      "execution_count": 81,
      "metadata": {
        "id": "jWV22KHSDHAV"
      },
      "outputs": [],
      "source": [
        "def deriv_5(y0,t,beta,gamma,a):\n",
        "  n = 24\n",
        "  X = y0[0:n]\n",
        "  Y = y0[n:2*n]\n",
        "  Z = y0[2*n:]\n",
        "  A = np.zeros(shape=(n,n))\n",
        "  for i in range(n):\n",
        "    for j in range(n):\n",
        "      A[i,j] = a*((population[i]+population[j])/nt)\n",
        "  for i in range(n):\n",
        "    A[i,i] = 0\n",
        "    for j in range(n):\n",
        "      if i != j:\n",
        "        A[i,i] -= A[i,j]\n",
        "  N = X+Y+Z\n",
        "  aux_X = np.zeros(n)\n",
        "  aux_Y = np.zeros(n)\n",
        "  aux_Z = np.zeros(n)\n",
        "  for i in range(n):\n",
        "    aux_X_2 = 0\n",
        "    aux_Y_2 = 0\n",
        "    aux_Z_2 = 0\n",
        "    for j in range(n):\n",
        "        aux_X_2 += A[i,j]*X[j]*(N[i]/N[j])\n",
        "        aux_Y_2 += A[i,j]*Y[j]*(N[i]/N[j])\n",
        "        aux_Z_2 += A[i,j]*Z[j]*(N[i]/N[j])\n",
        "    aux_X[i] = aux_X_2\n",
        "    aux_Y[i] = aux_Y_2\n",
        "    aux_Z[i] = aux_Z_2\n",
        "  dXdt = -beta*X*Y/N + (aux_X)\n",
        "  dYdt = beta*X*Y/N - gamma*Y + (aux_Y)\n",
        "  dZdt = gamma*Y + (aux_Z)\n",
        "  return np.concatenate((dXdt,dYdt,dZdt))"
      ]
    },
    {
      "cell_type": "code",
      "execution_count": 82,
      "metadata": {
        "id": "b9QLt9WiDHAY"
      },
      "outputs": [],
      "source": [
        "def SIR_Model_5_lm(params,t,datos_reales):\n",
        "  beta = params['beta']\n",
        "  gamma = params['gamma']\n",
        "  a = params['a']\n",
        "  n = 24\n",
        "  S = np.array([15625084,2890151,367828,1055259,509108,992595,3308876,1235994,530162,673307,318951,333642,1738929,1101593,551266,638645,1214441,681055,432310,273964,3194537,874006,127205,1448188])\n",
        "  R = np.zeros(n)*0.0\n",
        "  I = np.array([59,57,0,17,1,3,7,4,0,1,0,1,2,0,2,6,0,0,1,3,4,0,3,2]) #pop infected at day 70 by provinces\n",
        "  y0 = np.concatenate((S,I,R))\n",
        "  result = odeint(deriv_5,y0, t, args=(beta,gamma,a))\n",
        "  I_fit = result[:,n:2*n]\n",
        "  return I_fit - datos_reales"
      ]
    },
    {
      "cell_type": "code",
      "execution_count": 83,
      "metadata": {
        "id": "kYtG6WIwDHAY"
      },
      "outputs": [],
      "source": [
        "def SIR_Model_5(beta,gamma,a,t):\n",
        "  n = 24\n",
        "  S = np.array([15625084,2890151,367828,1055259,509108,992595,3308876,1235994,530162,673307,318951,333642,1738929,1101593,551266,638645,1214441,681055,432310,273964,3194537,874006,127205,1448188])\n",
        "  R = np.zeros(n)*0.0\n",
        "  I = np.array([59,57,0,17,1,3,7,4,0,1,0,1,2,0,2,6,0,0,1,3,4,0,3,2]) #pop infected at day 70 by provinces\n",
        "  y0 = np.concatenate((S,I,R))\n",
        "  result = odeint(deriv_5,y0, t, args=(beta,gamma,a))\n",
        "  I_fit = result[:,n:2*n]\n",
        "  return I_fit"
      ]
    },
    {
      "cell_type": "code",
      "execution_count": 84,
      "metadata": {
        "id": "R36wbbj4DHAZ"
      },
      "outputs": [],
      "source": [
        "t = np.arange(datos.shape[1])\n",
        "params = Parameters()\n",
        "params.add('beta', min=0.05, max=0.5)\n",
        "params.add('gamma', min=0.05, max=0.5)\n",
        "params.add('a',min=0.00001,max=0.5)"
      ]
    },
    {
      "cell_type": "code",
      "execution_count": 85,
      "metadata": {
        "id": "ELYu4a9RDHAZ"
      },
      "outputs": [],
      "source": [
        "fitted_params = minimize(SIR_Model_5_lm, params, args=(t,datos.T,), method='least_squares')"
      ]
    },
    {
      "cell_type": "code",
      "execution_count": 86,
      "metadata": {
        "id": "Bs1KKUuJDHAZ"
      },
      "outputs": [],
      "source": [
        "beta_fit = fitted_params.params['beta'].value\n",
        "gamma_fit = fitted_params.params['gamma'].value    \n",
        "a_fit = fitted_params.params['a'].value    "
      ]
    },
    {
      "cell_type": "code",
      "execution_count": 87,
      "metadata": {
        "colab": {
          "base_uri": "https://localhost:8080/"
        },
        "id": "vX4RzstlDHAZ",
        "outputId": "6b7f23bd-407d-4b53-8c32-8616c0e376e4"
      },
      "outputs": [
        {
          "output_type": "execute_result",
          "data": {
            "text/plain": [
              "1.1165302751276782"
            ]
          },
          "metadata": {},
          "execution_count": 87
        }
      ],
      "source": [
        "beta_fit/gamma_fit"
      ]
    },
    {
      "cell_type": "code",
      "execution_count": 88,
      "metadata": {
        "colab": {
          "base_uri": "https://localhost:8080/",
          "height": 437
        },
        "id": "h5bCgJC3DHAa",
        "outputId": "add60e6b-866a-4267-f40f-d16f1ae0898e"
      },
      "outputs": [
        {
          "output_type": "execute_result",
          "data": {
            "text/html": [
              "<h2>Fit Statistics</h2><table><tr><td>fitting method</td><td>least_squares</td><td></td></tr><tr><td># function evals</td><td>71</td><td></td></tr><tr><td># data points</td><td>6264</td><td></td></tr><tr><td># variables</td><td>3</td><td></td></tr><tr><td>chi-square</td><td> 5.8385e+10</td><td></td></tr><tr><td>reduced chi-square</td><td> 9325153.51</td><td></td></tr><tr><td>Akaike info crit.</td><td> 100529.087</td><td></td></tr><tr><td>Bayesian info crit.</td><td> 100549.315</td><td></td></tr></table><h2>Variables</h2><table><tr><th> name </th><th> value </th><th> standard error </th><th> relative error </th><th> initial value </th><th> min </th><th> max </th><th> vary </th></tr><tr><td> beta </td><td>  0.44360302 </td><td>  8.5277e-04 </td><td> (0.19%) </td><td> 0.05 </td><td>  0.05000000 </td><td>  0.50000000 </td><td> True </td></tr><tr><td> gamma </td><td>  0.39730496 </td><td>  8.4140e-04 </td><td> (0.21%) </td><td> 0.05 </td><td>  0.05000000 </td><td>  0.50000000 </td><td> True </td></tr><tr><td> a </td><td>  2.4578e-04 </td><td>  2.2238e-05 </td><td> (9.05%) </td><td> 1e-05 </td><td>  1.0000e-05 </td><td>  0.50000000 </td><td> True </td></tr></table><h2>Correlations (unreported correlations are < 0.100)</h2><table><tr><td>beta</td><td>gamma</td><td>0.9975</td></tr></table>"
            ],
            "text/plain": [
              "<lmfit.minimizer.MinimizerResult at 0x7f959bcadd90>"
            ]
          },
          "metadata": {},
          "execution_count": 88
        }
      ],
      "source": [
        "fitted_params"
      ]
    },
    {
      "cell_type": "code",
      "execution_count": 89,
      "metadata": {
        "id": "T4vLNRVKDHAb"
      },
      "outputs": [],
      "source": [
        "resultado = SIR_Model_5(beta_fit,gamma_fit,a_fit,t)"
      ]
    },
    {
      "cell_type": "code",
      "execution_count": 90,
      "metadata": {
        "colab": {
          "base_uri": "https://localhost:8080/",
          "height": 282
        },
        "id": "cj-USuO_DHAb",
        "outputId": "5db25eb2-c4ea-42e8-b2b7-4219dcce6286"
      },
      "outputs": [
        {
          "output_type": "execute_result",
          "data": {
            "text/plain": [
              "[<matplotlib.lines.Line2D at 0x7f959bc089d0>]"
            ]
          },
          "metadata": {},
          "execution_count": 90
        },
        {
          "output_type": "display_data",
          "data": {
            "image/png": "[encoded data removed]",
            "text/plain": [
              "<Figure size 432x288 with 1 Axes>"
            ]
          },
          "metadata": {
            "needs_background": "light"
          }
        }
      ],
      "source": [
        "plt.plot(resultado[:,0])\n",
        "plt.plot(datos.T[:,0])"
      ]
    },
    {
      "cell_type": "markdown",
      "metadata": {
        "id": "vI1dBOtyWX6Y"
      },
      "source": [
        "# Ejemplo 6: trato de fitear en serio los datos reales - modelo poblaciones y distancias"
      ]
    },
    {
      "cell_type": "code",
      "execution_count": 91,
      "metadata": {
        "id": "UnbJ0WHWW4--"
      },
      "outputs": [],
      "source": [
        "def deriv_6(y0,t,beta,gamma,a):\n",
        "  n = 24\n",
        "  X = y0[0:n]\n",
        "  Y = y0[n:2*n]\n",
        "  Z = y0[2*n:]\n",
        "  A = np.zeros(shape=(n,n))\n",
        "  for i in range(n):\n",
        "    for j in range(n):\n",
        "      A[i,j] = a*((population[i]+population[j])/nt)*(1/distancia_real[i,j])\n",
        "  for i in range(n):\n",
        "    A[i,i] = 0\n",
        "    for j in range(n):\n",
        "      if i != j:\n",
        "        A[i,i] -= A[i,j]\n",
        "  N = X+Y+Z\n",
        "  aux_X = np.zeros(n)\n",
        "  aux_Y = np.zeros(n)\n",
        "  aux_Z = np.zeros(n)\n",
        "  for i in range(n):\n",
        "    aux_X_2 = 0\n",
        "    aux_Y_2 = 0\n",
        "    aux_Z_2 = 0\n",
        "    for j in range(n):\n",
        "        aux_X_2 += A[i,j]*X[j]*(N[i]/N[j])\n",
        "        aux_Y_2 += A[i,j]*Y[j]*(N[i]/N[j])\n",
        "        aux_Z_2 += A[i,j]*Z[j]*(N[i]/N[j])\n",
        "    aux_X[i] = aux_X_2\n",
        "    aux_Y[i] = aux_Y_2\n",
        "    aux_Z[i] = aux_Z_2\n",
        "  dXdt = -beta*X*Y/N + (aux_X)\n",
        "  dYdt = beta*X*Y/N - gamma*Y + (aux_Y)\n",
        "  dZdt = gamma*Y + (aux_Z)\n",
        "  return np.concatenate((dXdt,dYdt,dZdt))"
      ]
    },
    {
      "cell_type": "code",
      "execution_count": 92,
      "metadata": {
        "id": "L-7z3sOkW4_A"
      },
      "outputs": [],
      "source": [
        "def SIR_Model_6_lm(params,t,datos_reales):\n",
        "  beta = params['beta']\n",
        "  gamma = params['gamma']\n",
        "  a = params['a']\n",
        "  n = 24\n",
        "  S = np.array([15625084,2890151,367828,1055259,509108,992595,3308876,1235994,530162,673307,318951,333642,1738929,1101593,551266,638645,1214441,681055,432310,273964,3194537,874006,127205,1448188])\n",
        "  R = np.zeros(n)*0.0\n",
        "  I = np.array([59,57,0,17,1,3,7,4,0,1,0,1,2,0,2,6,0,0,1,3,4,0,3,2]) #pop infected at day 70 by provinces\n",
        "  y0 = np.concatenate((S,I,R))\n",
        "  result = odeint(deriv_6,y0, t, args=(beta,gamma,a))\n",
        "  I_fit = result[:,n:2*n]\n",
        "  return I_fit - datos_reales"
      ]
    },
    {
      "cell_type": "code",
      "execution_count": 93,
      "metadata": {
        "id": "hFJhcd4FW4_A"
      },
      "outputs": [],
      "source": [
        "def SIR_Model_6(beta,gamma,a,t):\n",
        "  n = 24\n",
        "  S = np.array([15625084,2890151,367828,1055259,509108,992595,3308876,1235994,530162,673307,318951,333642,1738929,1101593,551266,638645,1214441,681055,432310,273964,3194537,874006,127205,1448188])\n",
        "  R = np.zeros(n)*0.0\n",
        "  I = np.array([59,57,0,17,1,3,7,4,0,1,0,1,2,0,2,6,0,0,1,3,4,0,3,2]) #pop infected at day 70 by provinces\n",
        "  y0 = np.concatenate((S,I,R))\n",
        "  result = odeint(deriv_6,y0, t, args=(beta,gamma,a))\n",
        "  I_fit = result[:,n:2*n]\n",
        "  return I_fit"
      ]
    },
    {
      "cell_type": "code",
      "execution_count": 94,
      "metadata": {
        "id": "44ru9A7NW4_B"
      },
      "outputs": [],
      "source": [
        "t = np.arange(datos.shape[1])\n",
        "params = Parameters()\n",
        "params.add('beta', min=0.05, max=0.5)\n",
        "params.add('gamma', min=0.05, max=0.5)\n",
        "params.add('a',min=0.001,max=1)"
      ]
    },
    {
      "cell_type": "code",
      "execution_count": 95,
      "metadata": {
        "id": "CzP9DQ_RW4_B"
      },
      "outputs": [],
      "source": [
        "fitted_params = minimize(SIR_Model_6_lm, params, args=(t,datos.T,), method='least_squares')"
      ]
    },
    {
      "cell_type": "code",
      "execution_count": 96,
      "metadata": {
        "id": "aUzGHwPxW4_B"
      },
      "outputs": [],
      "source": [
        "beta_fit = fitted_params.params['beta'].value\n",
        "gamma_fit = fitted_params.params['gamma'].value    \n",
        "a_fit = fitted_params.params['a'].value    "
      ]
    },
    {
      "cell_type": "code",
      "execution_count": 97,
      "metadata": {
        "colab": {
          "base_uri": "https://localhost:8080/"
        },
        "id": "zN86xg-wW4_B",
        "outputId": "1239a64d-8b6d-4280-d371-4b041de99162"
      },
      "outputs": [
        {
          "output_type": "execute_result",
          "data": {
            "text/plain": [
              "1.1162141452360244"
            ]
          },
          "metadata": {},
          "execution_count": 97
        }
      ],
      "source": [
        "beta_fit/gamma_fit"
      ]
    },
    {
      "cell_type": "code",
      "execution_count": 98,
      "metadata": {
        "colab": {
          "base_uri": "https://localhost:8080/",
          "height": 478
        },
        "id": "29o8oKEKW4_B",
        "outputId": "2c85da45-3577-4900-d1bb-49c60633c63e"
      },
      "outputs": [
        {
          "output_type": "execute_result",
          "data": {
            "text/html": [
              "<h2>Fit Statistics</h2><table><tr><td>fitting method</td><td>least_squares</td><td></td></tr><tr><td># function evals</td><td>48</td><td></td></tr><tr><td># data points</td><td>6264</td><td></td></tr><tr><td># variables</td><td>3</td><td></td></tr><tr><td>chi-square</td><td> 4.2820e+10</td><td></td></tr><tr><td>reduced chi-square</td><td> 6839197.25</td><td></td></tr><tr><td>Akaike info crit.</td><td> 98586.9646</td><td></td></tr><tr><td>Bayesian info crit.</td><td> 98607.1923</td><td></td></tr></table><h2>Variables</h2><table><tr><th> name </th><th> value </th><th> standard error </th><th> relative error </th><th> initial value </th><th> min </th><th> max </th><th> vary </th></tr><tr><td> beta </td><td>  0.42228425 </td><td>  7.0667e-04 </td><td> (0.17%) </td><td> 0.05 </td><td>  0.05000000 </td><td>  0.50000000 </td><td> True </td></tr><tr><td> gamma </td><td>  0.37831831 </td><td>  6.9819e-04 </td><td> (0.18%) </td><td> 0.05 </td><td>  0.05000000 </td><td>  0.50000000 </td><td> True </td></tr><tr><td> a </td><td>  0.49591316 </td><td>  0.02462351 </td><td> (4.97%) </td><td> 0.001 </td><td>  1.0000e-03 </td><td>  1.00000000 </td><td> True </td></tr></table><h2>Correlations (unreported correlations are < 0.100)</h2><table><tr><td>beta</td><td>gamma</td><td>0.9972</td></tr><tr><td>gamma</td><td>a</td><td>0.2425</td></tr><tr><td>beta</td><td>a</td><td>0.2366</td></tr></table>"
            ],
            "text/plain": [
              "<lmfit.minimizer.MinimizerResult at 0x7f959bc36a50>"
            ]
          },
          "metadata": {},
          "execution_count": 98
        }
      ],
      "source": [
        "fitted_params"
      ]
    },
    {
      "cell_type": "code",
      "execution_count": 99,
      "metadata": {
        "id": "wQ7A4BKSW4_B"
      },
      "outputs": [],
      "source": [
        "resultado = SIR_Model_5(beta_fit,gamma_fit,a_fit,t)"
      ]
    },
    {
      "cell_type": "code",
      "execution_count": 100,
      "metadata": {
        "colab": {
          "base_uri": "https://localhost:8080/",
          "height": 282
        },
        "id": "GBw9DlH1W4_B",
        "outputId": "f22117c1-66fa-4d40-ca77-e6d46f138c3b"
      },
      "outputs": [
        {
          "output_type": "execute_result",
          "data": {
            "text/plain": [
              "[<matplotlib.lines.Line2D at 0x7f959bb80950>]"
            ]
          },
          "metadata": {},
          "execution_count": 100
        },
        {
          "output_type": "display_data",
          "data": {
            "image/png": "[encoded data removed]",
            "text/plain": [
              "<Figure size 432x288 with 1 Axes>"
            ]
          },
          "metadata": {
            "needs_background": "light"
          }
        }
      ],
      "source": [
        "plt.plot(resultado[:,0])\n",
        "plt.plot(datos.T[:,0])"
      ]
    },
    {
      "cell_type": "code",
      "execution_count": 101,
      "metadata": {
        "colab": {
          "base_uri": "https://localhost:8080/"
        },
        "id": "Lb1RQz3nWXmq",
        "outputId": "ba3f18ee-5e60-484e-ccaf-40978a9ad11f"
      },
      "outputs": [
        {
          "output_type": "execute_result",
          "data": {
            "text/plain": [
              "2.6432767762433294"
            ]
          },
          "metadata": {},
          "execution_count": 101
        }
      ],
      "source": [
        "1/gamma_fit"
      ]
    },
    {
      "cell_type": "markdown",
      "metadata": {
        "id": "Yfg-1Ti4SK_T"
      },
      "source": [
        "# Ejemplo 7: Control sin matrices de conectividad "
      ]
    },
    {
      "cell_type": "code",
      "execution_count": 102,
      "metadata": {
        "id": "pXP4b_GrUTdj"
      },
      "outputs": [],
      "source": [
        "def deriv_7(y0,t,beta,gamma):\n",
        "  n = 24\n",
        "  X = y0[0:n]\n",
        "  Y = y0[n:2*n]\n",
        "  Z = y0[2*n:]\n",
        "  N = X+Y+Z\n",
        "  dXdt = -beta*X*Y/N \n",
        "  dYdt = beta*X*Y/N - gamma*Y \n",
        "  dZdt = gamma*Y \n",
        "  return np.concatenate((dXdt,dYdt,dZdt))"
      ]
    },
    {
      "cell_type": "code",
      "execution_count": 103,
      "metadata": {
        "id": "d6lzeghYUTdl"
      },
      "outputs": [],
      "source": [
        "def SIR_Model_7_lm(params,t,datos_reales):\n",
        "  beta = params['beta']\n",
        "  gamma = params['gamma']\n",
        "  n = 24\n",
        "  S = np.array([15625084,2890151,367828,1055259,509108,992595,3308876,1235994,530162,673307,318951,333642,1738929,1101593,551266,638645,1214441,681055,432310,273964,3194537,874006,127205,1448188])\n",
        "  R = np.zeros(n)*0.0\n",
        "  I = np.array([59,57,0,17,1,3,7,4,0,1,0,1,2,0,2,6,0,0,1,3,4,0,3,2]) #pop infected at day 70 by provinces\n",
        "  y0 = np.concatenate((S,I,R))\n",
        "  result = odeint(deriv_7,y0, t, args=(beta,gamma))\n",
        "  I_fit = result[:,n:2*n]\n",
        "  return I_fit - datos_reales"
      ]
    },
    {
      "cell_type": "code",
      "execution_count": 104,
      "metadata": {
        "id": "s3XuSdn-UTdl"
      },
      "outputs": [],
      "source": [
        "def SIR_Model_7(beta,gamma,t):\n",
        "  n = 24\n",
        "  S = np.array([15625084,2890151,367828,1055259,509108,992595,3308876,1235994,530162,673307,318951,333642,1738929,1101593,551266,638645,1214441,681055,432310,273964,3194537,874006,127205,1448188])\n",
        "  R = np.zeros(n)*0.0\n",
        "  I = np.array([59,57,0,17,1,3,7,4,0,1,0,1,2,0,2,6,0,0,1,3,4,0,3,2]) #pop infected at day 70 by provinces\n",
        "  y0 = np.concatenate((S,I,R))\n",
        "  result = odeint(deriv_7,y0, t, args=(beta,gamma))\n",
        "  I_fit = result[:,n:2*n]\n",
        "  return I_fit"
      ]
    },
    {
      "cell_type": "code",
      "execution_count": 105,
      "metadata": {
        "id": "-dO0QjosUTdl"
      },
      "outputs": [],
      "source": [
        "t = np.arange(datos.shape[1])\n",
        "params = Parameters()\n",
        "params.add('beta', min=0.05, max=0.5)\n",
        "params.add('gamma', min=0.05, max=0.5)"
      ]
    },
    {
      "cell_type": "code",
      "execution_count": 106,
      "metadata": {
        "id": "_hf13c0FUTdl"
      },
      "outputs": [],
      "source": [
        "fitted_params = minimize(SIR_Model_7_lm, params, args=(t,datos.T,), method='least_squares')"
      ]
    },
    {
      "cell_type": "code",
      "execution_count": 107,
      "metadata": {
        "id": "n4ZSG2CMUTdm"
      },
      "outputs": [],
      "source": [
        "beta_fit = fitted_params.params['beta'].value\n",
        "gamma_fit = fitted_params.params['gamma'].value    "
      ]
    },
    {
      "cell_type": "code",
      "execution_count": 108,
      "metadata": {
        "colab": {
          "base_uri": "https://localhost:8080/"
        },
        "id": "qSCa1_uIUTdm",
        "outputId": "4a88451b-2d85-4c86-e81a-41c94dfc19c7"
      },
      "outputs": [
        {
          "output_type": "execute_result",
          "data": {
            "text/plain": [
              "1.1166243661774755"
            ]
          },
          "metadata": {},
          "execution_count": 108
        }
      ],
      "source": [
        "beta_fit/gamma_fit"
      ]
    },
    {
      "cell_type": "code",
      "execution_count": 109,
      "metadata": {
        "colab": {
          "base_uri": "https://localhost:8080/",
          "height": 415
        },
        "id": "isS5zAlPUTdm",
        "outputId": "324c92df-f8ab-451f-a0e0-d51af554fa28"
      },
      "outputs": [
        {
          "output_type": "execute_result",
          "data": {
            "text/html": [
              "<h2>Fit Statistics</h2><table><tr><td>fitting method</td><td>least_squares</td><td></td></tr><tr><td># function evals</td><td>42</td><td></td></tr><tr><td># data points</td><td>6264</td><td></td></tr><tr><td># variables</td><td>2</td><td></td></tr><tr><td>chi-square</td><td> 5.8528e+10</td><td></td></tr><tr><td>reduced chi-square</td><td> 9346509.98</td><td></td></tr><tr><td>Akaike info crit.</td><td> 100542.417</td><td></td></tr><tr><td>Bayesian info crit.</td><td> 100555.902</td><td></td></tr></table><h2>Variables</h2><table><tr><th> name </th><th> value </th><th> standard error </th><th> relative error </th><th> initial value </th><th> min </th><th> max </th><th> vary </th></tr><tr><td> beta </td><td>  0.44449013 </td><td>  8.3311e-04 </td><td> (0.19%) </td><td> 0.05 </td><td>  0.05000000 </td><td>  0.50000000 </td><td> True </td></tr><tr><td> gamma </td><td>  0.39806594 </td><td>  8.2907e-04 </td><td> (0.21%) </td><td> 0.05 </td><td>  0.05000000 </td><td>  0.50000000 </td><td> True </td></tr></table><h2>Correlations (unreported correlations are < 0.100)</h2><table><tr><td>beta</td><td>gamma</td><td>0.9975</td></tr></table>"
            ],
            "text/plain": [
              "<lmfit.minimizer.MinimizerResult at 0x7f959bb456d0>"
            ]
          },
          "metadata": {},
          "execution_count": 109
        }
      ],
      "source": [
        "fitted_params"
      ]
    },
    {
      "cell_type": "code",
      "execution_count": 110,
      "metadata": {
        "id": "qkpl9vwCUTdm"
      },
      "outputs": [],
      "source": [
        "resultado = SIR_Model_7(beta_fit,gamma_fit,t)"
      ]
    },
    {
      "cell_type": "code",
      "execution_count": 111,
      "metadata": {
        "colab": {
          "base_uri": "https://localhost:8080/",
          "height": 282
        },
        "id": "adVXPySdUTdm",
        "outputId": "52eaca1f-cf4c-4b0d-c0e5-1af478779d65"
      },
      "outputs": [
        {
          "output_type": "execute_result",
          "data": {
            "text/plain": [
              "[<matplotlib.lines.Line2D at 0x7f959bb73f90>]"
            ]
          },
          "metadata": {},
          "execution_count": 111
        },
        {
          "output_type": "display_data",
          "data": {
            "image/png": "[encoded data removed]",
            "text/plain": [
              "<Figure size 432x288 with 1 Axes>"
            ]
          },
          "metadata": {
            "needs_background": "light"
          }
        }
      ],
      "source": [
        "plt.plot(resultado[:,0])\n",
        "plt.plot(datos.T[:,0])"
      ]
    },
    {
      "cell_type": "code",
      "execution_count": 112,
      "metadata": {
        "colab": {
          "base_uri": "https://localhost:8080/"
        },
        "id": "PArzdYhuUTdm",
        "outputId": "60dbdf92-9a0c-4780-da95-72b88d923b3a"
      },
      "outputs": [
        {
          "output_type": "execute_result",
          "data": {
            "text/plain": [
              "2.512146577747284"
            ]
          },
          "metadata": {},
          "execution_count": 112
        }
      ],
      "source": [
        "1/gamma_fit"
      ]
    },
    {
      "cell_type": "markdown",
      "metadata": {
        "id": "0K5cjH9z6bmR"
      },
      "source": [
        "# A partir de aca, es cambiando los beta por beta_i"
      ]
    },
    {
      "cell_type": "markdown",
      "metadata": {
        "id": "wOygZJZ_R5x8"
      },
      "source": [
        "## Ejemplo 3.2: modelo neutral - diferentes beta_i"
      ]
    },
    {
      "cell_type": "code",
      "execution_count": null,
      "metadata": {
        "id": "sNJaB2I8lYjv"
      },
      "outputs": [],
      "source": [
        "def deriv_3_2(y0,t,beta_1,beta_2,beta_3,beta_4,beta_5,beta_6,beta_7,beta_8,beta_9,beta_10,beta_11,beta_12,beta_13,beta_14,beta_15,beta_16,beta_17,beta_18,beta_19,beta_20,beta_21,beta_22,beta_23,beta_24,gamma,a):\n",
        "  n = 24\n",
        "  X = y0[0:n]\n",
        "  Y = y0[n:2*n]\n",
        "  Z = y0[2*n:]\n",
        "  A = np.zeros(shape=(n,n))\n",
        "  beta = np.array([beta_1,beta_2,beta_3,beta_4,beta_5,beta_6,beta_7,beta_8,beta_9,beta_10,beta_11,beta_12,beta_13,beta_14,beta_15,beta_16,beta_17,beta_18,beta_19,beta_20,beta_21,beta_22,beta_23,beta_24])\n",
        "  for i in range(n):\n",
        "    for j in range(n):\n",
        "      A[i,j] = a\n",
        "  for i in range(n):\n",
        "    A[i,i] = 0\n",
        "    for j in range(n):\n",
        "      if i != j:\n",
        "        A[i,i] -= A[i,j]\n",
        "  N = X+Y+Z\n",
        "  aux_X = np.zeros(n)\n",
        "  aux_Y = np.zeros(n)\n",
        "  aux_Z = np.zeros(n)\n",
        "  for i in range(n):\n",
        "    aux_X_2 = 0\n",
        "    aux_Y_2 = 0\n",
        "    aux_Z_2 = 0\n",
        "    for j in range(n):\n",
        "        aux_X_2 += A[i,j]*X[j]*(N[i]/N[j])\n",
        "        aux_Y_2 += A[i,j]*Y[j]*(N[i]/N[j])\n",
        "        aux_Z_2 += A[i,j]*Z[j]*(N[i]/N[j])\n",
        "    aux_X[i] = aux_X_2\n",
        "    aux_Y[i] = aux_Y_2\n",
        "    aux_Z[i] = aux_Z_2\n",
        "  dXdt = -beta*X*Y/N + (aux_X)\n",
        "  dYdt = beta*X*Y/N - gamma*Y + (aux_Y)\n",
        "  dZdt = gamma*Y + (aux_Z)\n",
        "  return np.concatenate((dXdt,dYdt,dZdt))"
      ]
    },
    {
      "cell_type": "code",
      "execution_count": null,
      "metadata": {
        "id": "--AEATemlYjw"
      },
      "outputs": [],
      "source": [
        "def SIR_Model_3_lm_2(params,t,datos_reales):\n",
        "  beta_1= params['beta_1']\n",
        "  beta_2= params['beta_2']\n",
        "  beta_3= params['beta_3']\n",
        "  beta_4= params['beta_4']\n",
        "  beta_5= params['beta_5']\n",
        "  beta_6= params['beta_6']\n",
        "  beta_7= params['beta_7']\n",
        "  beta_8= params['beta_8']\n",
        "  beta_9= params['beta_9']\n",
        "  beta_10= params['beta_10']\n",
        "  beta_11= params['beta_11']\n",
        "  beta_12= params['beta_12']\n",
        "  beta_13= params['beta_13']\n",
        "  beta_14= params['beta_14']\n",
        "  beta_15= params['beta_15']\n",
        "  beta_16= params['beta_16']\n",
        "  beta_17= params['beta_17']\n",
        "  beta_18= params['beta_18']\n",
        "  beta_19= params['beta_19']\n",
        "  beta_20= params['beta_20']\n",
        "  beta_21= params['beta_21']\n",
        "  beta_22= params['beta_22']\n",
        "  beta_23= params['beta_23']\n",
        "  beta_24= params['beta_24']\n",
        "  gamma = params['gamma']\n",
        "  a = params['a']\n",
        "  n = 24\n",
        "  S = np.array([15625084,2890151,367828,1055259,509108,992595,3308876,1235994,530162,673307,318951,333642,1738929,1101593,551266,638645,1214441,681055,432310,273964,3194537,874006,127205,1448188])\n",
        "  R = np.zeros(n)*0.0\n",
        "  I = np.array([59,57,0,17,1,3,7,4,0,1,0,1,2,0,2,6,0,0,1,3,4,0,3,2]) #pop infected at day 70 by provinces\n",
        "  y0 = np.concatenate((S,I,R))\n",
        "  result = odeint(deriv_3_2,y0, t, args=(beta_1,beta_2,beta_3,beta_4,beta_5,beta_6,beta_7,beta_8,beta_9,beta_10,beta_11,beta_12,beta_13,beta_14,beta_15,beta_16,beta_17,beta_18,beta_19,beta_20,beta_21,beta_22,beta_23,beta_24,gamma,a))\n",
        "  I_fit = result[:,n:2*n]\n",
        "  return I_fit - datos_reales"
      ]
    },
    {
      "cell_type": "code",
      "execution_count": null,
      "metadata": {
        "id": "jCyJNv-RlYjx"
      },
      "outputs": [],
      "source": [
        "def SIR_Model_3_2(beta_1,beta_2,beta_3,beta_4,beta_5,beta_6,beta_7,beta_8,beta_9,beta_10,beta_11,beta_12,beta_13,beta_14,beta_15,beta_16,beta_17,beta_18,beta_19,beta_20,beta_21,beta_22,beta_23,beta_24,gamma,a,t):\n",
        "  n = 24\n",
        "  S = np.array([15625084,2890151,367828,1055259,509108,992595,3308876,1235994,530162,673307,318951,333642,1738929,1101593,551266,638645,1214441,681055,432310,273964,3194537,874006,127205,1448188])\n",
        "  R = np.zeros(n)*0.0\n",
        "  I = np.array([59,57,0,17,1,3,7,4,0,1,0,1,2,0,2,6,0,0,1,3,4,0,3,2]) #pop infected at day 70 by provinces\n",
        "  y0 = np.concatenate((S,I,R))\n",
        "  result = odeint(deriv_3_2,y0, t, args=(beta_1,beta_2,beta_3,beta_4,beta_5,beta_6,beta_7,beta_8,beta_9,beta_10,beta_11,beta_12,beta_13,beta_14,beta_15,beta_16,beta_17,beta_18,beta_19,beta_20,beta_21,beta_22,beta_23,beta_24,gamma,a))\n",
        "  I_fit = result[:,n:2*n]\n",
        "  return I_fit"
      ]
    },
    {
      "cell_type": "code",
      "execution_count": null,
      "metadata": {
        "id": "dxQiGkkJlYjx"
      },
      "outputs": [],
      "source": [
        "t = np.arange(datos.shape[1])\n",
        "params = Parameters()\n",
        "params.add('beta_1', min=0.05, max=0.5)\n",
        "params.add('beta_2', min=0.05, max=0.5)\n",
        "params.add('beta_3', min=0.05, max=0.5)\n",
        "params.add('beta_4', min=0.05, max=0.5)\n",
        "params.add('beta_5', min=0.05, max=0.5)\n",
        "params.add('beta_6', min=0.05, max=0.5)\n",
        "params.add('beta_7', min=0.05, max=0.5)\n",
        "params.add('beta_8', min=0.05, max=0.5)\n",
        "params.add('beta_9', min=0.05, max=0.5)\n",
        "params.add('beta_10', min=0.05, max=0.5)\n",
        "params.add('beta_11', min=0.05, max=0.5)\n",
        "params.add('beta_12', min=0.05, max=0.5)\n",
        "params.add('beta_13', min=0.05, max=0.5)\n",
        "params.add('beta_14', min=0.05, max=0.5)\n",
        "params.add('beta_15', min=0.05, max=0.5)\n",
        "params.add('beta_16', min=0.05, max=0.5)\n",
        "params.add('beta_17', min=0.05, max=0.5)\n",
        "params.add('beta_18', min=0.05, max=0.5)\n",
        "params.add('beta_19', min=0.05, max=0.5)\n",
        "params.add('beta_20', min=0.05, max=0.5)\n",
        "params.add('beta_21', min=0.05, max=0.5)\n",
        "params.add('beta_22', min=0.05, max=0.5)\n",
        "params.add('beta_23', min=0.05, max=0.5)\n",
        "params.add('beta_24', min=0.05, max=0.5)\n",
        "params.add('gamma', min=0.05, max=0.5)\n",
        "params.add('a',min=0.001,max=0.5)"
      ]
    },
    {
      "cell_type": "code",
      "execution_count": null,
      "metadata": {
        "id": "IbhsjIPflYjx"
      },
      "outputs": [],
      "source": [
        "fitted_params = minimize(SIR_Model_3_lm_2, params, args=(t,datos.T,), method='least_squares')"
      ]
    },
    {
      "cell_type": "code",
      "execution_count": null,
      "metadata": {
        "id": "ocaUU-n5lYjx"
      },
      "outputs": [],
      "source": [
        "beta_1_fit = fitted_params.params['beta_1'].value\n",
        "beta_2_fit = fitted_params.params['beta_2'].value\n",
        "beta_3_fit = fitted_params.params['beta_3'].value\n",
        "beta_4_fit = fitted_params.params['beta_4'].value\n",
        "beta_5_fit = fitted_params.params['beta_5'].value\n",
        "beta_6_fit = fitted_params.params['beta_6'].value\n",
        "beta_7_fit = fitted_params.params['beta_7'].value\n",
        "beta_8_fit = fitted_params.params['beta_8'].value\n",
        "beta_9_fit = fitted_params.params['beta_9'].value\n",
        "beta_10_fit = fitted_params.params['beta_10'].value\n",
        "beta_11_fit = fitted_params.params['beta_11'].value\n",
        "beta_12_fit = fitted_params.params['beta_12'].value\n",
        "beta_13_fit = fitted_params.params['beta_13'].value\n",
        "beta_14_fit = fitted_params.params['beta_14'].value\n",
        "beta_15_fit = fitted_params.params['beta_15'].value\n",
        "beta_16_fit = fitted_params.params['beta_16'].value\n",
        "beta_17_fit = fitted_params.params['beta_17'].value\n",
        "beta_18_fit = fitted_params.params['beta_18'].value\n",
        "beta_19_fit = fitted_params.params['beta_19'].value\n",
        "beta_20_fit = fitted_params.params['beta_20'].value\n",
        "beta_21_fit = fitted_params.params['beta_21'].value\n",
        "beta_22_fit = fitted_params.params['beta_22'].value\n",
        "beta_23_fit = fitted_params.params['beta_23'].value\n",
        "beta_24_fit = fitted_params.params['beta_24'].value\n",
        "gamma_fit = fitted_params.params['gamma'].value    \n",
        "a_fit = fitted_params.params['a'].value    "
      ]
    },
    {
      "cell_type": "code",
      "execution_count": null,
      "metadata": {
        "colab": {
          "base_uri": "https://localhost:8080/"
        },
        "id": "4GihSKgBlYjy",
        "outputId": "8b46ef1b-deb5-439d-f4c0-3df229f8469e"
      },
      "outputs": [
        {
          "output_type": "execute_result",
          "data": {
            "text/plain": [
              "4.0790678240414495"
            ]
          },
          "metadata": {},
          "execution_count": 43
        }
      ],
      "source": [
        "1/gamma_fit"
      ]
    },
    {
      "cell_type": "code",
      "execution_count": null,
      "metadata": {
        "colab": {
          "base_uri": "https://localhost:8080/",
          "height": 1000
        },
        "id": "cnq6rv95lYjy",
        "outputId": "ab81d21c-2bc3-4b75-a8f7-01a68f8d3b3a"
      },
      "outputs": [
        {
          "output_type": "execute_result",
          "data": {
            "text/html": [
              "<h2>Fit Statistics</h2><table><tr><td>fitting method</td><td>least_squares</td><td></td></tr><tr><td># function evals</td><td>573</td><td></td></tr><tr><td># data points</td><td>7128</td><td></td></tr><tr><td># variables</td><td>26</td><td></td></tr><tr><td>chi-square</td><td> 5.2974e+10</td><td></td></tr><tr><td>reduced chi-square</td><td> 7459023.60</td><td></td></tr><tr><td>Akaike info crit.</td><td> 112826.090</td><td></td></tr><tr><td>Bayesian info crit.</td><td> 113004.756</td><td></td></tr></table><h2>Variables</h2><table><tr><th> name </th><th> value </th><th> standard error </th><th> relative error </th><th> initial value </th><th> min </th><th> max </th><th> vary </th></tr><tr><td> beta_1 </td><td>  0.27036216 </td><td>  0.00447471 </td><td> (1.66%) </td><td> 0.05 </td><td>  0.05000000 </td><td>  0.50000000 </td><td> True </td></tr><tr><td> beta_2 </td><td>  0.27562174 </td><td>  0.00438989 </td><td> (1.59%) </td><td> 0.05 </td><td>  0.05000000 </td><td>  0.50000000 </td><td> True </td></tr><tr><td> beta_3 </td><td>  0.05035302 </td><td>  0.37215205 </td><td> (739.09%) </td><td> 0.05 </td><td>  0.05000000 </td><td>  0.50000000 </td><td> True </td></tr><tr><td> beta_4 </td><td>  0.23264581 </td><td>  0.00939220 </td><td> (4.04%) </td><td> 0.05 </td><td>  0.05000000 </td><td>  0.50000000 </td><td> True </td></tr><tr><td> beta_5 </td><td>  0.27933187 </td><td>  0.00482330 </td><td> (1.73%) </td><td> 0.05 </td><td>  0.05000000 </td><td>  0.50000000 </td><td> True </td></tr><tr><td> beta_6 </td><td>  0.15369695 </td><td>  0.04466489 </td><td> (29.06%) </td><td> 0.05 </td><td>  0.05000000 </td><td>  0.50000000 </td><td> True </td></tr><tr><td> beta_7 </td><td>  0.26778914 </td><td>  0.00456990 </td><td> (1.71%) </td><td> 0.05 </td><td>  0.05000000 </td><td>  0.50000000 </td><td> True </td></tr><tr><td> beta_8 </td><td>  0.23890918 </td><td>  0.00753641 </td><td> (3.15%) </td><td> 0.05 </td><td>  0.05000000 </td><td>  0.50000000 </td><td> True </td></tr><tr><td> beta_9 </td><td>  0.05032334 </td><td>  0.25884119 </td><td> (514.36%) </td><td> 0.05 </td><td>  0.05000000 </td><td>  0.50000000 </td><td> True </td></tr><tr><td> beta_10 </td><td>  0.25650517 </td><td>  0.00685274 </td><td> (2.67%) </td><td> 0.05 </td><td>  0.05000000 </td><td>  0.50000000 </td><td> True </td></tr><tr><td> beta_11 </td><td>  0.22815045 </td><td>  0.02873374 </td><td> (12.59%) </td><td> 0.05 </td><td>  0.05000000 </td><td>  0.50000000 </td><td> True </td></tr><tr><td> beta_12 </td><td>  0.24634151 </td><td>  0.01545465 </td><td> (6.27%) </td><td> 0.05 </td><td>  0.05000000 </td><td>  0.50000000 </td><td> True </td></tr><tr><td> beta_13 </td><td>  0.26703226 </td><td>  0.00469997 </td><td> (1.76%) </td><td> 0.05 </td><td>  0.05000000 </td><td>  0.50000000 </td><td> True </td></tr><tr><td> beta_14 </td><td>  0.05001865 </td><td>  0.12567627 </td><td> (251.26%) </td><td> 0.05 </td><td>  0.05000000 </td><td>  0.50000000 </td><td> True </td></tr><tr><td> beta_15 </td><td>  0.28687906 </td><td>  0.00437906 </td><td> (1.53%) </td><td> 0.05 </td><td>  0.05000000 </td><td>  0.50000000 </td><td> True </td></tr><tr><td> beta_16 </td><td>  0.27971887 </td><td>  0.00461076 </td><td> (1.65%) </td><td> 0.05 </td><td>  0.05000000 </td><td>  0.50000000 </td><td> True </td></tr><tr><td> beta_17 </td><td>  0.23917305 </td><td>  0.00756026 </td><td> (3.16%) </td><td> 0.05 </td><td>  0.05000000 </td><td>  0.50000000 </td><td> True </td></tr><tr><td> beta_18 </td><td>  0.19639078 </td><td>  0.03056371 </td><td> (15.56%) </td><td> 0.05 </td><td>  0.05000000 </td><td>  0.50000000 </td><td> True </td></tr><tr><td> beta_19 </td><td>  0.26064125 </td><td>  0.00788147 </td><td> (3.02%) </td><td> 0.05 </td><td>  0.05000000 </td><td>  0.50000000 </td><td> True </td></tr><tr><td> beta_20 </td><td>  0.28548172 </td><td>  0.00480698 </td><td> (1.68%) </td><td> 0.05 </td><td>  0.05000000 </td><td>  0.50000000 </td><td> True </td></tr><tr><td> beta_21 </td><td>  0.27888410 </td><td>  0.00434420 </td><td> (1.56%) </td><td> 0.05 </td><td>  0.05000000 </td><td>  0.50000000 </td><td> True </td></tr><tr><td> beta_22 </td><td>  0.23068527 </td><td>  0.01118908 </td><td> (4.85%) </td><td> 0.05 </td><td>  0.05000000 </td><td>  0.50000000 </td><td> True </td></tr><tr><td> beta_23 </td><td>  0.34434359 </td><td>  0.00334086 </td><td> (0.97%) </td><td> 0.05 </td><td>  0.05000000 </td><td>  0.50000000 </td><td> True </td></tr><tr><td> beta_24 </td><td>  0.27683672 </td><td>  0.00444524 </td><td> (1.61%) </td><td> 0.05 </td><td>  0.05000000 </td><td>  0.50000000 </td><td> True </td></tr><tr><td> gamma </td><td>  0.24515405 </td><td>  0.00355064 </td><td> (1.45%) </td><td> 0.05 </td><td>  0.05000000 </td><td>  0.50000000 </td><td> True </td></tr><tr><td> a </td><td>  0.00100902 </td><td>  4.9511e-05 </td><td> (4.91%) </td><td> 0.001 </td><td>  1.0000e-03 </td><td>  0.50000000 </td><td> True </td></tr></table><h2>Correlations (unreported correlations are < 0.100)</h2><table><tr><td>beta_1</td><td>gamma</td><td>0.9986</td></tr><tr><td>beta_1</td><td>beta_23</td><td>0.9950</td></tr><tr><td>beta_23</td><td>gamma</td><td>0.9948</td></tr><tr><td>beta_21</td><td>gamma</td><td>0.9925</td></tr><tr><td>beta_1</td><td>beta_21</td><td>0.9923</td></tr><tr><td>beta_21</td><td>beta_23</td><td>0.9906</td></tr><tr><td>beta_2</td><td>gamma</td><td>0.9898</td></tr><tr><td>beta_1</td><td>beta_2</td><td>0.9897</td></tr><tr><td>beta_2</td><td>beta_23</td><td>0.9872</td></tr><tr><td>beta_1</td><td>beta_7</td><td>0.9871</td></tr><tr><td>beta_7</td><td>gamma</td><td>0.9867</td></tr><tr><td>beta_2</td><td>beta_21</td><td>0.9843</td></tr><tr><td>beta_7</td><td>beta_23</td><td>0.9827</td></tr><tr><td>beta_7</td><td>beta_21</td><td>0.9799</td></tr><tr><td>beta_2</td><td>beta_7</td><td>0.9775</td></tr><tr><td>beta_24</td><td>gamma</td><td>0.9654</td></tr><tr><td>beta_1</td><td>beta_24</td><td>0.9647</td></tr><tr><td>beta_23</td><td>beta_24</td><td>0.9636</td></tr><tr><td>beta_21</td><td>beta_24</td><td>0.9597</td></tr><tr><td>beta_2</td><td>beta_24</td><td>0.9567</td></tr><tr><td>beta_13</td><td>gamma</td><td>0.9541</td></tr><tr><td>beta_1</td><td>beta_13</td><td>0.9540</td></tr><tr><td>beta_7</td><td>beta_24</td><td>0.9527</td></tr><tr><td>beta_13</td><td>beta_23</td><td>0.9503</td></tr><tr><td>beta_13</td><td>beta_21</td><td>0.9469</td></tr><tr><td>beta_2</td><td>beta_13</td><td>0.9446</td></tr><tr><td>beta_7</td><td>beta_13</td><td>0.9428</td></tr><tr><td>beta_13</td><td>beta_24</td><td>0.9204</td></tr><tr><td>beta_15</td><td>beta_23</td><td>0.8782</td></tr><tr><td>beta_15</td><td>gamma</td><td>0.8777</td></tr><tr><td>beta_1</td><td>beta_15</td><td>0.8754</td></tr><tr><td>beta_15</td><td>beta_21</td><td>0.8718</td></tr><tr><td>beta_2</td><td>beta_15</td><td>0.8685</td></tr><tr><td>beta_16</td><td>gamma</td><td>0.8657</td></tr><tr><td>beta_16</td><td>beta_23</td><td>0.8648</td></tr><tr><td>beta_7</td><td>beta_15</td><td>0.8637</td></tr><tr><td>beta_1</td><td>beta_16</td><td>0.8630</td></tr><tr><td>beta_16</td><td>beta_21</td><td>0.8590</td></tr><tr><td>beta_2</td><td>beta_16</td><td>0.8560</td></tr><tr><td>beta_7</td><td>beta_16</td><td>0.8517</td></tr><tr><td>beta_15</td><td>beta_24</td><td>0.8458</td></tr><tr><td>beta_16</td><td>beta_24</td><td>0.8337</td></tr><tr><td>beta_13</td><td>beta_15</td><td>0.8336</td></tr><tr><td>beta_13</td><td>beta_16</td><td>0.8222</td></tr><tr><td>beta_5</td><td>beta_23</td><td>0.7966</td></tr><tr><td>beta_5</td><td>gamma</td><td>0.7947</td></tr><tr><td>beta_1</td><td>beta_5</td><td>0.7903</td></tr><tr><td>beta_5</td><td>beta_21</td><td>0.7868</td></tr><tr><td>beta_2</td><td>beta_5</td><td>0.7839</td></tr><tr><td>beta_5</td><td>beta_7</td><td>0.7797</td></tr><tr><td>beta_5</td><td>beta_24</td><td>0.7630</td></tr><tr><td>beta_5</td><td>beta_13</td><td>0.7521</td></tr><tr><td>beta_15</td><td>beta_16</td><td>0.7512</td></tr><tr><td>beta_5</td><td>beta_15</td><td>0.6840</td></tr><tr><td>beta_5</td><td>beta_16</td><td>0.6758</td></tr><tr><td>beta_8</td><td>gamma</td><td>0.6691</td></tr><tr><td>beta_1</td><td>beta_8</td><td>0.6691</td></tr><tr><td>beta_17</td><td>gamma</td><td>0.6649</td></tr><tr><td>beta_1</td><td>beta_17</td><td>0.6648</td></tr><tr><td>beta_7</td><td>beta_8</td><td>0.6630</td></tr><tr><td>beta_8</td><td>beta_23</td><td>0.6597</td></tr><tr><td>beta_7</td><td>beta_17</td><td>0.6586</td></tr><tr><td>beta_2</td><td>beta_8</td><td>0.6583</td></tr><tr><td>beta_8</td><td>beta_21</td><td>0.6582</td></tr><tr><td>beta_17</td><td>beta_23</td><td>0.6558</td></tr><tr><td>beta_2</td><td>beta_17</td><td>0.6541</td></tr><tr><td>beta_17</td><td>beta_21</td><td>0.6539</td></tr><tr><td>beta_8</td><td>beta_13</td><td>0.6406</td></tr><tr><td>beta_8</td><td>beta_24</td><td>0.6403</td></tr><tr><td>beta_13</td><td>beta_17</td><td>0.6364</td></tr><tr><td>beta_17</td><td>beta_24</td><td>0.6361</td></tr><tr><td>beta_10</td><td>gamma</td><td>0.6175</td></tr><tr><td>beta_1</td><td>beta_10</td><td>0.6138</td></tr><tr><td>beta_10</td><td>beta_23</td><td>0.6136</td></tr><tr><td>beta_10</td><td>beta_21</td><td>0.6071</td></tr><tr><td>beta_7</td><td>beta_10</td><td>0.6069</td></tr><tr><td>beta_2</td><td>beta_10</td><td>0.6061</td></tr><tr><td>beta_10</td><td>beta_24</td><td>0.5893</td></tr><tr><td>beta_10</td><td>beta_13</td><td>0.5856</td></tr><tr><td>beta_8</td><td>beta_15</td><td>0.5726</td></tr><tr><td>beta_15</td><td>beta_17</td><td>0.5688</td></tr><tr><td>beta_8</td><td>beta_16</td><td>0.5674</td></tr><tr><td>beta_16</td><td>beta_17</td><td>0.5636</td></tr><tr><td>beta_20</td><td>gamma</td><td>0.5406</td></tr><tr><td>beta_20</td><td>beta_23</td><td>0.5384</td></tr><tr><td>beta_4</td><td>gamma</td><td>0.5339</td></tr><tr><td>beta_1</td><td>beta_4</td><td>0.5333</td></tr><tr><td>beta_1</td><td>beta_20</td><td>0.5332</td></tr><tr><td>beta_20</td><td>beta_21</td><td>0.5288</td></tr><tr><td>beta_4</td><td>beta_7</td><td>0.5288</td></tr><tr><td>beta_2</td><td>beta_20</td><td>0.5268</td></tr><tr><td>beta_7</td><td>beta_20</td><td>0.5253</td></tr><tr><td>beta_10</td><td>beta_15</td><td>0.5250</td></tr><tr><td>beta_2</td><td>beta_4</td><td>0.5235</td></tr><tr><td>beta_4</td><td>beta_21</td><td>0.5229</td></tr><tr><td>beta_4</td><td>beta_23</td><td>0.5215</td></tr><tr><td>beta_10</td><td>beta_16</td><td>0.5200</td></tr><tr><td>beta_5</td><td>beta_8</td><td>0.5164</td></tr><tr><td>beta_5</td><td>beta_17</td><td>0.5129</td></tr><tr><td>beta_4</td><td>beta_13</td><td>0.5108</td></tr><tr><td>beta_20</td><td>beta_24</td><td>0.5091</td></tr><tr><td>beta_4</td><td>beta_24</td><td>0.5086</td></tr><tr><td>beta_13</td><td>beta_20</td><td>0.5038</td></tr><tr><td>beta_5</td><td>beta_10</td><td>0.4713</td></tr><tr><td>beta_8</td><td>beta_17</td><td>0.4636</td></tr><tr><td>beta_4</td><td>beta_15</td><td>0.4512</td></tr><tr><td>beta_4</td><td>beta_16</td><td>0.4483</td></tr><tr><td>beta_19</td><td>gamma</td><td>0.4442</td></tr><tr><td>beta_19</td><td>beta_23</td><td>0.4435</td></tr><tr><td>beta_1</td><td>beta_19</td><td>0.4362</td></tr><tr><td>beta_19</td><td>beta_21</td><td>0.4321</td></tr><tr><td>beta_16</td><td>beta_20</td><td>0.4313</td></tr><tr><td>beta_2</td><td>beta_19</td><td>0.4308</td></tr><tr><td>beta_7</td><td>beta_19</td><td>0.4305</td></tr><tr><td>beta_15</td><td>beta_20</td><td>0.4287</td></tr><tr><td>beta_22</td><td>gamma</td><td>0.4274</td></tr><tr><td>beta_1</td><td>beta_22</td><td>0.4259</td></tr><tr><td>beta_7</td><td>beta_22</td><td>0.4225</td></tr><tr><td>beta_19</td><td>beta_24</td><td>0.4177</td></tr><tr><td>beta_2</td><td>beta_22</td><td>0.4172</td></tr><tr><td>beta_22</td><td>beta_23</td><td>0.4170</td></tr><tr><td>beta_21</td><td>beta_22</td><td>0.4165</td></tr><tr><td>beta_8</td><td>beta_10</td><td>0.4142</td></tr><tr><td>beta_13</td><td>beta_19</td><td>0.4142</td></tr><tr><td>beta_10</td><td>beta_17</td><td>0.4114</td></tr><tr><td>beta_13</td><td>beta_22</td><td>0.4079</td></tr><tr><td>beta_4</td><td>beta_5</td><td>0.4066</td></tr><tr><td>beta_22</td><td>beta_24</td><td>0.4048</td></tr><tr><td>beta_8</td><td>a</td><td>-0.4029</td></tr><tr><td>beta_17</td><td>a</td><td>-0.4002</td></tr><tr><td>beta_7</td><td>a</td><td>-0.3981</td></tr><tr><td>beta_13</td><td>a</td><td>-0.3904</td></tr><tr><td>beta_1</td><td>a</td><td>-0.3894</td></tr><tr><td>gamma</td><td>a</td><td>-0.3893</td></tr><tr><td>beta_5</td><td>beta_20</td><td>0.3782</td></tr><tr><td>beta_4</td><td>beta_8</td><td>0.3759</td></tr><tr><td>beta_4</td><td>beta_17</td><td>0.3733</td></tr><tr><td>beta_15</td><td>beta_19</td><td>0.3639</td></tr><tr><td>beta_16</td><td>beta_19</td><td>0.3620</td></tr><tr><td>beta_2</td><td>a</td><td>-0.3605</td></tr><tr><td>beta_4</td><td>a</td><td>-0.3597</td></tr><tr><td>beta_15</td><td>beta_22</td><td>0.3556</td></tr><tr><td>beta_16</td><td>beta_22</td><td>0.3544</td></tr><tr><td>beta_21</td><td>a</td><td>-0.3496</td></tr><tr><td>beta_24</td><td>a</td><td>-0.3493</td></tr><tr><td>beta_23</td><td>a</td><td>-0.3427</td></tr><tr><td>beta_8</td><td>beta_20</td><td>0.3370</td></tr><tr><td>beta_17</td><td>beta_20</td><td>0.3343</td></tr><tr><td>beta_4</td><td>beta_10</td><td>0.3294</td></tr><tr><td>beta_5</td><td>beta_19</td><td>0.3231</td></tr><tr><td>beta_5</td><td>beta_22</td><td>0.3198</td></tr><tr><td>beta_22</td><td>a</td><td>-0.3181</td></tr><tr><td>beta_10</td><td>a</td><td>-0.3157</td></tr><tr><td>beta_16</td><td>a</td><td>-0.3106</td></tr><tr><td>beta_8</td><td>beta_22</td><td>0.3021</td></tr><tr><td>beta_15</td><td>a</td><td>-0.3013</td></tr><tr><td>beta_17</td><td>beta_22</td><td>0.2999</td></tr><tr><td>beta_10</td><td>beta_20</td><td>0.2902</td></tr><tr><td>beta_5</td><td>a</td><td>-0.2895</td></tr><tr><td>beta_8</td><td>beta_19</td><td>0.2862</td></tr><tr><td>beta_17</td><td>beta_19</td><td>0.2841</td></tr><tr><td>beta_10</td><td>beta_22</td><td>0.2612</td></tr><tr><td>beta_4</td><td>beta_20</td><td>0.2569</td></tr><tr><td>beta_10</td><td>beta_19</td><td>0.2512</td></tr><tr><td>beta_20</td><td>a</td><td>-0.2492</td></tr><tr><td>beta_4</td><td>beta_22</td><td>0.2434</td></tr><tr><td>beta_19</td><td>a</td><td>-0.2378</td></tr><tr><td>beta_3</td><td>beta_23</td><td>-0.2373</td></tr><tr><td>beta_4</td><td>beta_19</td><td>0.2239</td></tr><tr><td>beta_18</td><td>a</td><td>-0.2174</td></tr><tr><td>beta_6</td><td>a</td><td>-0.2118</td></tr><tr><td>beta_3</td><td>beta_15</td><td>-0.2069</td></tr><tr><td>beta_3</td><td>beta_21</td><td>-0.2015</td></tr><tr><td>beta_3</td><td>beta_20</td><td>-0.2006</td></tr><tr><td>beta_2</td><td>beta_3</td><td>-0.1983</td></tr><tr><td>beta_3</td><td>beta_24</td><td>-0.1969</td></tr><tr><td>beta_3</td><td>beta_16</td><td>-0.1938</td></tr><tr><td>beta_1</td><td>beta_3</td><td>-0.1923</td></tr><tr><td>beta_20</td><td>beta_22</td><td>0.1919</td></tr><tr><td>beta_3</td><td>gamma</td><td>-0.1878</td></tr><tr><td>beta_3</td><td>beta_7</td><td>-0.1875</td></tr><tr><td>beta_3</td><td>beta_5</td><td>-0.1875</td></tr><tr><td>beta_3</td><td>beta_13</td><td>-0.1826</td></tr><tr><td>beta_3</td><td>a</td><td>-0.1804</td></tr><tr><td>beta_19</td><td>beta_22</td><td>0.1736</td></tr><tr><td>beta_12</td><td>a</td><td>-0.1721</td></tr><tr><td>beta_11</td><td>a</td><td>-0.1713</td></tr><tr><td>beta_19</td><td>beta_20</td><td>0.1663</td></tr><tr><td>beta_9</td><td>a</td><td>-0.1525</td></tr><tr><td>beta_14</td><td>a</td><td>-0.1513</td></tr><tr><td>beta_11</td><td>beta_20</td><td>-0.1459</td></tr><tr><td>beta_9</td><td>beta_23</td><td>-0.1369</td></tr><tr><td>beta_3</td><td>beta_10</td><td>-0.1268</td></tr><tr><td>beta_9</td><td>beta_20</td><td>-0.1229</td></tr><tr><td>beta_9</td><td>beta_15</td><td>-0.1192</td></tr><tr><td>beta_3</td><td>beta_19</td><td>-0.1162</td></tr><tr><td>beta_6</td><td>gamma</td><td>0.1155</td></tr><tr><td>beta_6</td><td>beta_7</td><td>0.1154</td></tr><tr><td>beta_1</td><td>beta_6</td><td>0.1147</td></tr><tr><td>beta_9</td><td>beta_21</td><td>-0.1121</td></tr><tr><td>beta_6</td><td>beta_13</td><td>0.1113</td></tr><tr><td>beta_18</td><td>gamma</td><td>0.1110</td></tr><tr><td>beta_9</td><td>beta_16</td><td>-0.1103</td></tr><tr><td>beta_2</td><td>beta_9</td><td>-0.1097</td></tr><tr><td>beta_9</td><td>beta_24</td><td>-0.1095</td></tr><tr><td>beta_7</td><td>beta_18</td><td>0.1093</td></tr><tr><td>beta_1</td><td>beta_18</td><td>0.1087</td></tr><tr><td>beta_2</td><td>beta_6</td><td>0.1083</td></tr><tr><td>beta_3</td><td>beta_8</td><td>-0.1080</td></tr><tr><td>beta_5</td><td>beta_9</td><td>-0.1080</td></tr><tr><td>beta_3</td><td>beta_17</td><td>-0.1078</td></tr><tr><td>beta_6</td><td>beta_21</td><td>0.1065</td></tr><tr><td>beta_13</td><td>beta_18</td><td>0.1049</td></tr><tr><td>beta_1</td><td>beta_9</td><td>-0.1048</td></tr><tr><td>beta_6</td><td>beta_24</td><td>0.1038</td></tr><tr><td>beta_2</td><td>beta_18</td><td>0.1023</td></tr><tr><td>beta_9</td><td>gamma</td><td>-0.1017</td></tr><tr><td>beta_7</td><td>beta_9</td><td>-0.1016</td></tr><tr><td>beta_18</td><td>beta_21</td><td>0.1005</td></tr><tr><td>beta_12</td><td>gamma</td><td>0.1002</td></tr></table>"
            ],
            "text/plain": [
              "<lmfit.minimizer.MinimizerResult at 0x7f3c87cb82d0>"
            ]
          },
          "metadata": {},
          "execution_count": 40
        }
      ],
      "source": [
        "fitted_params"
      ]
    },
    {
      "cell_type": "code",
      "execution_count": null,
      "metadata": {
        "id": "7elwqBy_lYjy"
      },
      "outputs": [],
      "source": [
        "resultado = SIR_Model_3_2(beta_1_fit,beta_2_fit,beta_3_fit,beta_4_fit,beta_5_fit,beta_6_fit,beta_7_fit,beta_8_fit,beta_9_fit,beta_10_fit,beta_11_fit,beta_12_fit,beta_13_fit,beta_14_fit,beta_15_fit,beta_16_fit,beta_17_fit,beta_18_fit,beta_19_fit,beta_20_fit,beta_21_fit,beta_22_fit,beta_23_fit,beta_24_fit,gamma_fit,a_fit,t)"
      ]
    },
    {
      "cell_type": "code",
      "execution_count": null,
      "metadata": {
        "colab": {
          "base_uri": "https://localhost:8080/",
          "height": 282
        },
        "id": "08iaTSZrlYjy",
        "outputId": "59fd2264-8dc5-4e92-da4e-3d4351b9be4c"
      },
      "outputs": [
        {
          "output_type": "execute_result",
          "data": {
            "text/plain": [
              "[<matplotlib.lines.Line2D at 0x7f3c87a52890>]"
            ]
          },
          "metadata": {},
          "execution_count": 45
        },
        {
          "output_type": "display_data",
          "data": {
            "image/png": "[encoded data removed]",
            "text/plain": [
              "<Figure size 432x288 with 1 Axes>"
            ]
          },
          "metadata": {
            "needs_background": "light"
          }
        }
      ],
      "source": [
        "plt.plot(resultado[:,0])\n",
        "plt.plot(datos.T[:,0])"
      ]
    },
    {
      "cell_type": "markdown",
      "metadata": {
        "id": "nb5VErXoR_hw"
      },
      "source": [
        ""
      ]
    }
  ],
  "metadata": {
    "colab": {
      "collapsed_sections": [],
      "name": "FitNormal.ipynb",
      "toc_visible": true,
      "provenance": [],
      "authorship_tag": "ABX9TyPwy5N/ejEPhp7zgjUWJEnT",
      "include_colab_link": true
    },
    "kernelspec": {
      "display_name": "Python 3",
      "name": "python3"
    },
    "language_info": {
      "name": "python"
    }
  },
  "nbformat": 4,
  "nbformat_minor": 0
}