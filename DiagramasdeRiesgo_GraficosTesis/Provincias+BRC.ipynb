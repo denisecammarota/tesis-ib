{
 "cells": [
  {
   "cell_type": "code",
   "execution_count": 1,
   "metadata": {},
   "outputs": [],
   "source": [
    "import numpy as np\n",
    "import matplotlib.pyplot as plt\n",
    "import math\n",
    "import pandas as pd"
   ]
  },
  {
   "cell_type": "code",
   "execution_count": 2,
   "metadata": {},
   "outputs": [],
   "source": [
    "def get_cases_province():\n",
    "    \"\"\"\n",
    "    args: none\n",
    "    a function that doesnt return anything, just loads data\n",
    "    and makes .txt files with relevant covid cases information\n",
    "    for each argentinian province\n",
    "    \"\"\"\n",
    "    data = pd.read_csv(\"12en20.csv\",sep=\",\",quotechar='\"', dtype={\"residencia_provincia_nombre\":str\n",
    "                       ,\"clasificacion_resumen\":str},\n",
    "                   usecols=[\"residencia_provincia_nombre\",\"fecha_inicio_sintomas\",\"fecha_apertura\",\"clasificacion_resumen\"],\n",
    "                   parse_dates=[\"fecha_inicio_sintomas\",\"fecha_apertura\"],na_values=['']) #data loading\n",
    "    data = data[data[\"clasificacion_resumen\"] == \"Confirmado\"]\n",
    "    df = pd.DataFrame(data)\n",
    "    df = df.drop([\"clasificacion_resumen\"], axis=1)\n",
    "    #we select all posible provinces\n",
    "    provinces = df.residencia_provincia_nombre.unique()\n",
    "    #we go through all the provinces, not taking into account the one 'SIN_ESPECIFICAR' thingy\n",
    "    for i in provinces:\n",
    "        if i != \"SIN ESPECIFICAR\":\n",
    "            prov_data = df[df[\"residencia_provincia_nombre\"]==i]\n",
    "            prov_data.to_csv(r'casos_'+str(i)+'.txt',index=None, sep=',', mode='w')\n",
    "    pass"
   ]
  },
  {
   "cell_type": "code",
   "execution_count": 3,
   "metadata": {},
   "outputs": [],
   "source": [
    "def get_cases_bariloche():\n",
    "    \"\"\"\n",
    "    args: none\n",
    "    a function that doesnt return anything, just loads data\n",
    "    makes .txt files with relevant covid cases information\n",
    "    and selects the cases from the city of S.C.de Bariloche\n",
    "    \"\"\"\n",
    "    data = pd.read_csv(\"12en20.csv\",sep=\",\",quotechar='\"', dtype={\"residencia_departamento_nombre\":str\n",
    "                       ,\"clasificacion_resumen\":str},\n",
    "                   usecols=[\"residencia_departamento_nombre\",\"fecha_inicio_sintomas\",\"fecha_apertura\",\"clasificacion_resumen\"],\n",
    "                   parse_dates=[\"fecha_inicio_sintomas\",\"fecha_apertura\"],na_values=['']) #data loading\n",
    "    data = data[data[\"clasificacion_resumen\"] == \"Confirmado\"]\n",
    "    df = pd.DataFrame(data)\n",
    "    df = df.drop([\"clasificacion_resumen\"], axis=1)\n",
    "    #select cases from bariloche\n",
    "    brc_data = df[df[\"residencia_departamento_nombre\"]==\"Bariloche\"]\n",
    "    brc_data.to_csv(r'casos_Bariloche.txt',index=None, sep=',', mode='w')\n",
    "    pass"
   ]
  },
  {
   "cell_type": "code",
   "execution_count": 4,
   "metadata": {},
   "outputs": [],
   "source": [
    "def get_cases_total():\n",
    "    data = pd.read_csv(\"12en20.csv\",sep=\",\",quotechar='\"', dtype={\"clasificacion_resumen\":str},\n",
    "                   usecols=[\"fecha_inicio_sintomas\",\"fecha_apertura\",\"clasificacion_resumen\"],\n",
    "                   parse_dates=[\"fecha_inicio_sintomas\",\"fecha_apertura\"],na_values=['']) #data loading\n",
    "    data = data[data[\"clasificacion_resumen\"] == \"Confirmado\"]\n",
    "    df = pd.DataFrame(data)\n",
    "    df = df.drop([\"clasificacion_resumen\"], axis=1)\n",
    "    df.to_csv(r'CasosCovid19_arg.txt',index=None, sep=',', mode='w')\n",
    "    pass"
   ]
  },
  {
   "cell_type": "code",
   "execution_count": 5,
   "metadata": {},
   "outputs": [],
   "source": [
    "get_cases_province()\n",
    "get_cases_bariloche()"
   ]
  }
 ],
 "metadata": {
  "kernelspec": {
   "display_name": "Python 3",
   "language": "python",
   "name": "python3"
  },
  "language_info": {
   "codemirror_mode": {
    "name": "ipython",
    "version": 3
   },
   "file_extension": ".py",
   "mimetype": "text/x-python",
   "name": "python",
   "nbconvert_exporter": "python",
   "pygments_lexer": "ipython3",
   "version": "3.7.7"
  }
 },
 "nbformat": 4,
 "nbformat_minor": 4
}
