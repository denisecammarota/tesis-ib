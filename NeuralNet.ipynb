{
 "cells": [
  {
   "cell_type": "code",
   "execution_count": 3,
   "metadata": {},
   "outputs": [],
   "source": [
    "import keras \n",
    "import tensorflow as tf\n",
    "from keras.datasets import cifar10\n",
    "import numpy as np\n",
    "from keras.callbacks import History \n",
    "import matplotlib.pyplot as plt\n",
    "import pandas as pd"
   ]
  },
  {
   "cell_type": "code",
   "execution_count": 7,
   "metadata": {},
   "outputs": [],
   "source": [
    "mypath = 'Datos_14oct_2'\n",
    "file_name = 'RiesgoBuenosAires'\n",
    "file_dir = mypath + '/' + file_name\n",
    "data = pd.read_csv(file_dir,sep=\",\",quotechar='\"',parse_dates=[\"fecha\"],na_values=[''])\n",
    "df = pd.DataFrame(data)\n",
    "#dates formatting\n",
    "first_day = min(df[\"fecha\"])\n",
    "last_day = max(df[\"fecha\"])\n",
    "df[\"fecha\"] -= first_day\n",
    "df.fecha = df.fecha.dt.days\n",
    "df = df.to_numpy() #to numpy array (date,rho7d,inc14days,riskper10)"
   ]
  },
  {
   "cell_type": "code",
   "execution_count": null,
   "metadata": {},
   "outputs": [],
   "source": []
  },
  {
   "cell_type": "code",
   "execution_count": null,
   "metadata": {},
   "outputs": [],
   "source": []
  },
  {
   "cell_type": "code",
   "execution_count": null,
   "metadata": {},
   "outputs": [],
   "source": []
  }
 ],
 "metadata": {
  "kernelspec": {
   "display_name": "Python 3",
   "language": "python",
   "name": "python3"
  },
  "language_info": {
   "codemirror_mode": {
    "name": "ipython",
    "version": 3
   },
   "file_extension": ".py",
   "mimetype": "text/x-python",
   "name": "python",
   "nbconvert_exporter": "python",
   "pygments_lexer": "ipython3",
   "version": "3.7.7"
  }
 },
 "nbformat": 4,
 "nbformat_minor": 4
}
